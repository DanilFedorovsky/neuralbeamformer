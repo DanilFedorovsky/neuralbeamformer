{
 "cells": [
  {
   "cell_type": "code",
   "execution_count": 1,
   "metadata": {},
   "outputs": [],
   "source": [
    "import torchaudio\n",
    "import torch"
   ]
  },
  {
   "cell_type": "code",
   "execution_count": 2,
   "metadata": {},
   "outputs": [
    {
     "name": "stderr",
     "output_type": "stream",
     "text": [
      "/home/dfedorovsky/anaconda3/envs/beamformer/lib/python3.9/site-packages/requests/__init__.py:102: RequestsDependencyWarning: urllib3 (1.26.9) or chardet (5.0.0)/charset_normalizer (2.0.12) doesn't match a supported version!\n",
      "  warnings.warn(\"urllib3 ({}) or chardet ({})/charset_normalizer ({}) doesn't match a supported \"\n"
     ]
    }
   ],
   "source": [
    "import whisper\n",
    "model = whisper.load_model(\"base\")"
   ]
  },
  {
   "cell_type": "code",
   "execution_count": 3,
   "metadata": {},
   "outputs": [],
   "source": [
    "path = \"/project/data_asr/CHiME5/data/CHiME5/audio/dev/\"\n",
    "micp05 = model.transcribe(path+\"S02_P05.wav\")\n",
    "#mic_p06 = model.transcribe(path+\"S02_P06.wav\")"
   ]
  },
  {
   "cell_type": "code",
   "execution_count": 9,
   "metadata": {},
   "outputs": [
    {
     "name": "stdout",
     "output_type": "stream",
     "text": [
      "P5 Mic WER: 0.6925484764542936\n"
     ]
    }
   ],
   "source": [
    "from jiwer import wer\n",
    "import json\n",
    "import re\n",
    "\n",
    "transcript_path = '/project/data_asr/CHiME5/data/CHiME5/transcriptions/dev/S02.json'\n",
    "pred_path = '../data/4Pred/'\n",
    "\n",
    "# Getting ground truth for S02\\n\",\n",
    "with open(transcript_path, 'r') as f:\n",
    "    text = json.load(f)\n",
    "\n",
    "def json_to_transcript(text):  \n",
    "    transcript = \"\"\n",
    "\n",
    "    # String from json\n",
    "    for part in text:\n",
    "        transcript += str(part[\"words\"]) + \" \"\n",
    "        \n",
    "    # Remove [laughs], [noise], [inaudible], ...\n",
    "    transcript = re.sub(r'\\[.*?\\] ','',transcript)\n",
    "\n",
    "    return transcript\n",
    "\n",
    "transcript = json_to_transcript(text)\n",
    "print(\"P5 Mic WER:\", wer(transcript,micp05[\"text\"]))"
   ]
  }
 ],
 "metadata": {
  "kernelspec": {
   "display_name": "Python 3.9.12 ('beamformer')",
   "language": "python",
   "name": "python3"
  },
  "language_info": {
   "codemirror_mode": {
    "name": "ipython",
    "version": 3
   },
   "file_extension": ".py",
   "mimetype": "text/x-python",
   "name": "python",
   "nbconvert_exporter": "python",
   "pygments_lexer": "ipython3",
   "version": "3.9.12"
  },
  "orig_nbformat": 4,
  "vscode": {
   "interpreter": {
    "hash": "7edcfa7c72349f2a40b8bb9d00f805dd689758e4b70f704e502841c884b714f7"
   }
  }
 },
 "nbformat": 4,
 "nbformat_minor": 2
}
