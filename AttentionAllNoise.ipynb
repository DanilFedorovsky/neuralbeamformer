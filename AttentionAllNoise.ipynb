{
 "cells": [
  {
   "cell_type": "code",
   "execution_count": 1,
   "metadata": {},
   "outputs": [],
   "source": [
    "import os\n",
    "import torchaudio\n",
    "import torch\n",
    "import matplotlib.pyplot as plt\n",
    "from torch.nn import Module, Linear, Sigmoid, LSTM, BCELoss, Conv2d, MaxPool2d, LayerNorm, MultiheadAttention, Dropout\n",
    "from torch.optim import Adam\n",
    "import torch.nn.functional as F\n",
    "from pytorch_model_summary import summary\n",
    "from tqdm import tqdm\n",
    "import numpy as np\n",
    "import math\n",
    "import pickle"
   ]
  },
  {
   "cell_type": "code",
   "execution_count": 2,
   "metadata": {},
   "outputs": [],
   "source": [
    "from DataLoader import DataLoaderAll\n",
    "\n",
    "X,Y,speech,mix1,X_complex = DataLoaderAll.data_loader(n_noise=100)"
   ]
  },
  {
   "cell_type": "markdown",
   "metadata": {},
   "source": [
    "# MaskNet + Training"
   ]
  },
  {
   "cell_type": "code",
   "execution_count": 3,
   "metadata": {},
   "outputs": [],
   "source": [
    "class PositionalEncoding(Module):\n",
    "\n",
    "    def __init__(self, d_model: int, dropout: float = 0.1, max_len: int = 5000):\n",
    "        super().__init__()\n",
    "        self.dropout = Dropout(p=dropout)\n",
    "\n",
    "        position = torch.arange(max_len).unsqueeze(1)\n",
    "        div_term = torch.exp(torch.arange(0, d_model, 2) * (-math.log(10000.0) / d_model))\n",
    "        pe = torch.zeros(max_len, 1, d_model)\n",
    "        pe[:, 0, 0::2] = torch.sin(position * div_term)\n",
    "        pe[:, 0, 1::2] = torch.cos(position * div_term)\n",
    "        self.register_buffer('pe', pe)\n",
    "\n",
    "    def forward(self, x: torch.Tensor) -> torch.Tensor:\n",
    "        \"\"\"\n",
    "        Args:\n",
    "            x: Tensor, shape [seq_len, batch_size, embedding_dim]\n",
    "        \"\"\"\n",
    "        x = x + self.pe[:x.size(0)]\n",
    "        return self.dropout(x)"
   ]
  },
  {
   "cell_type": "code",
   "execution_count": 8,
   "metadata": {},
   "outputs": [
    {
     "name": "stdout",
     "output_type": "stream",
     "text": [
      "---------------------------------------------------------------------------------------\n",
      "           Layer (type)                   Output Shape         Param #     Tr. Param #\n",
      "=======================================================================================\n",
      "   PositionalEncoding-1                  [4, 513, 196]               0               0\n",
      "            LayerNorm-2                  [4, 513, 196]             392             392\n",
      "   MultiheadAttention-3     [4, 513, 196], [513, 4, 4]         154,448         154,448\n",
      "            LayerNorm-4                  [4, 513, 196]             392             392\n",
      "               Linear-5                 [4, 513, 1024]         201,728         201,728\n",
      "               Linear-6                  [4, 513, 196]         200,900         200,900\n",
      "            LayerNorm-7                  [4, 513, 196]             392             392\n",
      "   MultiheadAttention-8     [4, 513, 196], [513, 4, 4]         154,448         154,448\n",
      "            LayerNorm-9                  [4, 513, 196]             392             392\n",
      "              Linear-10                 [4, 513, 1024]         201,728         201,728\n",
      "              Linear-11                  [4, 513, 196]         200,900         200,900\n",
      "              Linear-12                  [513, 196, 1]               5               5\n",
      "             Sigmoid-13                  [513, 196, 1]               0               0\n",
      "=======================================================================================\n",
      "Total params: 1,115,725\n",
      "Trainable params: 1,115,725\n",
      "Non-trainable params: 0\n",
      "---------------------------------------------------------------------------------------\n"
     ]
    }
   ],
   "source": [
    "# MASK NET\n",
    "SAMPLE_RATE = 16000\n",
    "INPUT_CHANNEL = 4 # Always two -> Real and Imaginary part \n",
    "D_TF = 1024#1024\n",
    "\n",
    "class MaskNet(Module):\n",
    "    def __init__(self,noise=False):\n",
    "        super(MaskNet, self).__init__()\n",
    "\n",
    "        self.pe = PositionalEncoding(d_model=196)\n",
    "        self.ln11 = LayerNorm(normalized_shape=(196))\n",
    "        self.ln12 = LayerNorm(normalized_shape=(196))\n",
    "        self.mha1 = MultiheadAttention(embed_dim=196,num_heads=14,dropout=0.1)\n",
    "        self.lintf1 = Linear(in_features=196,out_features=D_TF)#1024 instead of 256!\n",
    "        self.lintf12 = Linear(in_features=D_TF,out_features=196)\n",
    "\n",
    "        self.pe2 = PositionalEncoding(d_model=196)\n",
    "        self.ln21 = LayerNorm(normalized_shape=(196))\n",
    "        self.ln22 = LayerNorm(normalized_shape=(196))\n",
    "        self.mha2 = MultiheadAttention(embed_dim=196,num_heads=14,dropout=0.1)\n",
    "        self.lintf2 = Linear(in_features=196,out_features=D_TF)#1024 instead of 256!\n",
    "        self.lintf22 = Linear(in_features=D_TF,out_features=196)\n",
    "\n",
    "        self.fc = Linear(in_features=4,out_features=1)\n",
    "        self.sigmoid = Sigmoid()\n",
    "\n",
    "    def forward(self,x):\n",
    "        \n",
    "        x = x.reshape(INPUT_CHANNEL,513,196)\n",
    "\n",
    "        # Transformer 1\n",
    "        y = self.pe(x)\n",
    "        z = self.ln11(y)\n",
    "        z, _ = self.mha1(z,z,z)\n",
    "        z_2 = z+y\n",
    "        z = self.ln12(z_2)\n",
    "        z = self.lintf1(z)\n",
    "        z = F.relu(z)\n",
    "        z = self.lintf12(z)\n",
    "        x = z+z_2+x\n",
    "\n",
    "        # Transformer 2\n",
    "        y = self.pe(x)\n",
    "        z = self.ln21(y)\n",
    "        z, _ = self.mha2(z,z,z)\n",
    "        z_2 = z+y\n",
    "        z = self.ln22(z_2)\n",
    "        z = self.lintf2(z)\n",
    "        z = F.relu(z)\n",
    "        z = self.lintf22(z)\n",
    "        x = z+z_2+x\n",
    "        \n",
    "        x = x.view(513,196,4)\n",
    "\n",
    "        x = self.fc(x)\n",
    "        speech_pred = self.sigmoid(x)\n",
    "        return speech_pred.reshape(513,-1)#, noise_pred\n",
    "\n",
    "print(summary(MaskNet(),torch.zeros((513, 196, 4))))"
   ]
  },
  {
   "cell_type": "code",
   "execution_count": 13,
   "metadata": {},
   "outputs": [
    {
     "name": "stdout",
     "output_type": "stream",
     "text": [
      "[INFO] training the network...\n",
      "Epoch: 1/100\n"
     ]
    },
    {
     "name": "stderr",
     "output_type": "stream",
     "text": [
      "100%|██████████| 2000/2000 [00:23<00:00, 83.57it/s]\n"
     ]
    },
    {
     "name": "stdout",
     "output_type": "stream",
     "text": [
      "Average Training Accuracy in Epoch 1 : 0.6396199718862772\n",
      "Total Training Loss in Epoch 1 : 934.4407936483622\n",
      "Average Validation Accuracy in Epoch 1 : 0.674679527580738\n",
      "Total Validation Loss in Epoch 1 : 94.6800587438047\n",
      "0\n",
      "Epoch: 2/100\n"
     ]
    },
    {
     "name": "stderr",
     "output_type": "stream",
     "text": [
      "100%|██████████| 2000/2000 [00:23<00:00, 85.52it/s] \n"
     ]
    },
    {
     "name": "stdout",
     "output_type": "stream",
     "text": [
      "Average Training Accuracy in Epoch 2 : 0.6397005877867341\n",
      "Total Training Loss in Epoch 2 : 1868.5441866070032\n",
      "Average Validation Accuracy in Epoch 2 : 0.6685296309739351\n",
      "Total Validation Loss in Epoch 2 : 188.23556907474995\n",
      "0\n",
      "Epoch: 3/100\n"
     ]
    },
    {
     "name": "stderr",
     "output_type": "stream",
     "text": [
      "100%|██████████| 2000/2000 [00:22<00:00, 87.53it/s] \n"
     ]
    },
    {
     "name": "stdout",
     "output_type": "stream",
     "text": [
      "Average Training Accuracy in Epoch 3 : 0.6397910181408127\n",
      "Total Training Loss in Epoch 3 : 2802.6291169561446\n",
      "Average Validation Accuracy in Epoch 3 : 0.6681946007659038\n",
      "Total Validation Loss in Epoch 3 : 281.2032448127866\n",
      "0\n",
      "Epoch: 4/100\n"
     ]
    },
    {
     "name": "stderr",
     "output_type": "stream",
     "text": [
      "100%|██████████| 2000/2000 [00:22<00:00, 87.00it/s] \n"
     ]
    },
    {
     "name": "stdout",
     "output_type": "stream",
     "text": [
      "Average Training Accuracy in Epoch 4 : 0.6398692236635835\n",
      "Total Training Loss in Epoch 4 : 3736.382207661867\n",
      "Average Validation Accuracy in Epoch 4 : 0.6701395716518164\n",
      "Total Validation Loss in Epoch 4 : 373.86666091531515\n",
      "0\n",
      "Epoch: 5/100\n"
     ]
    },
    {
     "name": "stderr",
     "output_type": "stream",
     "text": [
      "100%|██████████| 2000/2000 [00:22<00:00, 89.90it/s] \n"
     ]
    },
    {
     "name": "stdout",
     "output_type": "stream",
     "text": [
      "Average Training Accuracy in Epoch 5 : 0.6398847263514995\n",
      "Total Training Loss in Epoch 5 : 4670.155814792961\n",
      "Average Validation Accuracy in Epoch 5 : 0.6682113656401634\n",
      "Total Validation Loss in Epoch 5 : 466.81525814160705\n",
      "0\n",
      "Epoch: 6/100\n"
     ]
    },
    {
     "name": "stderr",
     "output_type": "stream",
     "text": [
      "100%|██████████| 2000/2000 [00:22<00:00, 88.75it/s] \n"
     ]
    },
    {
     "name": "stdout",
     "output_type": "stream",
     "text": [
      "Average Training Accuracy in Epoch 6 : 0.6399303057193756\n",
      "Total Training Loss in Epoch 6 : 5603.555914733559\n",
      "Average Validation Accuracy in Epoch 6 : 0.6667932303001484\n",
      "Total Validation Loss in Epoch 6 : 560.8924962691963\n",
      "0\n",
      "Epoch: 7/100\n"
     ]
    },
    {
     "name": "stderr",
     "output_type": "stream",
     "text": [
      "100%|██████████| 2000/2000 [00:22<00:00, 90.61it/s] \n"
     ]
    },
    {
     "name": "stdout",
     "output_type": "stream",
     "text": [
      "Average Training Accuracy in Epoch 7 : 0.639974954124008\n",
      "Total Training Loss in Epoch 7 : 6536.9688924103975\n",
      "Average Validation Accuracy in Epoch 7 : 0.6658581568620034\n",
      "Total Validation Loss in Epoch 7 : 657.3378402926028\n",
      "0\n",
      "Epoch: 8/100\n"
     ]
    },
    {
     "name": "stderr",
     "output_type": "stream",
     "text": [
      "100%|██████████| 2000/2000 [00:22<00:00, 89.28it/s] \n"
     ]
    },
    {
     "name": "stdout",
     "output_type": "stream",
     "text": [
      "Average Training Accuracy in Epoch 8 : 0.6400149086629972\n",
      "Total Training Loss in Epoch 8 : 7470.09537473321\n",
      "Average Validation Accuracy in Epoch 8 : 0.6664641318283975\n",
      "Total Validation Loss in Epoch 8 : 750.15942588076\n",
      "0\n",
      "Epoch: 9/100\n"
     ]
    },
    {
     "name": "stderr",
     "output_type": "stream",
     "text": [
      "100%|██████████| 2000/2000 [00:22<00:00, 89.97it/s] \n"
     ]
    },
    {
     "name": "stdout",
     "output_type": "stream",
     "text": [
      "Average Training Accuracy in Epoch 9 : 0.6400305456560519\n",
      "Total Training Loss in Epoch 9 : 8403.123749997467\n",
      "Average Validation Accuracy in Epoch 9 : 0.6668153701060348\n",
      "Total Validation Loss in Epoch 9 : 843.0664983950555\n",
      "0\n",
      "Epoch: 10/100\n"
     ]
    },
    {
     "name": "stderr",
     "output_type": "stream",
     "text": [
      "100%|██████████| 2000/2000 [00:22<00:00, 88.44it/s] \n"
     ]
    },
    {
     "name": "stdout",
     "output_type": "stream",
     "text": [
      "Average Training Accuracy in Epoch 10 : 0.6400578074112534\n",
      "Total Training Loss in Epoch 10 : 9335.830831341445\n",
      "Average Validation Accuracy in Epoch 10 : 0.6671327265202999\n",
      "Total Validation Loss in Epoch 10 : 936.4993332065642\n",
      "0\n",
      "Epoch: 11/100\n"
     ]
    },
    {
     "name": "stderr",
     "output_type": "stream",
     "text": [
      "100%|██████████| 2000/2000 [00:22<00:00, 87.05it/s] \n"
     ]
    },
    {
     "name": "stdout",
     "output_type": "stream",
     "text": [
      "Average Training Accuracy in Epoch 11 : 0.6400890955836935\n",
      "Total Training Loss in Epoch 11 : 10268.439835593104\n",
      "Average Validation Accuracy in Epoch 11 : 0.6689804383435033\n",
      "Total Validation Loss in Epoch 11 : 1025.6617723070085\n",
      "0\n",
      "Epoch: 12/100\n"
     ]
    },
    {
     "name": "stderr",
     "output_type": "stream",
     "text": [
      "100%|██████████| 2000/2000 [00:22<00:00, 88.94it/s] \n"
     ]
    },
    {
     "name": "stdout",
     "output_type": "stream",
     "text": [
      "Average Training Accuracy in Epoch 12 : 0.6401175447721035\n",
      "Total Training Loss in Epoch 12 : 11200.818861652166\n",
      "Average Validation Accuracy in Epoch 12 : 0.6690642932554086\n",
      "Total Validation Loss in Epoch 12 : 1119.6984800510108\n",
      "0\n",
      "Epoch: 13/100\n"
     ]
    },
    {
     "name": "stderr",
     "output_type": "stream",
     "text": [
      "100%|██████████| 2000/2000 [00:22<00:00, 90.07it/s] \n"
     ]
    },
    {
     "name": "stdout",
     "output_type": "stream",
     "text": [
      "Average Training Accuracy in Epoch 13 : 0.6401508117954319\n",
      "Total Training Loss in Epoch 13 : 12133.027116242796\n",
      "Average Validation Accuracy in Epoch 13 : 0.6695181337400125\n",
      "Total Validation Loss in Epoch 13 : 1210.0980514027178\n",
      "0\n",
      "Epoch: 14/100\n"
     ]
    },
    {
     "name": "stderr",
     "output_type": "stream",
     "text": [
      "100%|██████████| 2000/2000 [00:22<00:00, 87.99it/s] \n"
     ]
    },
    {
     "name": "stdout",
     "output_type": "stream",
     "text": [
      "Average Training Accuracy in Epoch 14 : 0.640190071400255\n",
      "Total Training Loss in Epoch 14 : 13065.095875643194\n",
      "Average Validation Accuracy in Epoch 14 : 0.6690509142354131\n",
      "Total Validation Loss in Epoch 14 : 1304.5203003026545\n",
      "0\n",
      "Epoch: 15/100\n"
     ]
    },
    {
     "name": "stderr",
     "output_type": "stream",
     "text": [
      "100%|██████████| 2000/2000 [00:22<00:00, 89.88it/s] \n"
     ]
    },
    {
     "name": "stdout",
     "output_type": "stream",
     "text": [
      "Average Training Accuracy in Epoch 15 : 0.6402302639459571\n",
      "Total Training Loss in Epoch 15 : 13996.850865554065\n",
      "Average Validation Accuracy in Epoch 15 : 0.6697472091813882\n",
      "Total Validation Loss in Epoch 15 : 1395.5506544709206\n",
      "0\n",
      "Epoch: 16/100\n"
     ]
    },
    {
     "name": "stderr",
     "output_type": "stream",
     "text": [
      "100%|██████████| 2000/2000 [00:23<00:00, 84.16it/s] \n"
     ]
    },
    {
     "name": "stdout",
     "output_type": "stream",
     "text": [
      "Average Training Accuracy in Epoch 16 : 0.6402614262308925\n",
      "Total Training Loss in Epoch 16 : 14928.692348886281\n",
      "Average Validation Accuracy in Epoch 16 : 0.6687483888864517\n",
      "Total Validation Loss in Epoch 16 : 1492.7783158123493\n",
      "0\n",
      "Epoch: 17/100\n"
     ]
    },
    {
     "name": "stderr",
     "output_type": "stream",
     "text": [
      "100%|██████████| 2000/2000 [00:22<00:00, 88.91it/s] \n"
     ]
    },
    {
     "name": "stdout",
     "output_type": "stream",
     "text": [
      "Average Training Accuracy in Epoch 17 : 0.6402949630718897\n",
      "Total Training Loss in Epoch 17 : 15860.36672680825\n",
      "Average Validation Accuracy in Epoch 17 : 0.669854781399755\n",
      "Total Validation Loss in Epoch 17 : 1581.7111178934574\n",
      "0\n",
      "Epoch: 18/100\n"
     ]
    },
    {
     "name": "stderr",
     "output_type": "stream",
     "text": [
      "100%|██████████| 2000/2000 [00:23<00:00, 85.92it/s]\n"
     ]
    },
    {
     "name": "stdout",
     "output_type": "stream",
     "text": [
      "Average Training Accuracy in Epoch 18 : 0.6403337867375877\n",
      "Total Training Loss in Epoch 18 : 16791.792395576835\n",
      "Average Validation Accuracy in Epoch 18 : 0.6701080760483941\n",
      "Total Validation Loss in Epoch 18 : 1673.4561032503843\n",
      "0\n",
      "Epoch: 19/100\n"
     ]
    },
    {
     "name": "stderr",
     "output_type": "stream",
     "text": [
      "100%|██████████| 2000/2000 [00:22<00:00, 87.77it/s] \n"
     ]
    },
    {
     "name": "stdout",
     "output_type": "stream",
     "text": [
      "Average Training Accuracy in Epoch 19 : 0.6403739122975813\n",
      "Total Training Loss in Epoch 19 : 17722.936276994646\n",
      "Average Validation Accuracy in Epoch 19 : 0.6689591095557338\n",
      "Total Validation Loss in Epoch 19 : 1769.2457162849605\n",
      "0\n",
      "Epoch: 20/100\n"
     ]
    },
    {
     "name": "stderr",
     "output_type": "stream",
     "text": [
      "100%|██████████| 2000/2000 [00:24<00:00, 81.97it/s] \n"
     ]
    },
    {
     "name": "stdout",
     "output_type": "stream",
     "text": [
      "Average Training Accuracy in Epoch 20 : 0.6404169008798897\n",
      "Total Training Loss in Epoch 20 : 18653.981779221445\n",
      "Average Validation Accuracy in Epoch 20 : 0.6685795977041126\n",
      "Total Validation Loss in Epoch 20 : 1864.3979753889143\n",
      "0\n",
      "Epoch: 21/100\n"
     ]
    },
    {
     "name": "stderr",
     "output_type": "stream",
     "text": [
      "100%|██████████| 2000/2000 [00:22<00:00, 89.98it/s] \n"
     ]
    },
    {
     "name": "stdout",
     "output_type": "stream",
     "text": [
      "Average Training Accuracy in Epoch 21 : 0.6404584294539832\n",
      "Total Training Loss in Epoch 21 : 19584.786588460207\n",
      "Average Validation Accuracy in Epoch 21 : 0.6677261347004345\n",
      "Total Validation Loss in Epoch 21 : 1959.5260278694332\n",
      "0\n",
      "Epoch: 22/100\n"
     ]
    },
    {
     "name": "stderr",
     "output_type": "stream",
     "text": [
      "100%|██████████| 2000/2000 [00:22<00:00, 87.51it/s] \n"
     ]
    },
    {
     "name": "stdout",
     "output_type": "stream",
     "text": [
      "Average Training Accuracy in Epoch 22 : 0.6404944885562767\n",
      "Total Training Loss in Epoch 22 : 20515.591383591294\n",
      "Average Validation Accuracy in Epoch 22 : 0.6686477727307515\n",
      "Total Validation Loss in Epoch 22 : 2052.7855806946754\n",
      "0\n",
      "Epoch: 23/100\n"
     ]
    },
    {
     "name": "stderr",
     "output_type": "stream",
     "text": [
      "100%|██████████| 2000/2000 [00:22<00:00, 90.03it/s] \n"
     ]
    },
    {
     "name": "stdout",
     "output_type": "stream",
     "text": [
      "Average Training Accuracy in Epoch 23 : 0.6405338589633288\n",
      "Total Training Loss in Epoch 23 : 21446.018746986985\n",
      "Average Validation Accuracy in Epoch 23 : 0.6687296894516634\n",
      "Total Validation Loss in Epoch 23 : 2145.789798721671\n",
      "0\n",
      "Epoch: 24/100\n"
     ]
    },
    {
     "name": "stderr",
     "output_type": "stream",
     "text": [
      "100%|██████████| 2000/2000 [00:22<00:00, 90.27it/s] \n"
     ]
    },
    {
     "name": "stdout",
     "output_type": "stream",
     "text": [
      "Average Training Accuracy in Epoch 24 : 0.6405679944042737\n",
      "Total Training Loss in Epoch 24 : 22376.44446318224\n",
      "Average Validation Accuracy in Epoch 24 : 0.668923149947077\n",
      "Total Validation Loss in Epoch 24 : 2236.189130797982\n",
      "0\n",
      "Epoch: 25/100\n"
     ]
    },
    {
     "name": "stderr",
     "output_type": "stream",
     "text": [
      "100%|██████████| 2000/2000 [00:23<00:00, 85.09it/s] \n"
     ]
    },
    {
     "name": "stdout",
     "output_type": "stream",
     "text": [
      "Average Training Accuracy in Epoch 25 : 0.6406063214626908\n",
      "Total Training Loss in Epoch 25 : 23306.75637133792\n",
      "Average Validation Accuracy in Epoch 25 : 0.668960086452961\n",
      "Total Validation Loss in Epoch 25 : 2329.1158561706543\n",
      "0\n",
      "Epoch: 26/100\n"
     ]
    },
    {
     "name": "stderr",
     "output_type": "stream",
     "text": [
      "100%|██████████| 2000/2000 [00:22<00:00, 87.96it/s] \n"
     ]
    },
    {
     "name": "stdout",
     "output_type": "stream",
     "text": [
      "Average Training Accuracy in Epoch 26 : 0.6406437657097211\n",
      "Total Training Loss in Epoch 26 : 24236.71923264116\n",
      "Average Validation Accuracy in Epoch 26 : 0.6690308251346533\n",
      "Total Validation Loss in Epoch 26 : 2422.024536192417\n",
      "0\n",
      "Epoch: 27/100\n"
     ]
    },
    {
     "name": "stderr",
     "output_type": "stream",
     "text": [
      "100%|██████████| 2000/2000 [00:23<00:00, 86.48it/s] \n"
     ]
    },
    {
     "name": "stdout",
     "output_type": "stream",
     "text": [
      "Average Training Accuracy in Epoch 27 : 0.6406854279982271\n",
      "Total Training Loss in Epoch 27 : 25166.526624649763\n",
      "Average Validation Accuracy in Epoch 27 : 0.6687635181154366\n",
      "Total Validation Loss in Epoch 27 : 2517.9621886759996\n",
      "0\n",
      "Epoch: 28/100\n"
     ]
    },
    {
     "name": "stderr",
     "output_type": "stream",
     "text": [
      "100%|██████████| 2000/2000 [00:22<00:00, 90.86it/s] \n"
     ]
    },
    {
     "name": "stdout",
     "output_type": "stream",
     "text": [
      "Average Training Accuracy in Epoch 28 : 0.6407240753147219\n",
      "Total Training Loss in Epoch 28 : 26096.331404939294\n",
      "Average Validation Accuracy in Epoch 28 : 0.6691994020422655\n",
      "Total Validation Loss in Epoch 28 : 2607.6705597937107\n",
      "0\n",
      "Epoch: 29/100\n"
     ]
    },
    {
     "name": "stderr",
     "output_type": "stream",
     "text": [
      "100%|██████████| 2000/2000 [00:23<00:00, 86.56it/s] \n"
     ]
    },
    {
     "name": "stdout",
     "output_type": "stream",
     "text": [
      "Average Training Accuracy in Epoch 29 : 0.640764618689387\n",
      "Total Training Loss in Epoch 29 : 27025.727571867406\n",
      "Average Validation Accuracy in Epoch 29 : 0.6690829028266257\n",
      "Total Validation Loss in Epoch 29 : 2701.6929394975305\n",
      "0\n",
      "Epoch: 30/100\n"
     ]
    },
    {
     "name": "stderr",
     "output_type": "stream",
     "text": [
      "100%|██████████| 2000/2000 [00:21<00:00, 93.31it/s] \n"
     ]
    },
    {
     "name": "stdout",
     "output_type": "stream",
     "text": [
      "Average Training Accuracy in Epoch 30 : 0.6408052742642661\n",
      "Total Training Loss in Epoch 30 : 27954.921847123653\n",
      "Average Validation Accuracy in Epoch 30 : 0.6693641746913394\n",
      "Total Validation Loss in Epoch 30 : 2791.850050691515\n",
      "0\n",
      "Epoch: 31/100\n"
     ]
    },
    {
     "name": "stderr",
     "output_type": "stream",
     "text": [
      "100%|██████████| 2000/2000 [00:20<00:00, 95.40it/s] \n"
     ]
    },
    {
     "name": "stdout",
     "output_type": "stream",
     "text": [
      "Average Training Accuracy in Epoch 31 : 0.6408439387568543\n",
      "Total Training Loss in Epoch 31 : 28883.923117164522\n",
      "Average Validation Accuracy in Epoch 31 : 0.670237284672837\n",
      "Total Validation Loss in Epoch 31 : 2880.4099465981126\n",
      "0\n",
      "Epoch: 32/100\n"
     ]
    },
    {
     "name": "stderr",
     "output_type": "stream",
     "text": [
      "100%|██████████| 2000/2000 [00:21<00:00, 92.71it/s] \n"
     ]
    },
    {
     "name": "stdout",
     "output_type": "stream",
     "text": [
      "Average Training Accuracy in Epoch 32 : 0.6408822833397426\n",
      "Total Training Loss in Epoch 32 : 29812.881298199296\n",
      "Average Validation Accuracy in Epoch 32 : 0.669784788985271\n",
      "Total Validation Loss in Epoch 32 : 2975.6297336146235\n",
      "0\n",
      "Epoch: 33/100\n"
     ]
    },
    {
     "name": "stderr",
     "output_type": "stream",
     "text": [
      "100%|██████████| 2000/2000 [00:21<00:00, 94.27it/s] \n"
     ]
    },
    {
     "name": "stdout",
     "output_type": "stream",
     "text": [
      "Average Training Accuracy in Epoch 33 : 0.6409217080993183\n",
      "Total Training Loss in Epoch 33 : 30741.68912865594\n",
      "Average Validation Accuracy in Epoch 33 : 0.6703744218182384\n",
      "Total Validation Loss in Epoch 33 : 3063.0706076920033\n",
      "0\n",
      "Epoch: 34/100\n"
     ]
    },
    {
     "name": "stderr",
     "output_type": "stream",
     "text": [
      "100%|██████████| 2000/2000 [00:21<00:00, 93.85it/s] \n"
     ]
    },
    {
     "name": "stdout",
     "output_type": "stream",
     "text": [
      "Average Training Accuracy in Epoch 34 : 0.6409600749419015\n",
      "Total Training Loss in Epoch 34 : 31670.22277667746\n",
      "Average Validation Accuracy in Epoch 34 : 0.6706048282476909\n",
      "Total Validation Loss in Epoch 34 : 3156.7122163251042\n",
      "0\n",
      "Epoch: 35/100\n"
     ]
    },
    {
     "name": "stderr",
     "output_type": "stream",
     "text": [
      "100%|██████████| 2000/2000 [00:21<00:00, 92.70it/s] \n"
     ]
    },
    {
     "name": "stdout",
     "output_type": "stream",
     "text": [
      "Average Training Accuracy in Epoch 35 : 0.640999316706402\n",
      "Total Training Loss in Epoch 35 : 32598.62608961761\n",
      "Average Validation Accuracy in Epoch 35 : 0.6708292635147061\n",
      "Total Validation Loss in Epoch 35 : 3247.121625326574\n",
      "0\n",
      "Epoch: 36/100\n"
     ]
    },
    {
     "name": "stderr",
     "output_type": "stream",
     "text": [
      "100%|██████████| 2000/2000 [00:22<00:00, 90.04it/s] \n"
     ]
    },
    {
     "name": "stdout",
     "output_type": "stream",
     "text": [
      "Average Training Accuracy in Epoch 36 : 0.6410380872005804\n",
      "Total Training Loss in Epoch 36 : 33526.74974707514\n",
      "Average Validation Accuracy in Epoch 36 : 0.6707934256291224\n",
      "Total Validation Loss in Epoch 36 : 3343.8518612086773\n",
      "0\n",
      "Epoch: 37/100\n"
     ]
    },
    {
     "name": "stderr",
     "output_type": "stream",
     "text": [
      "100%|██████████| 2000/2000 [00:22<00:00, 90.11it/s] \n"
     ]
    },
    {
     "name": "stdout",
     "output_type": "stream",
     "text": [
      "Average Training Accuracy in Epoch 37 : 0.6410800036969218\n",
      "Total Training Loss in Epoch 37 : 34454.8257769309\n",
      "Average Validation Accuracy in Epoch 37 : 0.6707161961435466\n",
      "Total Validation Loss in Epoch 37 : 3434.0492230840027\n",
      "0\n",
      "Epoch: 38/100\n"
     ]
    },
    {
     "name": "stderr",
     "output_type": "stream",
     "text": [
      "100%|██████████| 2000/2000 [00:22<00:00, 89.98it/s] \n"
     ]
    },
    {
     "name": "stdout",
     "output_type": "stream",
     "text": [
      "Average Training Accuracy in Epoch 38 : 0.6411181133360063\n",
      "Total Training Loss in Epoch 38 : 35382.83605848253\n",
      "Average Validation Accuracy in Epoch 38 : 0.6710378951049949\n",
      "Total Validation Loss in Epoch 38 : 3524.8475639410317\n",
      "0\n",
      "Epoch: 39/100\n"
     ]
    },
    {
     "name": "stderr",
     "output_type": "stream",
     "text": [
      "100%|██████████| 2000/2000 [00:22<00:00, 87.37it/s]\n"
     ]
    },
    {
     "name": "stdout",
     "output_type": "stream",
     "text": [
      "Average Training Accuracy in Epoch 39 : 0.6411576244842547\n",
      "Total Training Loss in Epoch 39 : 36310.68517437577\n",
      "Average Validation Accuracy in Epoch 39 : 0.6714171077654912\n",
      "Total Validation Loss in Epoch 39 : 3612.84198564291\n",
      "0\n",
      "Epoch: 40/100\n"
     ]
    },
    {
     "name": "stderr",
     "output_type": "stream",
     "text": [
      "100%|██████████| 2000/2000 [00:23<00:00, 86.75it/s] \n"
     ]
    },
    {
     "name": "stdout",
     "output_type": "stream",
     "text": [
      "Average Training Accuracy in Epoch 40 : 0.641194059482403\n",
      "Total Training Loss in Epoch 40 : 37238.28627656773\n",
      "Average Validation Accuracy in Epoch 40 : 0.6719255664031952\n",
      "Total Validation Loss in Epoch 40 : 3702.8045183494687\n",
      "0\n",
      "Epoch: 41/100\n"
     ]
    },
    {
     "name": "stderr",
     "output_type": "stream",
     "text": [
      "100%|██████████| 2000/2000 [00:22<00:00, 89.80it/s] \n"
     ]
    },
    {
     "name": "stdout",
     "output_type": "stream",
     "text": [
      "Average Training Accuracy in Epoch 41 : 0.6412305668957713\n",
      "Total Training Loss in Epoch 41 : 38165.769699726254\n",
      "Average Validation Accuracy in Epoch 41 : 0.6723512277861194\n",
      "Total Validation Loss in Epoch 41 : 3793.5032581426203\n",
      "0\n",
      "Epoch: 42/100\n"
     ]
    },
    {
     "name": "stderr",
     "output_type": "stream",
     "text": [
      "100%|██████████| 2000/2000 [00:21<00:00, 91.21it/s] \n"
     ]
    },
    {
     "name": "stdout",
     "output_type": "stream",
     "text": [
      "Average Training Accuracy in Epoch 42 : 0.6412698449813539\n",
      "Total Training Loss in Epoch 42 : 39092.95686499402\n",
      "Average Validation Accuracy in Epoch 42 : 0.6726245717863951\n",
      "Total Validation Loss in Epoch 42 : 3886.360671866685\n",
      "0\n",
      "Epoch: 43/100\n"
     ]
    },
    {
     "name": "stderr",
     "output_type": "stream",
     "text": [
      "100%|██████████| 2000/2000 [00:22<00:00, 90.39it/s] \n"
     ]
    },
    {
     "name": "stdout",
     "output_type": "stream",
     "text": [
      "Average Training Accuracy in Epoch 43 : 0.6413076854116002\n",
      "Total Training Loss in Epoch 43 : 40020.06091862172\n",
      "Average Validation Accuracy in Epoch 43 : 0.6727983131121065\n",
      "Total Validation Loss in Epoch 43 : 3976.6110972724855\n",
      "0\n",
      "Epoch: 44/100\n"
     ]
    },
    {
     "name": "stderr",
     "output_type": "stream",
     "text": [
      "100%|██████████| 2000/2000 [00:22<00:00, 88.62it/s] \n"
     ]
    },
    {
     "name": "stdout",
     "output_type": "stream",
     "text": [
      "Average Training Accuracy in Epoch 44 : 0.6413464712405746\n",
      "Total Training Loss in Epoch 44 : 40947.104317422956\n",
      "Average Validation Accuracy in Epoch 44 : 0.672533562279899\n",
      "Total Validation Loss in Epoch 44 : 4074.6727779768407\n",
      "0\n",
      "Epoch: 45/100\n"
     ]
    },
    {
     "name": "stderr",
     "output_type": "stream",
     "text": [
      "100%|██████████| 2000/2000 [00:23<00:00, 85.94it/s] \n"
     ]
    },
    {
     "name": "stdout",
     "output_type": "stream",
     "text": [
      "Average Training Accuracy in Epoch 45 : 0.6413841209257642\n",
      "Total Training Loss in Epoch 45 : 41873.990792386234\n",
      "Average Validation Accuracy in Epoch 45 : 0.6725663907263014\n",
      "Total Validation Loss in Epoch 45 : 4166.539904143661\n",
      "0\n",
      "Epoch: 46/100\n"
     ]
    },
    {
     "name": "stderr",
     "output_type": "stream",
     "text": [
      "100%|██████████| 2000/2000 [00:22<00:00, 88.83it/s]\n"
     ]
    },
    {
     "name": "stdout",
     "output_type": "stream",
     "text": [
      "Average Training Accuracy in Epoch 46 : 0.6414204364514545\n",
      "Total Training Loss in Epoch 46 : 42800.71309536323\n",
      "Average Validation Accuracy in Epoch 46 : 0.6723611549790138\n",
      "Total Validation Loss in Epoch 46 : 4261.700930725783\n",
      "0\n",
      "Epoch: 47/100\n"
     ]
    },
    {
     "name": "stderr",
     "output_type": "stream",
     "text": [
      "100%|██████████| 2000/2000 [00:22<00:00, 89.53it/s] \n"
     ]
    },
    {
     "name": "stdout",
     "output_type": "stream",
     "text": [
      "Average Training Accuracy in Epoch 47 : 0.6414606458728618\n",
      "Total Training Loss in Epoch 47 : 43727.01925009489\n",
      "Average Validation Accuracy in Epoch 47 : 0.6719881295476188\n",
      "Total Validation Loss in Epoch 47 : 4358.901063811034\n",
      "0\n",
      "Epoch: 48/100\n"
     ]
    },
    {
     "name": "stderr",
     "output_type": "stream",
     "text": [
      "100%|██████████| 2000/2000 [00:22<00:00, 90.30it/s] \n"
     ]
    },
    {
     "name": "stdout",
     "output_type": "stream",
     "text": [
      "Average Training Accuracy in Epoch 48 : 0.6414978079348802\n",
      "Total Training Loss in Epoch 48 : 44653.27301646769\n",
      "Average Validation Accuracy in Epoch 48 : 0.6721968648598219\n",
      "Total Validation Loss in Epoch 48 : 4452.147265788168\n",
      "0\n",
      "Epoch: 49/100\n"
     ]
    },
    {
     "name": "stderr",
     "output_type": "stream",
     "text": [
      "100%|██████████| 2000/2000 [00:22<00:00, 88.18it/s] \n"
     ]
    },
    {
     "name": "stdout",
     "output_type": "stream",
     "text": [
      "Average Training Accuracy in Epoch 49 : 0.6415353460710268\n",
      "Total Training Loss in Epoch 49 : 45579.377638325095\n",
      "Average Validation Accuracy in Epoch 49 : 0.6722780194893784\n",
      "Total Validation Loss in Epoch 49 : 4547.225257288665\n",
      "0\n",
      "Epoch: 50/100\n"
     ]
    },
    {
     "name": "stderr",
     "output_type": "stream",
     "text": [
      "100%|██████████| 2000/2000 [00:23<00:00, 85.78it/s] \n"
     ]
    },
    {
     "name": "stdout",
     "output_type": "stream",
     "text": [
      "Average Training Accuracy in Epoch 50 : 0.641570622151047\n",
      "Total Training Loss in Epoch 50 : 46505.30184580758\n",
      "Average Validation Accuracy in Epoch 50 : 0.6717528309524059\n",
      "Total Validation Loss in Epoch 50 : 4645.086089488119\n",
      "0\n",
      "Epoch: 51/100\n"
     ]
    },
    {
     "name": "stderr",
     "output_type": "stream",
     "text": [
      "100%|██████████| 2000/2000 [00:22<00:00, 87.91it/s] \n"
     ]
    },
    {
     "name": "stdout",
     "output_type": "stream",
     "text": [
      "Average Training Accuracy in Epoch 51 : 0.6416086833981031\n",
      "Total Training Loss in Epoch 51 : 47431.14396146312\n",
      "Average Validation Accuracy in Epoch 51 : 0.6718148175028025\n",
      "Total Validation Loss in Epoch 51 : 4735.951220620424\n",
      "0\n",
      "Epoch: 52/100\n"
     ]
    },
    {
     "name": "stderr",
     "output_type": "stream",
     "text": [
      "100%|██████████| 2000/2000 [00:22<00:00, 89.66it/s] \n"
     ]
    },
    {
     "name": "stdout",
     "output_type": "stream",
     "text": [
      "Average Training Accuracy in Epoch 52 : 0.6416500569653626\n",
      "Total Training Loss in Epoch 52 : 48356.700554739684\n",
      "Average Validation Accuracy in Epoch 52 : 0.6719053800876897\n",
      "Total Validation Loss in Epoch 52 : 4829.313823085278\n",
      "0\n",
      "Epoch: 53/100\n"
     ]
    },
    {
     "name": "stderr",
     "output_type": "stream",
     "text": [
      "100%|██████████| 2000/2000 [00:20<00:00, 96.57it/s] \n"
     ]
    },
    {
     "name": "stdout",
     "output_type": "stream",
     "text": [
      "Average Training Accuracy in Epoch 53 : 0.641685665618558\n",
      "Total Training Loss in Epoch 53 : 49282.27303984016\n",
      "Average Validation Accuracy in Epoch 53 : 0.6717048967292286\n",
      "Total Validation Loss in Epoch 53 : 4920.684587795287\n",
      "0\n",
      "Epoch: 54/100\n"
     ]
    },
    {
     "name": "stderr",
     "output_type": "stream",
     "text": [
      "100%|██████████| 2000/2000 [00:20<00:00, 96.31it/s] \n"
     ]
    },
    {
     "name": "stdout",
     "output_type": "stream",
     "text": [
      "Average Training Accuracy in Epoch 54 : 0.64172258068428\n",
      "Total Training Loss in Epoch 54 : 50207.59047822654\n",
      "Average Validation Accuracy in Epoch 54 : 0.6720158221958964\n",
      "Total Validation Loss in Epoch 54 : 5008.581178870052\n",
      "0\n",
      "Epoch: 55/100\n"
     ]
    },
    {
     "name": "stderr",
     "output_type": "stream",
     "text": [
      "100%|██████████| 2000/2000 [00:20<00:00, 96.42it/s] \n"
     ]
    },
    {
     "name": "stdout",
     "output_type": "stream",
     "text": [
      "Average Training Accuracy in Epoch 55 : 0.6417611198308792\n",
      "Total Training Loss in Epoch 55 : 51132.65429093689\n",
      "Average Validation Accuracy in Epoch 55 : 0.6720683245740153\n",
      "Total Validation Loss in Epoch 55 : 5101.69523287192\n",
      "0\n",
      "Epoch: 56/100\n"
     ]
    },
    {
     "name": "stderr",
     "output_type": "stream",
     "text": [
      "100%|██████████| 2000/2000 [00:21<00:00, 91.50it/s] \n"
     ]
    },
    {
     "name": "stdout",
     "output_type": "stream",
     "text": [
      "Average Training Accuracy in Epoch 56 : 0.6417998568201437\n",
      "Total Training Loss in Epoch 56 : 52057.66494412348\n",
      "Average Validation Accuracy in Epoch 56 : 0.6719655336785529\n",
      "Total Validation Loss in Epoch 56 : 5199.1113931797445\n",
      "0\n",
      "Epoch: 57/100\n"
     ]
    },
    {
     "name": "stderr",
     "output_type": "stream",
     "text": [
      "100%|██████████| 2000/2000 [00:20<00:00, 99.49it/s] \n"
     ]
    },
    {
     "name": "stdout",
     "output_type": "stream",
     "text": [
      "Average Training Accuracy in Epoch 57 : 0.6418386225254651\n",
      "Total Training Loss in Epoch 57 : 52982.402735661715\n",
      "Average Validation Accuracy in Epoch 57 : 0.6718844406685808\n",
      "Total Validation Loss in Epoch 57 : 5294.935025878251\n",
      "0\n",
      "Epoch: 58/100\n"
     ]
    },
    {
     "name": "stderr",
     "output_type": "stream",
     "text": [
      "100%|██████████| 2000/2000 [00:20<00:00, 96.19it/s] \n"
     ]
    },
    {
     "name": "stdout",
     "output_type": "stream",
     "text": [
      "Average Training Accuracy in Epoch 58 : 0.64187946699033\n",
      "Total Training Loss in Epoch 58 : 53906.965878650546\n",
      "Average Validation Accuracy in Epoch 58 : 0.6719863109573208\n",
      "Total Validation Loss in Epoch 58 : 5387.948359683156\n",
      "0\n",
      "Epoch: 59/100\n"
     ]
    },
    {
     "name": "stderr",
     "output_type": "stream",
     "text": [
      "100%|██████████| 2000/2000 [00:21<00:00, 93.91it/s] \n"
     ]
    },
    {
     "name": "stdout",
     "output_type": "stream",
     "text": [
      "Average Training Accuracy in Epoch 59 : 0.6419164524151613\n",
      "Total Training Loss in Epoch 59 : 54831.509030427784\n",
      "Average Validation Accuracy in Epoch 59 : 0.6719855688966937\n",
      "Total Validation Loss in Epoch 59 : 5479.6926972568035\n",
      "0\n",
      "Epoch: 60/100\n"
     ]
    },
    {
     "name": "stderr",
     "output_type": "stream",
     "text": [
      "100%|██████████| 2000/2000 [00:20<00:00, 98.28it/s] \n"
     ]
    },
    {
     "name": "stdout",
     "output_type": "stream",
     "text": [
      "Average Training Accuracy in Epoch 60 : 0.6419543000063549\n",
      "Total Training Loss in Epoch 60 : 55755.884261623025\n",
      "Average Validation Accuracy in Epoch 60 : 0.6718970444003741\n",
      "Total Validation Loss in Epoch 60 : 5572.9425080269575\n",
      "0\n",
      "Epoch: 61/100\n"
     ]
    },
    {
     "name": "stderr",
     "output_type": "stream",
     "text": [
      "100%|██████████| 2000/2000 [00:21<00:00, 95.04it/s] \n"
     ]
    },
    {
     "name": "stdout",
     "output_type": "stream",
     "text": [
      "Average Training Accuracy in Epoch 61 : 0.6419905485055242\n",
      "Total Training Loss in Epoch 61 : 56680.085548751056\n",
      "Average Validation Accuracy in Epoch 61 : 0.6723472605376947\n",
      "Total Validation Loss in Epoch 61 : 5664.172623768449\n",
      "0\n",
      "Epoch: 62/100\n"
     ]
    },
    {
     "name": "stderr",
     "output_type": "stream",
     "text": [
      "100%|██████████| 2000/2000 [00:20<00:00, 95.39it/s] \n"
     ]
    },
    {
     "name": "stdout",
     "output_type": "stream",
     "text": [
      "Average Training Accuracy in Epoch 62 : 0.6420282034060407\n",
      "Total Training Loss in Epoch 62 : 57604.094733946025\n",
      "Average Validation Accuracy in Epoch 62 : 0.6724303086486555\n",
      "Total Validation Loss in Epoch 62 : 5752.614889655262\n",
      "0\n",
      "Epoch: 63/100\n"
     ]
    },
    {
     "name": "stderr",
     "output_type": "stream",
     "text": [
      "100%|██████████| 2000/2000 [00:21<00:00, 93.50it/s] \n"
     ]
    },
    {
     "name": "stdout",
     "output_type": "stream",
     "text": [
      "Average Training Accuracy in Epoch 63 : 0.6420654511429251\n",
      "Total Training Loss in Epoch 63 : 58528.03897630796\n",
      "Average Validation Accuracy in Epoch 63 : 0.6722141952824497\n",
      "Total Validation Loss in Epoch 63 : 5845.458130508661\n",
      "0\n",
      "Epoch: 64/100\n"
     ]
    },
    {
     "name": "stderr",
     "output_type": "stream",
     "text": [
      "100%|██████████| 2000/2000 [00:21<00:00, 95.05it/s] \n"
     ]
    },
    {
     "name": "stdout",
     "output_type": "stream",
     "text": [
      "Average Training Accuracy in Epoch 64 : 0.6421032379029784\n",
      "Total Training Loss in Epoch 64 : 59451.8394632414\n",
      "Average Validation Accuracy in Epoch 64 : 0.6724125317728613\n",
      "Total Validation Loss in Epoch 64 : 5936.476774889976\n",
      "0\n",
      "Epoch: 65/100\n"
     ]
    },
    {
     "name": "stderr",
     "output_type": "stream",
     "text": [
      "100%|██████████| 2000/2000 [00:21<00:00, 92.04it/s] \n"
     ]
    },
    {
     "name": "stdout",
     "output_type": "stream",
     "text": [
      "Average Training Accuracy in Epoch 65 : 0.6421403207119841\n",
      "Total Training Loss in Epoch 65 : 60375.38927651942\n",
      "Average Validation Accuracy in Epoch 65 : 0.6724406327375999\n",
      "Total Validation Loss in Epoch 65 : 6027.913506310433\n",
      "0\n",
      "Epoch: 66/100\n"
     ]
    },
    {
     "name": "stderr",
     "output_type": "stream",
     "text": [
      "100%|██████████| 2000/2000 [00:21<00:00, 92.84it/s] \n"
     ]
    },
    {
     "name": "stdout",
     "output_type": "stream",
     "text": [
      "Average Training Accuracy in Epoch 66 : 0.6421772995821454\n",
      "Total Training Loss in Epoch 66 : 61298.72300858796\n",
      "Average Validation Accuracy in Epoch 66 : 0.6724341480569406\n",
      "Total Validation Loss in Epoch 66 : 6121.605055015534\n",
      "0\n",
      "Epoch: 67/100\n"
     ]
    },
    {
     "name": "stderr",
     "output_type": "stream",
     "text": [
      "100%|██████████| 2000/2000 [00:21<00:00, 93.12it/s] \n"
     ]
    },
    {
     "name": "stdout",
     "output_type": "stream",
     "text": [
      "Average Training Accuracy in Epoch 67 : 0.6422147719081658\n",
      "Total Training Loss in Epoch 67 : 62221.92017596401\n",
      "Average Validation Accuracy in Epoch 67 : 0.6724071361813972\n",
      "Total Validation Loss in Epoch 67 : 6215.562404837459\n",
      "0\n",
      "Epoch: 68/100\n"
     ]
    },
    {
     "name": "stderr",
     "output_type": "stream",
     "text": [
      "100%|██████████| 2000/2000 [00:21<00:00, 94.73it/s] \n"
     ]
    },
    {
     "name": "stdout",
     "output_type": "stream",
     "text": [
      "Average Training Accuracy in Epoch 68 : 0.6422521119230591\n",
      "Total Training Loss in Epoch 68 : 63145.07300952263\n",
      "Average Validation Accuracy in Epoch 68 : 0.6726459282768124\n",
      "Total Validation Loss in Epoch 68 : 6306.596982013434\n",
      "0\n",
      "Epoch: 69/100\n"
     ]
    },
    {
     "name": "stderr",
     "output_type": "stream",
     "text": [
      "100%|██████████| 2000/2000 [00:21<00:00, 93.58it/s] \n"
     ]
    },
    {
     "name": "stdout",
     "output_type": "stream",
     "text": [
      "Average Training Accuracy in Epoch 69 : 0.6422915441112026\n",
      "Total Training Loss in Epoch 69 : 64067.89811180346\n",
      "Average Validation Accuracy in Epoch 69 : 0.6723304368123628\n",
      "Total Validation Loss in Epoch 69 : 6402.984320290387\n",
      "0\n",
      "Epoch: 70/100\n"
     ]
    },
    {
     "name": "stderr",
     "output_type": "stream",
     "text": [
      "100%|██████████| 2000/2000 [00:21<00:00, 94.01it/s] \n"
     ]
    },
    {
     "name": "stdout",
     "output_type": "stream",
     "text": [
      "Average Training Accuracy in Epoch 70 : 0.6423289618125984\n",
      "Total Training Loss in Epoch 70 : 64990.82080568187\n",
      "Average Validation Accuracy in Epoch 70 : 0.6722449405672295\n",
      "Total Validation Loss in Epoch 70 : 6500.083517238498\n",
      "0\n",
      "Epoch: 71/100\n"
     ]
    },
    {
     "name": "stderr",
     "output_type": "stream",
     "text": [
      "100%|██████████| 2000/2000 [00:21<00:00, 92.38it/s] \n"
     ]
    },
    {
     "name": "stdout",
     "output_type": "stream",
     "text": [
      "Average Training Accuracy in Epoch 71 : 0.642366835045038\n",
      "Total Training Loss in Epoch 71 : 65913.44314892404\n",
      "Average Validation Accuracy in Epoch 71 : 0.6722951559355141\n",
      "Total Validation Loss in Epoch 71 : 6594.573199503124\n",
      "0\n",
      "Epoch: 72/100\n"
     ]
    },
    {
     "name": "stderr",
     "output_type": "stream",
     "text": [
      "100%|██████████| 2000/2000 [00:21<00:00, 94.46it/s] \n"
     ]
    },
    {
     "name": "stdout",
     "output_type": "stream",
     "text": [
      "Average Training Accuracy in Epoch 72 : 0.6424062266638503\n",
      "Total Training Loss in Epoch 72 : 66835.84520259686\n",
      "Average Validation Accuracy in Epoch 72 : 0.6723762240736849\n",
      "Total Validation Loss in Epoch 72 : 6686.985180996358\n",
      "0\n",
      "Epoch: 73/100\n"
     ]
    },
    {
     "name": "stderr",
     "output_type": "stream",
     "text": [
      "100%|██████████| 2000/2000 [00:20<00:00, 97.07it/s] \n"
     ]
    },
    {
     "name": "stdout",
     "output_type": "stream",
     "text": [
      "Average Training Accuracy in Epoch 73 : 0.6424457441703098\n",
      "Total Training Loss in Epoch 73 : 67757.93822283112\n",
      "Average Validation Accuracy in Epoch 73 : 0.6725321160634494\n",
      "Total Validation Loss in Epoch 73 : 6779.775866270065\n",
      "0\n",
      "Epoch: 74/100\n"
     ]
    },
    {
     "name": "stderr",
     "output_type": "stream",
     "text": [
      "100%|██████████| 2000/2000 [00:21<00:00, 94.92it/s] \n"
     ]
    },
    {
     "name": "stdout",
     "output_type": "stream",
     "text": [
      "Average Training Accuracy in Epoch 74 : 0.6424864479619506\n",
      "Total Training Loss in Epoch 74 : 68679.78622928448\n",
      "Average Validation Accuracy in Epoch 74 : 0.6720421649787475\n",
      "Total Validation Loss in Epoch 74 : 6880.6390588358045\n",
      "0\n",
      "Epoch: 75/100\n"
     ]
    },
    {
     "name": "stderr",
     "output_type": "stream",
     "text": [
      "100%|██████████| 2000/2000 [00:21<00:00, 94.61it/s] \n"
     ]
    },
    {
     "name": "stdout",
     "output_type": "stream",
     "text": [
      "Average Training Accuracy in Epoch 75 : 0.6425234976060192\n",
      "Total Training Loss in Epoch 75 : 69601.61018506251\n",
      "Average Validation Accuracy in Epoch 75 : 0.6721014238069455\n",
      "Total Validation Loss in Epoch 75 : 6973.418340265751\n",
      "0\n",
      "Epoch: 76/100\n"
     ]
    },
    {
     "name": "stderr",
     "output_type": "stream",
     "text": [
      "100%|██████████| 2000/2000 [00:21<00:00, 92.90it/s] \n"
     ]
    },
    {
     "name": "stdout",
     "output_type": "stream",
     "text": [
      "Average Training Accuracy in Epoch 76 : 0.6425623777428348\n",
      "Total Training Loss in Epoch 76 : 70523.19860946015\n",
      "Average Validation Accuracy in Epoch 76 : 0.6718674021027983\n",
      "Total Validation Loss in Epoch 76 : 7069.738740190864\n",
      "0\n",
      "Epoch: 77/100\n"
     ]
    },
    {
     "name": "stderr",
     "output_type": "stream",
     "text": [
      "100%|██████████| 2000/2000 [00:21<00:00, 93.72it/s] \n"
     ]
    },
    {
     "name": "stdout",
     "output_type": "stream",
     "text": [
      "Average Training Accuracy in Epoch 77 : 0.6425992203860894\n",
      "Total Training Loss in Epoch 77 : 71444.88319008052\n",
      "Average Validation Accuracy in Epoch 77 : 0.6720015073161234\n",
      "Total Validation Loss in Epoch 77 : 7160.565174527466\n",
      "0\n",
      "Epoch: 78/100\n"
     ]
    },
    {
     "name": "stderr",
     "output_type": "stream",
     "text": [
      "100%|██████████| 2000/2000 [00:21<00:00, 94.24it/s] \n"
     ]
    },
    {
     "name": "stdout",
     "output_type": "stream",
     "text": [
      "Average Training Accuracy in Epoch 78 : 0.642635850046212\n",
      "Total Training Loss in Epoch 78 : 72366.37121816166\n",
      "Average Validation Accuracy in Epoch 78 : 0.6717437097774102\n",
      "Total Validation Loss in Epoch 78 : 7257.279169905931\n",
      "0\n",
      "Epoch: 79/100\n"
     ]
    },
    {
     "name": "stderr",
     "output_type": "stream",
     "text": [
      "100%|██████████| 2000/2000 [00:20<00:00, 96.29it/s] \n"
     ]
    },
    {
     "name": "stdout",
     "output_type": "stream",
     "text": [
      "Average Training Accuracy in Epoch 79 : 0.6426734571860561\n",
      "Total Training Loss in Epoch 79 : 73287.71441085823\n",
      "Average Validation Accuracy in Epoch 79 : 0.6717901616581256\n",
      "Total Validation Loss in Epoch 79 : 7352.099804792553\n",
      "0\n",
      "Epoch: 80/100\n"
     ]
    },
    {
     "name": "stderr",
     "output_type": "stream",
     "text": [
      "100%|██████████| 2000/2000 [00:21<00:00, 94.16it/s] \n"
     ]
    },
    {
     "name": "stdout",
     "output_type": "stream",
     "text": [
      "Average Training Accuracy in Epoch 80 : 0.6427114838259295\n",
      "Total Training Loss in Epoch 80 : 74208.81306044199\n",
      "Average Validation Accuracy in Epoch 80 : 0.6718730157623067\n",
      "Total Validation Loss in Epoch 80 : 7443.136476654559\n",
      "0\n",
      "Epoch: 81/100\n"
     ]
    },
    {
     "name": "stderr",
     "output_type": "stream",
     "text": [
      "100%|██████████| 2000/2000 [00:20<00:00, 95.42it/s] \n"
     ]
    },
    {
     "name": "stdout",
     "output_type": "stream",
     "text": [
      "Average Training Accuracy in Epoch 81 : 0.6427499326531901\n",
      "Total Training Loss in Epoch 81 : 75129.696554441\n",
      "Average Validation Accuracy in Epoch 81 : 0.6720182377826652\n",
      "Total Validation Loss in Epoch 81 : 7531.986221320927\n",
      "0\n",
      "Epoch: 82/100\n"
     ]
    },
    {
     "name": "stderr",
     "output_type": "stream",
     "text": [
      "100%|██████████| 2000/2000 [00:20<00:00, 96.52it/s] \n"
     ]
    },
    {
     "name": "stdout",
     "output_type": "stream",
     "text": [
      "Average Training Accuracy in Epoch 82 : 0.642790058826528\n",
      "Total Training Loss in Epoch 82 : 76050.34942318313\n",
      "Average Validation Accuracy in Epoch 82 : 0.6719829079063564\n",
      "Total Validation Loss in Epoch 82 : 7626.040141187608\n",
      "0\n",
      "Epoch: 83/100\n"
     ]
    },
    {
     "name": "stderr",
     "output_type": "stream",
     "text": [
      "100%|██████████| 2000/2000 [00:21<00:00, 93.93it/s] \n"
     ]
    },
    {
     "name": "stdout",
     "output_type": "stream",
     "text": [
      "Average Training Accuracy in Epoch 83 : 0.6428285771542823\n",
      "Total Training Loss in Epoch 83 : 76970.91571576707\n",
      "Average Validation Accuracy in Epoch 83 : 0.6719364875887173\n",
      "Total Validation Loss in Epoch 83 : 7722.965592317283\n",
      "0\n",
      "Epoch: 84/100\n"
     ]
    },
    {
     "name": "stderr",
     "output_type": "stream",
     "text": [
      "100%|██████████| 2000/2000 [00:20<00:00, 99.16it/s] \n"
     ]
    },
    {
     "name": "stdout",
     "output_type": "stream",
     "text": [
      "Average Training Accuracy in Epoch 84 : 0.6428653019395257\n",
      "Total Training Loss in Epoch 84 : 77891.42633359693\n",
      "Average Validation Accuracy in Epoch 84 : 0.6720174821084809\n",
      "Total Validation Loss in Epoch 84 : 7816.265428252518\n",
      "0\n",
      "Epoch: 85/100\n"
     ]
    },
    {
     "name": "stderr",
     "output_type": "stream",
     "text": [
      "100%|██████████| 2000/2000 [00:20<00:00, 97.70it/s] \n"
     ]
    },
    {
     "name": "stdout",
     "output_type": "stream",
     "text": [
      "Average Training Accuracy in Epoch 85 : 0.6429021802636631\n",
      "Total Training Loss in Epoch 85 : 78811.85743818618\n",
      "Average Validation Accuracy in Epoch 85 : 0.6719697072768913\n",
      "Total Validation Loss in Epoch 85 : 7909.49686755985\n",
      "0\n",
      "Epoch: 86/100\n"
     ]
    },
    {
     "name": "stderr",
     "output_type": "stream",
     "text": [
      "100%|██████████| 2000/2000 [00:21<00:00, 95.21it/s] \n"
     ]
    },
    {
     "name": "stdout",
     "output_type": "stream",
     "text": [
      "Average Training Accuracy in Epoch 86 : 0.6429407027161919\n",
      "Total Training Loss in Epoch 86 : 79732.03204718418\n",
      "Average Validation Accuracy in Epoch 86 : 0.6717524475474344\n",
      "Total Validation Loss in Epoch 86 : 8007.266222797334\n",
      "0\n",
      "Epoch: 87/100\n"
     ]
    },
    {
     "name": "stderr",
     "output_type": "stream",
     "text": [
      "100%|██████████| 2000/2000 [00:21<00:00, 95.02it/s] \n"
     ]
    },
    {
     "name": "stdout",
     "output_type": "stream",
     "text": [
      "Average Training Accuracy in Epoch 87 : 0.642977355670141\n",
      "Total Training Loss in Epoch 87 : 80652.14586238004\n",
      "Average Validation Accuracy in Epoch 87 : 0.6715858761349629\n",
      "Total Validation Loss in Epoch 87 : 8102.895009942353\n",
      "0\n",
      "Epoch: 88/100\n"
     ]
    },
    {
     "name": "stderr",
     "output_type": "stream",
     "text": [
      "100%|██████████| 2000/2000 [00:21<00:00, 94.78it/s] \n"
     ]
    },
    {
     "name": "stdout",
     "output_type": "stream",
     "text": [
      "Average Training Accuracy in Epoch 88 : 0.6430158537716012\n",
      "Total Training Loss in Epoch 88 : 81571.81593351252\n",
      "Average Validation Accuracy in Epoch 88 : 0.6715304939093237\n",
      "Total Validation Loss in Epoch 88 : 8194.489711530507\n",
      "0\n",
      "Epoch: 89/100\n"
     ]
    },
    {
     "name": "stderr",
     "output_type": "stream",
     "text": [
      "100%|██████████| 2000/2000 [00:21<00:00, 93.16it/s] \n"
     ]
    },
    {
     "name": "stdout",
     "output_type": "stream",
     "text": [
      "Average Training Accuracy in Epoch 89 : 0.6430538938480816\n",
      "Total Training Loss in Epoch 89 : 82491.597367635\n",
      "Average Validation Accuracy in Epoch 89 : 0.6716606725836068\n",
      "Total Validation Loss in Epoch 89 : 8286.824330538511\n",
      "0\n",
      "Epoch: 90/100\n"
     ]
    },
    {
     "name": "stderr",
     "output_type": "stream",
     "text": [
      "100%|██████████| 2000/2000 [00:20<00:00, 95.43it/s] \n"
     ]
    },
    {
     "name": "stdout",
     "output_type": "stream",
     "text": [
      "Average Training Accuracy in Epoch 90 : 0.6430907509871655\n",
      "Total Training Loss in Epoch 90 : 83411.1940058861\n",
      "Average Validation Accuracy in Epoch 90 : 0.6717997830410798\n",
      "Total Validation Loss in Epoch 90 : 8377.381391637027\n",
      "0\n",
      "Epoch: 91/100\n"
     ]
    },
    {
     "name": "stderr",
     "output_type": "stream",
     "text": [
      "100%|██████████| 2000/2000 [00:21<00:00, 94.09it/s] \n"
     ]
    },
    {
     "name": "stdout",
     "output_type": "stream",
     "text": [
      "Average Training Accuracy in Epoch 91 : 0.6431262950667149\n",
      "Total Training Loss in Epoch 91 : 84330.69008321874\n",
      "Average Validation Accuracy in Epoch 91 : 0.6715398358889334\n",
      "Total Validation Loss in Epoch 91 : 8477.210905991495\n",
      "0\n",
      "Epoch: 92/100\n"
     ]
    },
    {
     "name": "stderr",
     "output_type": "stream",
     "text": [
      "100%|██████████| 2000/2000 [00:21<00:00, 94.54it/s] \n"
     ]
    },
    {
     "name": "stdout",
     "output_type": "stream",
     "text": [
      "Average Training Accuracy in Epoch 92 : 0.6431637878420399\n",
      "Total Training Loss in Epoch 92 : 85249.89666960575\n",
      "Average Validation Accuracy in Epoch 92 : 0.6715267186385134\n",
      "Total Validation Loss in Epoch 92 : 8569.534394908696\n",
      "0\n",
      "Epoch: 93/100\n"
     ]
    },
    {
     "name": "stderr",
     "output_type": "stream",
     "text": [
      "100%|██████████| 2000/2000 [00:21<00:00, 95.09it/s] \n"
     ]
    },
    {
     "name": "stdout",
     "output_type": "stream",
     "text": [
      "Average Training Accuracy in Epoch 93 : 0.6431993957628966\n",
      "Total Training Loss in Epoch 93 : 86169.03883612156\n",
      "Average Validation Accuracy in Epoch 93 : 0.6715674415903706\n",
      "Total Validation Loss in Epoch 93 : 8664.181746538728\n",
      "0\n",
      "Epoch: 94/100\n"
     ]
    },
    {
     "name": "stderr",
     "output_type": "stream",
     "text": [
      "100%|██████████| 2000/2000 [00:20<00:00, 95.75it/s] \n"
     ]
    },
    {
     "name": "stdout",
     "output_type": "stream",
     "text": [
      "Average Training Accuracy in Epoch 94 : 0.6432361418493092\n",
      "Total Training Loss in Epoch 94 : 87088.1313398499\n",
      "Average Validation Accuracy in Epoch 94 : 0.6715896199374123\n",
      "Total Validation Loss in Epoch 94 : 8757.858043398708\n",
      "0\n",
      "Epoch: 95/100\n"
     ]
    },
    {
     "name": "stderr",
     "output_type": "stream",
     "text": [
      "100%|██████████| 2000/2000 [00:21<00:00, 95.06it/s] \n"
     ]
    },
    {
     "name": "stdout",
     "output_type": "stream",
     "text": [
      "Average Training Accuracy in Epoch 95 : 0.6432740532969958\n",
      "Total Training Loss in Epoch 95 : 88006.80023309775\n",
      "Average Validation Accuracy in Epoch 95 : 0.671639928907156\n",
      "Total Validation Loss in Epoch 95 : 8848.236219722778\n",
      "0\n",
      "Epoch: 96/100\n"
     ]
    },
    {
     "name": "stderr",
     "output_type": "stream",
     "text": [
      "100%|██████████| 2000/2000 [00:21<00:00, 93.65it/s] \n"
     ]
    },
    {
     "name": "stdout",
     "output_type": "stream",
     "text": [
      "Average Training Accuracy in Epoch 96 : 0.643311483484072\n",
      "Total Training Loss in Epoch 96 : 88925.33961983956\n",
      "Average Validation Accuracy in Epoch 96 : 0.6716069544906107\n",
      "Total Validation Loss in Epoch 96 : 8939.427251260728\n",
      "0\n",
      "Epoch: 97/100\n"
     ]
    },
    {
     "name": "stderr",
     "output_type": "stream",
     "text": [
      "100%|██████████| 2000/2000 [00:21<00:00, 93.26it/s] \n"
     ]
    },
    {
     "name": "stdout",
     "output_type": "stream",
     "text": [
      "Average Training Accuracy in Epoch 97 : 0.6433486984434356\n",
      "Total Training Loss in Epoch 97 : 89843.84260514192\n",
      "Average Validation Accuracy in Epoch 97 : 0.6713382088008922\n",
      "Total Validation Loss in Epoch 97 : 9038.045402932912\n",
      "0\n",
      "Epoch: 98/100\n"
     ]
    },
    {
     "name": "stderr",
     "output_type": "stream",
     "text": [
      "100%|██████████| 2000/2000 [00:20<00:00, 95.39it/s] \n"
     ]
    },
    {
     "name": "stdout",
     "output_type": "stream",
     "text": [
      "Average Training Accuracy in Epoch 98 : 0.643386609569268\n",
      "Total Training Loss in Epoch 98 : 90762.05796862207\n",
      "Average Validation Accuracy in Epoch 98 : 0.6713087399722057\n",
      "Total Validation Loss in Epoch 98 : 9130.957567784935\n",
      "0\n",
      "Epoch: 99/100\n"
     ]
    },
    {
     "name": "stderr",
     "output_type": "stream",
     "text": [
      "100%|██████████| 2000/2000 [00:21<00:00, 94.55it/s] \n"
     ]
    },
    {
     "name": "stdout",
     "output_type": "stream",
     "text": [
      "Average Training Accuracy in Epoch 99 : 0.643423285515772\n",
      "Total Training Loss in Epoch 99 : 91680.20619201474\n",
      "Average Validation Accuracy in Epoch 99 : 0.6712863341116845\n",
      "Total Validation Loss in Epoch 99 : 9223.748599525541\n",
      "0\n",
      "Epoch: 100/100\n"
     ]
    },
    {
     "name": "stderr",
     "output_type": "stream",
     "text": [
      "100%|██████████| 2000/2000 [00:21<00:00, 92.81it/s] \n"
     ]
    },
    {
     "name": "stdout",
     "output_type": "stream",
     "text": [
      "Average Training Accuracy in Epoch 100 : 0.6434593200453371\n",
      "Total Training Loss in Epoch 100 : 92598.2615762297\n",
      "Average Validation Accuracy in Epoch 100 : 0.6712000214986503\n",
      "Total Validation Loss in Epoch 100 : 9315.15733980015\n",
      "0\n"
     ]
    }
   ],
   "source": [
    "EPOCHS = 100#30#500\n",
    "LEN_TRAIN = 2000\n",
    "NUM_CHANNEL = 2 # Number of Mic Inputs (>=2 for BF)\n",
    "REFERENCE_CHANNEL = 0\n",
    "INIT_LR = 0.001#0.0001\n",
    "BATCH_SIZE = 1#64\n",
    "LEARN_LOSS_PARAMS = False\n",
    "device =  torch.device('cuda:3') if torch.cuda.is_available() else torch.device('cpu')\n",
    "\n",
    "model = MaskNet().to(device)\n",
    "model= torch.nn.DataParallel(model,device_ids=[3])\n",
    "\n",
    "lossBCE = BCELoss()\n",
    "\n",
    "opt = Adam(model.parameters(), lr=INIT_LR)\n",
    "lr_scheduler = torch.optim.lr_scheduler.ExponentialLR(optimizer=opt, gamma=0.96,last_epoch=-1)\n",
    "\n",
    "H = {\n",
    "    \"train_loss\":[],\n",
    "    \"train_acc\":[],\n",
    "    \"val_loss\":[],\n",
    "    \"val_acc\":[]\n",
    "}\n",
    "\n",
    "def check_accuracy_training(speech_pred, y_s):\n",
    "    speech_pred = (speech_pred>0.15).float()\n",
    "    return float(torch.sum((speech_pred == y_s).float())/torch.sum(torch.ones(513,speech_pred.shape[1])))\n",
    "\n",
    "def check_accuracy_validation(model):\n",
    "    example_nr = int(np.random.random()*(len(X)-LEN_TRAIN)+LEN_TRAIN)\n",
    "    model.eval()\n",
    "    pred = model(X[example_nr])\n",
    "    val_loss = lossBCE(pred,Y[example_nr][0])\n",
    "    pred = (pred>0.15).float()\n",
    "    model.train()\n",
    "    return float(torch.sum((pred == Y[example_nr][0]).float())/torch.sum(torch.ones(513,X[example_nr].shape[1]))),val_loss\n",
    "\n",
    "print(\"[INFO] training the network...\")\n",
    "#X = stft_mix[:50].to(device)\n",
    "#Y = Y.to(device)\n",
    "X = X.to(device)\n",
    "Y = Y.to(device)\n",
    "trainX = X[:LEN_TRAIN]\n",
    "trainY = Y\n",
    "\n",
    "for epoch in range(0, EPOCHS):\n",
    "    print(\"Epoch:\",str(epoch+1)+\"/\"+str(EPOCHS))\n",
    "    # Train Mode\n",
    "    model.train()\n",
    "    \n",
    "    # Initialize\n",
    "    totalTrainLoss = 0\n",
    "    totalValLoss = 0\n",
    "    trainCorrect = 0\n",
    "    valCorrect = 0\n",
    "\n",
    "    for i in tqdm(range(0,len(trainX))): # Iterate over Training Examples\n",
    "        y_s = trainY[i][0] # 0 speech only\n",
    "        x = trainX[i]\n",
    "        speech_pred=model(x)#, noise_pred = model(x)\n",
    "        loss = lossBCE(speech_pred,y_s) #+ lossMSE(noise_pred,y_n)\n",
    "        # zero out the gradients, perform the backpropagation step, and update the weights\n",
    "        opt.zero_grad()\n",
    "        loss.backward()\n",
    "        opt.step()\n",
    "        H[\"train_acc\"].append(check_accuracy_training(speech_pred,y_s))\n",
    "        H[\"train_loss\"].append(float(loss))\n",
    "        if i % 10 == 0:\n",
    "            #lr_scheduler.step()\n",
    "            val_acc, val_loss = check_accuracy_validation(model)\n",
    "            H[\"val_acc\"].append(val_acc)\n",
    "            H[\"val_loss\"].append(float(val_loss))\n",
    "    # Print results of Epoch        \n",
    "    print(\"Average Training Accuracy in Epoch\",str(epoch+1),\":\",np.mean(np.array(H[\"train_acc\"])))\n",
    "    print(\"Total Training Loss in Epoch\",str(epoch+1),\":\",np.sum(np.array(H[\"train_loss\"])))\n",
    "    print(\"Average Validation Accuracy in Epoch\",str(epoch+1),\":\",np.mean(np.array(H[\"val_acc\"])))\n",
    "    print(\"Total Validation Loss in Epoch\",str(epoch+1),\":\",np.sum(np.array(H[\"val_loss\"])))\n",
    "    # Save Model after Epoch       \n",
    "    MODEL_SAVE_PATH = '/project/data_asr/CHiME5/data/librenoise/models/TFall'\n",
    "    if (epoch+1)%10 == 0:\n",
    "        torch.save(model.state_dict(), MODEL_SAVE_PATH + \"epoch\" + str(epoch+1) + \".pt\")\n",
    "    print(totalTrainLoss)\n",
    "PICKLE_SAVE_PATH = '/project/data_asr/CHiME5/data/librenoise/models/params.pkl'\n",
    "torch.save(model.state_dict(), MODEL_SAVE_PATH + \"final\" + \".pt\")\n",
    "with open(PICKLE_SAVE_PATH, 'wb') as f:\n",
    "    pickle.dump(H, f)"
   ]
  },
  {
   "cell_type": "markdown",
   "metadata": {},
   "source": [
    "## Load Model & Evaluate"
   ]
  },
  {
   "cell_type": "code",
   "execution_count": 14,
   "metadata": {},
   "outputs": [
    {
     "data": {
      "text/plain": [
       "MaskNet(\n",
       "  (pe): PositionalEncoding(\n",
       "    (dropout): Dropout(p=0.1, inplace=False)\n",
       "  )\n",
       "  (ln11): LayerNorm((196,), eps=1e-05, elementwise_affine=True)\n",
       "  (ln12): LayerNorm((196,), eps=1e-05, elementwise_affine=True)\n",
       "  (mha1): MultiheadAttention(\n",
       "    (out_proj): NonDynamicallyQuantizableLinear(in_features=196, out_features=196, bias=True)\n",
       "  )\n",
       "  (lintf1): Linear(in_features=196, out_features=1024, bias=True)\n",
       "  (lintf12): Linear(in_features=1024, out_features=196, bias=True)\n",
       "  (pe2): PositionalEncoding(\n",
       "    (dropout): Dropout(p=0.1, inplace=False)\n",
       "  )\n",
       "  (ln21): LayerNorm((196,), eps=1e-05, elementwise_affine=True)\n",
       "  (ln22): LayerNorm((196,), eps=1e-05, elementwise_affine=True)\n",
       "  (mha2): MultiheadAttention(\n",
       "    (out_proj): NonDynamicallyQuantizableLinear(in_features=196, out_features=196, bias=True)\n",
       "  )\n",
       "  (lintf2): Linear(in_features=196, out_features=1024, bias=True)\n",
       "  (lintf22): Linear(in_features=1024, out_features=196, bias=True)\n",
       "  (fc): Linear(in_features=4, out_features=1, bias=True)\n",
       "  (sigmoid): Sigmoid()\n",
       ")"
      ]
     },
     "execution_count": 14,
     "metadata": {},
     "output_type": "execute_result"
    }
   ],
   "source": [
    "PATH = MODEL_SAVE_PATH = \"/project/data_asr/CHiME5/data/librenoise/models/TFallfinal.pt\"#30 is all noise\n",
    "#device = torch.device('cuda:0')\n",
    "state_dict = torch.load(PATH)\n",
    "# create new OrderedDict that does not contain `module.`\n",
    "from collections import OrderedDict\n",
    "new_state_dict = OrderedDict()\n",
    "for k, v in state_dict.items():\n",
    "    name = k[7:] # remove `module.` from state dict\n",
    "    new_state_dict[name] = v\n",
    "# load params\n",
    "model = MaskNet()\n",
    "model.load_state_dict(new_state_dict)\n",
    "#model= torch.nn.DataParallel(model)\n",
    "#model.load_state_dict(torch.load(PATH))#,map_location=device))\n",
    "#model.to(device)\n",
    "model.eval()"
   ]
  },
  {
   "cell_type": "code",
   "execution_count": 15,
   "metadata": {},
   "outputs": [
    {
     "data": {
      "image/png": "[encoded data removed]",
      "text/plain": [
       "<Figure size 432x288 with 2 Axes>"
      ]
     },
     "metadata": {
      "needs_background": "light"
     },
     "output_type": "display_data"
    },
    {
     "data": {
      "image/png": "[encoded data removed]",
      "text/plain": [
       "<Figure size 432x288 with 2 Axes>"
      ]
     },
     "metadata": {
      "needs_background": "light"
     },
     "output_type": "display_data"
    },
    {
     "data": {
      "image/png": "[encoded data removed]",
      "text/plain": [
       "<Figure size 432x288 with 2 Axes>"
      ]
     },
     "metadata": {
      "needs_background": "light"
     },
     "output_type": "display_data"
    },
    {
     "data": {
      "image/png": "[encoded data removed]",
      "text/plain": [
       "<Figure size 432x288 with 2 Axes>"
      ]
     },
     "metadata": {
      "needs_background": "light"
     },
     "output_type": "display_data"
    }
   ],
   "source": [
    "X = X.cpu()\n",
    "Y = Y.cpu()\n",
    "def evaluate_example(e_nr):\n",
    "    model.eval()\n",
    "    speech_pred = (model(X[e_nr])).float()\n",
    "    noise_pred = torch.ones([513,X[e_nr].shape[1]])-speech_pred\n",
    "    plot_mask(speech_pred, title=\"Prediction Speech\")\n",
    "    plot_mask(noise_pred, title=\"Prediction Noise\")\n",
    "    plot_mask(Y[e_nr][0], title=\"Reference Speech\")\n",
    "    plot_mask(Y[e_nr][1], title=\"Reference Noise\")\n",
    "\n",
    "def plot_mask(mask, title=\"Mask\", xlim=None):\n",
    "    mask = mask.detach().numpy()\n",
    "    figure, axis = plt.subplots(1, 1)\n",
    "    img = axis.imshow(mask, cmap=\"viridis\", origin=\"lower\", aspect=\"auto\")\n",
    "    figure.suptitle(title)\n",
    "    plt.colorbar(img, ax=axis)\n",
    "    plt.show()\n",
    "\n",
    "evaluate_example(2010)"
   ]
  },
  {
   "cell_type": "code",
   "execution_count": 16,
   "metadata": {},
   "outputs": [],
   "source": [
    "istft = torchaudio.transforms.InverseSpectrogram(n_fft=1024, hop_length=256)\n",
    "def si_snr(estimate, reference, epsilon=1e-8):\n",
    "    estimate = estimate - estimate.mean()\n",
    "    reference = reference - reference.mean()\n",
    "    reference_pow = reference.pow(2).mean(axis=1, keepdim=True)\n",
    "    mix_pow = (estimate * reference).mean(axis=1, keepdim=True)\n",
    "    scale = mix_pow / (reference_pow + epsilon)\n",
    "\n",
    "    reference = scale * reference\n",
    "    error = estimate - reference\n",
    "\n",
    "    reference_pow = reference.pow(2)\n",
    "    error_pow = error.pow(2)\n",
    "\n",
    "    reference_pow = reference_pow.mean(axis=1)\n",
    "    error_pow = error_pow.mean(axis=1)\n",
    "\n",
    "    si_snr = 10 * torch.log10(reference_pow) - 10 * torch.log10(error_pow)\n",
    "    return si_snr.item()\n",
    "def evaluateSiSNR(wave, i):\n",
    "    score = si_snr(wave, speech[i])\n",
    "    #print(f\"Si-SNR score: {score}\") \n",
    "    return score\n",
    "\n",
    "def maskToWave(speech_pred,noise_pred,mix,i):\n",
    "        model.eval()\n",
    "        psd_transform = torchaudio.transforms.PSD()\n",
    "        psd_speech = psd_transform(mix[i], speech_pred)\n",
    "        psd_noise = psd_transform(mix[i], noise_pred)\n",
    "        mvdr_transform = torchaudio.transforms.SoudenMVDR()\n",
    "        stft_souden = mvdr_transform(mix[i], psd_speech, psd_noise, reference_channel=0)\n",
    "        waveform_souden = istft(stft_souden, length=len(speech[i][0]))#X[i].shape[-1])\n",
    "        return waveform_souden.reshape(-1)\n",
    "\n",
    "def save_sample(i,wave,sample_rate=SAMPLE_RATE):\n",
    "    torchaudio.save(\"./outputs/sample_reference.wav\", speech[i].reshape(1,-1),sample_rate)\n",
    "    torchaudio.save(\"./outputs/sample_input.wav\", mix1[i].reshape(1,-1),sample_rate)\n",
    "    torchaudio.save(\"./outputs/model_out.wav\",wave.reshape(1,-1),16000)\n",
    "\n",
    "index = 2017\n",
    "speech_pred = (model(X[index])).float()\n",
    "noise_pred = torch.ones([513,speech_pred.shape[1]])-speech_pred\n",
    "wave = maskToWave(speech_pred,noise_pred,X_complex,index)#X hat nicht mehr nur 2, sondern 4 channel\n",
    "#print(wave.shape)\n",
    "#print(wave)\n",
    "save_sample(index, wave=wave)\n",
    "#score = evaluateSiSNR(wave,index)#Should be ~28\n",
    "#print(f\"Si-SNR score: {score}\")"
   ]
  },
  {
   "cell_type": "code",
   "execution_count": 17,
   "metadata": {},
   "outputs": [
    {
     "name": "stdout",
     "output_type": "stream",
     "text": [
      "Average Improvement of Si-SNR score on validation set: 1.5231493139266967\n"
     ]
    }
   ],
   "source": [
    "scores = []\n",
    "for index in range(2000,2200):\n",
    "    speech_pred = (model(X[index])).float()\n",
    "    noise_pred = torch.ones([513,speech_pred.shape[1]])-speech_pred\n",
    "    wave = maskToWave(speech_pred,noise_pred,X_complex,index)#X hat nicht mehr nur 2, sondern 4 channel\n",
    "    scores.append(si_snr(wave, speech[index])-si_snr(mix1[index],speech[index]))\n",
    "print(f\"Average Improvement of Si-SNR score on validation set: {np.mean(scores)}\") \n",
    "# Average improvement with 1 noise => 9.79\n",
    "# Average improvement with 3 noises => 6.52\n",
    "# Average improvement with 5 noises => 2.6969\n",
    "# Average improvement with 10 noises => 0.4515 (5 epochs), 2.537 (29 epochs)\n",
    "# Average improvement with 100 noises: 1.523 (500 epochs)"
   ]
  }
 ],
 "metadata": {
  "kernelspec": {
   "display_name": "Python 3.9.12 ('beamformer')",
   "language": "python",
   "name": "python3"
  },
  "language_info": {
   "codemirror_mode": {
    "name": "ipython",
    "version": 3
   },
   "file_extension": ".py",
   "mimetype": "text/x-python",
   "name": "python",
   "nbconvert_exporter": "python",
   "pygments_lexer": "ipython3",
   "version": "3.9.12"
  },
  "orig_nbformat": 4,
  "vscode": {
   "interpreter": {
    "hash": "7edcfa7c72349f2a40b8bb9d00f805dd689758e4b70f704e502841c884b714f7"
   }
  }
 },
 "nbformat": 4,
 "nbformat_minor": 2
}
