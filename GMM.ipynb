{
 "cells": [
  {
   "cell_type": "code",
   "execution_count": 1,
   "metadata": {},
   "outputs": [
    {
     "name": "stderr",
     "output_type": "stream",
     "text": [
      "/home/dfedorovsky/anaconda3/envs/beamformer/lib/python3.9/site-packages/requests/__init__.py:102: RequestsDependencyWarning: urllib3 (1.26.9) or chardet (5.0.0)/charset_normalizer (2.0.12) doesn't match a supported version!\n",
      "  warnings.warn(\"urllib3 ({}) or chardet ({})/charset_normalizer ({}) doesn't match a supported \"\n"
     ]
    },
    {
     "ename": "KeyboardInterrupt",
     "evalue": "",
     "output_type": "error",
     "traceback": [
      "\u001b[0;31m---------------------------------------------------------------------------\u001b[0m",
      "\u001b[0;31mKeyboardInterrupt\u001b[0m                         Traceback (most recent call last)",
      "\u001b[1;32m/project/data_asr/CHiME5/data/danil/Beamformer/GMM.ipynb Zelle 1\u001b[0m in \u001b[0;36m<cell line: 3>\u001b[0;34m()\u001b[0m\n\u001b[1;32m      <a href='vscode-notebook-cell://ssh-remote%2B192.168.0.59/project/data_asr/CHiME5/data/danil/Beamformer/GMM.ipynb#W0sdnNjb2RlLXJlbW90ZQ%3D%3D?line=0'>1</a>\u001b[0m \u001b[39mimport\u001b[39;00m \u001b[39mDataLoader\u001b[39;00m\n\u001b[0;32m----> <a href='vscode-notebook-cell://ssh-remote%2B192.168.0.59/project/data_asr/CHiME5/data/danil/Beamformer/GMM.ipynb#W0sdnNjb2RlLXJlbW90ZQ%3D%3D?line=2'>3</a>\u001b[0m X,Y,speech,noise,mix \u001b[39m=\u001b[39m DataLoader\u001b[39m.\u001b[39;49mdata_loader()\n",
      "File \u001b[0;32m/project/data_asr/CHiME5/data/danil/Beamformer/DataLoader.py:76\u001b[0m, in \u001b[0;36mdata_loader\u001b[0;34m(y_mask)\u001b[0m\n\u001b[1;32m     73\u001b[0m     imag_part \u001b[39m=\u001b[39m trainX[i][j]\u001b[39m.\u001b[39mimag\n\u001b[1;32m     74\u001b[0m     \u001b[39mreturn\u001b[39;00m torch\u001b[39m.\u001b[39mcat((real_part\u001b[39m.\u001b[39munsqueeze(\u001b[39m2\u001b[39m),imag_part\u001b[39m.\u001b[39munsqueeze(\u001b[39m2\u001b[39m)),\u001b[39m2\u001b[39m)\n\u001b[0;32m---> 76\u001b[0m speech \u001b[39m=\u001b[39m load_speech()\n\u001b[1;32m     77\u001b[0m noise \u001b[39m=\u001b[39m load_noise()\n\u001b[1;32m     78\u001b[0m \u001b[39m#noise = noise[:5]\u001b[39;00m\n",
      "File \u001b[0;32m/project/data_asr/CHiME5/data/danil/Beamformer/DataLoader.py:40\u001b[0m, in \u001b[0;36mdata_loader.<locals>.load_speech\u001b[0;34m(S_PATH)\u001b[0m\n\u001b[1;32m     38\u001b[0m \u001b[39mfor\u001b[39;00m file \u001b[39min\u001b[39;00m os\u001b[39m.\u001b[39mlistdir(S_PATH\u001b[39m+\u001b[39mfolder\u001b[39m+\u001b[39m\u001b[39m\"\u001b[39m\u001b[39m/\u001b[39m\u001b[39m\"\u001b[39m\u001b[39m+\u001b[39msubfolder):\n\u001b[1;32m     39\u001b[0m     \u001b[39mif\u001b[39;00m file[\u001b[39m-\u001b[39m\u001b[39m5\u001b[39m:] \u001b[39m==\u001b[39m \u001b[39m\"\u001b[39m\u001b[39m.flac\u001b[39m\u001b[39m\"\u001b[39m:\n\u001b[0;32m---> 40\u001b[0m         sound, _ \u001b[39m=\u001b[39m torchaudio\u001b[39m.\u001b[39;49mload(S_PATH\u001b[39m+\u001b[39;49mfolder\u001b[39m+\u001b[39;49m\u001b[39m\"\u001b[39;49m\u001b[39m/\u001b[39;49m\u001b[39m\"\u001b[39;49m\u001b[39m+\u001b[39;49msubfolder\u001b[39m+\u001b[39;49m\u001b[39m\"\u001b[39;49m\u001b[39m/\u001b[39;49m\u001b[39m\"\u001b[39;49m\u001b[39m+\u001b[39;49mfile)\n\u001b[1;32m     41\u001b[0m         \u001b[39mif\u001b[39;00m SAME_LENGTH:\n\u001b[1;32m     42\u001b[0m             \u001b[39mtry\u001b[39;00m:\n",
      "File \u001b[0;32m~/anaconda3/envs/beamformer/lib/python3.9/site-packages/torchaudio/backend/sox_io_backend.py:222\u001b[0m, in \u001b[0;36mload\u001b[0;34m(filepath, frame_offset, num_frames, normalize, channels_first, format)\u001b[0m\n\u001b[1;32m    220\u001b[0m         \u001b[39mreturn\u001b[39;00m _fallback_load_fileobj(filepath, frame_offset, num_frames, normalize, channels_first, \u001b[39mformat\u001b[39m)\n\u001b[1;32m    221\u001b[0m     filepath \u001b[39m=\u001b[39m os\u001b[39m.\u001b[39mfspath(filepath)\n\u001b[0;32m--> 222\u001b[0m ret \u001b[39m=\u001b[39m torch\u001b[39m.\u001b[39;49mops\u001b[39m.\u001b[39;49mtorchaudio\u001b[39m.\u001b[39;49msox_io_load_audio_file(\n\u001b[1;32m    223\u001b[0m     filepath, frame_offset, num_frames, normalize, channels_first, \u001b[39mformat\u001b[39;49m\n\u001b[1;32m    224\u001b[0m )\n\u001b[1;32m    225\u001b[0m \u001b[39mif\u001b[39;00m ret \u001b[39mis\u001b[39;00m \u001b[39mnot\u001b[39;00m \u001b[39mNone\u001b[39;00m:\n\u001b[1;32m    226\u001b[0m     \u001b[39mreturn\u001b[39;00m ret\n",
      "File \u001b[0;32m~/anaconda3/envs/beamformer/lib/python3.9/site-packages/torch/_ops.py:143\u001b[0m, in \u001b[0;36mOpOverloadPacket.__call__\u001b[0;34m(self, *args, **kwargs)\u001b[0m\n\u001b[1;32m    138\u001b[0m \u001b[39mdef\u001b[39;00m \u001b[39m__call__\u001b[39m(\u001b[39mself\u001b[39m, \u001b[39m*\u001b[39margs, \u001b[39m*\u001b[39m\u001b[39m*\u001b[39mkwargs):\n\u001b[1;32m    139\u001b[0m     \u001b[39m# overloading __call__ to ensure torch.ops.foo.bar()\u001b[39;00m\n\u001b[1;32m    140\u001b[0m     \u001b[39m# is still callable from JIT\u001b[39;00m\n\u001b[1;32m    141\u001b[0m     \u001b[39m# We save the function ptr as the `op` attribute on\u001b[39;00m\n\u001b[1;32m    142\u001b[0m     \u001b[39m# OpOverloadPacket to access it here.\u001b[39;00m\n\u001b[0;32m--> 143\u001b[0m     \u001b[39mreturn\u001b[39;00m \u001b[39mself\u001b[39;49m\u001b[39m.\u001b[39;49m_op(\u001b[39m*\u001b[39;49margs, \u001b[39m*\u001b[39;49m\u001b[39m*\u001b[39;49mkwargs \u001b[39mor\u001b[39;49;00m {})\n",
      "\u001b[0;31mKeyboardInterrupt\u001b[0m: "
     ]
    }
   ],
   "source": [
    "import DataLoader\n",
    "\n",
    "X,Y,speech,noise,mix = DataLoader.data_loader()"
   ]
  },
  {
   "cell_type": "code",
   "execution_count": null,
   "metadata": {},
   "outputs": [
    {
     "ename": "NameError",
     "evalue": "name 'X' is not defined",
     "output_type": "error",
     "traceback": [
      "\u001b[0;31m---------------------------------------------------------------------------\u001b[0m",
      "\u001b[0;31mNameError\u001b[0m                                 Traceback (most recent call last)",
      "\u001b[1;32m/project/data_asr/CHiME5/data/danil/Beamformer/GMM.ipynb Zelle 2\u001b[0m in \u001b[0;36m<cell line: 5>\u001b[0;34m()\u001b[0m\n\u001b[1;32m      <a href='vscode-notebook-cell://ssh-remote%2B192.168.0.59/project/data_asr/CHiME5/data/danil/Beamformer/GMM.ipynb#W2sdnNjb2RlLXJlbW90ZQ%3D%3D?line=1'>2</a>\u001b[0m \u001b[39mfrom\u001b[39;00m \u001b[39mtqdm\u001b[39;00m \u001b[39mimport\u001b[39;00m tqdm\n\u001b[1;32m      <a href='vscode-notebook-cell://ssh-remote%2B192.168.0.59/project/data_asr/CHiME5/data/danil/Beamformer/GMM.ipynb#W2sdnNjb2RlLXJlbW90ZQ%3D%3D?line=3'>4</a>\u001b[0m gmm \u001b[39m=\u001b[39m GaussianMixture(n_components\u001b[39m=\u001b[39m\u001b[39m52\u001b[39m)\n\u001b[0;32m----> <a href='vscode-notebook-cell://ssh-remote%2B192.168.0.59/project/data_asr/CHiME5/data/danil/Beamformer/GMM.ipynb#W2sdnNjb2RlLXJlbW90ZQ%3D%3D?line=4'>5</a>\u001b[0m \u001b[39mfor\u001b[39;00m i \u001b[39min\u001b[39;00m \u001b[39mrange\u001b[39m(\u001b[39m0\u001b[39m,\u001b[39mlen\u001b[39m(X)):\n\u001b[1;32m      <a href='vscode-notebook-cell://ssh-remote%2B192.168.0.59/project/data_asr/CHiME5/data/danil/Beamformer/GMM.ipynb#W2sdnNjb2RlLXJlbW90ZQ%3D%3D?line=5'>6</a>\u001b[0m     gmm\u001b[39m.\u001b[39mfit(X[i][\u001b[39m0\u001b[39m])\n\u001b[1;32m      <a href='vscode-notebook-cell://ssh-remote%2B192.168.0.59/project/data_asr/CHiME5/data/danil/Beamformer/GMM.ipynb#W2sdnNjb2RlLXJlbW90ZQ%3D%3D?line=6'>7</a>\u001b[0m gmm\u001b[39m.\u001b[39mfit_predict(X[\u001b[39m0\u001b[39m][\u001b[39m0\u001b[39m],Y[\u001b[39m0\u001b[39m])\n",
      "\u001b[0;31mNameError\u001b[0m: name 'X' is not defined"
     ]
    }
   ],
   "source": [
    "from sklearn.mixture import GaussianMixture\n",
    "from tqdm import tqdm\n",
    "\n",
    "gmm = GaussianMixture(n_components=52)\n",
    "for i in tqdm(range(0,len(X))):\n",
    "    gmm.fit(X[i][0])\n",
    "gmm.fit_predict(X[0][0],Y[0])"
   ]
  },
  {
   "cell_type": "code",
   "execution_count": 1,
   "metadata": {},
   "outputs": [
    {
     "ename": "NameError",
     "evalue": "name 'gmm' is not defined",
     "output_type": "error",
     "traceback": [
      "\u001b[0;31m---------------------------------------------------------------------------\u001b[0m",
      "\u001b[0;31mNameError\u001b[0m                                 Traceback (most recent call last)",
      "\u001b[1;32m/project/data_asr/CHiME5/data/danil/Beamformer/GMM.ipynb Zelle 3\u001b[0m in \u001b[0;36m<cell line: 1>\u001b[0;34m()\u001b[0m\n\u001b[0;32m----> <a href='vscode-notebook-cell://ssh-remote%2B192.168.0.59/project/data_asr/CHiME5/data/danil/Beamformer/GMM.ipynb#W2sdnNjb2RlLXJlbW90ZQ%3D%3D?line=0'>1</a>\u001b[0m gmm\u001b[39m.\u001b[39mfit_predict(X[\u001b[39m0\u001b[39m][\u001b[39m0\u001b[39m],Y[\u001b[39m0\u001b[39m])\n",
      "\u001b[0;31mNameError\u001b[0m: name 'gmm' is not defined"
     ]
    }
   ],
   "source": [
    "gmm.fit_predict(X[0][0],Y[0])"
   ]
  }
 ],
 "metadata": {
  "kernelspec": {
   "display_name": "Python 3.9.12 ('beamformer')",
   "language": "python",
   "name": "python3"
  },
  "language_info": {
   "codemirror_mode": {
    "name": "ipython",
    "version": 3
   },
   "file_extension": ".py",
   "mimetype": "text/x-python",
   "name": "python",
   "nbconvert_exporter": "python",
   "pygments_lexer": "ipython3",
   "version": "3.9.12"
  },
  "orig_nbformat": 4,
  "vscode": {
   "interpreter": {
    "hash": "7edcfa7c72349f2a40b8bb9d00f805dd689758e4b70f704e502841c884b714f7"
   }
  }
 },
 "nbformat": 4,
 "nbformat_minor": 2
}
