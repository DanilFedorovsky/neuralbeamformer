{
 "cells": [
  {
   "cell_type": "markdown",
   "metadata": {},
   "source": [
    "# Evaluation"
   ]
  },
  {
   "cell_type": "code",
   "execution_count": 5,
   "metadata": {},
   "outputs": [],
   "source": [
    "from jiwer import wer\n",
    "import json"
   ]
  },
  {
   "cell_type": "code",
   "execution_count": 9,
   "metadata": {},
   "outputs": [],
   "source": [
    "transcript_path = './S02.json'\n",
    "pred_path = '../data/4Pred/'"
   ]
  },
  {
   "cell_type": "code",
   "execution_count": null,
   "metadata": {},
   "outputs": [],
   "source": [
    "# Getting ground truth for S02\\n\",\n",
    "with open(transcript_path, 'r') as f:\n",
    "    text = json.load(f)"
   ]
  },
  {
   "cell_type": "code",
   "execution_count": 12,
   "metadata": {},
   "outputs": [
    {
     "ename": "TypeError",
     "evalue": "string indices must be integers",
     "output_type": "error",
     "traceback": [
      "\u001b[0;31m---------------------------------------------------------------------------\u001b[0m",
      "\u001b[0;31mTypeError\u001b[0m                                 Traceback (most recent call last)",
      "\u001b[1;32m/Users/danilfedorovsky/Documents/10 Collection/00 Studium/00 Letztes Semester/Masterarbeit/Code/Git Repo/Beamformer/4eval.ipynb Cell 6'\u001b[0m in \u001b[0;36m<cell line: 7>\u001b[0;34m()\u001b[0m\n\u001b[1;32m      <a href='vscode-notebook-cell:/Users/danilfedorovsky/Documents/10%20Collection/00%20Studium/00%20Letztes%20Semester/Masterarbeit/Code/Git%20Repo/Beamformer/4eval.ipynb#ch0000009?line=3'>4</a>\u001b[0m         transcript \u001b[39m+\u001b[39m\u001b[39m=\u001b[39m \u001b[39mstr\u001b[39m(part[\u001b[39m\"\u001b[39m\u001b[39mwords\u001b[39m\u001b[39m\"\u001b[39m]) \u001b[39m+\u001b[39m \u001b[39m\"\u001b[39m\u001b[39m \u001b[39m\u001b[39m\"\u001b[39m\n\u001b[1;32m      <a href='vscode-notebook-cell:/Users/danilfedorovsky/Documents/10%20Collection/00%20Studium/00%20Letztes%20Semester/Masterarbeit/Code/Git%20Repo/Beamformer/4eval.ipynb#ch0000009?line=4'>5</a>\u001b[0m     \u001b[39mreturn\u001b[39;00m transcript\n\u001b[0;32m----> <a href='vscode-notebook-cell:/Users/danilfedorovsky/Documents/10%20Collection/00%20Studium/00%20Letztes%20Semester/Masterarbeit/Code/Git%20Repo/Beamformer/4eval.ipynb#ch0000009?line=6'>7</a>\u001b[0m transcript \u001b[39m=\u001b[39m json_to_transcript(text)\n",
      "\u001b[1;32m/Users/danilfedorovsky/Documents/10 Collection/00 Studium/00 Letztes Semester/Masterarbeit/Code/Git Repo/Beamformer/4eval.ipynb Cell 6'\u001b[0m in \u001b[0;36mjson_to_transcript\u001b[0;34m(text)\u001b[0m\n\u001b[1;32m      <a href='vscode-notebook-cell:/Users/danilfedorovsky/Documents/10%20Collection/00%20Studium/00%20Letztes%20Semester/Masterarbeit/Code/Git%20Repo/Beamformer/4eval.ipynb#ch0000009?line=1'>2</a>\u001b[0m transcript \u001b[39m=\u001b[39m \u001b[39m\"\u001b[39m\u001b[39m\"\u001b[39m\n\u001b[1;32m      <a href='vscode-notebook-cell:/Users/danilfedorovsky/Documents/10%20Collection/00%20Studium/00%20Letztes%20Semester/Masterarbeit/Code/Git%20Repo/Beamformer/4eval.ipynb#ch0000009?line=2'>3</a>\u001b[0m \u001b[39mfor\u001b[39;00m part \u001b[39min\u001b[39;00m text:\n\u001b[0;32m----> <a href='vscode-notebook-cell:/Users/danilfedorovsky/Documents/10%20Collection/00%20Studium/00%20Letztes%20Semester/Masterarbeit/Code/Git%20Repo/Beamformer/4eval.ipynb#ch0000009?line=3'>4</a>\u001b[0m     transcript \u001b[39m+\u001b[39m\u001b[39m=\u001b[39m \u001b[39mstr\u001b[39m(part[\u001b[39m\"\u001b[39;49m\u001b[39mwords\u001b[39;49m\u001b[39m\"\u001b[39;49m]) \u001b[39m+\u001b[39m \u001b[39m\"\u001b[39m\u001b[39m \u001b[39m\u001b[39m\"\u001b[39m\n\u001b[1;32m      <a href='vscode-notebook-cell:/Users/danilfedorovsky/Documents/10%20Collection/00%20Studium/00%20Letztes%20Semester/Masterarbeit/Code/Git%20Repo/Beamformer/4eval.ipynb#ch0000009?line=4'>5</a>\u001b[0m \u001b[39mreturn\u001b[39;00m transcript\n",
      "\u001b[0;31mTypeError\u001b[0m: string indices must be integers"
     ]
    }
   ],
   "source": [
    "def json_to_transcript(text):  \n",
    "    transcript = \"\"\n",
    "    for part in text:\n",
    "        transcript += str(part[\"words\"]) + \" \"\n",
    "    return transcript\n",
    "\n",
    "transcript = json_to_transcript(text)"
   ]
  },
  {
   "cell_type": "code",
   "execution_count": null,
   "metadata": {},
   "outputs": [],
   "source": [
    "print(\"P5 Mic WER:\", wer(transcript,micp5))\n",
    "print(\"P6 Mic WER:\", wer(transcript,micp6))\n",
    "\n",
    "print(\"Array 1 WER:\", wer(transcript,output_1))\n",
    "print(\"Array 2 WER:\", wer(transcript,output_2))\n",
    "print(\"Beamformer WER:\", wer(transcript,out))\n",
    "# ground truth, hypothesis\""
   ]
  },
  {
   "cell_type": "code",
   "execution_count": null,
   "metadata": {},
   "outputs": [],
   "source": [
    "print(out)"
   ]
  }
 ],
 "metadata": {
  "kernelspec": {
   "display_name": "Python 3.10.4 ('ML')",
   "language": "python",
   "name": "python3"
  },
  "language_info": {
   "codemirror_mode": {
    "name": "ipython",
    "version": 3
   },
   "file_extension": ".py",
   "mimetype": "text/x-python",
   "name": "python",
   "nbconvert_exporter": "python",
   "pygments_lexer": "ipython3",
   "version": "3.10.4"
  },
  "orig_nbformat": 4,
  "vscode": {
   "interpreter": {
    "hash": "caf2a9e95593815b1c4fd751cbe8e043c8cd27c99f153ce7ffef75e7bc953c48"
   }
  }
 },
 "nbformat": 4,
 "nbformat_minor": 2
}
