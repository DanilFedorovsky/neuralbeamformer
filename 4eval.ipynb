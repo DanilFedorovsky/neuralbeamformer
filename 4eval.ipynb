{
 "cells": [
  {
   "cell_type": "markdown",
   "metadata": {},
   "source": [
    "# Evaluation"
   ]
  },
  {
   "cell_type": "code",
   "execution_count": 45,
   "metadata": {},
   "outputs": [],
   "source": [
    "from jiwer import wer\n",
    "import json\n",
    "import re"
   ]
  },
  {
   "cell_type": "code",
   "execution_count": 2,
   "metadata": {},
   "outputs": [],
   "source": [
    "transcript_path = '/project/data_asr/CHiME5/data/CHiME5/transcriptions/dev/S02.json'\n",
    "pred_path = '../data/4Pred/'"
   ]
  },
  {
   "cell_type": "code",
   "execution_count": 27,
   "metadata": {},
   "outputs": [],
   "source": [
    "# Getting ground truth for S02\\n\",\n",
    "with open(transcript_path, 'r') as f:\n",
    "    text = json.load(f)"
   ]
  },
  {
   "cell_type": "code",
   "execution_count": 48,
   "metadata": {},
   "outputs": [],
   "source": [
    "def json_to_transcript(text):  \n",
    "    transcript = \"\"\n",
    "\n",
    "    # String from json\n",
    "    for part in text:\n",
    "        transcript += str(part[\"words\"]) + \" \"\n",
    "        \n",
    "    # Remove [laughs], [noise], [inaudible], ...\n",
    "    transcript = re.sub(r'\\[.*?\\] ','',transcript)\n",
    "\n",
    "    return transcript\n",
    "\n",
    "transcript = json_to_transcript(text)"
   ]
  },
  {
   "cell_type": "code",
   "execution_count": null,
   "metadata": {},
   "outputs": [],
   "source": [
    "print(\"P5 Mic WER:\", wer(transcript,micp5))\n",
    "print(\"P6 Mic WER:\", wer(transcript,micp6))\n",
    "\n",
    "print(\"Array 1 WER:\", wer(transcript,output_1))\n",
    "print(\"Array 2 WER:\", wer(transcript,output_2))\n",
    "print(\"Beamformer WER:\", wer(transcript,out))\n",
    "# ground truth, hypothesis\""
   ]
  },
  {
   "cell_type": "code",
   "execution_count": null,
   "metadata": {},
   "outputs": [],
   "source": [
    "print(out)"
   ]
  }
 ],
 "metadata": {
  "kernelspec": {
   "display_name": "Python 3.9.12 ('beamformer')",
   "language": "python",
   "name": "python3"
  },
  "language_info": {
   "codemirror_mode": {
    "name": "ipython",
    "version": 3
   },
   "file_extension": ".py",
   "mimetype": "text/x-python",
   "name": "python",
   "nbconvert_exporter": "python",
   "pygments_lexer": "ipython3",
   "version": "3.9.12"
  },
  "orig_nbformat": 4,
  "vscode": {
   "interpreter": {
    "hash": "7edcfa7c72349f2a40b8bb9d00f805dd689758e4b70f704e502841c884b714f7"
   }
  }
 },
 "nbformat": 4,
 "nbformat_minor": 2
}
