{
 "cells": [
  {
   "cell_type": "code",
   "execution_count": 1,
   "metadata": {},
   "outputs": [],
   "source": [
    "import os\n",
    "import torchaudio\n",
    "import torch\n",
    "import matplotlib.pyplot as plt\n",
    "from torch.nn import Module, Linear, Sigmoid, LSTM, BCELoss\n",
    "from torch.optim import Adam\n",
    "import torch.nn.functional as F\n",
    "from pytorch_model_summary import summary\n",
    "from tqdm import tqdm\n",
    "import numpy as np\n",
    "import random"
   ]
  },
  {
   "cell_type": "markdown",
   "metadata": {},
   "source": [
    "## Load Data"
   ]
  },
  {
   "cell_type": "code",
   "execution_count": 2,
   "metadata": {},
   "outputs": [],
   "source": [
    "REFERENCE_CHANNEL = 0\n",
    "SAME_LENGTH = False\n",
    "THR_S = 0.5 # Threshold for speech IRM\n",
    "THR_N = 0.5\n",
    "N_PATH = \"/project/data_asr/CHiME5/data/librenoise/free-sound/\"#\"/Users/danilfedorovsky/Documents/10 Collection/00 Studium/00 Letztes Semester/Masterarbeit/Data/noise/free-sound/\"\n",
    "S_PATH = \"/project/data_asr/CHiME5/data/librenoise/dev/dev-clean/\"#\"/Users/danilfedorovsky/Documents/10 Collection/00 Studium/00 Letztes Semester/Masterarbeit/Data/LibriSpeech/dev-clean/\"\n",
    "def load_noise(N_PATH=N_PATH):\n",
    "    noise = []\n",
    "    for file in  os.listdir(N_PATH):\n",
    "        if file[-4:] == \".wav\":\n",
    "            sound, _ = torchaudio.load(N_PATH+file)\n",
    "            noise.append(sound)\n",
    "    return noise\n",
    "\n",
    "\n",
    "def load_speech(S_PATH=S_PATH):\n",
    "    speech = []\n",
    "    for folder in  os.listdir(S_PATH):\n",
    "        if os.path.isdir(S_PATH+folder):\n",
    "            for subfolder in os.listdir(S_PATH+folder):\n",
    "                if os.path.isdir(S_PATH+folder+\"/\"+subfolder):\n",
    "                    for file in os.listdir(S_PATH+folder+\"/\"+subfolder):\n",
    "                        if file[-5:] == \".flac\":\n",
    "                            sound, _ = torchaudio.load(S_PATH+folder+\"/\"+subfolder+\"/\"+file)\n",
    "                            if SAME_LENGTH:\n",
    "                                try:\n",
    "                                    sound = torch.narrow(sound,1,0,50000)# Narrow to 50000\n",
    "                                except Exception:\n",
    "                                    # add zeros to make sound 50000 long\n",
    "                                    len_sound = sound.shape[1]\n",
    "                                    add_zeros = 50000 - len_sound\n",
    "                                    add_zeros = torch.zeros(add_zeros).reshape(1,-1)\n",
    "                                    sound = torch.concat([sound,add_zeros],dim=1)\n",
    "                            speech.append(sound)\n",
    "    return speech\n",
    "\n",
    "def add_noise_to_speech(speech, noise, ratio1: float, ratio2: float):\n",
    "    X = []\n",
    "    X2 = []\n",
    "    newNoise = []\n",
    "    for sample in speech:\n",
    "        len_speech = sample.shape[1]\n",
    "        sample_noise = random.choice(noise)\n",
    "        while sample_noise.shape[1]<len_speech:\n",
    "            sample_noise = torch.concat([sample_noise,sample_noise],dim=1)# Repeat to ensure noise is longer than speech\n",
    "        sample_noise = torch.narrow(sample_noise,1,0,len_speech)# Shorten noise to same length as speech\n",
    "        x = torch.add(sample,sample_noise*ratio1)# Same Ratio 1:1\n",
    "        x2 = torch.add(sample,sample_noise*ratio2)# Same Ratio 1:1\n",
    "        sample_noise = torch.narrow(sample_noise,1,0,len_speech)\n",
    "        X.append(x)\n",
    "        X2.append(x)\n",
    "        newNoise.append(sample_noise)\n",
    "    return X, X2, newNoise    \n",
    "\n",
    "def prep_xij(trainX,i,j):\n",
    "    real_part = trainX[i][j].real\n",
    "    imag_part = trainX[i][j].imag\n",
    "    return torch.cat((real_part.unsqueeze(2),imag_part.unsqueeze(2)),2)\n",
    "\n",
    "# STFT\n",
    "N_FFT = 1024\n",
    "N_HOP = 256\n",
    "\n",
    "stft = torchaudio.transforms.Spectrogram(\n",
    "    n_fft=N_FFT,\n",
    "    hop_length=N_HOP,\n",
    "    power=None,\n",
    ")\n",
    "istft = torchaudio.transforms.InverseSpectrogram(n_fft=N_FFT, hop_length=N_HOP)\n",
    "\n",
    "\n",
    "speech = load_speech()\n",
    "noise = load_noise()\n",
    "noise = noise[:5]\n",
    "X, X2, noise = add_noise_to_speech(speech, noise, 0.2, 0.5)"
   ]
  },
  {
   "cell_type": "code",
   "execution_count": 3,
   "metadata": {},
   "outputs": [
    {
     "name": "stdout",
     "output_type": "stream",
     "text": [
      "torch.Size([513, 1371])\n",
      "torch.Size([513, 1371])\n",
      "torch.Size([513, 1371])\n"
     ]
    }
   ],
   "source": [
    "stfts_mix = []\n",
    "for n in range(0,len(X)):\n",
    "    x_new = torch.concat([stft(X[n]),stft(X2[n])],dim=0)\n",
    "    stfts_mix.append(x_new)\n",
    "\n",
    "    \n",
    "stfts_clean = []\n",
    "for y in speech:\n",
    "    y_new = stft(y)\n",
    "    y_new = y_new.reshape(513,-1)\n",
    "    stfts_clean.append(y_new)\n",
    "\n",
    "stfts_noise = []\n",
    "i = 0\n",
    "for n in noise:\n",
    "    try:\n",
    "        n_new = stft(n)\n",
    "        stfts_noise.append(n_new.reshape(513,-1))\n",
    "    except Exception: #sometimes noises are very short, e.g. noise[697]\n",
    "        continue\n",
    "\n",
    "\n",
    "print(stfts_clean[0].shape)\n",
    "print(stfts_mix[0][0].shape)\n",
    "print(stfts_noise[0].shape)"
   ]
  },
  {
   "cell_type": "code",
   "execution_count": 4,
   "metadata": {},
   "outputs": [],
   "source": [
    "trainX = stfts_mix\n",
    "\n",
    "def get_irms(stft_clean, stft_noise):\n",
    "    mag_clean = stft_clean.abs() ** 2\n",
    "    mag_noise = stft_noise.abs() ** 2\n",
    "    irm_speech = mag_clean / (mag_clean + mag_noise)\n",
    "    irm_noise = mag_noise / (mag_clean + mag_noise)\n",
    "    return irm_speech[REFERENCE_CHANNEL], irm_noise[REFERENCE_CHANNEL]\n",
    "\n",
    "trainY = []\n",
    "for n in range(0,len(noise)):\n",
    "    irm_speech, irm_noise = get_irms(stfts_clean[n].unsqueeze(0), stfts_noise[n].unsqueeze(0))\n",
    "    irm_speech = (irm_speech>THR_S).float()\n",
    "    irm_noise = (irm_noise>THR_N).float()\n",
    "    trainY.append(torch.cat((irm_speech.unsqueeze(0),irm_noise.unsqueeze(0)),0))"
   ]
  },
  {
   "cell_type": "markdown",
   "metadata": {},
   "source": [
    "# MaskNet + Training"
   ]
  },
  {
   "cell_type": "code",
   "execution_count": 5,
   "metadata": {},
   "outputs": [
    {
     "name": "stdout",
     "output_type": "stream",
     "text": [
      "-----------------------------------------------------------------------------------------------------\n",
      "      Layer (type)                                      Output Shape         Param #     Tr. Param #\n",
      "=====================================================================================================\n",
      "            LSTM-1     [513, 196, 400], [4, 196, 200], [4, 196, 200]       1,289,600       1,289,600\n",
      "          Linear-2                                     [513, 196, 1]             401             401\n",
      "         Sigmoid-3                                     [513, 196, 1]               0               0\n",
      "=====================================================================================================\n",
      "Total params: 1,290,001\n",
      "Trainable params: 1,290,001\n",
      "Non-trainable params: 0\n",
      "-----------------------------------------------------------------------------------------------------\n"
     ]
    }
   ],
   "source": [
    "# MASK NET\n",
    "HIDDEN_SIZE=200 # 256 (128 is too litte, just learns all 0 or 1)\n",
    "SAMPLE_RATE = 16000\n",
    "INPUT_CHANNEL = 2 # Always two -> Real and Imaginary part \n",
    "\n",
    "class MaskNet(Module):\n",
    "    def __init__(self,noise=False):\n",
    "        super(MaskNet, self).__init__()\n",
    "        # First subnet for speech prediction\n",
    "        self.noise = noise\n",
    "        self.lstm = LSTM(input_size=INPUT_CHANNEL, hidden_size=HIDDEN_SIZE, num_layers=2, bidirectional=True)\n",
    "        self.fc = Linear(in_features=HIDDEN_SIZE*2 ,out_features=1)\n",
    "        self.sigmoid = Sigmoid()\n",
    "\n",
    "    def forward(self,x):\n",
    "        # Speech prediction\n",
    "        self.lstm.flatten_parameters()\n",
    "        y, (h_n, c_n) = self.lstm(x)\n",
    "        y = self.fc(y)\n",
    "        speech_pred = self.sigmoid(y)\n",
    "        return speech_pred#, noise_pred\n",
    "\n",
    "print(summary(MaskNet(),torch.zeros((513, 196, 2))))"
   ]
  },
  {
   "cell_type": "code",
   "execution_count": 6,
   "metadata": {},
   "outputs": [
    {
     "name": "stdout",
     "output_type": "stream",
     "text": [
      "Mounted on: cuda\n",
      "[INFO] training the network...\n",
      "Epoch: 1/1\n"
     ]
    },
    {
     "name": "stderr",
     "output_type": "stream",
     "text": [
      "  4%|▍         | 84/2000 [00:26<10:10,  3.14it/s] \n"
     ]
    },
    {
     "ename": "RuntimeError",
     "evalue": "Caught RuntimeError in replica 1 on device 1.\nOriginal Traceback (most recent call last):\n  File \"/home/dfedorovsky/anaconda3/envs/beamformer/lib/python3.9/site-packages/torch/nn/parallel/parallel_apply.py\", line 61, in _worker\n    output = module(*input, **kwargs)\n  File \"/home/dfedorovsky/anaconda3/envs/beamformer/lib/python3.9/site-packages/torch/nn/modules/module.py\", line 1130, in _call_impl\n    return forward_call(*input, **kwargs)\n  File \"/tmp/ipykernel_30864/1180736365.py\", line 18, in forward\n    y, (h_n, c_n) = self.lstm(x)\n  File \"/home/dfedorovsky/anaconda3/envs/beamformer/lib/python3.9/site-packages/torch/nn/modules/module.py\", line 1130, in _call_impl\n    return forward_call(*input, **kwargs)\n  File \"/home/dfedorovsky/anaconda3/envs/beamformer/lib/python3.9/site-packages/torch/nn/modules/rnn.py\", line 769, in forward\n    result = _VF.lstm(input, hx, self._flat_weights, self.bias, self.num_layers,\nRuntimeError: CUDA out of memory. Tried to allocate 3.10 GiB (GPU 1; 23.65 GiB total capacity; 1.70 GiB already allocated; 2.69 GiB free; 4.30 GiB reserved in total by PyTorch) If reserved memory is >> allocated memory try setting max_split_size_mb to avoid fragmentation.  See documentation for Memory Management and PYTORCH_CUDA_ALLOC_CONF\n",
     "output_type": "error",
     "traceback": [
      "\u001b[0;31m---------------------------------------------------------------------------\u001b[0m",
      "\u001b[0;31mRuntimeError\u001b[0m                              Traceback (most recent call last)",
      "\u001b[1;32m/dev/shm/danil/Beamformer/LibreSpeechAllNoise.ipynb Zelle 8\u001b[0m in \u001b[0;36m<cell line: 38>\u001b[0;34m()\u001b[0m\n\u001b[1;32m     <a href='vscode-notebook-cell://ssh-remote%2B192.168.0.59/dev/shm/danil/Beamformer/LibreSpeechAllNoise.ipynb#X10sdnNjb2RlLXJlbW90ZQ%3D%3D?line=51'>52</a>\u001b[0m \u001b[39mfor\u001b[39;00m j \u001b[39min\u001b[39;00m \u001b[39mrange\u001b[39m(\u001b[39m0\u001b[39m,NUM_CHANNEL):\u001b[39m# Iterate over channels\u001b[39;00m\n\u001b[1;32m     <a href='vscode-notebook-cell://ssh-remote%2B192.168.0.59/dev/shm/danil/Beamformer/LibreSpeechAllNoise.ipynb#X10sdnNjb2RlLXJlbW90ZQ%3D%3D?line=52'>53</a>\u001b[0m     (x, y_s, y_n) \u001b[39m=\u001b[39m (prep_xij(trainX,i,j)\u001b[39m.\u001b[39mto(device),trainY[i][\u001b[39m0\u001b[39m]\u001b[39m.\u001b[39mto(device),trainY[i][\u001b[39m1\u001b[39m]\u001b[39m.\u001b[39mto(device))\n\u001b[0;32m---> <a href='vscode-notebook-cell://ssh-remote%2B192.168.0.59/dev/shm/danil/Beamformer/LibreSpeechAllNoise.ipynb#X10sdnNjb2RlLXJlbW90ZQ%3D%3D?line=53'>54</a>\u001b[0m     speech_pred\u001b[39m=\u001b[39mmodel(x)\u001b[39m.\u001b[39mreshape(\u001b[39m513\u001b[39m,\u001b[39m-\u001b[39m\u001b[39m1\u001b[39m)\n\u001b[1;32m     <a href='vscode-notebook-cell://ssh-remote%2B192.168.0.59/dev/shm/danil/Beamformer/LibreSpeechAllNoise.ipynb#X10sdnNjb2RlLXJlbW90ZQ%3D%3D?line=54'>55</a>\u001b[0m     loss \u001b[39m=\u001b[39m lossBCE(speech_pred,y_s)\n\u001b[1;32m     <a href='vscode-notebook-cell://ssh-remote%2B192.168.0.59/dev/shm/danil/Beamformer/LibreSpeechAllNoise.ipynb#X10sdnNjb2RlLXJlbW90ZQ%3D%3D?line=55'>56</a>\u001b[0m     \u001b[39m# zero out the gradients, perform the backpropagation step, and update the weights\u001b[39;00m\n",
      "File \u001b[0;32m~/anaconda3/envs/beamformer/lib/python3.9/site-packages/torch/nn/modules/module.py:1130\u001b[0m, in \u001b[0;36mModule._call_impl\u001b[0;34m(self, *input, **kwargs)\u001b[0m\n\u001b[1;32m   1126\u001b[0m \u001b[39m# If we don't have any hooks, we want to skip the rest of the logic in\u001b[39;00m\n\u001b[1;32m   1127\u001b[0m \u001b[39m# this function, and just call forward.\u001b[39;00m\n\u001b[1;32m   1128\u001b[0m \u001b[39mif\u001b[39;00m \u001b[39mnot\u001b[39;00m (\u001b[39mself\u001b[39m\u001b[39m.\u001b[39m_backward_hooks \u001b[39mor\u001b[39;00m \u001b[39mself\u001b[39m\u001b[39m.\u001b[39m_forward_hooks \u001b[39mor\u001b[39;00m \u001b[39mself\u001b[39m\u001b[39m.\u001b[39m_forward_pre_hooks \u001b[39mor\u001b[39;00m _global_backward_hooks\n\u001b[1;32m   1129\u001b[0m         \u001b[39mor\u001b[39;00m _global_forward_hooks \u001b[39mor\u001b[39;00m _global_forward_pre_hooks):\n\u001b[0;32m-> 1130\u001b[0m     \u001b[39mreturn\u001b[39;00m forward_call(\u001b[39m*\u001b[39;49m\u001b[39minput\u001b[39;49m, \u001b[39m*\u001b[39;49m\u001b[39m*\u001b[39;49mkwargs)\n\u001b[1;32m   1131\u001b[0m \u001b[39m# Do not call functions when jit is used\u001b[39;00m\n\u001b[1;32m   1132\u001b[0m full_backward_hooks, non_full_backward_hooks \u001b[39m=\u001b[39m [], []\n",
      "File \u001b[0;32m~/anaconda3/envs/beamformer/lib/python3.9/site-packages/torch/nn/parallel/data_parallel.py:168\u001b[0m, in \u001b[0;36mDataParallel.forward\u001b[0;34m(self, *inputs, **kwargs)\u001b[0m\n\u001b[1;32m    166\u001b[0m     \u001b[39mreturn\u001b[39;00m \u001b[39mself\u001b[39m\u001b[39m.\u001b[39mmodule(\u001b[39m*\u001b[39minputs[\u001b[39m0\u001b[39m], \u001b[39m*\u001b[39m\u001b[39m*\u001b[39mkwargs[\u001b[39m0\u001b[39m])\n\u001b[1;32m    167\u001b[0m replicas \u001b[39m=\u001b[39m \u001b[39mself\u001b[39m\u001b[39m.\u001b[39mreplicate(\u001b[39mself\u001b[39m\u001b[39m.\u001b[39mmodule, \u001b[39mself\u001b[39m\u001b[39m.\u001b[39mdevice_ids[:\u001b[39mlen\u001b[39m(inputs)])\n\u001b[0;32m--> 168\u001b[0m outputs \u001b[39m=\u001b[39m \u001b[39mself\u001b[39;49m\u001b[39m.\u001b[39;49mparallel_apply(replicas, inputs, kwargs)\n\u001b[1;32m    169\u001b[0m \u001b[39mreturn\u001b[39;00m \u001b[39mself\u001b[39m\u001b[39m.\u001b[39mgather(outputs, \u001b[39mself\u001b[39m\u001b[39m.\u001b[39moutput_device)\n",
      "File \u001b[0;32m~/anaconda3/envs/beamformer/lib/python3.9/site-packages/torch/nn/parallel/data_parallel.py:178\u001b[0m, in \u001b[0;36mDataParallel.parallel_apply\u001b[0;34m(self, replicas, inputs, kwargs)\u001b[0m\n\u001b[1;32m    177\u001b[0m \u001b[39mdef\u001b[39;00m \u001b[39mparallel_apply\u001b[39m(\u001b[39mself\u001b[39m, replicas, inputs, kwargs):\n\u001b[0;32m--> 178\u001b[0m     \u001b[39mreturn\u001b[39;00m parallel_apply(replicas, inputs, kwargs, \u001b[39mself\u001b[39;49m\u001b[39m.\u001b[39;49mdevice_ids[:\u001b[39mlen\u001b[39;49m(replicas)])\n",
      "File \u001b[0;32m~/anaconda3/envs/beamformer/lib/python3.9/site-packages/torch/nn/parallel/parallel_apply.py:86\u001b[0m, in \u001b[0;36mparallel_apply\u001b[0;34m(modules, inputs, kwargs_tup, devices)\u001b[0m\n\u001b[1;32m     84\u001b[0m     output \u001b[39m=\u001b[39m results[i]\n\u001b[1;32m     85\u001b[0m     \u001b[39mif\u001b[39;00m \u001b[39misinstance\u001b[39m(output, ExceptionWrapper):\n\u001b[0;32m---> 86\u001b[0m         output\u001b[39m.\u001b[39;49mreraise()\n\u001b[1;32m     87\u001b[0m     outputs\u001b[39m.\u001b[39mappend(output)\n\u001b[1;32m     88\u001b[0m \u001b[39mreturn\u001b[39;00m outputs\n",
      "File \u001b[0;32m~/anaconda3/envs/beamformer/lib/python3.9/site-packages/torch/_utils.py:461\u001b[0m, in \u001b[0;36mExceptionWrapper.reraise\u001b[0;34m(self)\u001b[0m\n\u001b[1;32m    457\u001b[0m \u001b[39mexcept\u001b[39;00m \u001b[39mTypeError\u001b[39;00m:\n\u001b[1;32m    458\u001b[0m     \u001b[39m# If the exception takes multiple arguments, don't try to\u001b[39;00m\n\u001b[1;32m    459\u001b[0m     \u001b[39m# instantiate since we don't know how to\u001b[39;00m\n\u001b[1;32m    460\u001b[0m     \u001b[39mraise\u001b[39;00m \u001b[39mRuntimeError\u001b[39;00m(msg) \u001b[39mfrom\u001b[39;00m \u001b[39mNone\u001b[39m\n\u001b[0;32m--> 461\u001b[0m \u001b[39mraise\u001b[39;00m exception\n",
      "\u001b[0;31mRuntimeError\u001b[0m: Caught RuntimeError in replica 1 on device 1.\nOriginal Traceback (most recent call last):\n  File \"/home/dfedorovsky/anaconda3/envs/beamformer/lib/python3.9/site-packages/torch/nn/parallel/parallel_apply.py\", line 61, in _worker\n    output = module(*input, **kwargs)\n  File \"/home/dfedorovsky/anaconda3/envs/beamformer/lib/python3.9/site-packages/torch/nn/modules/module.py\", line 1130, in _call_impl\n    return forward_call(*input, **kwargs)\n  File \"/tmp/ipykernel_30864/1180736365.py\", line 18, in forward\n    y, (h_n, c_n) = self.lstm(x)\n  File \"/home/dfedorovsky/anaconda3/envs/beamformer/lib/python3.9/site-packages/torch/nn/modules/module.py\", line 1130, in _call_impl\n    return forward_call(*input, **kwargs)\n  File \"/home/dfedorovsky/anaconda3/envs/beamformer/lib/python3.9/site-packages/torch/nn/modules/rnn.py\", line 769, in forward\n    result = _VF.lstm(input, hx, self._flat_weights, self.bias, self.num_layers,\nRuntimeError: CUDA out of memory. Tried to allocate 3.10 GiB (GPU 1; 23.65 GiB total capacity; 1.70 GiB already allocated; 2.69 GiB free; 4.30 GiB reserved in total by PyTorch) If reserved memory is >> allocated memory try setting max_split_size_mb to avoid fragmentation.  See documentation for Memory Management and PYTORCH_CUDA_ALLOC_CONF\n"
     ]
    }
   ],
   "source": [
    "EPOCHS = 1\n",
    "NUM_CHANNEL = 2\n",
    "BATCH_SIZE = 1\n",
    "REFERENCE_CHANNEL = 0\n",
    "INIT_LR = 0.01\n",
    "\n",
    "CUDA = True # if torch.cuda.is_available()\n",
    "device =  torch.device(\"cuda\") if torch.cuda.is_available() else torch.device('cpu')\n",
    "print(\"Mounted on:\", device)\n",
    "\n",
    "lossBCE = BCELoss()\n",
    "model = MaskNet().to(device)\n",
    "model= torch.nn.DataParallel(model)\n",
    "opt = Adam(model.parameters(), lr=INIT_LR)\n",
    "\n",
    "H = {\n",
    "    \"train_loss\":[],\n",
    "    \"train_acc\":[],\n",
    "    \"val_loss\":[],\n",
    "    \"val_acc\":[]\n",
    "}\n",
    "\n",
    "def check_accuracy_training(speech_pred, y_s):\n",
    "    speech_pred = (speech_pred>0.15).float()\n",
    "    return float(torch.sum((speech_pred == y_s).float())/torch.sum(torch.ones(513,speech_pred.shape[1])))\n",
    "\n",
    "def check_accuracy_validation(model):\n",
    "    example_nr = int(np.random.random()*(len(speech)-len(trainX))+len(trainX))\n",
    "    model.eval()\n",
    "    pred = model(prep_xij(stfts_mix,example_nr,0).to(device)).reshape(513,-1)\n",
    "    val_loss = lossBCE(pred,trainY[example_nr][0].to(device))\n",
    "    pred = (pred>0.15).float()\n",
    "    model.train()\n",
    "    return float(torch.sum((pred == trainY[example_nr][0].to(device)).float())/torch.sum(torch.ones(513,stfts_mix[example_nr].shape[2])).to(device)),val_loss\n",
    "\n",
    "print(\"[INFO] training the network...\")\n",
    "\n",
    "for epoch in range(0, EPOCHS):\n",
    "    print(\"Epoch:\",str(epoch+1)+\"/\"+str(EPOCHS))\n",
    "    # Train Mode\n",
    "    model.train()\n",
    "    \n",
    "    # Initialize\n",
    "    totalTrainLoss = 0\n",
    "    totalValLoss = 0\n",
    "    trainCorrect = 0\n",
    "    valCorrect = 0\n",
    "\n",
    "    trainX = stfts_mix[:2000]#stfts_mix[:50]\n",
    "    trainY = trainY\n",
    "    for i in tqdm(range(0,len(trainX))): # Iterate over Training Examples\n",
    "        for j in range(0,NUM_CHANNEL):# Iterate over channels\n",
    "            (x, y_s, y_n) = (prep_xij(trainX,i,j).to(device),trainY[i][0].to(device),trainY[i][1].to(device))\n",
    "            speech_pred=model(x).reshape(513,-1)\n",
    "            loss = lossBCE(speech_pred,y_s)\n",
    "            # zero out the gradients, perform the backpropagation step, and update the weights\n",
    "            opt.zero_grad()\n",
    "            loss.backward()\n",
    "            opt.step()\n",
    "            \n",
    "            H[\"train_acc\"].append(check_accuracy_training(speech_pred,y_s))\n",
    "            H[\"train_loss\"].append(float(loss))\n",
    "        if i % 10 == 0:\n",
    "            val_acc, val_loss = check_accuracy_validation(model)\n",
    "            H[\"val_acc\"].append(val_acc)\n",
    "            H[\"val_loss\"].append(float(val_loss))\n",
    "        if i % 100 == 0:\n",
    "            if i == 0:\n",
    "                continue\n",
    "            # if CUDA:\n",
    "            #     torch.cuda.empty_cache()\n",
    "            print(\"Average Training Accuracy at Iteration\",str(i),\":\",np.mean(np.array(H[\"train_acc\"])))\n",
    "            print(\"Total Training Loss at Iteration\",str(i),\":\",np.sum(np.array(H[\"train_loss\"])))\n",
    "            print(\"Average Validation Accuracy at Iteration\",str(i),\":\",np.mean(np.array(H[\"val_acc\"])))\n",
    "            print(\"Total Validation Loss at Iteration\",str(i),\":\",np.sum(np.array(H[\"val_loss\"])))\n",
    "            # Save\n",
    "            PATH = \"./models/modelLibre\"\n",
    "            torch.save(model.state_dict(), PATH + str(i) + \".pt\")\n",
    "            #torch.cuda.empty_cache()\n",
    "            #model = MaskNet()\n",
    "            #model.load_state_dict(torch.load(PATH + str(i) + \".pt\"))\n",
    "            # Reset H\n",
    "            H = {\n",
    "                \"train_loss\":[],\n",
    "                \"train_acc\":[],\n",
    "                \"val_loss\":[],\n",
    "                \"val_acc\":[]\n",
    "            }\n",
    "PATH = \"./models/modelLibre\"\n",
    "torch.save(model.state_dict(), PATH + \"final\" + \".pt\")"
   ]
  },
  {
   "cell_type": "code",
   "execution_count": 29,
   "metadata": {},
   "outputs": [
    {
     "name": "stdout",
     "output_type": "stream",
     "text": [
      "torch.Size([513, 775])\n"
     ]
    }
   ],
   "source": [
    "print(stfts_mix[4][0].shape)"
   ]
  },
  {
   "cell_type": "code",
   "execution_count": 34,
   "metadata": {},
   "outputs": [
    {
     "name": "stdout",
     "output_type": "stream",
     "text": [
      "max_split_size_mb:1024\n"
     ]
    }
   ],
   "source": [
    "import os\n",
    "os.environ['PYTORCH_CUDA_ALLOC_CONF'] = \"max_split_size_mb:1024\"\n",
    "print(os.environ['PYTORCH_CUDA_ALLOC_CONF'])\n",
    "\n",
    "del os.environ['PYTORCH_CUDA_ALLOC_CONF']"
   ]
  },
  {
   "cell_type": "code",
   "execution_count": 36,
   "metadata": {},
   "outputs": [
    {
     "data": {
      "text/plain": [
       "4"
      ]
     },
     "execution_count": 36,
     "metadata": {},
     "output_type": "execute_result"
    }
   ],
   "source": [
    "torch.cuda.device_count()"
   ]
  },
  {
   "cell_type": "code",
   "execution_count": 1,
   "metadata": {},
   "outputs": [
    {
     "ename": "NameError",
     "evalue": "name 'torch' is not defined",
     "output_type": "error",
     "traceback": [
      "\u001b[0;31m---------------------------------------------------------------------------\u001b[0m",
      "\u001b[0;31mNameError\u001b[0m                                 Traceback (most recent call last)",
      "\u001b[1;32m/dev/shm/danil/Beamformer/LibreSpeechAllNoise.ipynb Zelle 11\u001b[0m in \u001b[0;36m<cell line: 1>\u001b[0;34m()\u001b[0m\n\u001b[0;32m----> <a href='vscode-notebook-cell://ssh-remote%2B192.168.0.59/dev/shm/danil/Beamformer/LibreSpeechAllNoise.ipynb#X13sdnNjb2RlLXJlbW90ZQ%3D%3D?line=0'>1</a>\u001b[0m device \u001b[39m=\u001b[39m torch\u001b[39m.\u001b[39mdevice(\u001b[39m'\u001b[39m\u001b[39mcuda:2\u001b[39m\u001b[39m'\u001b[39m)\n\u001b[1;32m      <a href='vscode-notebook-cell://ssh-remote%2B192.168.0.59/dev/shm/danil/Beamformer/LibreSpeechAllNoise.ipynb#X13sdnNjb2RlLXJlbW90ZQ%3D%3D?line=1'>2</a>\u001b[0m \u001b[39mprint\u001b[39m(device)\n",
      "\u001b[0;31mNameError\u001b[0m: name 'torch' is not defined"
     ]
    }
   ],
   "source": [
    "device = torch.device('cuda:2')\n",
    "print(device)"
   ]
  },
  {
   "cell_type": "code",
   "execution_count": 9,
   "metadata": {},
   "outputs": [
    {
     "name": "stdout",
     "output_type": "stream",
     "text": [
      "0\n",
      "0\n",
      "0\n",
      "0\n"
     ]
    }
   ],
   "source": [
    "print(torch.cuda.memory_allocated())\n",
    "print(torch.cuda.memory_reserved())\n",
    "torch.cuda.empty_cache()\n",
    "print(torch.cuda.memory_allocated())\n",
    "print(torch.cuda.memory_reserved())"
   ]
  },
  {
   "cell_type": "code",
   "execution_count": 38,
   "metadata": {},
   "outputs": [],
   "source": [
    "torch.cuda.empty_cache()"
   ]
  },
  {
   "cell_type": "code",
   "execution_count": 17,
   "metadata": {},
   "outputs": [
    {
     "name": "stdout",
     "output_type": "stream",
     "text": [
      "0\n"
     ]
    },
    {
     "data": {
      "text/plain": [
       "'|===========================================================================|\\n|                  PyTorch CUDA memory summary, device ID 0                 |\\n|---------------------------------------------------------------------------|\\n|            CUDA OOMs: 1            |        cudaMalloc retries: 1         |\\n|===========================================================================|\\n|        Metric         | Cur Usage  | Peak Usage | Tot Alloc  | Tot Freed  |\\n|---------------------------------------------------------------------------|\\n| Allocated memory      |   30200 KB |    6960 MB |    7016 MB |    6987 MB |\\n|       from large pool |   30198 KB |    6960 MB |    7000 MB |    6970 MB |\\n|       from small pool |       2 KB |       4 MB |      16 MB |      16 MB |\\n|---------------------------------------------------------------------------|\\n| Active memory         |   30200 KB |    6960 MB |    7016 MB |    6987 MB |\\n|       from large pool |   30198 KB |    6960 MB |    7000 MB |    6970 MB |\\n|       from small pool |       2 KB |       4 MB |      16 MB |      16 MB |\\n|---------------------------------------------------------------------------|\\n| GPU reserved memory   |    6982 MB |    6986 MB |    6986 MB |    4096 KB |\\n|       from large pool |    6980 MB |    6980 MB |    6980 MB |       0 KB |\\n|       from small pool |       2 MB |       6 MB |       6 MB |    4096 KB |\\n|---------------------------------------------------------------------------|\\n| Non-releasable memory |   12807 KB |   27541 KB |  127677 KB |  114870 KB |\\n|       from large pool |   10762 KB |   24480 KB |  107012 KB |   96250 KB |\\n|       from small pool |    2045 KB |    4080 KB |   20665 KB |   18620 KB |\\n|---------------------------------------------------------------------------|\\n| Allocations           |       8    |      20    |      85    |      77    |\\n|       from large pool |       6    |      10    |      21    |      15    |\\n|       from small pool |       2    |      16    |      64    |      62    |\\n|---------------------------------------------------------------------------|\\n| Active allocs         |       8    |      20    |      85    |      77    |\\n|       from large pool |       6    |      10    |      21    |      15    |\\n|       from small pool |       2    |      16    |      64    |      62    |\\n|---------------------------------------------------------------------------|\\n| GPU reserved segments |       6    |       8    |       8    |       2    |\\n|       from large pool |       5    |       5    |       5    |       0    |\\n|       from small pool |       1    |       3    |       3    |       2    |\\n|---------------------------------------------------------------------------|\\n| Non-releasable allocs |       4    |       8    |      30    |      26    |\\n|       from large pool |       2    |       3    |      10    |       8    |\\n|       from small pool |       2    |       5    |      20    |      18    |\\n|---------------------------------------------------------------------------|\\n| Oversize allocations  |       0    |       0    |       0    |       0    |\\n|---------------------------------------------------------------------------|\\n| Oversize GPU segments |       0    |       0    |       0    |       0    |\\n|===========================================================================|\\n'"
      ]
     },
     "execution_count": 17,
     "metadata": {},
     "output_type": "execute_result"
    }
   ],
   "source": [
    "print(torch.cuda.current_device())\n",
    "torch.cuda.memory_summary(device=None, abbreviated=False)"
   ]
  },
  {
   "cell_type": "markdown",
   "metadata": {},
   "source": [
    "## Load Model & Evaluate"
   ]
  },
  {
   "cell_type": "code",
   "execution_count": null,
   "metadata": {},
   "outputs": [],
   "source": [
    "PATH = \"./ModelLibreOneNoise.pt\"\n",
    "model = MaskNet()\n",
    "model.load_state_dict(torch.load(PATH))\n",
    "model.eval()"
   ]
  },
  {
   "cell_type": "code",
   "execution_count": 29,
   "metadata": {},
   "outputs": [
    {
     "data": {
      "image/png": "[encoded data removed]",
      "text/plain": [
       "<Figure size 432x288 with 2 Axes>"
      ]
     },
     "metadata": {
      "needs_background": "light"
     },
     "output_type": "display_data"
    },
    {
     "data": {
      "image/png": "[encoded data removed]",
      "text/plain": [
       "<Figure size 432x288 with 2 Axes>"
      ]
     },
     "metadata": {
      "needs_background": "light"
     },
     "output_type": "display_data"
    },
    {
     "data": {
      "image/png": "[encoded data removed]",
      "text/plain": [
       "<Figure size 432x288 with 2 Axes>"
      ]
     },
     "metadata": {
      "needs_background": "light"
     },
     "output_type": "display_data"
    },
    {
     "data": {
      "image/png": "[encoded data removed]",
      "text/plain": [
       "<Figure size 432x288 with 2 Axes>"
      ]
     },
     "metadata": {
      "needs_background": "light"
     },
     "output_type": "display_data"
    }
   ],
   "source": [
    "def evaluate_example(e_nr):\n",
    "    model.eval()\n",
    "    speech_pred = (model(prep_xij(trainX,e_nr,0).to(device))>0.2).float()\n",
    "    noise_pred = torch.ones([513,stfts_mix[e_nr].shape[2]]).to(device)-speech_pred\n",
    "    plot_mask(speech_pred, title=\"Prediction Speech\")\n",
    "    plot_mask(noise_pred, title=\"Prediction Noise\")\n",
    "    plot_mask(trainY[e_nr][0], title=\"Reference Speech\")\n",
    "    plot_mask(trainY[e_nr][1], title=\"Reference Noise\")\n",
    "\n",
    "def plot_mask(mask, title=\"Mask\", xlim=None):\n",
    "    mask = mask.cpu().detach().numpy()\n",
    "    figure, axis = plt.subplots(1, 1)\n",
    "    img = axis.imshow(mask, cmap=\"viridis\", origin=\"lower\", aspect=\"auto\")\n",
    "    figure.suptitle(title)\n",
    "    plt.colorbar(img, ax=axis)\n",
    "    plt.show()\n",
    "\n",
    "def maskToWave(speech_pred,noise_pred,mix,i):\n",
    "        model.eval()\n",
    "        psd_transform = torchaudio.transforms.PSD()\n",
    "        psd_speech = psd_transform(mix[i], speech_pred)\n",
    "        psd_noise = psd_transform(mix[i], noise_pred)\n",
    "        mvdr_transform = torchaudio.transforms.SoudenMVDR()\n",
    "        stft_souden = mvdr_transform(mix[i], psd_speech, psd_noise, reference_channel=REFERENCE_CHANNEL)\n",
    "        waveform_souden = istft(stft_souden, length=len(X[i][0]))#X[i].shape[-1])\n",
    "        return waveform_souden.reshape(-1)\n",
    "\n",
    "evaluate_example(20)"
   ]
  },
  {
   "cell_type": "code",
   "execution_count": 14,
   "metadata": {},
   "outputs": [
    {
     "name": "stdout",
     "output_type": "stream",
     "text": [
      "Si-SNR score: -0.38113975524902344\n"
     ]
    }
   ],
   "source": [
    "speech_pred = trainY[0][0]\n",
    "noise_pred = trainY[0][1]\n",
    "\n",
    "def evaluateSiSNR(wave, i):\n",
    "    def si_snr(estimate, reference, epsilon=1e-8):\n",
    "        estimate = estimate - estimate.mean()\n",
    "        reference = reference - reference.mean()\n",
    "        reference_pow = reference.pow(2).mean(axis=1, keepdim=True)\n",
    "        mix_pow = (estimate * reference).mean(axis=1, keepdim=True)\n",
    "        scale = mix_pow / (reference_pow + epsilon)\n",
    "\n",
    "        reference = scale * reference\n",
    "        error = estimate - reference\n",
    "\n",
    "        reference_pow = reference.pow(2)\n",
    "        error_pow = error.pow(2)\n",
    "\n",
    "        reference_pow = reference_pow.mean(axis=1)\n",
    "        error_pow = error_pow.mean(axis=1)\n",
    "\n",
    "        si_snr = 10 * torch.log10(reference_pow) - 10 * torch.log10(error_pow)\n",
    "        return si_snr.item()\n",
    "    score = si_snr(wave, speech[i])\n",
    "    print(f\"Si-SNR score: {score}\") \n",
    "    return score\n",
    "\n",
    "def maskToWave(speech_pred,noise_pred,mix,i):\n",
    "        model.eval()\n",
    "        psd_transform = torchaudio.transforms.PSD()\n",
    "        psd_speech = psd_transform(mix[i], speech_pred)\n",
    "        psd_noise = psd_transform(mix[i], noise_pred)\n",
    "        mvdr_transform = torchaudio.transforms.SoudenMVDR()\n",
    "        stft_souden = mvdr_transform(mix[i], psd_speech, psd_noise, reference_channel=REFERENCE_CHANNEL)\n",
    "        waveform_souden = istft(stft_souden, length=len(X[i][0]))#X[i].shape[-1])\n",
    "        return waveform_souden.reshape(-1)\n",
    "\n",
    "def save_sample(i,wave,sample_rate=SAMPLE_RATE):\n",
    "    model.eval()\n",
    "    wave = wave\n",
    "    torchaudio.save(\"sampleall_output.wav\",wave.reshape(1,-1),sample_rate)\n",
    "    torchaudio.save(\"sampleall_reference.wav\", speech[i].reshape(1,-1),sample_rate)\n",
    "    torchaudio.save(\"sampleall_input.wav\", X[i].reshape(1,-1),sample_rate)\n",
    "\n",
    "\n",
    "sample_nr = 51\n",
    "speech_pred = (model(prep_xij(stfts_mix,sample_nr,0))>0.15).float()\n",
    "noise_pred = torch.ones([513,speech_pred.shape[1]])-speech_pred\n",
    "wave = maskToWave(speech_pred,noise_pred,stfts_mix,sample_nr)\n",
    "save_sample(sample_nr, wave=wave)\n",
    "score = evaluateSiSNR(wave,sample_nr)#Should be ~16"
   ]
  }
 ],
 "metadata": {
  "kernelspec": {
   "display_name": "Python 3.9.12 ('beamformer')",
   "language": "python",
   "name": "python3"
  },
  "language_info": {
   "codemirror_mode": {
    "name": "ipython",
    "version": 3
   },
   "file_extension": ".py",
   "mimetype": "text/x-python",
   "name": "python",
   "nbconvert_exporter": "python",
   "pygments_lexer": "ipython3",
   "version": "3.9.12"
  },
  "orig_nbformat": 4,
  "vscode": {
   "interpreter": {
    "hash": "7edcfa7c72349f2a40b8bb9d00f805dd689758e4b70f704e502841c884b714f7"
   }
  }
 },
 "nbformat": 4,
 "nbformat_minor": 2
}
