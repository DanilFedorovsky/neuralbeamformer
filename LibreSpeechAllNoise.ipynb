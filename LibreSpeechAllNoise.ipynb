{
 "cells": [
  {
   "cell_type": "code",
   "execution_count": 1,
   "metadata": {},
   "outputs": [],
   "source": [
    "import os\n",
    "import torchaudio\n",
    "import torch\n",
    "import matplotlib.pyplot as plt\n",
    "from torch.nn import Module, Linear, Sigmoid, LSTM, BCELoss\n",
    "from torch.optim import Adam\n",
    "import torch.nn.functional as F\n",
    "from pytorch_model_summary import summary\n",
    "from tqdm import tqdm\n",
    "import numpy as np\n",
    "import random"
   ]
  },
  {
   "cell_type": "markdown",
   "metadata": {},
   "source": [
    "## Load Data"
   ]
  },
  {
   "cell_type": "code",
   "execution_count": 2,
   "metadata": {},
   "outputs": [],
   "source": [
    "REFERENCE_CHANNEL = 0\n",
    "SAME_LENGTH = False\n",
    "THR_S = 0.5 # Threshold for speech IRM\n",
    "THR_N = 0.5\n",
    "N_PATH = \"/project/data_asr/CHiME5/data/librenoise/free-sound/\"#\"/Users/danilfedorovsky/Documents/10 Collection/00 Studium/00 Letztes Semester/Masterarbeit/Data/noise/free-sound/\"\n",
    "S_PATH = \"/project/data_asr/CHiME5/data/librenoise/dev/dev-clean/\"#\"/Users/danilfedorovsky/Documents/10 Collection/00 Studium/00 Letztes Semester/Masterarbeit/Data/LibriSpeech/dev-clean/\"\n",
    "def load_noise(N_PATH=N_PATH):\n",
    "    noise = []\n",
    "    for file in  os.listdir(N_PATH):\n",
    "        if file[-4:] == \".wav\":\n",
    "            sound, _ = torchaudio.load(N_PATH+file)\n",
    "            noise.append(sound)\n",
    "    return noise\n",
    "\n",
    "\n",
    "def load_speech(S_PATH=S_PATH):\n",
    "    speech = []\n",
    "    for folder in  os.listdir(S_PATH):\n",
    "        if os.path.isdir(S_PATH+folder):\n",
    "            for subfolder in os.listdir(S_PATH+folder):\n",
    "                if os.path.isdir(S_PATH+folder+\"/\"+subfolder):\n",
    "                    for file in os.listdir(S_PATH+folder+\"/\"+subfolder):\n",
    "                        if file[-5:] == \".flac\":\n",
    "                            sound, _ = torchaudio.load(S_PATH+folder+\"/\"+subfolder+\"/\"+file)\n",
    "                            if SAME_LENGTH:\n",
    "                                try:\n",
    "                                    sound = torch.narrow(sound,1,0,50000)# Narrow to 50000\n",
    "                                except Exception:\n",
    "                                    # add zeros to make sound 50000 long\n",
    "                                    len_sound = sound.shape[1]\n",
    "                                    add_zeros = 50000 - len_sound\n",
    "                                    add_zeros = torch.zeros(add_zeros).reshape(1,-1)\n",
    "                                    sound = torch.concat([sound,add_zeros],dim=1)\n",
    "                            speech.append(sound)\n",
    "    return speech\n",
    "\n",
    "def add_noise_to_speech(speech, noise, ratio1: float, ratio2: float):\n",
    "    X = []\n",
    "    X2 = []\n",
    "    newNoise = []\n",
    "    for sample in speech:\n",
    "        len_speech = sample.shape[1]\n",
    "        sample_noise = random.choice(noise)\n",
    "        while sample_noise.shape[1]<len_speech:\n",
    "            sample_noise = torch.concat([sample_noise,sample_noise],dim=1)# Repeat to ensure noise is longer than speech\n",
    "        sample_noise = torch.narrow(sample_noise,1,0,len_speech)# Shorten noise to same length as speech\n",
    "        x = torch.add(sample,sample_noise*ratio1)# Same Ratio 1:1\n",
    "        x2 = torch.add(sample,sample_noise*ratio2)# Same Ratio 1:1\n",
    "        sample_noise = torch.narrow(sample_noise,1,0,len_speech)\n",
    "        X.append(x)\n",
    "        X2.append(x)\n",
    "        newNoise.append(sample_noise)\n",
    "    return X, X2, newNoise    \n",
    "\n",
    "def prep_xij(trainX,i,j):\n",
    "    real_part = trainX[i][j].real\n",
    "    imag_part = trainX[i][j].imag\n",
    "    return torch.cat((real_part.unsqueeze(2),imag_part.unsqueeze(2)),2)\n",
    "\n",
    "# STFT\n",
    "N_FFT = 1024\n",
    "N_HOP = 256\n",
    "\n",
    "stft = torchaudio.transforms.Spectrogram(\n",
    "    n_fft=N_FFT,\n",
    "    hop_length=N_HOP,\n",
    "    power=None,\n",
    ")\n",
    "istft = torchaudio.transforms.InverseSpectrogram(n_fft=N_FFT, hop_length=N_HOP)\n",
    "\n",
    "\n",
    "speech = load_speech()\n",
    "noise = load_noise()\n",
    "noise = noise[:20]\n",
    "X, X2, noise = add_noise_to_speech(speech, noise, 0.2, 0.5)"
   ]
  },
  {
   "cell_type": "code",
   "execution_count": 3,
   "metadata": {},
   "outputs": [
    {
     "name": "stdout",
     "output_type": "stream",
     "text": [
      "torch.Size([513, 1371])\n",
      "torch.Size([513, 1371])\n",
      "torch.Size([513, 1371])\n"
     ]
    }
   ],
   "source": [
    "stfts_mix = []\n",
    "for n in range(0,len(X)):\n",
    "    x_new = torch.concat([stft(X[n]),stft(X2[n])],dim=0)\n",
    "    stfts_mix.append(x_new)\n",
    "\n",
    "    \n",
    "stfts_clean = []\n",
    "for y in speech:\n",
    "    y_new = stft(y)\n",
    "    y_new = y_new.reshape(513,-1)\n",
    "    stfts_clean.append(y_new)\n",
    "\n",
    "stfts_noise = []\n",
    "i = 0\n",
    "for n in noise:\n",
    "    try:\n",
    "        n_new = stft(n)\n",
    "        stfts_noise.append(n_new.reshape(513,-1))\n",
    "    except Exception: #sometimes noises are very short, e.g. noise[697]\n",
    "        continue\n",
    "\n",
    "\n",
    "print(stfts_clean[0].shape)\n",
    "print(stfts_mix[0][0].shape)\n",
    "print(stfts_noise[0].shape)"
   ]
  },
  {
   "cell_type": "code",
   "execution_count": 4,
   "metadata": {},
   "outputs": [],
   "source": [
    "trainX = stfts_mix\n",
    "\n",
    "def get_irms(stft_clean, stft_noise):\n",
    "    mag_clean = stft_clean.abs() ** 2\n",
    "    mag_noise = stft_noise.abs() ** 2\n",
    "    irm_speech = mag_clean / (mag_clean + mag_noise)\n",
    "    irm_noise = mag_noise / (mag_clean + mag_noise)\n",
    "    return irm_speech[REFERENCE_CHANNEL], irm_noise[REFERENCE_CHANNEL]\n",
    "\n",
    "trainY = []\n",
    "for n in range(0,len(noise)):\n",
    "    irm_speech, irm_noise = get_irms(stfts_clean[n].unsqueeze(0), stfts_noise[n].unsqueeze(0))\n",
    "    irm_speech = (irm_speech>THR_S).float()\n",
    "    irm_noise = (irm_noise>THR_N).float()\n",
    "    trainY.append(torch.cat((irm_speech.unsqueeze(0),irm_noise.unsqueeze(0)),0))"
   ]
  },
  {
   "cell_type": "markdown",
   "metadata": {},
   "source": [
    "# MaskNet + Training"
   ]
  },
  {
   "cell_type": "code",
   "execution_count": 45,
   "metadata": {},
   "outputs": [
    {
     "name": "stdout",
     "output_type": "stream",
     "text": [
      "-----------------------------------------------------------------------------------------------------\n",
      "      Layer (type)                                      Output Shape         Param #     Tr. Param #\n",
      "=====================================================================================================\n",
      "            LSTM-1     [513, 196, 512], [4, 196, 256], [4, 196, 256]       2,109,440       2,109,440\n",
      "          Linear-2                                     [513, 196, 1]             513             513\n",
      "         Sigmoid-3                                     [513, 196, 1]               0               0\n",
      "=====================================================================================================\n",
      "Total params: 2,109,953\n",
      "Trainable params: 2,109,953\n",
      "Non-trainable params: 0\n",
      "-----------------------------------------------------------------------------------------------------\n"
     ]
    }
   ],
   "source": [
    "# MASK NET\n",
    "HIDDEN_SIZE=256 # 256\n",
    "SAMPLE_RATE = 16000\n",
    "INPUT_CHANNEL = 2 # Always two -> Real and Imaginary part \n",
    "\n",
    "class MaskNet(Module):\n",
    "    def __init__(self,noise=False):\n",
    "        super(MaskNet, self).__init__()\n",
    "        # First subnet for speech prediction\n",
    "        self.noise = noise\n",
    "        self.lstm = LSTM(input_size=INPUT_CHANNEL, hidden_size=HIDDEN_SIZE, num_layers=2, bidirectional=True)\n",
    "        self.fc = Linear(in_features=HIDDEN_SIZE*2 ,out_features=1)\n",
    "        self.sigmoid = Sigmoid()\n",
    "\n",
    "    def forward(self,x):\n",
    "        # Speech prediction\n",
    "        y, (h_n, c_n) = self.lstm(x)\n",
    "        y = self.fc(y)\n",
    "        speech_pred = self.sigmoid(y)\n",
    "        return speech_pred.reshape(513,-1)#, noise_pred\n",
    "\n",
    "print(summary(MaskNet(),torch.zeros((513, 196, 2))))"
   ]
  },
  {
   "cell_type": "code",
   "execution_count": 38,
   "metadata": {},
   "outputs": [
    {
     "name": "stdout",
     "output_type": "stream",
     "text": [
      "Mounted on: cuda:2\n",
      "[INFO] training the network...\n",
      "Epoch: 1/1\n"
     ]
    },
    {
     "name": "stderr",
     "output_type": "stream",
     "text": [
      "  5%|▌         | 52/1000 [00:13<03:47,  4.16it/s]"
     ]
    },
    {
     "name": "stdout",
     "output_type": "stream",
     "text": [
      "Average Training Accuracy at Iteration 50 : 0.41877604252202255\n",
      "Total Training Loss at Iteration 50 : 70.31286811828613\n",
      "Average Validation Accuracy at Iteration 50 : 0.6601312160491943\n",
      "Total Validation Loss at Iteration 50 : 4.262546062469482\n"
     ]
    },
    {
     "name": "stderr",
     "output_type": "stream",
     "text": [
      " 10%|█         | 102/1000 [00:28<04:46,  3.14it/s]"
     ]
    },
    {
     "name": "stdout",
     "output_type": "stream",
     "text": [
      "Average Training Accuracy at Iteration 100 : 0.47660007745027544\n",
      "Total Training Loss at Iteration 100 : 76.21910497546196\n",
      "Average Validation Accuracy at Iteration 100 : 0.36619754433631896\n",
      "Total Validation Loss at Iteration 100 : 3.6941573917865753\n"
     ]
    },
    {
     "name": "stderr",
     "output_type": "stream",
     "text": [
      " 15%|█▌        | 152/1000 [00:42<02:57,  4.77it/s]"
     ]
    },
    {
     "name": "stdout",
     "output_type": "stream",
     "text": [
      "Average Training Accuracy at Iteration 150 : 0.4396034196950495\n",
      "Total Training Loss at Iteration 150 : 70.39157828688622\n",
      "Average Validation Accuracy at Iteration 150 : 0.6137997791171074\n",
      "Total Validation Loss at Iteration 150 : 3.691232442855835\n"
     ]
    },
    {
     "name": "stderr",
     "output_type": "stream",
     "text": [
      " 20%|██        | 202/1000 [00:57<03:18,  4.03it/s]"
     ]
    },
    {
     "name": "stdout",
     "output_type": "stream",
     "text": [
      "Average Training Accuracy at Iteration 200 : 0.4329295129328966\n",
      "Total Training Loss at Iteration 200 : 70.11248907446861\n",
      "Average Validation Accuracy at Iteration 200 : 0.5634235352277756\n",
      "Total Validation Loss at Iteration 200 : 3.3833883702754974\n"
     ]
    },
    {
     "name": "stderr",
     "output_type": "stream",
     "text": [
      " 25%|██▌       | 251/1000 [01:11<03:00,  4.14it/s]"
     ]
    },
    {
     "name": "stdout",
     "output_type": "stream",
     "text": [
      "Average Training Accuracy at Iteration 250 : 0.49486270036548374\n",
      "Total Training Loss at Iteration 250 : 73.44674074649811\n",
      "Average Validation Accuracy at Iteration 250 : 0.3726128563284874\n",
      "Total Validation Loss at Iteration 250 : 3.575808584690094\n"
     ]
    },
    {
     "name": "stderr",
     "output_type": "stream",
     "text": [
      " 30%|███       | 301/1000 [01:24<03:38,  3.19it/s]"
     ]
    },
    {
     "name": "stdout",
     "output_type": "stream",
     "text": [
      "Average Training Accuracy at Iteration 300 : 0.4934377081692219\n",
      "Total Training Loss at Iteration 300 : 73.72587895393372\n",
      "Average Validation Accuracy at Iteration 300 : 0.3858943209052086\n",
      "Total Validation Loss at Iteration 300 : 3.532351404428482\n"
     ]
    },
    {
     "name": "stderr",
     "output_type": "stream",
     "text": [
      " 35%|███▌      | 352/1000 [01:39<02:41,  4.01it/s]"
     ]
    },
    {
     "name": "stdout",
     "output_type": "stream",
     "text": [
      "Average Training Accuracy at Iteration 350 : 0.488354072868824\n",
      "Total Training Loss at Iteration 350 : 72.5900838971138\n",
      "Average Validation Accuracy at Iteration 350 : 0.4653764098882675\n",
      "Total Validation Loss at Iteration 350 : 3.7405008673667908\n"
     ]
    },
    {
     "name": "stderr",
     "output_type": "stream",
     "text": [
      " 40%|████      | 402/1000 [01:50<02:05,  4.75it/s]"
     ]
    },
    {
     "name": "stdout",
     "output_type": "stream",
     "text": [
      "Average Training Accuracy at Iteration 400 : 0.5270171346515418\n",
      "Total Training Loss at Iteration 400 : 76.86130949854851\n",
      "Average Validation Accuracy at Iteration 400 : 0.6231651723384857\n",
      "Total Validation Loss at Iteration 400 : 4.971527934074402\n"
     ]
    },
    {
     "name": "stderr",
     "output_type": "stream",
     "text": [
      " 45%|████▌     | 451/1000 [02:03<02:41,  3.39it/s]"
     ]
    },
    {
     "name": "stdout",
     "output_type": "stream",
     "text": [
      "Average Training Accuracy at Iteration 450 : 0.44735669758170843\n",
      "Total Training Loss at Iteration 450 : 70.74697035551071\n",
      "Average Validation Accuracy at Iteration 450 : 0.639449417591095\n",
      "Total Validation Loss at Iteration 450 : 4.718428790569305\n"
     ]
    },
    {
     "name": "stderr",
     "output_type": "stream",
     "text": [
      " 50%|█████     | 502/1000 [02:15<01:39,  4.99it/s]"
     ]
    },
    {
     "name": "stdout",
     "output_type": "stream",
     "text": [
      "Average Training Accuracy at Iteration 500 : 0.4680721125937998\n",
      "Total Training Loss at Iteration 500 : 77.2165048122406\n",
      "Average Validation Accuracy at Iteration 500 : 0.4569924041628838\n",
      "Total Validation Loss at Iteration 500 : 4.733505725860596\n"
     ]
    },
    {
     "name": "stderr",
     "output_type": "stream",
     "text": [
      " 55%|█████▌    | 552/1000 [02:28<01:51,  4.01it/s]"
     ]
    },
    {
     "name": "stdout",
     "output_type": "stream",
     "text": [
      "Average Training Accuracy at Iteration 550 : 0.4119665690138936\n",
      "Total Training Loss at Iteration 550 : 71.95240640640259\n",
      "Average Validation Accuracy at Iteration 550 : 0.44135124124586583\n",
      "Total Validation Loss at Iteration 550 : 4.044998288154602\n"
     ]
    },
    {
     "name": "stderr",
     "output_type": "stream",
     "text": [
      " 60%|██████    | 601/1000 [02:43<03:18,  2.01it/s]"
     ]
    },
    {
     "name": "stdout",
     "output_type": "stream",
     "text": [
      "Average Training Accuracy at Iteration 600 : 0.43765204813331365\n",
      "Total Training Loss at Iteration 600 : 67.65626123547554\n",
      "Average Validation Accuracy at Iteration 600 : 0.5159118801355362\n",
      "Total Validation Loss at Iteration 600 : 4.3883819580078125\n"
     ]
    },
    {
     "name": "stderr",
     "output_type": "stream",
     "text": [
      " 65%|██████▌   | 651/1000 [03:02<02:16,  2.56it/s]"
     ]
    },
    {
     "name": "stdout",
     "output_type": "stream",
     "text": [
      "Average Training Accuracy at Iteration 650 : 0.4564770134165883\n",
      "Total Training Loss at Iteration 650 : 80.66560795903206\n",
      "Average Validation Accuracy at Iteration 650 : 0.6001049660146236\n",
      "Total Validation Loss at Iteration 650 : 4.235708713531494\n"
     ]
    },
    {
     "name": "stderr",
     "output_type": "stream",
     "text": [
      " 70%|███████   | 701/1000 [03:15<01:27,  3.40it/s]"
     ]
    },
    {
     "name": "stdout",
     "output_type": "stream",
     "text": [
      "Average Training Accuracy at Iteration 700 : 0.4110315097309649\n",
      "Total Training Loss at Iteration 700 : 77.66917169094086\n",
      "Average Validation Accuracy at Iteration 700 : 0.684445720911026\n",
      "Total Validation Loss at Iteration 700 : 4.316824316978455\n"
     ]
    },
    {
     "name": "stderr",
     "output_type": "stream",
     "text": [
      " 75%|███████▌  | 751/1000 [03:28<01:21,  3.05it/s]"
     ]
    },
    {
     "name": "stdout",
     "output_type": "stream",
     "text": [
      "Average Training Accuracy at Iteration 750 : 0.45128449469804766\n",
      "Total Training Loss at Iteration 750 : 74.78016851842403\n",
      "Average Validation Accuracy at Iteration 750 : 0.3383454717695713\n",
      "Total Validation Loss at Iteration 750 : 3.426261067390442\n"
     ]
    },
    {
     "name": "stderr",
     "output_type": "stream",
     "text": [
      " 80%|████████  | 801/1000 [03:43<01:06,  2.98it/s]"
     ]
    },
    {
     "name": "stdout",
     "output_type": "stream",
     "text": [
      "Average Training Accuracy at Iteration 800 : 0.4992606684565544\n",
      "Total Training Loss at Iteration 800 : 84.16096272319555\n",
      "Average Validation Accuracy at Iteration 800 : 0.6149568140506745\n",
      "Total Validation Loss at Iteration 800 : 3.227549731731415\n"
     ]
    },
    {
     "name": "stderr",
     "output_type": "stream",
     "text": [
      " 85%|████████▌ | 851/1000 [03:58<00:57,  2.60it/s]"
     ]
    },
    {
     "name": "stdout",
     "output_type": "stream",
     "text": [
      "Average Training Accuracy at Iteration 850 : 0.46368033554404975\n",
      "Total Training Loss at Iteration 850 : 77.98603874444962\n",
      "Average Validation Accuracy at Iteration 850 : 0.5357459098100662\n",
      "Total Validation Loss at Iteration 850 : 4.711104691028595\n"
     ]
    },
    {
     "name": "stderr",
     "output_type": "stream",
     "text": [
      " 90%|█████████ | 902/1000 [04:11<00:20,  4.80it/s]"
     ]
    },
    {
     "name": "stdout",
     "output_type": "stream",
     "text": [
      "Average Training Accuracy at Iteration 900 : 0.48942840203642846\n",
      "Total Training Loss at Iteration 900 : 84.40127548575401\n",
      "Average Validation Accuracy at Iteration 900 : 0.6044928133487701\n",
      "Total Validation Loss at Iteration 900 : 4.677377104759216\n"
     ]
    },
    {
     "name": "stderr",
     "output_type": "stream",
     "text": [
      " 95%|█████████▌| 951/1000 [04:22<00:10,  4.47it/s]"
     ]
    },
    {
     "name": "stdout",
     "output_type": "stream",
     "text": [
      "Average Training Accuracy at Iteration 950 : 0.5284211461618543\n",
      "Total Training Loss at Iteration 950 : 80.69729187339544\n",
      "Average Validation Accuracy at Iteration 950 : 0.29371208138763905\n",
      "Total Validation Loss at Iteration 950 : 5.022665232419968\n"
     ]
    },
    {
     "name": "stderr",
     "output_type": "stream",
     "text": [
      "100%|██████████| 1000/1000 [04:40<00:00,  3.57it/s]\n"
     ]
    }
   ],
   "source": [
    "CUDA = True\n",
    "EPOCHS = 1\n",
    "NUM_CHANNEL = 2 # Number of Mic Inputs (>=2 for BF)\n",
    "REFERENCE_CHANNEL = 0\n",
    "INIT_LR = 0.01\n",
    "BATCH_SIZE = 1\n",
    "\n",
    "# if torch.cuda.is_available()\n",
    "device =  torch.device('cuda:2') if CUDA else torch.device('cpu')\n",
    "print(\"Mounted on:\", device)\n",
    "model = MaskNet().to(device)\n",
    "\n",
    "lossBCE = BCELoss()\n",
    "\n",
    "opt = Adam(model.parameters(), lr=INIT_LR)\n",
    "\n",
    "\n",
    "H = {\n",
    "    \"train_loss\":[],\n",
    "    \"train_acc\":[],\n",
    "    \"val_loss\":[],\n",
    "    \"val_acc\":[]\n",
    "}\n",
    "\n",
    "def check_accuracy_training(speech_pred, y_s):\n",
    "    speech_pred = (speech_pred>0.15).float()\n",
    "    return float(torch.sum((speech_pred == y_s).float())/torch.sum(torch.ones(513,speech_pred.shape[1])))\n",
    "\n",
    "def check_accuracy_validation(model):\n",
    "    example_nr = int(np.random.random()*(len(speech)-len(trainX))+len(trainX))\n",
    "    model.eval()\n",
    "    pred = model(prep_xij(stfts_mix,example_nr,0).to(device))\n",
    "    val_loss = lossBCE(pred,trainY[example_nr][0].to(device))\n",
    "    pred = (pred>0.15).float()\n",
    "    model.train()\n",
    "    return float(torch.sum((pred == trainY[example_nr][0].to(device)).float())/torch.sum(torch.ones(513,stfts_mix[example_nr].shape[2])).to(device)),val_loss\n",
    "\n",
    "print(\"[INFO] training the network...\")\n",
    "\n",
    "for epoch in range(0, EPOCHS):\n",
    "    print(\"Epoch:\",str(epoch+1)+\"/\"+str(EPOCHS))\n",
    "    # Train Mode\n",
    "    model.train()\n",
    "    \n",
    "    # Initialize\n",
    "    totalTrainLoss = 0\n",
    "    totalValLoss = 0\n",
    "    trainCorrect = 0\n",
    "    valCorrect = 0\n",
    "\n",
    "    trainX = stfts_mix[:1000]#stfts_mix[:50]\n",
    "    trainY = trainY\n",
    "    for i in tqdm(range(0,len(trainX))): # Iterate over Training Examples\n",
    "        for j in range(0,NUM_CHANNEL):# Iterate over channels\n",
    "            (x, y_s, y_n) = (prep_xij(trainX,i,j).to(device),trainY[i][0].to(device),trainY[i][1].to(device))\n",
    "            speech_pred=model(x)\n",
    "            loss = lossBCE(speech_pred,y_s)\n",
    "            # zero out the gradients, perform the backpropagation step, and update the weights\n",
    "            opt.zero_grad()\n",
    "            loss.backward()\n",
    "            opt.step()\n",
    "            \n",
    "            H[\"train_acc\"].append(check_accuracy_training(speech_pred,y_s))\n",
    "            H[\"train_loss\"].append(float(loss))\n",
    "        if i % 10 == 0:\n",
    "            val_acc, val_loss = check_accuracy_validation(model)\n",
    "            H[\"val_acc\"].append(val_acc)\n",
    "            H[\"val_loss\"].append(float(val_loss))\n",
    "        if i % 100 == 0:\n",
    "            if i == 0:\n",
    "                continue\n",
    "            # if CUDA:\n",
    "            #     torch.cuda.empty_cache()\n",
    "            print(\"Average Training Accuracy at Iteration\",str(i),\":\",np.mean(np.array(H[\"train_acc\"])))\n",
    "            print(\"Total Training Loss at Iteration\",str(i),\":\",np.sum(np.array(H[\"train_loss\"])))\n",
    "            print(\"Average Validation Accuracy at Iteration\",str(i),\":\",np.mean(np.array(H[\"val_acc\"])))\n",
    "            print(\"Total Validation Loss at Iteration\",str(i),\":\",np.sum(np.array(H[\"val_loss\"])))\n",
    "            # Save\n",
    "            PATH = \"./modelLibre\"\n",
    "            torch.save(model.state_dict(), PATH + str(i) + \".pt\")\n",
    "            #torch.cuda.empty_cache()\n",
    "            #model = MaskNet()\n",
    "            #model.load_state_dict(torch.load(PATH + str(i) + \".pt\"))\n",
    "            # Reset H\n",
    "            H = {\n",
    "                \"train_loss\":[],\n",
    "                \"train_acc\":[],\n",
    "                \"val_loss\":[],\n",
    "                \"val_acc\":[]\n",
    "            }\n",
    "PATH = \"./modelLibre\"\n",
    "torch.save(model.state_dict(), PATH + \"final\" + \".pt\")"
   ]
  },
  {
   "cell_type": "code",
   "execution_count": 34,
   "metadata": {},
   "outputs": [
    {
     "name": "stdout",
     "output_type": "stream",
     "text": [
      "max_split_size_mb:1024\n"
     ]
    }
   ],
   "source": [
    "import os\n",
    "os.environ['PYTORCH_CUDA_ALLOC_CONF'] = \"max_split_size_mb:1024\"\n",
    "print(os.environ['PYTORCH_CUDA_ALLOC_CONF'])\n",
    "\n",
    "del os.environ['PYTORCH_CUDA_ALLOC_CONF']"
   ]
  },
  {
   "cell_type": "code",
   "execution_count": 36,
   "metadata": {},
   "outputs": [
    {
     "data": {
      "text/plain": [
       "4"
      ]
     },
     "execution_count": 36,
     "metadata": {},
     "output_type": "execute_result"
    }
   ],
   "source": [
    "torch.cuda.device_count()"
   ]
  },
  {
   "cell_type": "code",
   "execution_count": 37,
   "metadata": {},
   "outputs": [
    {
     "name": "stdout",
     "output_type": "stream",
     "text": [
      "cuda:2\n"
     ]
    }
   ],
   "source": [
    "device = torch.device('cuda:2')\n",
    "print(device)"
   ]
  },
  {
   "cell_type": "code",
   "execution_count": 15,
   "metadata": {},
   "outputs": [
    {
     "name": "stdout",
     "output_type": "stream",
     "text": [
      "45746688\n",
      "3693084672\n",
      "45746688\n",
      "65011712\n"
     ]
    }
   ],
   "source": [
    "print(torch.cuda.memory_allocated())\n",
    "print(torch.cuda.memory_reserved())\n",
    "torch.cuda.empty_cache()\n",
    "print(torch.cuda.memory_allocated())\n",
    "print(torch.cuda.memory_reserved())"
   ]
  },
  {
   "cell_type": "code",
   "execution_count": 38,
   "metadata": {},
   "outputs": [],
   "source": [
    "torch.cuda.empty_cache()"
   ]
  },
  {
   "cell_type": "code",
   "execution_count": 17,
   "metadata": {},
   "outputs": [
    {
     "name": "stdout",
     "output_type": "stream",
     "text": [
      "0\n"
     ]
    },
    {
     "data": {
      "text/plain": [
       "'|===========================================================================|\\n|                  PyTorch CUDA memory summary, device ID 0                 |\\n|---------------------------------------------------------------------------|\\n|            CUDA OOMs: 1            |        cudaMalloc retries: 1         |\\n|===========================================================================|\\n|        Metric         | Cur Usage  | Peak Usage | Tot Alloc  | Tot Freed  |\\n|---------------------------------------------------------------------------|\\n| Allocated memory      |   30200 KB |    6960 MB |    7016 MB |    6987 MB |\\n|       from large pool |   30198 KB |    6960 MB |    7000 MB |    6970 MB |\\n|       from small pool |       2 KB |       4 MB |      16 MB |      16 MB |\\n|---------------------------------------------------------------------------|\\n| Active memory         |   30200 KB |    6960 MB |    7016 MB |    6987 MB |\\n|       from large pool |   30198 KB |    6960 MB |    7000 MB |    6970 MB |\\n|       from small pool |       2 KB |       4 MB |      16 MB |      16 MB |\\n|---------------------------------------------------------------------------|\\n| GPU reserved memory   |    6982 MB |    6986 MB |    6986 MB |    4096 KB |\\n|       from large pool |    6980 MB |    6980 MB |    6980 MB |       0 KB |\\n|       from small pool |       2 MB |       6 MB |       6 MB |    4096 KB |\\n|---------------------------------------------------------------------------|\\n| Non-releasable memory |   12807 KB |   27541 KB |  127677 KB |  114870 KB |\\n|       from large pool |   10762 KB |   24480 KB |  107012 KB |   96250 KB |\\n|       from small pool |    2045 KB |    4080 KB |   20665 KB |   18620 KB |\\n|---------------------------------------------------------------------------|\\n| Allocations           |       8    |      20    |      85    |      77    |\\n|       from large pool |       6    |      10    |      21    |      15    |\\n|       from small pool |       2    |      16    |      64    |      62    |\\n|---------------------------------------------------------------------------|\\n| Active allocs         |       8    |      20    |      85    |      77    |\\n|       from large pool |       6    |      10    |      21    |      15    |\\n|       from small pool |       2    |      16    |      64    |      62    |\\n|---------------------------------------------------------------------------|\\n| GPU reserved segments |       6    |       8    |       8    |       2    |\\n|       from large pool |       5    |       5    |       5    |       0    |\\n|       from small pool |       1    |       3    |       3    |       2    |\\n|---------------------------------------------------------------------------|\\n| Non-releasable allocs |       4    |       8    |      30    |      26    |\\n|       from large pool |       2    |       3    |      10    |       8    |\\n|       from small pool |       2    |       5    |      20    |      18    |\\n|---------------------------------------------------------------------------|\\n| Oversize allocations  |       0    |       0    |       0    |       0    |\\n|---------------------------------------------------------------------------|\\n| Oversize GPU segments |       0    |       0    |       0    |       0    |\\n|===========================================================================|\\n'"
      ]
     },
     "execution_count": 17,
     "metadata": {},
     "output_type": "execute_result"
    }
   ],
   "source": [
    "print(torch.cuda.current_device())\n",
    "torch.cuda.memory_summary(device=None, abbreviated=False)"
   ]
  },
  {
   "cell_type": "markdown",
   "metadata": {},
   "source": [
    "## Load Model & Evaluate"
   ]
  },
  {
   "cell_type": "code",
   "execution_count": null,
   "metadata": {},
   "outputs": [],
   "source": [
    "PATH = \"./ModelLibreOneNoise.pt\"\n",
    "model = MaskNet()\n",
    "model.load_state_dict(torch.load(PATH))\n",
    "model.eval()"
   ]
  },
  {
   "cell_type": "code",
   "execution_count": 44,
   "metadata": {},
   "outputs": [
    {
     "data": {
      "image/png": "[encoded data removed]",
      "text/plain": [
       "<Figure size 432x288 with 2 Axes>"
      ]
     },
     "metadata": {
      "needs_background": "light"
     },
     "output_type": "display_data"
    },
    {
     "data": {
      "image/png": "[encoded data removed]",
      "text/plain": [
       "<Figure size 432x288 with 2 Axes>"
      ]
     },
     "metadata": {
      "needs_background": "light"
     },
     "output_type": "display_data"
    },
    {
     "data": {
      "image/png": "[encoded data removed]",
      "text/plain": [
       "<Figure size 432x288 with 2 Axes>"
      ]
     },
     "metadata": {
      "needs_background": "light"
     },
     "output_type": "display_data"
    },
    {
     "data": {
      "image/png": "[encoded data removed]",
      "text/plain": [
       "<Figure size 432x288 with 2 Axes>"
      ]
     },
     "metadata": {
      "needs_background": "light"
     },
     "output_type": "display_data"
    }
   ],
   "source": [
    "def evaluate_example(e_nr):\n",
    "    model.eval()\n",
    "    speech_pred = (model(prep_xij(trainX,e_nr,0).to(device))>0.2).float()\n",
    "    noise_pred = torch.ones([513,stfts_mix[e_nr].shape[2]]).to(device)-speech_pred\n",
    "    plot_mask(speech_pred, title=\"Prediction Speech\")\n",
    "    plot_mask(noise_pred, title=\"Prediction Noise\")\n",
    "    plot_mask(trainY[e_nr][0], title=\"Reference Speech\")\n",
    "    plot_mask(trainY[e_nr][1], title=\"Reference Noise\")\n",
    "\n",
    "def plot_mask(mask, title=\"Mask\", xlim=None):\n",
    "    mask = mask.cpu().detach().numpy()\n",
    "    figure, axis = plt.subplots(1, 1)\n",
    "    img = axis.imshow(mask, cmap=\"viridis\", origin=\"lower\", aspect=\"auto\")\n",
    "    figure.suptitle(title)\n",
    "    plt.colorbar(img, ax=axis)\n",
    "    plt.show()\n",
    "\n",
    "def maskToWave(speech_pred,noise_pred,mix,i):\n",
    "        model.eval()\n",
    "        psd_transform = torchaudio.transforms.PSD()\n",
    "        psd_speech = psd_transform(mix[i], speech_pred)\n",
    "        psd_noise = psd_transform(mix[i], noise_pred)\n",
    "        mvdr_transform = torchaudio.transforms.SoudenMVDR()\n",
    "        stft_souden = mvdr_transform(mix[i], psd_speech, psd_noise, reference_channel=REFERENCE_CHANNEL)\n",
    "        waveform_souden = istft(stft_souden, length=len(X[i][0]))#X[i].shape[-1])\n",
    "        return waveform_souden.reshape(-1)\n",
    "\n",
    "evaluate_example(1)"
   ]
  },
  {
   "cell_type": "code",
   "execution_count": 14,
   "metadata": {},
   "outputs": [
    {
     "name": "stdout",
     "output_type": "stream",
     "text": [
      "Si-SNR score: -0.38113975524902344\n"
     ]
    }
   ],
   "source": [
    "speech_pred = trainY[0][0]\n",
    "noise_pred = trainY[0][1]\n",
    "\n",
    "def evaluateSiSNR(wave, i):\n",
    "    def si_snr(estimate, reference, epsilon=1e-8):\n",
    "        estimate = estimate - estimate.mean()\n",
    "        reference = reference - reference.mean()\n",
    "        reference_pow = reference.pow(2).mean(axis=1, keepdim=True)\n",
    "        mix_pow = (estimate * reference).mean(axis=1, keepdim=True)\n",
    "        scale = mix_pow / (reference_pow + epsilon)\n",
    "\n",
    "        reference = scale * reference\n",
    "        error = estimate - reference\n",
    "\n",
    "        reference_pow = reference.pow(2)\n",
    "        error_pow = error.pow(2)\n",
    "\n",
    "        reference_pow = reference_pow.mean(axis=1)\n",
    "        error_pow = error_pow.mean(axis=1)\n",
    "\n",
    "        si_snr = 10 * torch.log10(reference_pow) - 10 * torch.log10(error_pow)\n",
    "        return si_snr.item()\n",
    "    score = si_snr(wave, speech[i])\n",
    "    print(f\"Si-SNR score: {score}\") \n",
    "    return score\n",
    "\n",
    "def maskToWave(speech_pred,noise_pred,mix,i):\n",
    "        model.eval()\n",
    "        psd_transform = torchaudio.transforms.PSD()\n",
    "        psd_speech = psd_transform(mix[i], speech_pred)\n",
    "        psd_noise = psd_transform(mix[i], noise_pred)\n",
    "        mvdr_transform = torchaudio.transforms.SoudenMVDR()\n",
    "        stft_souden = mvdr_transform(mix[i], psd_speech, psd_noise, reference_channel=REFERENCE_CHANNEL)\n",
    "        waveform_souden = istft(stft_souden, length=len(X[i][0]))#X[i].shape[-1])\n",
    "        return waveform_souden.reshape(-1)\n",
    "\n",
    "def save_sample(i,wave,sample_rate=SAMPLE_RATE):\n",
    "    model.eval()\n",
    "    wave = wave\n",
    "    torchaudio.save(\"sampleall_output.wav\",wave.reshape(1,-1),sample_rate)\n",
    "    torchaudio.save(\"sampleall_reference.wav\", speech[i].reshape(1,-1),sample_rate)\n",
    "    torchaudio.save(\"sampleall_input.wav\", X[i].reshape(1,-1),sample_rate)\n",
    "\n",
    "\n",
    "sample_nr = 51\n",
    "speech_pred = (model(prep_xij(stfts_mix,sample_nr,0))>0.15).float()\n",
    "noise_pred = torch.ones([513,speech_pred.shape[1]])-speech_pred\n",
    "wave = maskToWave(speech_pred,noise_pred,stfts_mix,sample_nr)\n",
    "save_sample(sample_nr, wave=wave)\n",
    "score = evaluateSiSNR(wave,sample_nr)#Should be ~16"
   ]
  }
 ],
 "metadata": {
  "kernelspec": {
   "display_name": "Python 3.9.12 ('beamformer')",
   "language": "python",
   "name": "python3"
  },
  "language_info": {
   "codemirror_mode": {
    "name": "ipython",
    "version": 3
   },
   "file_extension": ".py",
   "mimetype": "text/x-python",
   "name": "python",
   "nbconvert_exporter": "python",
   "pygments_lexer": "ipython3",
   "version": "3.9.12"
  },
  "orig_nbformat": 4,
  "vscode": {
   "interpreter": {
    "hash": "7edcfa7c72349f2a40b8bb9d00f805dd689758e4b70f704e502841c884b714f7"
   }
  }
 },
 "nbformat": 4,
 "nbformat_minor": 2
}
