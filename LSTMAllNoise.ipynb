{
 "cells": [
  {
   "cell_type": "code",
   "execution_count": 3,
   "metadata": {},
   "outputs": [],
   "source": [
    "import os\n",
    "import torchaudio\n",
    "import torch\n",
    "import matplotlib.pyplot as plt\n",
    "from torch.nn import Module, Linear, Sigmoid, LSTM, BCELoss\n",
    "from torch.optim import Adam\n",
    "import torch.nn.functional as F\n",
    "from pytorch_model_summary import summary\n",
    "from tqdm import tqdm\n",
    "import numpy as np\n",
    "import pickle"
   ]
  },
  {
   "cell_type": "code",
   "execution_count": 4,
   "metadata": {},
   "outputs": [],
   "source": [
    "from DataLoader import DataLoaderAll\n",
    "\n",
    "X,Y,speech,mix1,X_complex = DataLoaderAll.data_loader(n_noise=100)"
   ]
  },
  {
   "cell_type": "markdown",
   "metadata": {},
   "source": [
    "# MaskNet + Training"
   ]
  },
  {
   "cell_type": "code",
   "execution_count": 5,
   "metadata": {},
   "outputs": [
    {
     "name": "stdout",
     "output_type": "stream",
     "text": [
      "-----------------------------------------------------------------------------------------------------\n",
      "      Layer (type)                                      Output Shape         Param #     Tr. Param #\n",
      "=====================================================================================================\n",
      "            LSTM-1     [513, 196, 256], [4, 196, 128], [4, 196, 128]         532,480         532,480\n",
      "          Linear-2                                     [513, 196, 1]             257             257\n",
      "         Sigmoid-3                                     [513, 196, 1]               0               0\n",
      "=====================================================================================================\n",
      "Total params: 532,737\n",
      "Trainable params: 532,737\n",
      "Non-trainable params: 0\n",
      "-----------------------------------------------------------------------------------------------------\n"
     ]
    }
   ],
   "source": [
    "# MASK NET\n",
    "HIDDEN_SIZE=128#1024 # 256\n",
    "SAMPLE_RATE = 16000\n",
    "INPUT_CHANNEL = 4 # Always two -> Real and Imaginary part \n",
    "\n",
    "class MaskNet(Module):\n",
    "    def __init__(self,noise=False):\n",
    "        super(MaskNet, self).__init__()\n",
    "        # First subnet for speech prediction\n",
    "        self.noise = noise\n",
    "        self.lstm = LSTM(input_size=INPUT_CHANNEL, hidden_size=HIDDEN_SIZE, num_layers=2, bidirectional=True)\n",
    "        self.fc = Linear(in_features=HIDDEN_SIZE*2 ,out_features=1)\n",
    "        self.sigmoid = Sigmoid()\n",
    "        # # Second subnet for noise prediction\n",
    "        # self.noise2 = noise\n",
    "        # self.lstm2 = LSTM(input_size=INPUT_CHANNEL, hidden_size=HIDDEN_SIZE, num_layers=2, bidirectional=True)\n",
    "        # self.fc2 = Linear(in_features=HIDDEN_SIZE*2 ,out_features=1)\n",
    "        # self.sigmoid2 = Sigmoid()\n",
    "\n",
    "    def forward(self,x):\n",
    "        # Speech prediction\n",
    "        y, (h_n, c_n) = self.lstm(x)\n",
    "        y = self.fc(y)\n",
    "        speech_pred = self.sigmoid(y)\n",
    "        return speech_pred.reshape(513,-1)#, noise_pred\n",
    "\n",
    "print(summary(MaskNet(),torch.zeros((513, 196, 4))))"
   ]
  },
  {
   "cell_type": "code",
   "execution_count": 20,
   "metadata": {},
   "outputs": [
    {
     "name": "stdout",
     "output_type": "stream",
     "text": [
      "[INFO] training the network...\n",
      "Epoch: 1/100\n"
     ]
    },
    {
     "name": "stderr",
     "output_type": "stream",
     "text": [
      "100%|██████████| 2000/2000 [04:09<00:00,  8.02it/s]\n"
     ]
    },
    {
     "name": "stdout",
     "output_type": "stream",
     "text": [
      "Average Training Accuracy in Epoch 1 : 0.5612612806595861\n",
      "Total Training Loss in Epoch 1 : 1062.703752361238\n",
      "Average Validation Accuracy in Epoch 1 : 0.5725868513807655\n",
      "Total Validation Loss in Epoch 1 : 111.75044540688396\n",
      "0\n",
      "Epoch: 2/100\n"
     ]
    },
    {
     "name": "stderr",
     "output_type": "stream",
     "text": [
      "100%|██████████| 2000/2000 [03:54<00:00,  8.55it/s]\n"
     ]
    },
    {
     "name": "stdout",
     "output_type": "stream",
     "text": [
      "Average Training Accuracy in Epoch 2 : 0.560734392972663\n",
      "Total Training Loss in Epoch 2 : 2125.9768913257867\n",
      "Average Validation Accuracy in Epoch 2 : 0.5642056058906019\n",
      "Total Validation Loss in Epoch 2 : 225.9551899395883\n",
      "0\n",
      "Epoch: 3/100\n"
     ]
    },
    {
     "name": "stderr",
     "output_type": "stream",
     "text": [
      "100%|██████████| 2000/2000 [04:39<00:00,  7.16it/s]\n"
     ]
    },
    {
     "name": "stdout",
     "output_type": "stream",
     "text": [
      "Average Training Accuracy in Epoch 3 : 0.5606526249311864\n",
      "Total Training Loss in Epoch 3 : 3189.128782937303\n",
      "Average Validation Accuracy in Epoch 3 : 0.5660632677500447\n",
      "Total Validation Loss in Epoch 3 : 335.5087054669857\n",
      "0\n",
      "Epoch: 4/100\n"
     ]
    },
    {
     "name": "stderr",
     "output_type": "stream",
     "text": [
      "100%|██████████| 2000/2000 [04:58<00:00,  6.69it/s]\n"
     ]
    },
    {
     "name": "stdout",
     "output_type": "stream",
     "text": [
      "Average Training Accuracy in Epoch 4 : 0.5593447053153068\n",
      "Total Training Loss in Epoch 4 : 4256.86527938582\n",
      "Average Validation Accuracy in Epoch 4 : 0.5601859833300114\n",
      "Total Validation Loss in Epoch 4 : 452.2201488763094\n",
      "0\n",
      "Epoch: 5/100\n"
     ]
    },
    {
     "name": "stderr",
     "output_type": "stream",
     "text": [
      "100%|██████████| 2000/2000 [04:58<00:00,  6.70it/s]\n"
     ]
    },
    {
     "name": "stdout",
     "output_type": "stream",
     "text": [
      "Average Training Accuracy in Epoch 5 : 0.5589574591621757\n",
      "Total Training Loss in Epoch 5 : 5321.996533116326\n",
      "Average Validation Accuracy in Epoch 5 : 0.5600770453214645\n",
      "Total Validation Loss in Epoch 5 : 564.6560141444206\n",
      "0\n",
      "Epoch: 6/100\n"
     ]
    },
    {
     "name": "stderr",
     "output_type": "stream",
     "text": [
      "100%|██████████| 2000/2000 [04:55<00:00,  6.77it/s]\n"
     ]
    },
    {
     "name": "stdout",
     "output_type": "stream",
     "text": [
      "Average Training Accuracy in Epoch 6 : 0.5585898763729881\n",
      "Total Training Loss in Epoch 6 : 6387.525823997334\n",
      "Average Validation Accuracy in Epoch 6 : 0.5598295286173621\n",
      "Total Validation Loss in Epoch 6 : 675.2043346576393\n",
      "0\n",
      "Epoch: 7/100\n"
     ]
    },
    {
     "name": "stderr",
     "output_type": "stream",
     "text": [
      "100%|██████████| 2000/2000 [04:53<00:00,  6.80it/s]\n"
     ]
    },
    {
     "name": "stdout",
     "output_type": "stream",
     "text": [
      "Average Training Accuracy in Epoch 7 : 0.5585182410036879\n",
      "Total Training Loss in Epoch 7 : 7450.791777592152\n",
      "Average Validation Accuracy in Epoch 7 : 0.5604744492577655\n",
      "Total Validation Loss in Epoch 7 : 785.863754529506\n",
      "0\n",
      "Epoch: 8/100\n"
     ]
    },
    {
     "name": "stderr",
     "output_type": "stream",
     "text": [
      "100%|██████████| 2000/2000 [04:55<00:00,  6.76it/s]\n"
     ]
    },
    {
     "name": "stdout",
     "output_type": "stream",
     "text": [
      "Average Training Accuracy in Epoch 8 : 0.5585077003254555\n",
      "Total Training Loss in Epoch 8 : 8512.889707326889\n",
      "Average Validation Accuracy in Epoch 8 : 0.5631024203170091\n",
      "Total Validation Loss in Epoch 8 : 894.8768087662756\n",
      "0\n",
      "Epoch: 9/100\n"
     ]
    },
    {
     "name": "stderr",
     "output_type": "stream",
     "text": [
      "100%|██████████| 2000/2000 [04:56<00:00,  6.74it/s]\n"
     ]
    },
    {
     "name": "stdout",
     "output_type": "stream",
     "text": [
      "Average Training Accuracy in Epoch 9 : 0.5586584128174517\n",
      "Total Training Loss in Epoch 9 : 9574.406441308558\n",
      "Average Validation Accuracy in Epoch 9 : 0.5606914276753863\n",
      "Total Validation Loss in Epoch 9 : 1011.6551932543516\n",
      "0\n",
      "Epoch: 10/100\n"
     ]
    },
    {
     "name": "stderr",
     "output_type": "stream",
     "text": [
      "100%|██████████| 2000/2000 [04:07<00:00,  8.08it/s]\n"
     ]
    },
    {
     "name": "stdout",
     "output_type": "stream",
     "text": [
      "Average Training Accuracy in Epoch 10 : 0.5587320942908526\n",
      "Total Training Loss in Epoch 10 : 10636.20606046915\n",
      "Average Validation Accuracy in Epoch 10 : 0.5608752863369882\n",
      "Total Validation Loss in Epoch 10 : 1130.3026290014386\n",
      "0\n",
      "Epoch: 11/100\n"
     ]
    },
    {
     "name": "stderr",
     "output_type": "stream",
     "text": [
      "100%|██████████| 2000/2000 [03:48<00:00,  8.76it/s]\n"
     ]
    },
    {
     "name": "stdout",
     "output_type": "stream",
     "text": [
      "Average Training Accuracy in Epoch 11 : 0.5589442866715518\n",
      "Total Training Loss in Epoch 11 : 11698.401724733412\n",
      "Average Validation Accuracy in Epoch 11 : 0.5598325681788\n",
      "Total Validation Loss in Epoch 11 : 1242.75932270661\n",
      "0\n",
      "Epoch: 12/100\n"
     ]
    },
    {
     "name": "stderr",
     "output_type": "stream",
     "text": [
      "100%|██████████| 2000/2000 [04:24<00:00,  7.55it/s]\n"
     ]
    },
    {
     "name": "stdout",
     "output_type": "stream",
     "text": [
      "Average Training Accuracy in Epoch 12 : 0.5589073094424482\n",
      "Total Training Loss in Epoch 12 : 12761.648352079093\n",
      "Average Validation Accuracy in Epoch 12 : 0.5609465492299447\n",
      "Total Validation Loss in Epoch 12 : 1356.3037711791694\n",
      "0\n",
      "Epoch: 13/100\n"
     ]
    },
    {
     "name": "stderr",
     "output_type": "stream",
     "text": [
      "100%|██████████| 2000/2000 [04:46<00:00,  6.99it/s]\n"
     ]
    },
    {
     "name": "stdout",
     "output_type": "stream",
     "text": [
      "Average Training Accuracy in Epoch 13 : 0.5590397028384301\n",
      "Total Training Loss in Epoch 13 : 13822.283581819385\n",
      "Average Validation Accuracy in Epoch 13 : 0.5613986901852946\n",
      "Total Validation Loss in Epoch 13 : 1467.6134147681296\n",
      "0\n",
      "Epoch: 14/100\n"
     ]
    },
    {
     "name": "stderr",
     "output_type": "stream",
     "text": [
      "100%|██████████| 2000/2000 [04:45<00:00,  7.01it/s]\n"
     ]
    },
    {
     "name": "stdout",
     "output_type": "stream",
     "text": [
      "Average Training Accuracy in Epoch 14 : 0.5591146785627519\n",
      "Total Training Loss in Epoch 14 : 14882.72879740037\n",
      "Average Validation Accuracy in Epoch 14 : 0.5606620430387557\n",
      "Total Validation Loss in Epoch 14 : 1585.6208924464881\n",
      "0\n",
      "Epoch: 15/100\n"
     ]
    },
    {
     "name": "stderr",
     "output_type": "stream",
     "text": [
      "100%|██████████| 2000/2000 [04:42<00:00,  7.07it/s]\n"
     ]
    },
    {
     "name": "stdout",
     "output_type": "stream",
     "text": [
      "Average Training Accuracy in Epoch 15 : 0.5590841095082462\n",
      "Total Training Loss in Epoch 15 : 15944.684526985511\n",
      "Average Validation Accuracy in Epoch 15 : 0.5590998841325442\n",
      "Total Validation Loss in Epoch 15 : 1700.4730977527797\n",
      "0\n",
      "Epoch: 16/100\n"
     ]
    },
    {
     "name": "stderr",
     "output_type": "stream",
     "text": [
      "100%|██████████| 2000/2000 [04:42<00:00,  7.07it/s]\n"
     ]
    },
    {
     "name": "stdout",
     "output_type": "stream",
     "text": [
      "Average Training Accuracy in Epoch 16 : 0.5592181895826943\n",
      "Total Training Loss in Epoch 16 : 17004.835746264085\n",
      "Average Validation Accuracy in Epoch 16 : 0.5588966370606795\n",
      "Total Validation Loss in Epoch 16 : 1814.423885602504\n",
      "0\n",
      "Epoch: 17/100\n"
     ]
    },
    {
     "name": "stderr",
     "output_type": "stream",
     "text": [
      "100%|██████████| 2000/2000 [04:41<00:00,  7.10it/s]\n"
     ]
    },
    {
     "name": "stdout",
     "output_type": "stream",
     "text": [
      "Average Training Accuracy in Epoch 17 : 0.5592661138878149\n",
      "Total Training Loss in Epoch 17 : 18065.37831163779\n",
      "Average Validation Accuracy in Epoch 17 : 0.5595753114013111\n",
      "Total Validation Loss in Epoch 17 : 1924.2635320462286\n",
      "0\n",
      "Epoch: 18/100\n"
     ]
    },
    {
     "name": "stderr",
     "output_type": "stream",
     "text": [
      "100%|██████████| 2000/2000 [04:41<00:00,  7.10it/s]\n"
     ]
    },
    {
     "name": "stdout",
     "output_type": "stream",
     "text": [
      "Average Training Accuracy in Epoch 18 : 0.5593837998581843\n",
      "Total Training Loss in Epoch 18 : 19124.65084855631\n",
      "Average Validation Accuracy in Epoch 18 : 0.5601335767822133\n",
      "Total Validation Loss in Epoch 18 : 2035.566301882267\n",
      "0\n",
      "Epoch: 19/100\n"
     ]
    },
    {
     "name": "stderr",
     "output_type": "stream",
     "text": [
      "100%|██████████| 2000/2000 [04:41<00:00,  7.11it/s]\n"
     ]
    },
    {
     "name": "stdout",
     "output_type": "stream",
     "text": [
      "Average Training Accuracy in Epoch 19 : 0.5595448907731395\n",
      "Total Training Loss in Epoch 19 : 20183.209548272192\n",
      "Average Validation Accuracy in Epoch 19 : 0.5595385962175695\n",
      "Total Validation Loss in Epoch 19 : 2151.9815860912204\n",
      "0\n",
      "Epoch: 20/100\n"
     ]
    },
    {
     "name": "stderr",
     "output_type": "stream",
     "text": [
      "100%|██████████| 2000/2000 [04:39<00:00,  7.15it/s]\n"
     ]
    },
    {
     "name": "stdout",
     "output_type": "stream",
     "text": [
      "Average Training Accuracy in Epoch 20 : 0.5596275575602427\n",
      "Total Training Loss in Epoch 20 : 21242.127594878897\n",
      "Average Validation Accuracy in Epoch 20 : 0.5597492324188351\n",
      "Total Validation Loss in Epoch 20 : 2265.7280491366982\n",
      "0\n",
      "Epoch: 21/100\n"
     ]
    },
    {
     "name": "stderr",
     "output_type": "stream",
     "text": [
      "100%|██████████| 2000/2000 [04:40<00:00,  7.13it/s]\n"
     ]
    },
    {
     "name": "stdout",
     "output_type": "stream",
     "text": [
      "Average Training Accuracy in Epoch 21 : 0.5597561450925257\n",
      "Total Training Loss in Epoch 21 : 22299.4720182959\n",
      "Average Validation Accuracy in Epoch 21 : 0.5604295172595553\n",
      "Total Validation Loss in Epoch 21 : 2377.303584456444\n",
      "0\n",
      "Epoch: 22/100\n"
     ]
    },
    {
     "name": "stderr",
     "output_type": "stream",
     "text": [
      "100%|██████████| 2000/2000 [04:42<00:00,  7.07it/s]\n"
     ]
    },
    {
     "name": "stdout",
     "output_type": "stream",
     "text": [
      "Average Training Accuracy in Epoch 22 : 0.559832123231312\n",
      "Total Training Loss in Epoch 22 : 23358.958829754964\n",
      "Average Validation Accuracy in Epoch 22 : 0.560306453386491\n",
      "Total Validation Loss in Epoch 22 : 2494.44800311327\n",
      "0\n",
      "Epoch: 23/100\n"
     ]
    },
    {
     "name": "stderr",
     "output_type": "stream",
     "text": [
      "100%|██████████| 2000/2000 [04:42<00:00,  7.07it/s]\n"
     ]
    },
    {
     "name": "stdout",
     "output_type": "stream",
     "text": [
      "Average Training Accuracy in Epoch 23 : 0.5599698301087255\n",
      "Total Training Loss in Epoch 23 : 24416.84227838926\n",
      "Average Validation Accuracy in Epoch 23 : 0.5599677311256528\n",
      "Total Validation Loss in Epoch 23 : 2605.076360337436\n",
      "0\n",
      "Epoch: 24/100\n"
     ]
    },
    {
     "name": "stderr",
     "output_type": "stream",
     "text": [
      "100%|██████████| 2000/2000 [04:42<00:00,  7.08it/s]\n"
     ]
    },
    {
     "name": "stdout",
     "output_type": "stream",
     "text": [
      "Average Training Accuracy in Epoch 24 : 0.5600624072624681\n",
      "Total Training Loss in Epoch 24 : 25474.24426493235\n",
      "Average Validation Accuracy in Epoch 24 : 0.5609461722895503\n",
      "Total Validation Loss in Epoch 24 : 2718.819732271135\n",
      "0\n",
      "Epoch: 25/100\n"
     ]
    },
    {
     "name": "stderr",
     "output_type": "stream",
     "text": [
      "100%|██████████| 2000/2000 [04:41<00:00,  7.11it/s]\n"
     ]
    },
    {
     "name": "stdout",
     "output_type": "stream",
     "text": [
      "Average Training Accuracy in Epoch 25 : 0.5601638731659949\n",
      "Total Training Loss in Epoch 25 : 26531.70966395177\n",
      "Average Validation Accuracy in Epoch 25 : 0.5610052414625883\n",
      "Total Validation Loss in Epoch 25 : 2832.461951725185\n",
      "0\n",
      "Epoch: 26/100\n"
     ]
    },
    {
     "name": "stderr",
     "output_type": "stream",
     "text": [
      "100%|██████████| 2000/2000 [04:41<00:00,  7.10it/s]\n"
     ]
    },
    {
     "name": "stdout",
     "output_type": "stream",
     "text": [
      "Average Training Accuracy in Epoch 26 : 0.5602260084796984\n",
      "Total Training Loss in Epoch 26 : 27590.021786255762\n",
      "Average Validation Accuracy in Epoch 26 : 0.5608488400495396\n",
      "Total Validation Loss in Epoch 26 : 2945.4189297519624\n",
      "0\n",
      "Epoch: 27/100\n"
     ]
    },
    {
     "name": "stderr",
     "output_type": "stream",
     "text": [
      "100%|██████████| 2000/2000 [04:40<00:00,  7.12it/s]\n"
     ]
    },
    {
     "name": "stdout",
     "output_type": "stream",
     "text": [
      "Average Training Accuracy in Epoch 27 : 0.5602415181686757\n",
      "Total Training Loss in Epoch 27 : 28649.228480814025\n",
      "Average Validation Accuracy in Epoch 27 : 0.5609244051037563\n",
      "Total Validation Loss in Epoch 27 : 3061.625385977328\n",
      "0\n",
      "Epoch: 28/100\n"
     ]
    },
    {
     "name": "stderr",
     "output_type": "stream",
     "text": [
      "100%|██████████| 2000/2000 [04:40<00:00,  7.12it/s]\n"
     ]
    },
    {
     "name": "stdout",
     "output_type": "stream",
     "text": [
      "Average Training Accuracy in Epoch 28 : 0.5603099574529167\n",
      "Total Training Loss in Epoch 28 : 29706.935509534553\n",
      "Average Validation Accuracy in Epoch 28 : 0.5610129327526582\n",
      "Total Validation Loss in Epoch 28 : 3172.369747951627\n",
      "0\n",
      "Epoch: 29/100\n"
     ]
    },
    {
     "name": "stderr",
     "output_type": "stream",
     "text": [
      "100%|██████████| 2000/2000 [04:40<00:00,  7.13it/s]\n"
     ]
    },
    {
     "name": "stdout",
     "output_type": "stream",
     "text": [
      "Average Training Accuracy in Epoch 29 : 0.5604180762247536\n",
      "Total Training Loss in Epoch 29 : 30763.350515870377\n",
      "Average Validation Accuracy in Epoch 29 : 0.561218512880391\n",
      "Total Validation Loss in Epoch 29 : 3284.088803894818\n",
      "0\n",
      "Epoch: 30/100\n"
     ]
    },
    {
     "name": "stderr",
     "output_type": "stream",
     "text": [
      "100%|██████████| 2000/2000 [04:41<00:00,  7.11it/s]\n"
     ]
    },
    {
     "name": "stdout",
     "output_type": "stream",
     "text": [
      "Average Training Accuracy in Epoch 30 : 0.5605158413283526\n",
      "Total Training Loss in Epoch 30 : 31819.876689836383\n",
      "Average Validation Accuracy in Epoch 30 : 0.5617942192330957\n",
      "Total Validation Loss in Epoch 30 : 3397.484386600554\n",
      "0\n",
      "Epoch: 31/100\n"
     ]
    },
    {
     "name": "stderr",
     "output_type": "stream",
     "text": [
      "100%|██████████| 2000/2000 [04:42<00:00,  7.08it/s]\n"
     ]
    },
    {
     "name": "stdout",
     "output_type": "stream",
     "text": [
      "Average Training Accuracy in Epoch 31 : 0.5606157443352765\n",
      "Total Training Loss in Epoch 31 : 32875.52249699086\n",
      "Average Validation Accuracy in Epoch 31 : 0.5614906642754232\n",
      "Total Validation Loss in Epoch 31 : 3513.2978336960077\n",
      "0\n",
      "Epoch: 32/100\n"
     ]
    },
    {
     "name": "stderr",
     "output_type": "stream",
     "text": [
      "100%|██████████| 2000/2000 [04:42<00:00,  7.09it/s]\n"
     ]
    },
    {
     "name": "stdout",
     "output_type": "stream",
     "text": [
      "Average Training Accuracy in Epoch 32 : 0.5607141536195995\n",
      "Total Training Loss in Epoch 32 : 33932.13980962336\n",
      "Average Validation Accuracy in Epoch 32 : 0.5619794200453907\n",
      "Total Validation Loss in Epoch 32 : 3625.7943450063467\n",
      "0\n",
      "Epoch: 33/100\n"
     ]
    },
    {
     "name": "stderr",
     "output_type": "stream",
     "text": [
      "100%|██████████| 2000/2000 [04:42<00:00,  7.07it/s]\n"
     ]
    },
    {
     "name": "stdout",
     "output_type": "stream",
     "text": [
      "Average Training Accuracy in Epoch 33 : 0.5608124879539916\n",
      "Total Training Loss in Epoch 33 : 34987.75266620144\n",
      "Average Validation Accuracy in Epoch 33 : 0.5612643616454619\n",
      "Total Validation Loss in Epoch 33 : 3742.7913547083735\n",
      "0\n",
      "Epoch: 34/100\n"
     ]
    },
    {
     "name": "stderr",
     "output_type": "stream",
     "text": [
      "100%|██████████| 2000/2000 [04:45<00:00,  7.01it/s]\n"
     ]
    },
    {
     "name": "stdout",
     "output_type": "stream",
     "text": [
      "Average Training Accuracy in Epoch 34 : 0.5609062647273874\n",
      "Total Training Loss in Epoch 34 : 36042.64262467623\n",
      "Average Validation Accuracy in Epoch 34 : 0.5618132241092184\n",
      "Total Validation Loss in Epoch 34 : 3850.5522918887436\n",
      "0\n",
      "Epoch: 35/100\n"
     ]
    },
    {
     "name": "stderr",
     "output_type": "stream",
     "text": [
      "100%|██████████| 2000/2000 [04:49<00:00,  6.90it/s]\n"
     ]
    },
    {
     "name": "stdout",
     "output_type": "stream",
     "text": [
      "Average Training Accuracy in Epoch 35 : 0.5609854447251984\n",
      "Total Training Loss in Epoch 35 : 37098.07303578593\n",
      "Average Validation Accuracy in Epoch 35 : 0.5617207200601697\n",
      "Total Validation Loss in Epoch 35 : 3961.328077431768\n",
      "0\n",
      "Epoch: 36/100\n"
     ]
    },
    {
     "name": "stderr",
     "output_type": "stream",
     "text": [
      "100%|██████████| 2000/2000 [04:51<00:00,  6.87it/s]\n"
     ]
    },
    {
     "name": "stdout",
     "output_type": "stream",
     "text": [
      "Average Training Accuracy in Epoch 36 : 0.5610519344734235\n",
      "Total Training Loss in Epoch 36 : 38153.14075443521\n",
      "Average Validation Accuracy in Epoch 36 : 0.5623103590340665\n",
      "Total Validation Loss in Epoch 36 : 4070.266368020326\n",
      "0\n",
      "Epoch: 37/100\n"
     ]
    },
    {
     "name": "stderr",
     "output_type": "stream",
     "text": [
      "100%|██████████| 2000/2000 [04:57<00:00,  6.72it/s]\n"
     ]
    },
    {
     "name": "stdout",
     "output_type": "stream",
     "text": [
      "Average Training Accuracy in Epoch 37 : 0.5611294825812047\n",
      "Total Training Loss in Epoch 37 : 39206.924515796825\n",
      "Average Validation Accuracy in Epoch 37 : 0.5620189883358575\n",
      "Total Validation Loss in Epoch 37 : 4183.271259959787\n",
      "0\n",
      "Epoch: 38/100\n"
     ]
    },
    {
     "name": "stderr",
     "output_type": "stream",
     "text": [
      "100%|██████████| 2000/2000 [04:51<00:00,  6.86it/s]\n"
     ]
    },
    {
     "name": "stdout",
     "output_type": "stream",
     "text": [
      "Average Training Accuracy in Epoch 38 : 0.5612168583871895\n",
      "Total Training Loss in Epoch 38 : 40260.84792784229\n",
      "Average Validation Accuracy in Epoch 38 : 0.562061578033394\n",
      "Total Validation Loss in Epoch 38 : 4294.022710938007\n",
      "0\n",
      "Epoch: 39/100\n"
     ]
    },
    {
     "name": "stderr",
     "output_type": "stream",
     "text": [
      "100%|██████████| 2000/2000 [04:48<00:00,  6.93it/s]\n"
     ]
    },
    {
     "name": "stdout",
     "output_type": "stream",
     "text": [
      "Average Training Accuracy in Epoch 39 : 0.5613086419734054\n",
      "Total Training Loss in Epoch 39 : 41313.94658229314\n",
      "Average Validation Accuracy in Epoch 39 : 0.5619892462371634\n",
      "Total Validation Loss in Epoch 39 : 4411.051881890744\n",
      "0\n",
      "Epoch: 40/100\n"
     ]
    },
    {
     "name": "stderr",
     "output_type": "stream",
     "text": [
      "100%|██████████| 2000/2000 [04:45<00:00,  6.99it/s]\n"
     ]
    },
    {
     "name": "stdout",
     "output_type": "stream",
     "text": [
      "Average Training Accuracy in Epoch 40 : 0.5614041807812639\n",
      "Total Training Loss in Epoch 40 : 42367.10090398602\n",
      "Average Validation Accuracy in Epoch 40 : 0.5617349083097651\n",
      "Total Validation Loss in Epoch 40 : 4527.815844003111\n",
      "0\n",
      "Epoch: 41/100\n"
     ]
    },
    {
     "name": "stderr",
     "output_type": "stream",
     "text": [
      "100%|██████████| 2000/2000 [04:51<00:00,  6.87it/s]\n"
     ]
    },
    {
     "name": "stdout",
     "output_type": "stream",
     "text": [
      "Average Training Accuracy in Epoch 41 : 0.5614995307505313\n",
      "Total Training Loss in Epoch 41 : 43419.719651134685\n",
      "Average Validation Accuracy in Epoch 41 : 0.5619291114561805\n",
      "Total Validation Loss in Epoch 41 : 4638.731261108071\n",
      "0\n",
      "Epoch: 42/100\n"
     ]
    },
    {
     "name": "stderr",
     "output_type": "stream",
     "text": [
      "100%|██████████| 2000/2000 [05:03<00:00,  6.59it/s]\n"
     ]
    },
    {
     "name": "stdout",
     "output_type": "stream",
     "text": [
      "Average Training Accuracy in Epoch 42 : 0.5615887354709918\n",
      "Total Training Loss in Epoch 42 : 44473.052204692736\n",
      "Average Validation Accuracy in Epoch 42 : 0.5618246161219265\n",
      "Total Validation Loss in Epoch 42 : 4754.548785049468\n",
      "0\n",
      "Epoch: 43/100\n"
     ]
    },
    {
     "name": "stderr",
     "output_type": "stream",
     "text": [
      "100%|██████████| 2000/2000 [05:07<00:00,  6.51it/s]\n"
     ]
    },
    {
     "name": "stdout",
     "output_type": "stream",
     "text": [
      "Average Training Accuracy in Epoch 43 : 0.5616966700657856\n",
      "Total Training Loss in Epoch 43 : 45525.91030625999\n",
      "Average Validation Accuracy in Epoch 43 : 0.5612814268712387\n",
      "Total Validation Loss in Epoch 43 : 4870.674864970148\n",
      "0\n",
      "Epoch: 44/100\n"
     ]
    },
    {
     "name": "stderr",
     "output_type": "stream",
     "text": [
      "100%|██████████| 2000/2000 [05:06<00:00,  6.52it/s]\n"
     ]
    },
    {
     "name": "stdout",
     "output_type": "stream",
     "text": [
      "Average Training Accuracy in Epoch 44 : 0.5617770295735788\n",
      "Total Training Loss in Epoch 44 : 46578.53339252807\n",
      "Average Validation Accuracy in Epoch 44 : 0.5614504919615998\n",
      "Total Validation Loss in Epoch 44 : 4981.605685226619\n",
      "0\n",
      "Epoch: 45/100\n"
     ]
    },
    {
     "name": "stderr",
     "output_type": "stream",
     "text": [
      "100%|██████████| 2000/2000 [05:05<00:00,  6.55it/s]\n"
     ]
    },
    {
     "name": "stdout",
     "output_type": "stream",
     "text": [
      "Average Training Accuracy in Epoch 45 : 0.561851535720047\n",
      "Total Training Loss in Epoch 45 : 47630.92151349038\n",
      "Average Validation Accuracy in Epoch 45 : 0.5614629489485589\n",
      "Total Validation Loss in Epoch 45 : 5095.922349050641\n",
      "0\n",
      "Epoch: 46/100\n"
     ]
    },
    {
     "name": "stderr",
     "output_type": "stream",
     "text": [
      "100%|██████████| 2000/2000 [05:04<00:00,  6.57it/s]\n"
     ]
    },
    {
     "name": "stdout",
     "output_type": "stream",
     "text": [
      "Average Training Accuracy in Epoch 46 : 0.5619385269553927\n",
      "Total Training Loss in Epoch 46 : 48683.05222475529\n",
      "Average Validation Accuracy in Epoch 46 : 0.5611257297825069\n",
      "Total Validation Loss in Epoch 46 : 5207.237335130572\n",
      "0\n",
      "Epoch: 47/100\n"
     ]
    },
    {
     "name": "stderr",
     "output_type": "stream",
     "text": [
      "100%|██████████| 2000/2000 [05:06<00:00,  6.53it/s]\n"
     ]
    },
    {
     "name": "stdout",
     "output_type": "stream",
     "text": [
      "Average Training Accuracy in Epoch 47 : 0.5620362969656733\n",
      "Total Training Loss in Epoch 47 : 49735.44655019604\n",
      "Average Validation Accuracy in Epoch 47 : 0.5614900551676909\n",
      "Total Validation Loss in Epoch 47 : 5319.07079064101\n",
      "0\n",
      "Epoch: 48/100\n"
     ]
    },
    {
     "name": "stderr",
     "output_type": "stream",
     "text": [
      "100%|██████████| 2000/2000 [05:06<00:00,  6.52it/s]\n"
     ]
    },
    {
     "name": "stdout",
     "output_type": "stream",
     "text": [
      "Average Training Accuracy in Epoch 48 : 0.5621185718600172\n",
      "Total Training Loss in Epoch 48 : 50786.85622168891\n",
      "Average Validation Accuracy in Epoch 48 : 0.5617657093024657\n",
      "Total Validation Loss in Epoch 48 : 5435.159493587911\n",
      "0\n",
      "Epoch: 49/100\n"
     ]
    },
    {
     "name": "stderr",
     "output_type": "stream",
     "text": [
      "100%|██████████| 2000/2000 [05:07<00:00,  6.50it/s]\n"
     ]
    },
    {
     "name": "stdout",
     "output_type": "stream",
     "text": [
      "Average Training Accuracy in Epoch 49 : 0.5621292486830177\n",
      "Total Training Loss in Epoch 49 : 51841.1490465533\n",
      "Average Validation Accuracy in Epoch 49 : 0.5618742825231534\n",
      "Total Validation Loss in Epoch 49 : 5546.075176216662\n",
      "0\n",
      "Epoch: 50/100\n"
     ]
    },
    {
     "name": "stderr",
     "output_type": "stream",
     "text": [
      "100%|██████████| 2000/2000 [05:06<00:00,  6.52it/s]\n"
     ]
    },
    {
     "name": "stdout",
     "output_type": "stream",
     "text": [
      "Average Training Accuracy in Epoch 50 : 0.5621652574823797\n",
      "Total Training Loss in Epoch 50 : 52894.71811644733\n",
      "Average Validation Accuracy in Epoch 50 : 0.5613725077923387\n",
      "Total Validation Loss in Epoch 50 : 5664.852837137878\n",
      "0\n",
      "Epoch: 51/100\n"
     ]
    },
    {
     "name": "stderr",
     "output_type": "stream",
     "text": [
      "100%|██████████| 2000/2000 [05:08<00:00,  6.48it/s]\n"
     ]
    },
    {
     "name": "stdout",
     "output_type": "stream",
     "text": [
      "Average Training Accuracy in Epoch 51 : 0.5621817378495254\n",
      "Total Training Loss in Epoch 51 : 53947.975560380146\n",
      "Average Validation Accuracy in Epoch 51 : 0.5618101272158617\n",
      "Total Validation Loss in Epoch 51 : 5773.805644851178\n",
      "0\n",
      "Epoch: 52/100\n"
     ]
    },
    {
     "name": "stderr",
     "output_type": "stream",
     "text": [
      "100%|██████████| 2000/2000 [05:06<00:00,  6.53it/s]\n"
     ]
    },
    {
     "name": "stdout",
     "output_type": "stream",
     "text": [
      "Average Training Accuracy in Epoch 52 : 0.5622335529227813\n",
      "Total Training Loss in Epoch 52 : 54999.920646874234\n",
      "Average Validation Accuracy in Epoch 52 : 0.5623090274599739\n",
      "Total Validation Loss in Epoch 52 : 5886.2954656891525\n",
      "0\n",
      "Epoch: 53/100\n"
     ]
    },
    {
     "name": "stderr",
     "output_type": "stream",
     "text": [
      "100%|██████████| 2000/2000 [05:06<00:00,  6.53it/s]\n"
     ]
    },
    {
     "name": "stdout",
     "output_type": "stream",
     "text": [
      "Average Training Accuracy in Epoch 53 : 0.5622908434082736\n",
      "Total Training Loss in Epoch 53 : 56052.590505901724\n",
      "Average Validation Accuracy in Epoch 53 : 0.5623574394630796\n",
      "Total Validation Loss in Epoch 53 : 6000.572801027447\n",
      "0\n",
      "Epoch: 54/100\n"
     ]
    },
    {
     "name": "stderr",
     "output_type": "stream",
     "text": [
      "100%|██████████| 2000/2000 [05:07<00:00,  6.50it/s]\n"
     ]
    },
    {
     "name": "stdout",
     "output_type": "stream",
     "text": [
      "Average Training Accuracy in Epoch 54 : 0.5623241097309661\n",
      "Total Training Loss in Epoch 54 : 57106.39917967096\n",
      "Average Validation Accuracy in Epoch 54 : 0.5623592714644554\n",
      "Total Validation Loss in Epoch 54 : 6114.92493231222\n",
      "0\n",
      "Epoch: 55/100\n"
     ]
    },
    {
     "name": "stderr",
     "output_type": "stream",
     "text": [
      "100%|██████████| 2000/2000 [05:07<00:00,  6.50it/s]\n"
     ]
    },
    {
     "name": "stdout",
     "output_type": "stream",
     "text": [
      "Average Training Accuracy in Epoch 55 : 0.5623667397898029\n",
      "Total Training Loss in Epoch 55 : 58159.67549854517\n",
      "Average Validation Accuracy in Epoch 55 : 0.5620436253639107\n",
      "Total Validation Loss in Epoch 55 : 6234.378412295133\n",
      "0\n",
      "Epoch: 56/100\n"
     ]
    },
    {
     "name": "stderr",
     "output_type": "stream",
     "text": [
      "100%|██████████| 2000/2000 [05:08<00:00,  6.48it/s]\n"
     ]
    },
    {
     "name": "stdout",
     "output_type": "stream",
     "text": [
      "Average Training Accuracy in Epoch 56 : 0.5624393269806169\n",
      "Total Training Loss in Epoch 56 : 59211.865704506636\n",
      "Average Validation Accuracy in Epoch 56 : 0.5620219966366754\n",
      "Total Validation Loss in Epoch 56 : 6346.019537407905\n",
      "0\n",
      "Epoch: 57/100\n"
     ]
    },
    {
     "name": "stderr",
     "output_type": "stream",
     "text": [
      "100%|██████████| 2000/2000 [05:06<00:00,  6.53it/s]\n"
     ]
    },
    {
     "name": "stdout",
     "output_type": "stream",
     "text": [
      "Average Training Accuracy in Epoch 57 : 0.5624916212535872\n",
      "Total Training Loss in Epoch 57 : 60264.60772244632\n",
      "Average Validation Accuracy in Epoch 57 : 0.5622882733895983\n",
      "Total Validation Loss in Epoch 57 : 6461.935824062675\n",
      "0\n",
      "Epoch: 58/100\n"
     ]
    },
    {
     "name": "stderr",
     "output_type": "stream",
     "text": [
      "100%|██████████| 2000/2000 [05:04<00:00,  6.57it/s]\n"
     ]
    },
    {
     "name": "stdout",
     "output_type": "stream",
     "text": [
      "Average Training Accuracy in Epoch 58 : 0.5625446215405546\n",
      "Total Training Loss in Epoch 58 : 61317.086144670844\n",
      "Average Validation Accuracy in Epoch 58 : 0.562302541106875\n",
      "Total Validation Loss in Epoch 58 : 6575.241995263845\n",
      "0\n",
      "Epoch: 59/100\n"
     ]
    },
    {
     "name": "stderr",
     "output_type": "stream",
     "text": [
      "100%|██████████| 2000/2000 [05:12<00:00,  6.41it/s]\n"
     ]
    },
    {
     "name": "stdout",
     "output_type": "stream",
     "text": [
      "Average Training Accuracy in Epoch 59 : 0.5626224341352107\n",
      "Total Training Loss in Epoch 59 : 62368.86879417859\n",
      "Average Validation Accuracy in Epoch 59 : 0.5622359470647397\n",
      "Total Validation Loss in Epoch 59 : 6684.5841535925865\n",
      "0\n",
      "Epoch: 60/100\n"
     ]
    },
    {
     "name": "stderr",
     "output_type": "stream",
     "text": [
      "100%|██████████| 2000/2000 [05:17<00:00,  6.30it/s]\n"
     ]
    },
    {
     "name": "stdout",
     "output_type": "stream",
     "text": [
      "Average Training Accuracy in Epoch 60 : 0.5626791289236397\n",
      "Total Training Loss in Epoch 60 : 63420.42251407169\n",
      "Average Validation Accuracy in Epoch 60 : 0.5623613900942728\n",
      "Total Validation Loss in Epoch 60 : 6793.303973510861\n",
      "0\n",
      "Epoch: 61/100\n"
     ]
    },
    {
     "name": "stderr",
     "output_type": "stream",
     "text": [
      "100%|██████████| 2000/2000 [05:16<00:00,  6.33it/s]\n"
     ]
    },
    {
     "name": "stdout",
     "output_type": "stream",
     "text": [
      "Average Training Accuracy in Epoch 61 : 0.5627469720874654\n",
      "Total Training Loss in Epoch 61 : 64471.67611140758\n",
      "Average Validation Accuracy in Epoch 61 : 0.5628885511837167\n",
      "Total Validation Loss in Epoch 61 : 6904.881172187626\n",
      "0\n",
      "Epoch: 62/100\n"
     ]
    },
    {
     "name": "stderr",
     "output_type": "stream",
     "text": [
      "100%|██████████| 2000/2000 [05:15<00:00,  6.33it/s]\n"
     ]
    },
    {
     "name": "stdout",
     "output_type": "stream",
     "text": [
      "Average Training Accuracy in Epoch 62 : 0.5628060491951483\n",
      "Total Training Loss in Epoch 62 : 65523.57133483514\n",
      "Average Validation Accuracy in Epoch 62 : 0.5632052791494155\n",
      "Total Validation Loss in Epoch 62 : 7015.172098249197\n",
      "0\n",
      "Epoch: 63/100\n"
     ]
    },
    {
     "name": "stderr",
     "output_type": "stream",
     "text": [
      "100%|██████████| 2000/2000 [05:17<00:00,  6.30it/s]\n"
     ]
    },
    {
     "name": "stdout",
     "output_type": "stream",
     "text": [
      "Average Training Accuracy in Epoch 63 : 0.562857917126209\n",
      "Total Training Loss in Epoch 63 : 66574.98099870048\n",
      "Average Validation Accuracy in Epoch 63 : 0.5627318889585634\n",
      "Total Validation Loss in Epoch 63 : 7129.191474065185\n",
      "0\n",
      "Epoch: 64/100\n"
     ]
    },
    {
     "name": "stderr",
     "output_type": "stream",
     "text": [
      "100%|██████████| 2000/2000 [03:50<00:00,  8.66it/s]\n"
     ]
    },
    {
     "name": "stdout",
     "output_type": "stream",
     "text": [
      "Average Training Accuracy in Epoch 64 : 0.5628834416980389\n",
      "Total Training Loss in Epoch 64 : 67626.61304999515\n",
      "Average Validation Accuracy in Epoch 64 : 0.563156206154672\n",
      "Total Validation Loss in Epoch 64 : 7238.186120375991\n",
      "0\n",
      "Epoch: 65/100\n"
     ]
    },
    {
     "name": "stderr",
     "output_type": "stream",
     "text": [
      "100%|██████████| 2000/2000 [03:48<00:00,  8.75it/s]\n"
     ]
    },
    {
     "name": "stdout",
     "output_type": "stream",
     "text": [
      "Average Training Accuracy in Epoch 65 : 0.5629259124191335\n",
      "Total Training Loss in Epoch 65 : 68678.07546389848\n",
      "Average Validation Accuracy in Epoch 65 : 0.5632897615716435\n",
      "Total Validation Loss in Epoch 65 : 7349.82666721195\n",
      "0\n",
      "Epoch: 66/100\n"
     ]
    },
    {
     "name": "stderr",
     "output_type": "stream",
     "text": [
      "100%|██████████| 2000/2000 [03:47<00:00,  8.79it/s]\n"
     ]
    },
    {
     "name": "stdout",
     "output_type": "stream",
     "text": [
      "Average Training Accuracy in Epoch 66 : 0.5629924156573799\n",
      "Total Training Loss in Epoch 66 : 69727.86362767033\n",
      "Average Validation Accuracy in Epoch 66 : 0.5632613783072906\n",
      "Total Validation Loss in Epoch 66 : 7462.10744638741\n",
      "0\n",
      "Epoch: 67/100\n"
     ]
    },
    {
     "name": "stderr",
     "output_type": "stream",
     "text": [
      "100%|██████████| 2000/2000 [03:46<00:00,  8.82it/s]\n"
     ]
    },
    {
     "name": "stdout",
     "output_type": "stream",
     "text": [
      "Average Training Accuracy in Epoch 67 : 0.5630509680498447\n",
      "Total Training Loss in Epoch 67 : 70777.9187387377\n",
      "Average Validation Accuracy in Epoch 67 : 0.5630681258098069\n",
      "Total Validation Loss in Epoch 67 : 7577.742931738496\n",
      "0\n",
      "Epoch: 68/100\n"
     ]
    },
    {
     "name": "stderr",
     "output_type": "stream",
     "text": [
      "100%|██████████| 2000/2000 [03:47<00:00,  8.80it/s]\n"
     ]
    },
    {
     "name": "stdout",
     "output_type": "stream",
     "text": [
      "Average Training Accuracy in Epoch 68 : 0.5630836600048796\n",
      "Total Training Loss in Epoch 68 : 71828.19782627374\n",
      "Average Validation Accuracy in Epoch 68 : 0.5630355475692298\n",
      "Total Validation Loss in Epoch 68 : 7693.656193599105\n",
      "0\n",
      "Epoch: 69/100\n"
     ]
    },
    {
     "name": "stderr",
     "output_type": "stream",
     "text": [
      "100%|██████████| 2000/2000 [03:46<00:00,  8.83it/s]\n"
     ]
    },
    {
     "name": "stdout",
     "output_type": "stream",
     "text": [
      "Average Training Accuracy in Epoch 69 : 0.563121218452689\n",
      "Total Training Loss in Epoch 69 : 72878.41858434118\n",
      "Average Validation Accuracy in Epoch 69 : 0.5634501392828921\n",
      "Total Validation Loss in Epoch 69 : 7805.370941866189\n",
      "0\n",
      "Epoch: 70/100\n"
     ]
    },
    {
     "name": "stderr",
     "output_type": "stream",
     "text": [
      "100%|██████████| 2000/2000 [03:48<00:00,  8.76it/s]\n"
     ]
    },
    {
     "name": "stdout",
     "output_type": "stream",
     "text": [
      "Average Training Accuracy in Epoch 70 : 0.563164267038075\n",
      "Total Training Loss in Epoch 70 : 73929.2504120171\n",
      "Average Validation Accuracy in Epoch 70 : 0.5631702570667756\n",
      "Total Validation Loss in Epoch 70 : 7919.623065449297\n",
      "0\n",
      "Epoch: 71/100\n"
     ]
    },
    {
     "name": "stderr",
     "output_type": "stream",
     "text": [
      "100%|██████████| 2000/2000 [03:48<00:00,  8.74it/s]\n"
     ]
    },
    {
     "name": "stdout",
     "output_type": "stream",
     "text": [
      "Average Training Accuracy in Epoch 71 : 0.5632120922756657\n",
      "Total Training Loss in Epoch 71 : 74979.73241936229\n",
      "Average Validation Accuracy in Epoch 71 : 0.5631275831317712\n",
      "Total Validation Loss in Epoch 71 : 8036.175438895822\n",
      "0\n",
      "Epoch: 72/100\n"
     ]
    },
    {
     "name": "stderr",
     "output_type": "stream",
     "text": [
      "100%|██████████| 2000/2000 [03:49<00:00,  8.73it/s]\n"
     ]
    },
    {
     "name": "stdout",
     "output_type": "stream",
     "text": [
      "Average Training Accuracy in Epoch 72 : 0.5632483678279548\n",
      "Total Training Loss in Epoch 72 : 76031.60235979967\n",
      "Average Validation Accuracy in Epoch 72 : 0.5633474491653032\n",
      "Total Validation Loss in Epoch 72 : 8145.808086588979\n",
      "0\n",
      "Epoch: 73/100\n"
     ]
    },
    {
     "name": "stderr",
     "output_type": "stream",
     "text": [
      "100%|██████████| 2000/2000 [03:48<00:00,  8.75it/s]\n"
     ]
    },
    {
     "name": "stdout",
     "output_type": "stream",
     "text": [
      "Average Training Accuracy in Epoch 73 : 0.5633044957062358\n",
      "Total Training Loss in Epoch 73 : 77083.29711925052\n",
      "Average Validation Accuracy in Epoch 73 : 0.5631494844763553\n",
      "Total Validation Loss in Epoch 73 : 8259.714889094234\n",
      "0\n",
      "Epoch: 74/100\n"
     ]
    },
    {
     "name": "stderr",
     "output_type": "stream",
     "text": [
      "100%|██████████| 2000/2000 [03:47<00:00,  8.79it/s]\n"
     ]
    },
    {
     "name": "stdout",
     "output_type": "stream",
     "text": [
      "Average Training Accuracy in Epoch 74 : 0.5633573051978507\n",
      "Total Training Loss in Epoch 74 : 78134.38366889022\n",
      "Average Validation Accuracy in Epoch 74 : 0.5632880109334616\n",
      "Total Validation Loss in Epoch 74 : 8371.029097899795\n",
      "0\n",
      "Epoch: 75/100\n"
     ]
    },
    {
     "name": "stderr",
     "output_type": "stream",
     "text": [
      "100%|██████████| 2000/2000 [03:48<00:00,  8.75it/s]\n"
     ]
    },
    {
     "name": "stdout",
     "output_type": "stream",
     "text": [
      "Average Training Accuracy in Epoch 75 : 0.5634135626330475\n",
      "Total Training Loss in Epoch 75 : 79185.37907817774\n",
      "Average Validation Accuracy in Epoch 75 : 0.5633852540088197\n",
      "Total Validation Loss in Epoch 75 : 8484.871878862381\n",
      "0\n",
      "Epoch: 76/100\n"
     ]
    },
    {
     "name": "stderr",
     "output_type": "stream",
     "text": [
      "100%|██████████| 2000/2000 [03:49<00:00,  8.72it/s]\n"
     ]
    },
    {
     "name": "stdout",
     "output_type": "stream",
     "text": [
      "Average Training Accuracy in Epoch 76 : 0.5634323353324772\n",
      "Total Training Loss in Epoch 76 : 80237.6263937708\n",
      "Average Validation Accuracy in Epoch 76 : 0.5634840379706829\n",
      "Total Validation Loss in Epoch 76 : 8596.499013338238\n",
      "0\n",
      "Epoch: 77/100\n"
     ]
    },
    {
     "name": "stderr",
     "output_type": "stream",
     "text": [
      "100%|██████████| 2000/2000 [03:47<00:00,  8.79it/s]\n"
     ]
    },
    {
     "name": "stdout",
     "output_type": "stream",
     "text": [
      "Average Training Accuracy in Epoch 77 : 0.5634027063143621\n",
      "Total Training Loss in Epoch 77 : 81294.16855203919\n",
      "Average Validation Accuracy in Epoch 77 : 0.5632535232320525\n",
      "Total Validation Loss in Epoch 77 : 8711.272627215832\n",
      "0\n",
      "Epoch: 78/100\n"
     ]
    },
    {
     "name": "stderr",
     "output_type": "stream",
     "text": [
      "100%|██████████| 2000/2000 [03:48<00:00,  8.73it/s]\n"
     ]
    },
    {
     "name": "stdout",
     "output_type": "stream",
     "text": [
      "Average Training Accuracy in Epoch 78 : 0.5634318526754968\n",
      "Total Training Loss in Epoch 78 : 82345.77212364413\n",
      "Average Validation Accuracy in Epoch 78 : 0.5633539775403169\n",
      "Total Validation Loss in Epoch 78 : 8825.43281282857\n",
      "0\n",
      "Epoch: 79/100\n"
     ]
    },
    {
     "name": "stderr",
     "output_type": "stream",
     "text": [
      "100%|██████████| 2000/2000 [03:47<00:00,  8.80it/s]\n"
     ]
    },
    {
     "name": "stdout",
     "output_type": "stream",
     "text": [
      "Average Training Accuracy in Epoch 79 : 0.5634669041804309\n",
      "Total Training Loss in Epoch 79 : 83395.4602543544\n",
      "Average Validation Accuracy in Epoch 79 : 0.5634828544627356\n",
      "Total Validation Loss in Epoch 79 : 8941.234332446009\n",
      "0\n",
      "Epoch: 80/100\n"
     ]
    },
    {
     "name": "stderr",
     "output_type": "stream",
     "text": [
      "100%|██████████| 2000/2000 [03:49<00:00,  8.71it/s]\n"
     ]
    },
    {
     "name": "stdout",
     "output_type": "stream",
     "text": [
      "Average Training Accuracy in Epoch 80 : 0.5635107107406017\n",
      "Total Training Loss in Epoch 80 : 84445.91099296883\n",
      "Average Validation Accuracy in Epoch 80 : 0.5634669899765867\n",
      "Total Validation Loss in Epoch 80 : 9057.594693560153\n",
      "0\n",
      "Epoch: 81/100\n"
     ]
    },
    {
     "name": "stderr",
     "output_type": "stream",
     "text": [
      "100%|██████████| 2000/2000 [03:48<00:00,  8.74it/s]\n"
     ]
    },
    {
     "name": "stdout",
     "output_type": "stream",
     "text": [
      "Average Training Accuracy in Epoch 81 : 0.5635504526823392\n",
      "Total Training Loss in Epoch 81 : 85496.62072106637\n",
      "Average Validation Accuracy in Epoch 81 : 0.5634440445842475\n",
      "Total Validation Loss in Epoch 81 : 9174.343758571893\n",
      "0\n",
      "Epoch: 82/100\n"
     ]
    },
    {
     "name": "stderr",
     "output_type": "stream",
     "text": [
      "100%|██████████| 2000/2000 [03:49<00:00,  8.73it/s]\n"
     ]
    },
    {
     "name": "stdout",
     "output_type": "stream",
     "text": [
      "Average Training Accuracy in Epoch 82 : 0.5635681481280977\n",
      "Total Training Loss in Epoch 82 : 86548.73296986334\n",
      "Average Validation Accuracy in Epoch 82 : 0.5634934205005354\n",
      "Total Validation Loss in Epoch 82 : 9290.041726950556\n",
      "0\n",
      "Epoch: 83/100\n"
     ]
    },
    {
     "name": "stderr",
     "output_type": "stream",
     "text": [
      "100%|██████████| 2000/2000 [03:47<00:00,  8.80it/s]\n"
     ]
    },
    {
     "name": "stdout",
     "output_type": "stream",
     "text": [
      "Average Training Accuracy in Epoch 83 : 0.563600043709603\n",
      "Total Training Loss in Epoch 83 : 87599.21796351112\n",
      "Average Validation Accuracy in Epoch 83 : 0.5635748143958669\n",
      "Total Validation Loss in Epoch 83 : 9400.467303209007\n",
      "0\n",
      "Epoch: 84/100\n"
     ]
    },
    {
     "name": "stderr",
     "output_type": "stream",
     "text": [
      "100%|██████████| 2000/2000 [03:48<00:00,  8.75it/s]\n"
     ]
    },
    {
     "name": "stdout",
     "output_type": "stream",
     "text": [
      "Average Training Accuracy in Epoch 84 : 0.5636319366831865\n",
      "Total Training Loss in Epoch 84 : 88648.86288290843\n",
      "Average Validation Accuracy in Epoch 84 : 0.5636998556419054\n",
      "Total Validation Loss in Epoch 84 : 9512.612660951912\n",
      "0\n",
      "Epoch: 85/100\n"
     ]
    },
    {
     "name": "stderr",
     "output_type": "stream",
     "text": [
      "100%|██████████| 2000/2000 [03:48<00:00,  8.77it/s]\n"
     ]
    },
    {
     "name": "stdout",
     "output_type": "stream",
     "text": [
      "Average Training Accuracy in Epoch 85 : 0.5636541211477097\n",
      "Total Training Loss in Epoch 85 : 89698.7956980262\n",
      "Average Validation Accuracy in Epoch 85 : 0.5636828347652713\n",
      "Total Validation Loss in Epoch 85 : 9625.282541535795\n",
      "0\n",
      "Epoch: 86/100\n"
     ]
    },
    {
     "name": "stderr",
     "output_type": "stream",
     "text": [
      "100%|██████████| 2000/2000 [03:48<00:00,  8.75it/s]\n"
     ]
    },
    {
     "name": "stdout",
     "output_type": "stream",
     "text": [
      "Average Training Accuracy in Epoch 86 : 0.563683354339714\n",
      "Total Training Loss in Epoch 86 : 90748.84242551588\n",
      "Average Validation Accuracy in Epoch 86 : 0.5636910092759184\n",
      "Total Validation Loss in Epoch 86 : 9739.612109974027\n",
      "0\n",
      "Epoch: 87/100\n"
     ]
    },
    {
     "name": "stderr",
     "output_type": "stream",
     "text": [
      "100%|██████████| 2000/2000 [03:48<00:00,  8.74it/s]\n"
     ]
    },
    {
     "name": "stdout",
     "output_type": "stream",
     "text": [
      "Average Training Accuracy in Epoch 87 : 0.5636884314390435\n",
      "Total Training Loss in Epoch 87 : 91799.92637163587\n",
      "Average Validation Accuracy in Epoch 87 : 0.5638413673868381\n",
      "Total Validation Loss in Epoch 87 : 9849.330350592732\n",
      "0\n",
      "Epoch: 88/100\n"
     ]
    },
    {
     "name": "stderr",
     "output_type": "stream",
     "text": [
      "100%|██████████| 2000/2000 [03:49<00:00,  8.70it/s]\n"
     ]
    },
    {
     "name": "stdout",
     "output_type": "stream",
     "text": [
      "Average Training Accuracy in Epoch 88 : 0.5637053440253843\n",
      "Total Training Loss in Epoch 88 : 92850.0635910146\n",
      "Average Validation Accuracy in Epoch 88 : 0.5638249161621471\n",
      "Total Validation Loss in Epoch 88 : 9967.030628070235\n",
      "0\n",
      "Epoch: 89/100\n"
     ]
    },
    {
     "name": "stderr",
     "output_type": "stream",
     "text": [
      "100%|██████████| 2000/2000 [03:48<00:00,  8.76it/s]\n"
     ]
    },
    {
     "name": "stdout",
     "output_type": "stream",
     "text": [
      "Average Training Accuracy in Epoch 89 : 0.5637142222652609\n",
      "Total Training Loss in Epoch 89 : 93901.98855595663\n",
      "Average Validation Accuracy in Epoch 89 : 0.5637138651903677\n",
      "Total Validation Loss in Epoch 89 : 10077.95718639344\n",
      "0\n",
      "Epoch: 90/100\n"
     ]
    },
    {
     "name": "stderr",
     "output_type": "stream",
     "text": [
      "100%|██████████| 2000/2000 [03:49<00:00,  8.72it/s]\n"
     ]
    },
    {
     "name": "stdout",
     "output_type": "stream",
     "text": [
      "Average Training Accuracy in Epoch 90 : 0.5637200873633226\n",
      "Total Training Loss in Epoch 90 : 94954.44164232537\n",
      "Average Validation Accuracy in Epoch 90 : 0.5636942782035719\n",
      "Total Validation Loss in Epoch 90 : 10194.785986293107\n",
      "0\n",
      "Epoch: 91/100\n"
     ]
    },
    {
     "name": "stderr",
     "output_type": "stream",
     "text": [
      "100%|██████████| 2000/2000 [03:47<00:00,  8.78it/s]\n"
     ]
    },
    {
     "name": "stdout",
     "output_type": "stream",
     "text": [
      "Average Training Accuracy in Epoch 91 : 0.5637467375756702\n",
      "Total Training Loss in Epoch 91 : 96005.64042899013\n",
      "Average Validation Accuracy in Epoch 91 : 0.5639493753816318\n",
      "Total Validation Loss in Epoch 91 : 10309.009334322065\n",
      "0\n",
      "Epoch: 92/100\n"
     ]
    },
    {
     "name": "stderr",
     "output_type": "stream",
     "text": [
      "100%|██████████| 2000/2000 [03:49<00:00,  8.71it/s]\n"
     ]
    },
    {
     "name": "stdout",
     "output_type": "stream",
     "text": [
      "Average Training Accuracy in Epoch 92 : 0.5637540975992932\n",
      "Total Training Loss in Epoch 92 : 97059.03828665987\n",
      "Average Validation Accuracy in Epoch 92 : 0.5638894527820546\n",
      "Total Validation Loss in Epoch 92 : 10423.258808102459\n",
      "0\n",
      "Epoch: 93/100\n"
     ]
    },
    {
     "name": "stderr",
     "output_type": "stream",
     "text": [
      "100%|██████████| 2000/2000 [03:48<00:00,  8.74it/s]\n"
     ]
    },
    {
     "name": "stdout",
     "output_type": "stream",
     "text": [
      "Average Training Accuracy in Epoch 93 : 0.5637735183495748\n",
      "Total Training Loss in Epoch 93 : 98110.4300006926\n",
      "Average Validation Accuracy in Epoch 93 : 0.563826455126807\n",
      "Total Validation Loss in Epoch 93 : 10539.542679458857\n",
      "0\n",
      "Epoch: 94/100\n"
     ]
    },
    {
     "name": "stderr",
     "output_type": "stream",
     "text": [
      "100%|██████████| 2000/2000 [03:48<00:00,  8.76it/s]\n"
     ]
    },
    {
     "name": "stdout",
     "output_type": "stream",
     "text": [
      "Average Training Accuracy in Epoch 94 : 0.5638092969709492\n",
      "Total Training Loss in Epoch 94 : 99160.5778378807\n",
      "Average Validation Accuracy in Epoch 94 : 0.5638823880063013\n",
      "Total Validation Loss in Epoch 94 : 10650.706650651991\n",
      "0\n",
      "Epoch: 95/100\n"
     ]
    },
    {
     "name": "stderr",
     "output_type": "stream",
     "text": [
      "100%|██████████| 2000/2000 [03:50<00:00,  8.68it/s]\n"
     ]
    },
    {
     "name": "stdout",
     "output_type": "stream",
     "text": [
      "Average Training Accuracy in Epoch 95 : 0.5638280750245248\n",
      "Total Training Loss in Epoch 95 : 100210.90761690028\n",
      "Average Validation Accuracy in Epoch 95 : 0.5639914562566892\n",
      "Total Validation Loss in Epoch 95 : 10765.908248830587\n",
      "0\n",
      "Epoch: 96/100\n"
     ]
    },
    {
     "name": "stderr",
     "output_type": "stream",
     "text": [
      "100%|██████████| 2000/2000 [03:49<00:00,  8.73it/s]\n"
     ]
    },
    {
     "name": "stdout",
     "output_type": "stream",
     "text": [
      "Average Training Accuracy in Epoch 96 : 0.5638679124399787\n",
      "Total Training Loss in Epoch 96 : 101258.87456879765\n",
      "Average Validation Accuracy in Epoch 96 : 0.5640788683743448\n",
      "Total Validation Loss in Epoch 96 : 10875.461921419948\n",
      "0\n",
      "Epoch: 97/100\n"
     ]
    },
    {
     "name": "stderr",
     "output_type": "stream",
     "text": [
      "100%|██████████| 2000/2000 [03:48<00:00,  8.76it/s]\n"
     ]
    },
    {
     "name": "stdout",
     "output_type": "stream",
     "text": [
      "Average Training Accuracy in Epoch 97 : 0.5639058946464403\n",
      "Total Training Loss in Epoch 97 : 102307.75934886932\n",
      "Average Validation Accuracy in Epoch 97 : 0.5637798862577867\n",
      "Total Validation Loss in Epoch 97 : 10985.33330995217\n",
      "0\n",
      "Epoch: 98/100\n"
     ]
    },
    {
     "name": "stderr",
     "output_type": "stream",
     "text": [
      "100%|██████████| 2000/2000 [03:49<00:00,  8.72it/s]\n"
     ]
    },
    {
     "name": "stdout",
     "output_type": "stream",
     "text": [
      "Average Training Accuracy in Epoch 98 : 0.5639414348720516\n",
      "Total Training Loss in Epoch 98 : 103357.11168204993\n",
      "Average Validation Accuracy in Epoch 98 : 0.5637976290996434\n",
      "Total Validation Loss in Epoch 98 : 11099.49696708098\n",
      "0\n",
      "Epoch: 99/100\n"
     ]
    },
    {
     "name": "stderr",
     "output_type": "stream",
     "text": [
      "100%|██████████| 2000/2000 [03:48<00:00,  8.74it/s]\n"
     ]
    },
    {
     "name": "stdout",
     "output_type": "stream",
     "text": [
      "Average Training Accuracy in Epoch 99 : 0.563976084874021\n",
      "Total Training Loss in Epoch 99 : 104405.76117706485\n",
      "Average Validation Accuracy in Epoch 99 : 0.5637239885860772\n",
      "Total Validation Loss in Epoch 99 : 11211.629151228815\n",
      "0\n",
      "Epoch: 100/100\n"
     ]
    },
    {
     "name": "stderr",
     "output_type": "stream",
     "text": [
      "100%|██████████| 2000/2000 [03:48<00:00,  8.75it/s]\n"
     ]
    },
    {
     "name": "stdout",
     "output_type": "stream",
     "text": [
      "Average Training Accuracy in Epoch 100 : 0.5640116310198977\n",
      "Total Training Loss in Epoch 100 : 105454.27132709883\n",
      "Average Validation Accuracy in Epoch 100 : 0.563676324108988\n",
      "Total Validation Loss in Epoch 100 : 11324.271830510348\n",
      "0\n"
     ]
    }
   ],
   "source": [
    "EPOCHS = 100\n",
    "LEN_TRAIN = 2000\n",
    "NUM_CHANNEL = 2 # Number of Mic Inputs (>=2 for BF)\n",
    "REFERENCE_CHANNEL = 0\n",
    "INIT_LR = 0.01\n",
    "BATCH_SIZE = 1#64\n",
    "LEARN_LOSS_PARAMS = False\n",
    "device =  torch.device('cuda:3') if torch.cuda.is_available() else torch.device('cpu')\n",
    "\n",
    "model = MaskNet().to(device)\n",
    "model= torch.nn.DataParallel(model,device_ids=[3])\n",
    "\n",
    "lossBCE = BCELoss()\n",
    "\n",
    "opt = Adam(model.parameters(), lr=INIT_LR)\n",
    "\n",
    "H = {\n",
    "    \"train_loss\":[],\n",
    "    \"train_acc\":[],\n",
    "    \"val_loss\":[],\n",
    "    \"val_acc\":[]\n",
    "}\n",
    "\n",
    "def check_accuracy_training(speech_pred, y_s):\n",
    "    speech_pred = (speech_pred>0.15).float()\n",
    "    return float(torch.sum((speech_pred == y_s).float())/torch.sum(torch.ones(513,speech_pred.shape[1])))\n",
    "\n",
    "def check_accuracy_validation(model):\n",
    "    example_nr = int(np.random.random()*(len(X)-LEN_TRAIN)+LEN_TRAIN)\n",
    "    model.eval()\n",
    "    pred = model(X[example_nr])\n",
    "    val_loss = lossBCE(pred,Y[example_nr][0])\n",
    "    pred = (pred>0.15).float()\n",
    "    model.train()\n",
    "    return float(torch.sum((pred == Y[example_nr][0]).float())/torch.sum(torch.ones(513,X[example_nr].shape[1]))),val_loss\n",
    "\n",
    "print(\"[INFO] training the network...\")\n",
    "#X = stft_mix[:50].to(device)\n",
    "#Y = Y.to(device)\n",
    "X = X.to(device)\n",
    "Y = Y.to(device)\n",
    "trainX = X[:LEN_TRAIN]\n",
    "trainY = Y\n",
    "\n",
    "for epoch in range(0, EPOCHS):\n",
    "    print(\"Epoch:\",str(epoch+1)+\"/\"+str(EPOCHS))\n",
    "    # Train Mode\n",
    "    model.train()\n",
    "    \n",
    "    # Initialize\n",
    "    totalTrainLoss = 0\n",
    "    totalValLoss = 0\n",
    "    trainCorrect = 0\n",
    "    valCorrect = 0\n",
    "\n",
    "    for i in tqdm(range(0,len(trainX))): # Iterate over Training Examples\n",
    "        y_s = trainY[i][0] # 0 speech only\n",
    "        x = trainX[i]\n",
    "        speech_pred=model(x)#, noise_pred = model(x)\n",
    "        loss = lossBCE(speech_pred,y_s) #+ lossMSE(noise_pred,y_n)\n",
    "        # zero out the gradients, perform the backpropagation step, and update the weights\n",
    "        opt.zero_grad()\n",
    "        loss.backward()\n",
    "        opt.step()\n",
    "        \n",
    "        H[\"train_acc\"].append(check_accuracy_training(speech_pred,y_s))\n",
    "        H[\"train_loss\"].append(float(loss))\n",
    "        if i % 10 == 0:\n",
    "            val_acc, val_loss = check_accuracy_validation(model)\n",
    "            H[\"val_acc\"].append(val_acc)\n",
    "            H[\"val_loss\"].append(float(val_loss))\n",
    "    # Print results of Epoch        \n",
    "    print(\"Average Training Accuracy in Epoch\",str(epoch+1),\":\",np.mean(np.array(H[\"train_acc\"])))\n",
    "    print(\"Total Training Loss in Epoch\",str(epoch+1),\":\",np.sum(np.array(H[\"train_loss\"])))\n",
    "    print(\"Average Validation Accuracy in Epoch\",str(epoch+1),\":\",np.mean(np.array(H[\"val_acc\"])))\n",
    "    print(\"Total Validation Loss in Epoch\",str(epoch+1),\":\",np.sum(np.array(H[\"val_loss\"])))\n",
    "    # Save Model after Epoch        \n",
    "    MODEL_SAVE_PATH = \"/project/data_asr/CHiME5/data/librenoise/models/LSTMall\"\n",
    "    if (epoch+1)%10 == 0:\n",
    "        torch.save(model.state_dict(), MODEL_SAVE_PATH + \"epoch\" + str(epoch+1) + \".pt\")\n",
    "    print(totalTrainLoss)\n",
    "PICKLE_SAVE_PATH = '/project/data_asr/CHiME5/data/librenoise/models/paramsLSTM.pkl'\n",
    "torch.save(model.state_dict(), MODEL_SAVE_PATH + \"final\" + \".pt\")\n",
    "with open(PICKLE_SAVE_PATH, 'wb') as f:\n",
    "    pickle.dump(H, f)"
   ]
  },
  {
   "cell_type": "markdown",
   "metadata": {},
   "source": [
    "## Load Model & Evaluate"
   ]
  },
  {
   "cell_type": "code",
   "execution_count": 19,
   "metadata": {},
   "outputs": [
    {
     "data": {
      "text/plain": [
       "MaskNet(\n",
       "  (lstm): LSTM(4, 128, num_layers=2, bidirectional=True)\n",
       "  (fc): Linear(in_features=256, out_features=1, bias=True)\n",
       "  (sigmoid): Sigmoid()\n",
       ")"
      ]
     },
     "execution_count": 19,
     "metadata": {},
     "output_type": "execute_result"
    }
   ],
   "source": [
    "PATH = \"/project/data_asr/CHiME5/data/librenoise/models/LSTMallepoch100.pt\"\n",
    "#device = torch.device('cuda:0')\n",
    "state_dict = torch.load(PATH)\n",
    "# create new OrderedDict that does not contain `module.`\n",
    "from collections import OrderedDict\n",
    "new_state_dict = OrderedDict()\n",
    "for k, v in state_dict.items():\n",
    "    name = k[7:] # remove `module.` from state dict\n",
    "    new_state_dict[name] = v\n",
    "# load params\n",
    "model = MaskNet()\n",
    "model.load_state_dict(new_state_dict)\n",
    "#model= torch.nn.DataParallel(model)\n",
    "#model.load_state_dict(torch.load(PATH))#,map_location=device))\n",
    "#model.to(device)\n",
    "model.eval()"
   ]
  },
  {
   "cell_type": "code",
   "execution_count": 16,
   "metadata": {},
   "outputs": [
    {
     "data": {
      "image/png": "[encoded data removed]",
      "text/plain": [
       "<Figure size 432x288 with 2 Axes>"
      ]
     },
     "metadata": {
      "needs_background": "light"
     },
     "output_type": "display_data"
    },
    {
     "data": {
      "image/png": "[encoded data removed]",
      "text/plain": [
       "<Figure size 432x288 with 2 Axes>"
      ]
     },
     "metadata": {
      "needs_background": "light"
     },
     "output_type": "display_data"
    },
    {
     "data": {
      "image/png": "[encoded data removed]",
      "text/plain": [
       "<Figure size 432x288 with 2 Axes>"
      ]
     },
     "metadata": {
      "needs_background": "light"
     },
     "output_type": "display_data"
    },
    {
     "data": {
      "image/png": "[encoded data removed]",
      "text/plain": [
       "<Figure size 432x288 with 2 Axes>"
      ]
     },
     "metadata": {
      "needs_background": "light"
     },
     "output_type": "display_data"
    }
   ],
   "source": [
    "X = X.cpu()\n",
    "Y = Y.cpu()\n",
    "def evaluate_example(e_nr):\n",
    "    model.eval()\n",
    "    speech_pred = (model(X[e_nr])>0.2).float()\n",
    "    noise_pred = torch.ones([513,X[e_nr].shape[1]])-speech_pred\n",
    "    plot_mask(speech_pred, title=\"Prediction Speech\")\n",
    "    plot_mask(noise_pred, title=\"Prediction Noise\")\n",
    "    plot_mask(Y[e_nr][0], title=\"Reference Speech\")\n",
    "    plot_mask(Y[e_nr][1], title=\"Reference Noise\")\n",
    "\n",
    "def plot_mask(mask, title=\"Mask\", xlim=None):\n",
    "    mask = mask.detach().numpy()\n",
    "    figure, axis = plt.subplots(1, 1)\n",
    "    img = axis.imshow(mask, cmap=\"viridis\", origin=\"lower\", aspect=\"auto\")\n",
    "    figure.suptitle(title)\n",
    "    plt.colorbar(img, ax=axis)\n",
    "    plt.show()\n",
    "\n",
    "evaluate_example(100)"
   ]
  },
  {
   "cell_type": "code",
   "execution_count": 17,
   "metadata": {},
   "outputs": [
    {
     "name": "stdout",
     "output_type": "stream",
     "text": [
      "torch.Size([50000])\n",
      "tensor([-0.1016, -0.0597,  0.0421,  ...,  0.2004,  0.0385, -0.2737])\n",
      "Si-SNR score: -31.590368270874023\n"
     ]
    }
   ],
   "source": [
    "istft = torchaudio.transforms.InverseSpectrogram(n_fft=1024, hop_length=256)\n",
    "\n",
    "def si_snr(estimate, reference, epsilon=1e-8):\n",
    "        estimate = estimate - estimate.mean()\n",
    "        reference = reference - reference.mean()\n",
    "        reference_pow = reference.pow(2).mean(axis=1, keepdim=True)\n",
    "        mix_pow = (estimate * reference).mean(axis=1, keepdim=True)\n",
    "        scale = mix_pow / (reference_pow + epsilon)\n",
    "\n",
    "        reference = scale * reference\n",
    "        error = estimate - reference\n",
    "\n",
    "        reference_pow = reference.pow(2)\n",
    "        error_pow = error.pow(2)\n",
    "\n",
    "        reference_pow = reference_pow.mean(axis=1)\n",
    "        error_pow = error_pow.mean(axis=1)\n",
    "\n",
    "        si_snr = 10 * torch.log10(reference_pow) - 10 * torch.log10(error_pow)\n",
    "        return si_snr.item()\n",
    "\n",
    "def evaluateSiSNR(wave, i):\n",
    "    score = si_snr(wave, speech[i])\n",
    "    print(f\"Si-SNR score: {score}\") \n",
    "    return score\n",
    "\n",
    "def maskToWave(speech_pred,noise_pred,mix,i):\n",
    "        model.eval()\n",
    "        psd_transform = torchaudio.transforms.PSD()\n",
    "        psd_speech = psd_transform(mix[i], speech_pred)\n",
    "        psd_noise = psd_transform(mix[i], noise_pred)\n",
    "        mvdr_transform = torchaudio.transforms.SoudenMVDR()\n",
    "        stft_souden = mvdr_transform(mix[i], psd_speech, psd_noise, reference_channel=0)\n",
    "        waveform_souden = istft(stft_souden, length=len(speech[i][0]))#X[i].shape[-1])\n",
    "        return waveform_souden.reshape(-1)\n",
    "\n",
    "def save_sample(i,wave,sample_rate=SAMPLE_RATE):\n",
    "    torchaudio.save(\"./outputs/output.wav\",wave.reshape(1,-1),16000)\n",
    "    torchaudio.save(\"./outputs/sample_reference.wav\", speech[i].reshape(1,-1),sample_rate)\n",
    "    torchaudio.save(\"./outputs/sample_input.wav\", mix1[i].reshape(1,-1),sample_rate)\n",
    "\n",
    "index = 201\n",
    "speech_pred = (model(X[index])>0.2).float()\n",
    "noise_pred = torch.ones([513,speech_pred.shape[1]])-speech_pred\n",
    "wave = maskToWave(speech_pred,noise_pred,X_complex,index)#X hat nicht mehr nur 2, sondern 4 channel\n",
    "print(wave.shape)\n",
    "print(wave)\n",
    "save_sample(index, wave=wave)\n",
    "score = evaluateSiSNR(wave,index)#Should be ~28"
   ]
  },
  {
   "cell_type": "code",
   "execution_count": 18,
   "metadata": {},
   "outputs": [
    {
     "name": "stdout",
     "output_type": "stream",
     "text": [
      "2000\n",
      "2001\n",
      "2002\n",
      "2003\n",
      "2004\n",
      "2005\n",
      "2006\n",
      "2007\n",
      "2008\n",
      "2009\n",
      "2010\n",
      "2011\n",
      "2012\n",
      "2013\n",
      "2014\n",
      "2015\n",
      "2016\n",
      "2017\n",
      "2018\n",
      "2019\n",
      "2020\n",
      "2021\n",
      "2022\n",
      "2023\n",
      "2024\n",
      "2025\n",
      "2026\n",
      "2027\n",
      "2028\n",
      "2029\n",
      "2030\n",
      "2031\n",
      "2032\n",
      "2033\n",
      "2034\n",
      "2035\n",
      "2036\n",
      "2037\n",
      "2038\n",
      "2039\n",
      "2040\n",
      "2041\n",
      "2042\n",
      "2043\n",
      "2044\n",
      "2045\n",
      "2046\n",
      "2047\n",
      "2048\n",
      "2049\n",
      "Average Improvement of Si-SNR score on validation set: -2.2172883796691893\n"
     ]
    }
   ],
   "source": [
    "scores = []\n",
    "for index in range(2000,2050):\n",
    "    print(index)\n",
    "    speech_pred = (model(X[index])>0.2).float()\n",
    "    noise_pred = torch.ones([513,speech_pred.shape[1]])-speech_pred\n",
    "    wave = maskToWave(speech_pred,noise_pred,X_complex,index)#X hat nicht mehr nur 2, sondern 4 channel\n",
    "    scores.append(si_snr(wave, speech[index])-si_snr(mix1[index],speech[index]))\n",
    "print(f\"Average Improvement of Si-SNR score on validation set: {np.mean(scores)}\") # Average: 15"
   ]
  }
 ],
 "metadata": {
  "kernelspec": {
   "display_name": "Python 3.9.12 ('beamformer')",
   "language": "python",
   "name": "python3"
  },
  "language_info": {
   "codemirror_mode": {
    "name": "ipython",
    "version": 3
   },
   "file_extension": ".py",
   "mimetype": "text/x-python",
   "name": "python",
   "nbconvert_exporter": "python",
   "pygments_lexer": "ipython3",
   "version": "3.9.12"
  },
  "orig_nbformat": 4,
  "vscode": {
   "interpreter": {
    "hash": "7edcfa7c72349f2a40b8bb9d00f805dd689758e4b70f704e502841c884b714f7"
   }
  }
 },
 "nbformat": 4,
 "nbformat_minor": 2
}
