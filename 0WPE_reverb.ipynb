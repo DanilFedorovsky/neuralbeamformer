{
 "cells": [
  {
   "cell_type": "markdown",
   "metadata": {},
   "source": [
    "## Data input"
   ]
  },
  {
   "cell_type": "code",
   "execution_count": 1,
   "metadata": {},
   "outputs": [
    {
     "ename": "",
     "evalue": "",
     "output_type": "error",
     "traceback": [
      "\u001b[1;31mThe Kernel crashed while executing code in the the current cell or a previous cell. Please review the code in the cell(s) to identify a possible cause of the failure. Click <a href='https://aka.ms/vscodeJupyterKernelCrash'>here</a> for more info. View Jupyter <a href='command:jupyter.viewOutput'>log</a> for further details."
     ]
    },
    {
     "ename": "",
     "evalue": "",
     "output_type": "error",
     "traceback": [
      "\u001b[1;31mCanceled future for execute_request message before replies were done"
     ]
    }
   ],
   "source": [
    "import torch\n",
    "import torchaudio\n",
    "import matplotlib.pyplot as plt\n",
    "from scipy.fft import fft, ifft\n",
    "from scipy.signal import correlate\n",
    "import numpy as np\n",
    "from tqdm import tqdm\n",
    "import math"
   ]
  },
  {
   "cell_type": "code",
   "execution_count": null,
   "metadata": {},
   "outputs": [
    {
     "name": "stdout",
     "output_type": "stream",
     "text": [
      "torch.Size([1, 142464640]) torch.Size([1, 142464640]) 16000 16000\n"
     ]
    }
   ],
   "source": [
    "#path = \"/project/data_asr/CHiME5/data/CHiME5/audio/dev/\"\n",
    "path = \"/Users/danilfedorovsky/Documents/10 Collection/00 Studium/00 Letztes Semester/Masterarbeit/Data\"\n",
    "\n",
    "data_1, sample_rate_1 = torchaudio.load(path+\"S02_P05.wav\")\n",
    "data_2, sample_rate_2 = torchaudio.load(path+\"S02_P06.wav\")\n",
    "print(data_1.size(),data_2.size(), sample_rate_1, sample_rate_2)"
   ]
  },
  {
   "cell_type": "code",
   "execution_count": null,
   "metadata": {},
   "outputs": [
    {
     "name": "stdout",
     "output_type": "stream",
     "text": [
      "14246464\n"
     ]
    }
   ],
   "source": [
    "# Optional: Narrow data1 and data2\n",
    "data_1 = torch.narrow(data_1, 1, 0, int(data_1.size(dim=1)*0.1)) #1% = 2849292\n",
    "data_2 = torch.narrow(data_2, 1, 0, int(data_2.size(dim=1)*0.1))\n",
    "inputs = [data_1,data_2]\n",
    "print(data_1.size(dim=1))"
   ]
  },
  {
   "cell_type": "markdown",
   "metadata": {},
   "source": [
    "## WPE Dereverberation"
   ]
  },
  {
   "cell_type": "code",
   "execution_count": 4,
   "metadata": {},
   "outputs": [
    {
     "name": "stdout",
     "output_type": "stream",
     "text": [
      "Looking in indexes: https://pypi.org/simple, https://pypi.ngc.nvidia.com\n",
      "Collecting nara_wpe\n",
      "  Downloading nara_wpe-0.0.8-py3-none-any.whl (33 kB)\n",
      "Requirement already satisfied: tqdm in /Users/danilfedorovsky/miniforge3/envs/tensorflow/lib/python3.9/site-packages (from nara_wpe) (4.64.0)\n",
      "Requirement already satisfied: bottleneck in /Users/danilfedorovsky/miniforge3/envs/tensorflow/lib/python3.9/site-packages (from nara_wpe) (1.3.4)\n",
      "Requirement already satisfied: click in /Users/danilfedorovsky/miniforge3/envs/tensorflow/lib/python3.9/site-packages (from nara_wpe) (8.0.4)\n",
      "Collecting soundfile\n",
      "  Downloading SoundFile-0.10.3.post1-py2.py3-none-any.whl (21 kB)\n",
      "Requirement already satisfied: numpy in /Users/danilfedorovsky/miniforge3/envs/tensorflow/lib/python3.9/site-packages (from nara_wpe) (1.22.4)\n",
      "Requirement already satisfied: cffi>=1.0 in /Users/danilfedorovsky/miniforge3/envs/tensorflow/lib/python3.9/site-packages (from soundfile->nara_wpe) (1.15.0)\n",
      "Requirement already satisfied: pycparser in /Users/danilfedorovsky/miniforge3/envs/tensorflow/lib/python3.9/site-packages (from cffi>=1.0->soundfile->nara_wpe) (2.21)\n",
      "Installing collected packages: soundfile, nara-wpe\n",
      "Successfully installed nara-wpe-0.0.8 soundfile-0.10.3.post1\n"
     ]
    }
   ],
   "source": [
    "import nara_wpe"
   ]
  }
 ],
 "metadata": {
  "kernelspec": {
   "display_name": "Python 3.8.13",
   "language": "python",
   "name": "python3"
  },
  "language_info": {
   "codemirror_mode": {
    "name": "ipython",
    "version": 3
   },
   "file_extension": ".py",
   "mimetype": "text/x-python",
   "name": "python",
   "nbconvert_exporter": "python",
   "pygments_lexer": "ipython3",
   "version": "3.8.13"
  },
  "orig_nbformat": 4,
  "vscode": {
   "interpreter": {
    "hash": "f5b916051ec391ef3c1c0123575e59cad2c35863d294dd079abc5845c0e5babb"
   }
  }
 },
 "nbformat": 4,
 "nbformat_minor": 2
}
