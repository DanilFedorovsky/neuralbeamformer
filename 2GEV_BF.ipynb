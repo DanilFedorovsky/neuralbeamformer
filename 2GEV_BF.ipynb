{
 "cells": [
  {
   "cell_type": "code",
   "execution_count": 2,
   "metadata": {},
   "outputs": [],
   "source": [
    "import numpy as np\n",
    "from numpy import linalg as LA"
   ]
  },
  {
   "cell_type": "code",
   "execution_count": null,
   "metadata": {},
   "outputs": [],
   "source": [
    "def GEV_beamformer(speech, noise, spectrum):\n",
    "    \"\"\"\n",
    "    inputs:\n",
    "    - speech mask (NxN)\n",
    "    - sigma noise (NxN)\n",
    "    - spectrum (in this bin, TXN)\n",
    "    \"\"\"\n",
    "    spectrum = np.matrix(spectrum).T # TxN => NxT\n",
    "    phiNN = np.matrix(noise)\n",
    "    phiXX = np.Matrix(speech)\n",
    "    #_, vector_phiNN = LA.eig(phiNN)#one eigenvector per column\n",
    "    _, vector_phiXX = LA.eig(phiXX)#one eigenvector per column\n",
    "    args = []\n",
    "    for eigenvector in vector_phiXX.T:\n",
    "        ev = np.matrix(eigenvector)\n",
    "        mult = (ev.H.T*phiXX*ev.T)/(ev.H.T*phiNN*ev.T)\n",
    "        args.append(int(mult))  \n",
    "    args_np = np.array(args)\n",
    "    idx = np.argmax(args_np)\n",
    "    F_GEV = vector.T[idx]\n",
    "    # ADD gBAN post filter\n",
    "    result_spectrum = F_GEV.H * spectrum\n",
    "    return result_spectrum"
   ]
  },
  {
   "cell_type": "code",
   "execution_count": 18,
   "metadata": {},
   "outputs": [
    {
     "data": {
      "text/plain": [
       "array([[-0.23197069, -0.78583024,  0.40824829],\n",
       "       [-0.52532209, -0.08675134, -0.81649658],\n",
       "       [-0.8186735 ,  0.61232756,  0.40824829]])"
      ]
     },
     "execution_count": 18,
     "metadata": {},
     "output_type": "execute_result"
    }
   ],
   "source": [
    "matrix = np.array([[1,2,3],[4,5,6],[7,8,9]])\n",
    "_, vector = LA.eig(matrix)\n",
    "vector"
   ]
  },
  {
   "cell_type": "code",
   "execution_count": 23,
   "metadata": {},
   "outputs": [
    {
     "name": "stdout",
     "output_type": "stream",
     "text": [
      "[16, -1, 0]\n",
      "[-0.23197069 -0.52532209 -0.8186735 ]\n"
     ]
    }
   ],
   "source": [
    "args = []\n",
    "m2 = np.array([[1,2,3],[4,5,6],[7,8,9]])\n",
    "for eigenvector in vector.T:\n",
    "    ev = np.matrix(eigenvector)\n",
    "    mult = ev.H.T*m2*ev.T \n",
    "    args.append(int(mult))\n",
    "print(args)\n",
    "print(vector.T[0])"
   ]
  }
 ],
 "metadata": {
  "kernelspec": {
   "display_name": "Python 3.10.4 64-bit ('ML')",
   "language": "python",
   "name": "python3"
  },
  "language_info": {
   "codemirror_mode": {
    "name": "ipython",
    "version": 3
   },
   "file_extension": ".py",
   "mimetype": "text/x-python",
   "name": "python",
   "nbconvert_exporter": "python",
   "pygments_lexer": "ipython3",
   "version": "3.10.4"
  },
  "orig_nbformat": 4,
  "vscode": {
   "interpreter": {
    "hash": "f158735646e3eab0c4059261eebfec0df7fcce3767322491286d467f4f66baf5"
   }
  }
 },
 "nbformat": 4,
 "nbformat_minor": 2
}
