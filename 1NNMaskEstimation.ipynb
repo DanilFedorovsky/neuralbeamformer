{
 "cells": [
  {
   "cell_type": "markdown",
   "metadata": {},
   "source": [
    "## Prepare Training Data"
   ]
  },
  {
   "cell_type": "code",
   "execution_count": 1,
   "metadata": {},
   "outputs": [
    {
     "name": "stderr",
     "output_type": "stream",
     "text": [
      "/Users/danilfedorovsky/miniforge3/envs/pytorch/lib/python3.9/site-packages/torchaudio/_internal/module_utils.py:99: UserWarning: Failed to import soundfile. 'soundfile' backend is not available.\n",
      "  warnings.warn(\"Failed to import soundfile. 'soundfile' backend is not available.\")\n"
     ]
    }
   ],
   "source": [
    "import json\n",
    "import torchaudio\n",
    "import matplotlib.pyplot as plt\n",
    "import torch\n",
    "from datetime import time\n",
    "import numpy as np"
   ]
  },
  {
   "cell_type": "code",
   "execution_count": 2,
   "metadata": {},
   "outputs": [],
   "source": [
    "## decide what to load\n",
    "SESSION = \"S02\"\n",
    "transcript_path = \"/Users/danilfedorovsky/Documents/10 Collection/00 Studium/00 Letztes Semester/Masterarbeit/Data/CHiME5/transcriptions/dev/\" + SESSION + \".json\"\n",
    "#'/project/data_asr/CHiME5/data/CHiME5/transcriptions/dev/' + SESSION\n",
    "data_path = \"/Users/danilfedorovsky/Documents/10 Collection/00 Studium/00 Letztes Semester/Masterarbeit/Data/CHiME5/audio/dev/\""
   ]
  },
  {
   "cell_type": "code",
   "execution_count": 3,
   "metadata": {},
   "outputs": [],
   "source": [
    "with open(transcript_path, 'r') as f:\n",
    "    transcript = json.load(f)"
   ]
  },
  {
   "cell_type": "code",
   "execution_count": 4,
   "metadata": {},
   "outputs": [
    {
     "name": "stdout",
     "output_type": "stream",
     "text": [
      "['P05', datetime.time(0, 0, 40, 630000), datetime.time(0, 0, 43, 850000)]\n",
      "[datetime.time(0, 0, 40, 630000), datetime.time(0, 0, 43, 850000)]\n",
      "True\n"
     ]
    }
   ],
   "source": [
    "u1_times = []\n",
    "speaker_times = []\n",
    "for entry in transcript:\n",
    "    #print(entry[\"start_time\"][\"U01\"])\n",
    "    #print(entry[\"end_time\"][\"U01\"])\n",
    "    try:\n",
    "        speaker_times.append([entry[\"speaker\"],time.fromisoformat(\"0\"+str(entry[\"start_time\"][\"U01\"])+\"0\"),time.fromisoformat(\"0\"+str(entry[\"end_time\"][\"U01\"])+\"0\")])\n",
    "        u1_times.append([time.fromisoformat(\"0\"+str(entry[\"start_time\"][\"U01\"])+\"0\"),time.fromisoformat(\"0\"+str(entry[\"end_time\"][\"U01\"])+\"0\")])\n",
    "    except:\n",
    "        # if redacted\n",
    "        pass\n",
    "\n",
    "print(speaker_times[0])\n",
    "print(u1_times[0])\n",
    "print(len(speaker_times)==len(u1_times))"
   ]
  },
  {
   "cell_type": "code",
   "execution_count": 5,
   "metadata": {},
   "outputs": [
    {
     "name": "stdout",
     "output_type": "stream",
     "text": [
      "8904.04 seconds\n"
     ]
    }
   ],
   "source": [
    "# 2h 28 min 24 s = 8904s\n",
    "P05, sample_rate = torchaudio.load(data_path+\"S02_P05.wav\")\n",
    "P06, _ = torchaudio.load(data_path+\"S02_P06.wav\")\n",
    "P07, _ = torchaudio.load(data_path+\"S02_P07.wav\")\n",
    "P08, _ = torchaudio.load(data_path+\"S02_P08.wav\")\n",
    "U01, _ = torchaudio.load(data_path+\"S02_U01.CH1.wav\")\n",
    "U012, _ = torchaudio.load(data_path+\"S02_U01.CH2.wav\")\n",
    "#P05 = P05[0].reshape(1,-1)\n",
    "#P06 = P06[0].reshape(1,-1)\n",
    "#P07 = P07[0].reshape(1,-1)\n",
    "#P08 = P08[0].reshape(1,-1)\n",
    "print(U01.size(dim=1)/sample_rate, \"seconds\")"
   ]
  },
  {
   "cell_type": "code",
   "execution_count": 6,
   "metadata": {},
   "outputs": [
    {
     "name": "stdout",
     "output_type": "stream",
     "text": [
      "Input ready\n",
      "Label ready\n",
      "True\n"
     ]
    }
   ],
   "source": [
    "# Cut the relevant segments\n",
    "X = []#np.array([])#[]#torch.Tensor()\n",
    "Y = []#np.array([])#[]#torch.Tensor()\n",
    "\n",
    "def time_to_sample(time:time):\n",
    "    return int(sample_rate*(time.hour*3600+time.minute*60+time.second+time.microsecond/1000000))\n",
    "\n",
    "# Input\n",
    "for start, end in u1_times:\n",
    "    start = time_to_sample(start)\n",
    "    end = time_to_sample(end)\n",
    "    #X = torch.cat((X, U01[0][start:end]), 0)\n",
    "    X.append([U01[0][start:end],U012[0][start:end]])\n",
    "print(\"Input ready\")\n",
    "\n",
    "# Label\n",
    "for speaker,start,end in speaker_times:\n",
    "    #print(speaker,start,end)\n",
    "    start = time_to_sample(start)\n",
    "    end = time_to_sample(end)\n",
    "    if speaker == \"P05\":\n",
    "        #Y = torch.cat((Y, P05[0][start:end]), 0)\n",
    "        #Y.append([P05[0][start:end],P05[1][start:end]])\n",
    "        Y.append(P05[0][start:end])\n",
    "    if speaker == \"P06\":\n",
    "        #Y = torch.cat((Y, P06[0][start:end]), 0)\n",
    "        Y.append(P06[0][start:end])\n",
    "    if speaker == \"P07\":\n",
    "        #Y = torch.cat((Y, P07[0][start:end]), 0)\n",
    "        Y.append(P07[0][start:end])\n",
    "    if speaker == \"P08\":\n",
    "        #Y = torch.cat((Y, P08[0][start:end]), 0)\n",
    "        Y.append(P08[0][start:end])\n",
    "\n",
    "print(\"Label ready\")\n",
    "#print(X.size(0)==Y.size(0))\n",
    "print(len(X)==len(Y))"
   ]
  },
  {
   "cell_type": "markdown",
   "metadata": {},
   "source": [
    "## Training on CHIME"
   ]
  },
  {
   "cell_type": "code",
   "execution_count": 29,
   "metadata": {},
   "outputs": [],
   "source": [
    "from torch.nn import Module, LeakyReLU, MaxPool1d, Conv2d, Linear, Softmax, BatchNorm1d, CrossEntropyLoss, BCELoss, Sigmoid, Tanh, LSTM, MSELoss\n",
    "from torch import flatten\n",
    "from torch.optim import Adam\n",
    "import time\n",
    "import torch\n",
    "from pytorch_model_summary import summary\n",
    "from tqdm import tqdm\n",
    "import torchaudio"
   ]
  },
  {
   "cell_type": "code",
   "execution_count": 30,
   "metadata": {},
   "outputs": [],
   "source": [
    "HIDDEN_SIZE=8\n",
    "INIT_LR = 0.01\n",
    "BATCH_SIZE = 1#64\n",
    "SAMPLE_RATE = 16000\n",
    "EPOCHS = 1\n",
    "INPUT_CHANNEL = 2\n",
    "REFERENCE_CHANNEL = 0\n",
    "\n",
    "N_FFT = 1024\n",
    "N_HOP = 256\n",
    "stft = torchaudio.transforms.Spectrogram(\n",
    "    n_fft=N_FFT,\n",
    "    hop_length=N_HOP,\n",
    "    power=None,\n",
    ")\n",
    "istft = torchaudio.transforms.InverseSpectrogram(n_fft=N_FFT, hop_length=N_HOP)\n",
    "global i\n",
    "i = 0\n",
    "\n",
    "def prep_x(trainX,i):\n",
    "        return stft((torch.cat((trainX[i][0].unsqueeze(1),trainX[i][1].unsqueeze(1)),1)).reshape(2,-1)).type(torch.complex64)"
   ]
  },
  {
   "cell_type": "code",
   "execution_count": 31,
   "metadata": {},
   "outputs": [
    {
     "name": "stdout",
     "output_type": "stream",
     "text": [
      "tensor([0., 0., 0.,  ..., 0., 0., 0.], grad_fn=<AsStridedBackward0>)\n",
      "------------------------------------------------------------------------------------------------\n",
      "      Layer (type)                                 Output Shape         Param #     Tr. Param #\n",
      "================================================================================================\n",
      "            LSTM-1     [513, 251, 16], [4, 251, 8], [4, 251, 8]           2,432           2,432\n",
      "          Linear-2                                [513, 251, 1]              17              17\n",
      "         Sigmoid-3                                [513, 251, 1]               0               0\n",
      "            LSTM-4     [513, 251, 16], [4, 251, 8], [4, 251, 8]           2,432           2,432\n",
      "          Linear-5                                [513, 251, 1]              17              17\n",
      "         Sigmoid-6                                [513, 251, 1]               0               0\n",
      "================================================================================================\n",
      "Total params: 4,898\n",
      "Trainable params: 4,898\n",
      "Non-trainable params: 0\n",
      "------------------------------------------------------------------------------------------------\n"
     ]
    }
   ],
   "source": [
    "# # MASK NET\n",
    "\n",
    "class MaskNet(Module):\n",
    "    def __init__(self,noise=False):\n",
    "        super(MaskNet, self).__init__()\n",
    "        # First subnet for speech prediction\n",
    "        self.type(torch.cfloat)\n",
    "        self.noise = noise\n",
    "        self.lstm = LSTM(input_size=INPUT_CHANNEL, hidden_size=HIDDEN_SIZE, num_layers=2, bidirectional=True)\n",
    "        self.fc = Linear(in_features=HIDDEN_SIZE*2 ,out_features=1)\n",
    "        self.sigmoid = Sigmoid()\n",
    "        # Second subnet for noise prediction\n",
    "        self.noise2 = noise\n",
    "        self.lstm2 = LSTM(input_size=INPUT_CHANNEL, hidden_size=HIDDEN_SIZE, num_layers=2, bidirectional=True)\n",
    "        self.fc2 = Linear(in_features=HIDDEN_SIZE*2 ,out_features=1)\n",
    "        self.sigmoid2 = Sigmoid()\n",
    "\n",
    "    def forward(self,x):\n",
    "        # Speech prediction\n",
    "        y = x.reshape(513,-1,INPUT_CHANNEL)#(513,251,INPUT_CHANNEL)\n",
    "        y, (h_n, c_n) = self.lstm(y)\n",
    "        y = self.fc(y).type(torch.double)\n",
    "        speech_pred = self.sigmoid(y)\n",
    "        speech_pred = speech_pred.reshape(513,-1).type(torch.cfloat)\n",
    "        #print(\"speech_pred.shape\",speech_pred.shape)\n",
    "\n",
    "        # Noise prediction\n",
    "        z = x.reshape(513,-1,INPUT_CHANNEL)\n",
    "        z, (h_n, c_n) = self.lstm2(z)\n",
    "        z = self.fc2(z).type(torch.double)\n",
    "        noise_pred = self.sigmoid2(z)\n",
    "        noise_pred = noise_pred.reshape(513,-1).type(torch.cfloat)\n",
    "\n",
    "        psd_transform = torchaudio.transforms.PSD()\n",
    "        psd_speech = psd_transform(x, speech_pred)\n",
    "        psd_noise = psd_transform(x, noise_pred)\n",
    "        mvdr_transform = torchaudio.transforms.SoudenMVDR()\n",
    "        x = x.type(torch.cfloat)\n",
    "        stft_souden = mvdr_transform(x, psd_speech, psd_noise, reference_channel=REFERENCE_CHANNEL)\n",
    "        #print(\"stft_souden\",stft_souden.shape)\n",
    "        waveform_souden = istft(stft_souden, length=len(X[i][0]))#X[i].shape[-1])\n",
    "        waveform_souden[waveform_souden != waveform_souden] = 1.0000e-10 \n",
    "        print(waveform_souden)\n",
    "        return waveform_souden.reshape(-1)\n",
    "\n",
    "print(summary(MaskNet(),torch.zeros((INPUT_CHANNEL, 513, 251))))\n"
   ]
  },
  {
   "cell_type": "code",
   "execution_count": 32,
   "metadata": {},
   "outputs": [
    {
     "name": "stdout",
     "output_type": "stream",
     "text": [
      "[INFO] training the network...\n",
      "Epoch: 0 /1\n"
     ]
    },
    {
     "name": "stderr",
     "output_type": "stream",
     "text": [
      "  0%|          | 0/100 [00:00<?, ?it/s]"
     ]
    },
    {
     "name": "stdout",
     "output_type": "stream",
     "text": [
      "torch.Size([2, 513, 202])\n",
      "tensor([ 0.0005,  0.0031,  0.0023,  ..., -0.0079, -0.0086, -0.0067],\n",
      "       grad_fn=<AsStridedBackward0>)\n"
     ]
    },
    {
     "name": "stderr",
     "output_type": "stream",
     "text": [
      "  1%|          | 1/100 [00:02<04:11,  2.54s/it]"
     ]
    },
    {
     "name": "stdout",
     "output_type": "stream",
     "text": [
      "torch.Size([2, 513, 179])\n",
      "tensor([ 0.0077,  0.0080,  0.0104,  ..., -0.0022, -0.0011,  0.0081],\n",
      "       grad_fn=<AsStridedBackward0>)\n"
     ]
    },
    {
     "name": "stderr",
     "output_type": "stream",
     "text": [
      "  2%|▏         | 2/100 [00:04<03:08,  1.92s/it]"
     ]
    },
    {
     "name": "stdout",
     "output_type": "stream",
     "text": [
      "torch.Size([2, 513, 178])\n",
      "tensor([-0.0002, -0.0041,  0.0015,  ...,  0.0246,  0.0301,  0.0425],\n",
      "       grad_fn=<AsStridedBackward0>)\n"
     ]
    },
    {
     "name": "stderr",
     "output_type": "stream",
     "text": [
      "  3%|▎         | 3/100 [00:05<03:01,  1.87s/it]"
     ]
    },
    {
     "name": "stdout",
     "output_type": "stream",
     "text": [
      "torch.Size([2, 513, 118])\n",
      "tensor([ 0.0152,  0.0047,  0.0156,  ..., -0.0150,  0.0050, -0.0195],\n",
      "       grad_fn=<AsStridedBackward0>)\n"
     ]
    },
    {
     "name": "stderr",
     "output_type": "stream",
     "text": [
      "  4%|▍         | 4/100 [00:07<02:33,  1.60s/it]"
     ]
    },
    {
     "name": "stdout",
     "output_type": "stream",
     "text": [
      "torch.Size([2, 513, 295])\n",
      "tensor([-0.0028, -0.0122, -0.0114,  ..., -0.0127, -0.0026, -0.0047],\n",
      "       grad_fn=<AsStridedBackward0>)\n"
     ]
    },
    {
     "name": "stderr",
     "output_type": "stream",
     "text": [
      "  5%|▌         | 5/100 [00:10<03:26,  2.17s/it]"
     ]
    },
    {
     "name": "stdout",
     "output_type": "stream",
     "text": [
      "torch.Size([2, 513, 242])\n",
      "tensor([1.7834e-03, 5.6711e-05, 4.6569e-03,  ..., 4.7405e-03, 1.0182e-02,\n",
      "        1.1812e-02], grad_fn=<AsStridedBackward0>)\n"
     ]
    },
    {
     "name": "stderr",
     "output_type": "stream",
     "text": [
      "  6%|▌         | 6/100 [00:12<03:15,  2.08s/it]"
     ]
    },
    {
     "name": "stdout",
     "output_type": "stream",
     "text": [
      "torch.Size([2, 513, 127])\n",
      "tensor([-0.0139, -0.0128,  0.0010,  ...,  0.0026, -0.0015, -0.0005],\n",
      "       grad_fn=<AsStridedBackward0>)\n"
     ]
    },
    {
     "name": "stderr",
     "output_type": "stream",
     "text": [
      "  7%|▋         | 7/100 [00:13<02:47,  1.80s/it]"
     ]
    },
    {
     "name": "stdout",
     "output_type": "stream",
     "text": [
      "torch.Size([2, 513, 36])\n",
      "tensor([ 0.0043,  0.0038, -0.0037,  ..., -0.0007,  0.0082,  0.0058],\n",
      "       grad_fn=<AsStridedBackward0>)\n"
     ]
    },
    {
     "name": "stderr",
     "output_type": "stream",
     "text": [
      "  8%|▊         | 8/100 [00:14<02:12,  1.44s/it]"
     ]
    },
    {
     "name": "stdout",
     "output_type": "stream",
     "text": [
      "torch.Size([2, 513, 658])\n",
      "tensor([ 0.0016,  0.0002,  0.0029,  ..., -0.1107, -0.0894, -0.0633],\n",
      "       grad_fn=<AsStridedBackward0>)\n"
     ]
    },
    {
     "name": "stderr",
     "output_type": "stream",
     "text": [
      "  9%|▉         | 9/100 [00:21<04:51,  3.20s/it]"
     ]
    },
    {
     "name": "stdout",
     "output_type": "stream",
     "text": [
      "torch.Size([2, 513, 395])\n",
      "tensor([-0.0302, -0.0271, -0.0459,  ..., -0.0437, -0.0223, -0.0267],\n",
      "       grad_fn=<AsStridedBackward0>)\n"
     ]
    },
    {
     "name": "stderr",
     "output_type": "stream",
     "text": [
      " 10%|█         | 10/100 [00:24<05:03,  3.37s/it]"
     ]
    },
    {
     "name": "stdout",
     "output_type": "stream",
     "text": [
      "torch.Size([2, 513, 61])\n",
      "tensor([0.0096, 0.0122, 0.0059,  ..., 0.0282, 0.0374, 0.0409],\n",
      "       grad_fn=<AsStridedBackward0>)\n"
     ]
    },
    {
     "name": "stderr",
     "output_type": "stream",
     "text": [
      " 11%|█         | 11/100 [00:25<03:49,  2.58s/it]"
     ]
    },
    {
     "name": "stdout",
     "output_type": "stream",
     "text": [
      "torch.Size([2, 513, 477])\n",
      "tensor([1.0000e-10, 1.0000e-10, 1.0000e-10,  ..., 1.0000e-10, 1.0000e-10,\n",
      "        1.0000e-10], grad_fn=<AsStridedBackward0>)\n"
     ]
    },
    {
     "name": "stderr",
     "output_type": "stream",
     "text": [
      " 12%|█▏        | 12/100 [00:29<04:33,  3.10s/it]"
     ]
    },
    {
     "name": "stdout",
     "output_type": "stream",
     "text": [
      "torch.Size([2, 513, 991])\n",
      "tensor([1.0000e-10, 1.0000e-10, 1.0000e-10,  ..., 1.0000e-10, 1.0000e-10,\n",
      "        1.0000e-10], grad_fn=<AsStridedBackward0>)\n"
     ]
    },
    {
     "name": "stderr",
     "output_type": "stream",
     "text": [
      " 13%|█▎        | 13/100 [00:37<06:20,  4.37s/it]"
     ]
    },
    {
     "name": "stdout",
     "output_type": "stream",
     "text": [
      "torch.Size([2, 513, 221])\n",
      "tensor([1.0000e-10, 1.0000e-10, 1.0000e-10,  ..., 1.0000e-10, 1.0000e-10,\n",
      "        1.0000e-10], grad_fn=<AsStridedBackward0>)\n"
     ]
    },
    {
     "name": "stderr",
     "output_type": "stream",
     "text": [
      " 14%|█▍        | 14/100 [00:38<05:05,  3.56s/it]"
     ]
    },
    {
     "name": "stdout",
     "output_type": "stream",
     "text": [
      "torch.Size([2, 513, 86])\n",
      "tensor([1.0000e-10, 1.0000e-10, 1.0000e-10,  ..., 1.0000e-10, 1.0000e-10,\n",
      "        1.0000e-10], grad_fn=<AsStridedBackward0>)\n"
     ]
    },
    {
     "name": "stderr",
     "output_type": "stream",
     "text": [
      " 15%|█▌        | 15/100 [00:39<03:52,  2.73s/it]"
     ]
    },
    {
     "name": "stdout",
     "output_type": "stream",
     "text": [
      "torch.Size([2, 513, 124])\n",
      "tensor([1.0000e-10, 1.0000e-10, 1.0000e-10,  ..., 1.0000e-10, 1.0000e-10,\n",
      "        1.0000e-10], grad_fn=<AsStridedBackward0>)\n"
     ]
    },
    {
     "name": "stderr",
     "output_type": "stream",
     "text": [
      " 16%|█▌        | 16/100 [00:40<03:05,  2.21s/it]"
     ]
    },
    {
     "name": "stdout",
     "output_type": "stream",
     "text": [
      "torch.Size([2, 513, 240])\n",
      "tensor([1.0000e-10, 1.0000e-10, 1.0000e-10,  ..., 1.0000e-10, 1.0000e-10,\n",
      "        1.0000e-10], grad_fn=<AsStridedBackward0>)\n"
     ]
    },
    {
     "name": "stderr",
     "output_type": "stream",
     "text": [
      " 17%|█▋        | 17/100 [00:42<02:50,  2.05s/it]"
     ]
    },
    {
     "name": "stdout",
     "output_type": "stream",
     "text": [
      "torch.Size([2, 513, 199])\n",
      "tensor([1.0000e-10, 1.0000e-10, 1.0000e-10,  ..., 1.0000e-10, 1.0000e-10,\n",
      "        1.0000e-10], grad_fn=<AsStridedBackward0>)\n"
     ]
    },
    {
     "name": "stderr",
     "output_type": "stream",
     "text": [
      " 18%|█▊        | 18/100 [00:43<02:33,  1.87s/it]"
     ]
    },
    {
     "name": "stdout",
     "output_type": "stream",
     "text": [
      "torch.Size([2, 513, 446])\n",
      "tensor([1.0000e-10, 1.0000e-10, 1.0000e-10,  ..., 1.0000e-10, 1.0000e-10,\n",
      "        1.0000e-10], grad_fn=<AsStridedBackward0>)\n"
     ]
    },
    {
     "name": "stderr",
     "output_type": "stream",
     "text": [
      " 19%|█▉        | 19/100 [00:47<03:14,  2.40s/it]"
     ]
    },
    {
     "name": "stdout",
     "output_type": "stream",
     "text": [
      "torch.Size([2, 513, 330])\n",
      "tensor([1.0000e-10, 1.0000e-10, 1.0000e-10,  ..., 1.0000e-10, 1.0000e-10,\n",
      "        1.0000e-10], grad_fn=<AsStridedBackward0>)\n"
     ]
    },
    {
     "name": "stderr",
     "output_type": "stream",
     "text": [
      " 20%|██        | 20/100 [00:50<03:27,  2.59s/it]"
     ]
    },
    {
     "name": "stdout",
     "output_type": "stream",
     "text": [
      "torch.Size([2, 513, 415])\n",
      "tensor([1.0000e-10, 1.0000e-10, 1.0000e-10,  ..., 1.0000e-10, 1.0000e-10,\n",
      "        1.0000e-10], grad_fn=<AsStridedBackward0>)\n"
     ]
    },
    {
     "name": "stderr",
     "output_type": "stream",
     "text": [
      " 21%|██        | 21/100 [00:54<03:49,  2.91s/it]"
     ]
    },
    {
     "name": "stdout",
     "output_type": "stream",
     "text": [
      "torch.Size([2, 513, 541])\n",
      "tensor([1.0000e-10, 1.0000e-10, 1.0000e-10,  ..., 1.0000e-10, 1.0000e-10,\n",
      "        1.0000e-10], grad_fn=<AsStridedBackward0>)\n"
     ]
    },
    {
     "name": "stderr",
     "output_type": "stream",
     "text": [
      " 22%|██▏       | 22/100 [00:58<04:26,  3.42s/it]"
     ]
    },
    {
     "name": "stdout",
     "output_type": "stream",
     "text": [
      "torch.Size([2, 513, 407])\n",
      "tensor([1.0000e-10, 1.0000e-10, 1.0000e-10,  ..., 1.0000e-10, 1.0000e-10,\n",
      "        1.0000e-10], grad_fn=<AsStridedBackward0>)\n"
     ]
    },
    {
     "name": "stderr",
     "output_type": "stream",
     "text": [
      " 23%|██▎       | 23/100 [01:02<04:24,  3.43s/it]"
     ]
    },
    {
     "name": "stdout",
     "output_type": "stream",
     "text": [
      "torch.Size([2, 513, 24])\n",
      "tensor([1.0000e-10, 1.0000e-10, 1.0000e-10,  ..., 1.0000e-10, 1.0000e-10,\n",
      "        1.0000e-10], grad_fn=<AsStridedBackward0>)\n"
     ]
    },
    {
     "name": "stderr",
     "output_type": "stream",
     "text": [
      " 24%|██▍       | 24/100 [01:02<03:17,  2.60s/it]"
     ]
    },
    {
     "name": "stdout",
     "output_type": "stream",
     "text": [
      "torch.Size([2, 513, 27])\n",
      "tensor([1.0000e-10, 1.0000e-10, 1.0000e-10,  ..., 1.0000e-10, 1.0000e-10,\n",
      "        1.0000e-10], grad_fn=<AsStridedBackward0>)\n"
     ]
    },
    {
     "name": "stderr",
     "output_type": "stream",
     "text": [
      " 25%|██▌       | 25/100 [01:03<02:30,  2.00s/it]"
     ]
    },
    {
     "name": "stdout",
     "output_type": "stream",
     "text": [
      "torch.Size([2, 513, 111])\n",
      "tensor([1.0000e-10, 1.0000e-10, 1.0000e-10,  ..., 1.0000e-10, 1.0000e-10,\n",
      "        1.0000e-10], grad_fn=<AsStridedBackward0>)\n"
     ]
    },
    {
     "name": "stderr",
     "output_type": "stream",
     "text": [
      " 26%|██▌       | 26/100 [01:04<02:10,  1.76s/it]"
     ]
    },
    {
     "name": "stdout",
     "output_type": "stream",
     "text": [
      "torch.Size([2, 513, 653])\n",
      "tensor([1.0000e-10, 1.0000e-10, 1.0000e-10,  ..., 1.0000e-10, 1.0000e-10,\n",
      "        1.0000e-10], grad_fn=<AsStridedBackward0>)\n"
     ]
    },
    {
     "name": "stderr",
     "output_type": "stream",
     "text": [
      " 27%|██▋       | 27/100 [01:09<03:24,  2.80s/it]"
     ]
    },
    {
     "name": "stdout",
     "output_type": "stream",
     "text": [
      "torch.Size([2, 513, 461])\n",
      "tensor([1.0000e-10, 1.0000e-10, 1.0000e-10,  ..., 1.0000e-10, 1.0000e-10,\n",
      "        1.0000e-10], grad_fn=<AsStridedBackward0>)\n"
     ]
    },
    {
     "name": "stderr",
     "output_type": "stream",
     "text": [
      " 28%|██▊       | 28/100 [01:13<03:42,  3.09s/it]"
     ]
    },
    {
     "name": "stdout",
     "output_type": "stream",
     "text": [
      "torch.Size([2, 513, 864])\n",
      "tensor([1.0000e-10, 1.0000e-10, 1.0000e-10,  ..., 1.0000e-10, 1.0000e-10,\n",
      "        1.0000e-10], grad_fn=<AsStridedBackward0>)\n"
     ]
    },
    {
     "name": "stderr",
     "output_type": "stream",
     "text": [
      " 29%|██▉       | 29/100 [01:20<04:50,  4.10s/it]"
     ]
    },
    {
     "name": "stdout",
     "output_type": "stream",
     "text": [
      "torch.Size([2, 513, 471])\n",
      "tensor([1.0000e-10, 1.0000e-10, 1.0000e-10,  ..., 1.0000e-10, 1.0000e-10,\n",
      "        1.0000e-10], grad_fn=<AsStridedBackward0>)\n"
     ]
    },
    {
     "name": "stderr",
     "output_type": "stream",
     "text": [
      " 30%|███       | 30/100 [01:23<04:39,  3.99s/it]"
     ]
    },
    {
     "name": "stdout",
     "output_type": "stream",
     "text": [
      "torch.Size([2, 513, 416])\n",
      "tensor([1.0000e-10, 1.0000e-10, 1.0000e-10,  ..., 1.0000e-10, 1.0000e-10,\n",
      "        1.0000e-10], grad_fn=<AsStridedBackward0>)\n"
     ]
    },
    {
     "name": "stderr",
     "output_type": "stream",
     "text": [
      " 31%|███       | 31/100 [01:27<04:22,  3.81s/it]"
     ]
    },
    {
     "name": "stdout",
     "output_type": "stream",
     "text": [
      "torch.Size([2, 513, 59])\n",
      "tensor([1.0000e-10, 1.0000e-10, 1.0000e-10,  ..., 1.0000e-10, 1.0000e-10,\n",
      "        1.0000e-10], grad_fn=<AsStridedBackward0>)\n"
     ]
    },
    {
     "name": "stderr",
     "output_type": "stream",
     "text": [
      " 32%|███▏      | 32/100 [01:28<03:17,  2.90s/it]"
     ]
    },
    {
     "name": "stdout",
     "output_type": "stream",
     "text": [
      "torch.Size([2, 513, 482])\n",
      "tensor([1.0000e-10, 1.0000e-10, 1.0000e-10,  ..., 1.0000e-10, 1.0000e-10,\n",
      "        1.0000e-10], grad_fn=<AsStridedBackward0>)\n"
     ]
    },
    {
     "name": "stderr",
     "output_type": "stream",
     "text": [
      " 33%|███▎      | 33/100 [01:31<03:32,  3.17s/it]"
     ]
    },
    {
     "name": "stdout",
     "output_type": "stream",
     "text": [
      "torch.Size([2, 513, 1029])\n",
      "tensor([1.0000e-10, 1.0000e-10, 1.0000e-10,  ..., 1.0000e-10, 1.0000e-10,\n",
      "        1.0000e-10], grad_fn=<AsStridedBackward0>)\n"
     ]
    },
    {
     "name": "stderr",
     "output_type": "stream",
     "text": [
      " 34%|███▍      | 34/100 [01:39<05:07,  4.65s/it]"
     ]
    },
    {
     "name": "stdout",
     "output_type": "stream",
     "text": [
      "torch.Size([2, 513, 764])\n",
      "tensor([1.0000e-10, 1.0000e-10, 1.0000e-10,  ..., 1.0000e-10, 1.0000e-10,\n",
      "        1.0000e-10], grad_fn=<AsStridedBackward0>)\n"
     ]
    },
    {
     "name": "stderr",
     "output_type": "stream",
     "text": [
      " 35%|███▌      | 35/100 [01:45<05:17,  4.89s/it]"
     ]
    },
    {
     "name": "stdout",
     "output_type": "stream",
     "text": [
      "torch.Size([2, 513, 302])\n",
      "tensor([1.0000e-10, 1.0000e-10, 1.0000e-10,  ..., 1.0000e-10, 1.0000e-10,\n",
      "        1.0000e-10], grad_fn=<AsStridedBackward0>)\n"
     ]
    },
    {
     "name": "stderr",
     "output_type": "stream",
     "text": [
      " 36%|███▌      | 36/100 [01:47<04:25,  4.15s/it]"
     ]
    },
    {
     "name": "stdout",
     "output_type": "stream",
     "text": [
      "torch.Size([2, 513, 553])\n",
      "tensor([1.0000e-10, 1.0000e-10, 1.0000e-10,  ..., 1.0000e-10, 1.0000e-10,\n",
      "        1.0000e-10], grad_fn=<AsStridedBackward0>)\n"
     ]
    },
    {
     "name": "stderr",
     "output_type": "stream",
     "text": [
      " 37%|███▋      | 37/100 [01:52<04:25,  4.21s/it]"
     ]
    },
    {
     "name": "stdout",
     "output_type": "stream",
     "text": [
      "torch.Size([2, 513, 76])\n",
      "tensor([1.0000e-10, 1.0000e-10, 1.0000e-10,  ..., 1.0000e-10, 1.0000e-10,\n",
      "        1.0000e-10], grad_fn=<AsStridedBackward0>)\n"
     ]
    },
    {
     "name": "stderr",
     "output_type": "stream",
     "text": [
      " 38%|███▊      | 38/100 [01:53<03:19,  3.22s/it]"
     ]
    },
    {
     "name": "stdout",
     "output_type": "stream",
     "text": [
      "torch.Size([2, 513, 595])\n",
      "tensor([1.0000e-10, 1.0000e-10, 1.0000e-10,  ..., 1.0000e-10, 1.0000e-10,\n",
      "        1.0000e-10], grad_fn=<AsStridedBackward0>)\n"
     ]
    },
    {
     "name": "stderr",
     "output_type": "stream",
     "text": [
      " 39%|███▉      | 39/100 [01:57<03:40,  3.62s/it]"
     ]
    },
    {
     "name": "stdout",
     "output_type": "stream",
     "text": [
      "torch.Size([2, 513, 64])\n",
      "tensor([1.0000e-10, 1.0000e-10, 1.0000e-10,  ..., 1.0000e-10, 1.0000e-10,\n",
      "        1.0000e-10], grad_fn=<AsStridedBackward0>)\n"
     ]
    },
    {
     "name": "stderr",
     "output_type": "stream",
     "text": [
      " 40%|████      | 40/100 [01:58<02:46,  2.77s/it]"
     ]
    },
    {
     "name": "stdout",
     "output_type": "stream",
     "text": [
      "torch.Size([2, 513, 384])\n",
      "tensor([1.0000e-10, 1.0000e-10, 1.0000e-10,  ..., 1.0000e-10, 1.0000e-10,\n",
      "        1.0000e-10], grad_fn=<AsStridedBackward0>)\n"
     ]
    },
    {
     "name": "stderr",
     "output_type": "stream",
     "text": [
      " 41%|████      | 41/100 [02:01<02:47,  2.83s/it]"
     ]
    },
    {
     "name": "stdout",
     "output_type": "stream",
     "text": [
      "torch.Size([2, 513, 818])\n",
      "tensor([1.0000e-10, 1.0000e-10, 1.0000e-10,  ..., 1.0000e-10, 1.0000e-10,\n",
      "        1.0000e-10], grad_fn=<AsStridedBackward0>)\n"
     ]
    },
    {
     "name": "stderr",
     "output_type": "stream",
     "text": [
      " 42%|████▏     | 42/100 [02:07<03:38,  3.76s/it]"
     ]
    },
    {
     "name": "stdout",
     "output_type": "stream",
     "text": [
      "torch.Size([2, 513, 1062])\n",
      "tensor([1.0000e-10, 1.0000e-10, 1.0000e-10,  ..., 1.0000e-10, 1.0000e-10,\n",
      "        1.0000e-10], grad_fn=<AsStridedBackward0>)\n"
     ]
    },
    {
     "name": "stderr",
     "output_type": "stream",
     "text": [
      " 43%|████▎     | 43/100 [02:15<04:44,  4.99s/it]"
     ]
    },
    {
     "name": "stdout",
     "output_type": "stream",
     "text": [
      "torch.Size([2, 513, 203])\n",
      "tensor([1.0000e-10, 1.0000e-10, 1.0000e-10,  ..., 1.0000e-10, 1.0000e-10,\n",
      "        1.0000e-10], grad_fn=<AsStridedBackward0>)\n"
     ]
    },
    {
     "name": "stderr",
     "output_type": "stream",
     "text": [
      " 44%|████▍     | 44/100 [02:16<03:43,  3.98s/it]"
     ]
    },
    {
     "name": "stdout",
     "output_type": "stream",
     "text": [
      "torch.Size([2, 513, 61])\n",
      "tensor([1.0000e-10, 1.0000e-10, 1.0000e-10,  ..., 1.0000e-10, 1.0000e-10,\n",
      "        1.0000e-10], grad_fn=<AsStridedBackward0>)\n"
     ]
    },
    {
     "name": "stderr",
     "output_type": "stream",
     "text": [
      " 45%|████▌     | 45/100 [02:17<02:44,  2.99s/it]"
     ]
    },
    {
     "name": "stdout",
     "output_type": "stream",
     "text": [
      "torch.Size([2, 513, 90])\n",
      "tensor([1.0000e-10, 1.0000e-10, 1.0000e-10,  ..., 1.0000e-10, 1.0000e-10,\n",
      "        1.0000e-10], grad_fn=<AsStridedBackward0>)\n"
     ]
    },
    {
     "name": "stderr",
     "output_type": "stream",
     "text": [
      " 46%|████▌     | 46/100 [02:18<02:07,  2.37s/it]"
     ]
    },
    {
     "name": "stdout",
     "output_type": "stream",
     "text": [
      "torch.Size([2, 513, 129])\n",
      "tensor([1.0000e-10, 1.0000e-10, 1.0000e-10,  ..., 1.0000e-10, 1.0000e-10,\n",
      "        1.0000e-10], grad_fn=<AsStridedBackward0>)\n"
     ]
    },
    {
     "name": "stderr",
     "output_type": "stream",
     "text": [
      " 47%|████▋     | 47/100 [02:19<01:46,  2.02s/it]"
     ]
    },
    {
     "name": "stdout",
     "output_type": "stream",
     "text": [
      "torch.Size([2, 513, 474])\n",
      "tensor([1.0000e-10, 1.0000e-10, 1.0000e-10,  ..., 1.0000e-10, 1.0000e-10,\n",
      "        1.0000e-10], grad_fn=<AsStridedBackward0>)\n"
     ]
    },
    {
     "name": "stderr",
     "output_type": "stream",
     "text": [
      " 48%|████▊     | 48/100 [02:23<02:12,  2.55s/it]"
     ]
    },
    {
     "name": "stdout",
     "output_type": "stream",
     "text": [
      "torch.Size([2, 513, 457])\n",
      "tensor([1.0000e-10, 1.0000e-10, 1.0000e-10,  ..., 1.0000e-10, 1.0000e-10,\n",
      "        1.0000e-10], grad_fn=<AsStridedBackward0>)\n"
     ]
    },
    {
     "name": "stderr",
     "output_type": "stream",
     "text": [
      " 49%|████▉     | 49/100 [02:27<02:29,  2.92s/it]"
     ]
    },
    {
     "name": "stdout",
     "output_type": "stream",
     "text": [
      "torch.Size([2, 513, 1124])\n",
      "tensor([1.0000e-10, 1.0000e-10, 1.0000e-10,  ..., 1.0000e-10, 1.0000e-10,\n",
      "        1.0000e-10], grad_fn=<AsStridedBackward0>)\n"
     ]
    },
    {
     "name": "stderr",
     "output_type": "stream",
     "text": [
      " 50%|█████     | 50/100 [02:35<03:50,  4.61s/it]"
     ]
    },
    {
     "name": "stdout",
     "output_type": "stream",
     "text": [
      "torch.Size([2, 513, 754])\n",
      "tensor([1.0000e-10, 1.0000e-10, 1.0000e-10,  ..., 1.0000e-10, 1.0000e-10,\n",
      "        1.0000e-10], grad_fn=<AsStridedBackward0>)\n"
     ]
    },
    {
     "name": "stderr",
     "output_type": "stream",
     "text": [
      " 51%|█████     | 51/100 [02:41<04:01,  4.94s/it]"
     ]
    },
    {
     "name": "stdout",
     "output_type": "stream",
     "text": [
      "torch.Size([2, 513, 786])\n",
      "tensor([1.0000e-10, 1.0000e-10, 1.0000e-10,  ..., 1.0000e-10, 1.0000e-10,\n",
      "        1.0000e-10], grad_fn=<AsStridedBackward0>)\n"
     ]
    },
    {
     "name": "stderr",
     "output_type": "stream",
     "text": [
      " 52%|█████▏    | 52/100 [02:47<04:10,  5.22s/it]"
     ]
    },
    {
     "name": "stdout",
     "output_type": "stream",
     "text": [
      "torch.Size([2, 513, 984])\n",
      "tensor([1.0000e-10, 1.0000e-10, 1.0000e-10,  ..., 1.0000e-10, 1.0000e-10,\n",
      "        1.0000e-10], grad_fn=<AsStridedBackward0>)\n"
     ]
    },
    {
     "name": "stderr",
     "output_type": "stream",
     "text": [
      " 53%|█████▎    | 53/100 [02:54<04:31,  5.77s/it]"
     ]
    },
    {
     "name": "stdout",
     "output_type": "stream",
     "text": [
      "torch.Size([2, 513, 76])\n",
      "tensor([1.0000e-10, 1.0000e-10, 1.0000e-10,  ..., 1.0000e-10, 1.0000e-10,\n",
      "        1.0000e-10], grad_fn=<AsStridedBackward0>)\n"
     ]
    },
    {
     "name": "stderr",
     "output_type": "stream",
     "text": [
      " 54%|█████▍    | 54/100 [02:55<03:19,  4.34s/it]"
     ]
    },
    {
     "name": "stdout",
     "output_type": "stream",
     "text": [
      "torch.Size([2, 513, 833])\n",
      "tensor([1.0000e-10, 1.0000e-10, 1.0000e-10,  ..., 1.0000e-10, 1.0000e-10,\n",
      "        1.0000e-10], grad_fn=<AsStridedBackward0>)\n"
     ]
    },
    {
     "name": "stderr",
     "output_type": "stream",
     "text": [
      " 55%|█████▌    | 55/100 [03:01<03:42,  4.94s/it]"
     ]
    },
    {
     "name": "stdout",
     "output_type": "stream",
     "text": [
      "torch.Size([2, 513, 47])\n",
      "tensor([1.0000e-10, 1.0000e-10, 1.0000e-10,  ..., 1.0000e-10, 1.0000e-10,\n",
      "        1.0000e-10], grad_fn=<AsStridedBackward0>)\n"
     ]
    },
    {
     "name": "stderr",
     "output_type": "stream",
     "text": [
      " 56%|█████▌    | 56/100 [03:02<02:42,  3.69s/it]"
     ]
    },
    {
     "name": "stdout",
     "output_type": "stream",
     "text": [
      "torch.Size([2, 513, 539])\n",
      "tensor([1.0000e-10, 1.0000e-10, 1.0000e-10,  ..., 1.0000e-10, 1.0000e-10,\n",
      "        1.0000e-10], grad_fn=<AsStridedBackward0>)\n"
     ]
    },
    {
     "name": "stderr",
     "output_type": "stream",
     "text": [
      " 57%|█████▋    | 57/100 [03:06<02:47,  3.90s/it]"
     ]
    },
    {
     "name": "stdout",
     "output_type": "stream",
     "text": [
      "torch.Size([2, 513, 62])\n",
      "tensor([1.0000e-10, 1.0000e-10, 1.0000e-10,  ..., 1.0000e-10, 1.0000e-10,\n",
      "        1.0000e-10], grad_fn=<AsStridedBackward0>)\n"
     ]
    },
    {
     "name": "stderr",
     "output_type": "stream",
     "text": [
      " 58%|█████▊    | 58/100 [03:07<02:04,  2.96s/it]"
     ]
    },
    {
     "name": "stdout",
     "output_type": "stream",
     "text": [
      "torch.Size([2, 513, 496])\n",
      "tensor([1.0000e-10, 1.0000e-10, 1.0000e-10,  ..., 1.0000e-10, 1.0000e-10,\n",
      "        1.0000e-10], grad_fn=<AsStridedBackward0>)\n"
     ]
    },
    {
     "name": "stderr",
     "output_type": "stream",
     "text": [
      " 59%|█████▉    | 59/100 [03:11<02:13,  3.26s/it]"
     ]
    },
    {
     "name": "stdout",
     "output_type": "stream",
     "text": [
      "torch.Size([2, 513, 346])\n",
      "tensor([1.0000e-10, 1.0000e-10, 1.0000e-10,  ..., 1.0000e-10, 1.0000e-10,\n",
      "        1.0000e-10], grad_fn=<AsStridedBackward0>)\n"
     ]
    },
    {
     "name": "stderr",
     "output_type": "stream",
     "text": [
      " 60%|██████    | 60/100 [03:14<02:04,  3.12s/it]"
     ]
    },
    {
     "name": "stdout",
     "output_type": "stream",
     "text": [
      "torch.Size([2, 513, 521])\n",
      "tensor([1.0000e-10, 1.0000e-10, 1.0000e-10,  ..., 1.0000e-10, 1.0000e-10,\n",
      "        1.0000e-10], grad_fn=<AsStridedBackward0>)\n"
     ]
    },
    {
     "name": "stderr",
     "output_type": "stream",
     "text": [
      " 61%|██████    | 61/100 [03:18<02:16,  3.49s/it]"
     ]
    },
    {
     "name": "stdout",
     "output_type": "stream",
     "text": [
      "torch.Size([2, 513, 196])\n",
      "tensor([1.0000e-10, 1.0000e-10, 1.0000e-10,  ..., 1.0000e-10, 1.0000e-10,\n",
      "        1.0000e-10], grad_fn=<AsStridedBackward0>)\n"
     ]
    },
    {
     "name": "stderr",
     "output_type": "stream",
     "text": [
      " 62%|██████▏   | 62/100 [03:20<01:52,  2.97s/it]"
     ]
    },
    {
     "name": "stdout",
     "output_type": "stream",
     "text": [
      "torch.Size([2, 513, 646])\n",
      "tensor([1.0000e-10, 1.0000e-10, 1.0000e-10,  ..., 1.0000e-10, 1.0000e-10,\n",
      "        1.0000e-10], grad_fn=<AsStridedBackward0>)\n"
     ]
    },
    {
     "name": "stderr",
     "output_type": "stream",
     "text": [
      " 63%|██████▎   | 63/100 [03:25<02:13,  3.59s/it]"
     ]
    },
    {
     "name": "stdout",
     "output_type": "stream",
     "text": [
      "torch.Size([2, 513, 88])\n",
      "tensor([1.0000e-10, 1.0000e-10, 1.0000e-10,  ..., 1.0000e-10, 1.0000e-10,\n",
      "        1.0000e-10], grad_fn=<AsStridedBackward0>)\n"
     ]
    },
    {
     "name": "stderr",
     "output_type": "stream",
     "text": [
      " 64%|██████▍   | 64/100 [03:26<01:40,  2.79s/it]"
     ]
    },
    {
     "name": "stdout",
     "output_type": "stream",
     "text": [
      "torch.Size([2, 513, 124])\n",
      "tensor([1.0000e-10, 1.0000e-10, 1.0000e-10,  ..., 1.0000e-10, 1.0000e-10,\n",
      "        1.0000e-10], grad_fn=<AsStridedBackward0>)\n"
     ]
    },
    {
     "name": "stderr",
     "output_type": "stream",
     "text": [
      " 65%|██████▌   | 65/100 [03:27<01:21,  2.32s/it]"
     ]
    },
    {
     "name": "stdout",
     "output_type": "stream",
     "text": [
      "torch.Size([2, 513, 287])\n",
      "tensor([1.0000e-10, 1.0000e-10, 1.0000e-10,  ..., 1.0000e-10, 1.0000e-10,\n",
      "        1.0000e-10], grad_fn=<AsStridedBackward0>)\n"
     ]
    },
    {
     "name": "stderr",
     "output_type": "stream",
     "text": [
      " 66%|██████▌   | 66/100 [03:30<01:21,  2.39s/it]"
     ]
    },
    {
     "name": "stdout",
     "output_type": "stream",
     "text": [
      "torch.Size([2, 513, 678])\n",
      "tensor([1.0000e-10, 1.0000e-10, 1.0000e-10,  ..., 1.0000e-10, 1.0000e-10,\n",
      "        1.0000e-10], grad_fn=<AsStridedBackward0>)\n"
     ]
    },
    {
     "name": "stderr",
     "output_type": "stream",
     "text": [
      " 67%|██████▋   | 67/100 [03:35<01:49,  3.32s/it]"
     ]
    },
    {
     "name": "stdout",
     "output_type": "stream",
     "text": [
      "torch.Size([2, 513, 1041])\n",
      "tensor([1.0000e-10, 1.0000e-10, 1.0000e-10,  ..., 1.0000e-10, 1.0000e-10,\n",
      "        1.0000e-10], grad_fn=<AsStridedBackward0>)\n"
     ]
    },
    {
     "name": "stderr",
     "output_type": "stream",
     "text": [
      " 68%|██████▊   | 68/100 [03:43<02:30,  4.69s/it]"
     ]
    },
    {
     "name": "stdout",
     "output_type": "stream",
     "text": [
      "torch.Size([2, 513, 428])\n",
      "tensor([1.0000e-10, 1.0000e-10, 1.0000e-10,  ..., 1.0000e-10, 1.0000e-10,\n",
      "        1.0000e-10], grad_fn=<AsStridedBackward0>)\n"
     ]
    },
    {
     "name": "stderr",
     "output_type": "stream",
     "text": [
      " 69%|██████▉   | 69/100 [03:46<02:12,  4.29s/it]"
     ]
    },
    {
     "name": "stdout",
     "output_type": "stream",
     "text": [
      "torch.Size([2, 513, 936])\n",
      "tensor([1.0000e-10, 1.0000e-10, 1.0000e-10,  ..., 1.0000e-10, 1.0000e-10,\n",
      "        1.0000e-10], grad_fn=<AsStridedBackward0>)\n"
     ]
    },
    {
     "name": "stderr",
     "output_type": "stream",
     "text": [
      " 70%|███████   | 70/100 [03:53<02:31,  5.07s/it]"
     ]
    },
    {
     "name": "stdout",
     "output_type": "stream",
     "text": [
      "torch.Size([2, 513, 582])\n",
      "tensor([1.0000e-10, 1.0000e-10, 1.0000e-10,  ..., 1.0000e-10, 1.0000e-10,\n",
      "        1.0000e-10], grad_fn=<AsStridedBackward0>)\n"
     ]
    },
    {
     "name": "stderr",
     "output_type": "stream",
     "text": [
      " 71%|███████   | 71/100 [03:58<02:22,  4.92s/it]"
     ]
    },
    {
     "name": "stdout",
     "output_type": "stream",
     "text": [
      "torch.Size([2, 513, 76])\n",
      "tensor([1.0000e-10, 1.0000e-10, 1.0000e-10,  ..., 1.0000e-10, 1.0000e-10,\n",
      "        1.0000e-10], grad_fn=<AsStridedBackward0>)\n"
     ]
    },
    {
     "name": "stderr",
     "output_type": "stream",
     "text": [
      " 72%|███████▏  | 72/100 [03:59<01:43,  3.70s/it]"
     ]
    },
    {
     "name": "stdout",
     "output_type": "stream",
     "text": [
      "torch.Size([2, 513, 161])\n",
      "tensor([1.0000e-10, 1.0000e-10, 1.0000e-10,  ..., 1.0000e-10, 1.0000e-10,\n",
      "        1.0000e-10], grad_fn=<AsStridedBackward0>)\n"
     ]
    },
    {
     "name": "stderr",
     "output_type": "stream",
     "text": [
      " 73%|███████▎  | 73/100 [04:00<01:20,  2.98s/it]"
     ]
    },
    {
     "name": "stdout",
     "output_type": "stream",
     "text": [
      "torch.Size([2, 513, 49])\n",
      "tensor([1.0000e-10, 1.0000e-10, 1.0000e-10,  ..., 1.0000e-10, 1.0000e-10,\n",
      "        1.0000e-10], grad_fn=<AsStridedBackward0>)\n"
     ]
    },
    {
     "name": "stderr",
     "output_type": "stream",
     "text": [
      " 74%|███████▍  | 74/100 [04:01<00:59,  2.29s/it]"
     ]
    },
    {
     "name": "stdout",
     "output_type": "stream",
     "text": [
      "torch.Size([2, 513, 1127])\n",
      "tensor([1.0000e-10, 1.0000e-10, 1.0000e-10,  ..., 1.0000e-10, 1.0000e-10,\n",
      "        1.0000e-10], grad_fn=<AsStridedBackward0>)\n"
     ]
    },
    {
     "name": "stderr",
     "output_type": "stream",
     "text": [
      " 75%|███████▌  | 75/100 [04:10<01:49,  4.37s/it]"
     ]
    },
    {
     "name": "stdout",
     "output_type": "stream",
     "text": [
      "torch.Size([2, 513, 452])\n",
      "tensor([1.0000e-10, 1.0000e-10, 1.0000e-10,  ..., 1.0000e-10, 1.0000e-10,\n",
      "        1.0000e-10], grad_fn=<AsStridedBackward0>)\n"
     ]
    },
    {
     "name": "stderr",
     "output_type": "stream",
     "text": [
      " 76%|███████▌  | 76/100 [04:17<02:00,  5.00s/it]"
     ]
    },
    {
     "name": "stdout",
     "output_type": "stream",
     "text": [
      "torch.Size([2, 513, 80])\n",
      "tensor([1.0000e-10, 1.0000e-10, 1.0000e-10,  ..., 1.0000e-10, 1.0000e-10,\n",
      "        1.0000e-10], grad_fn=<AsStridedBackward0>)\n"
     ]
    },
    {
     "name": "stderr",
     "output_type": "stream",
     "text": [
      " 77%|███████▋  | 77/100 [04:18<01:33,  4.05s/it]"
     ]
    },
    {
     "name": "stdout",
     "output_type": "stream",
     "text": [
      "torch.Size([2, 513, 47])\n",
      "tensor([1.0000e-10, 1.0000e-10, 1.0000e-10,  ..., 1.0000e-10, 1.0000e-10,\n",
      "        1.0000e-10], grad_fn=<AsStridedBackward0>)\n"
     ]
    },
    {
     "name": "stderr",
     "output_type": "stream",
     "text": [
      " 78%|███████▊  | 78/100 [04:19<01:08,  3.12s/it]"
     ]
    },
    {
     "name": "stdout",
     "output_type": "stream",
     "text": [
      "torch.Size([2, 513, 109])\n",
      "tensor([1.0000e-10, 1.0000e-10, 1.0000e-10,  ..., 1.0000e-10, 1.0000e-10,\n",
      "        1.0000e-10], grad_fn=<AsStridedBackward0>)\n"
     ]
    },
    {
     "name": "stderr",
     "output_type": "stream",
     "text": [
      " 79%|███████▉  | 79/100 [04:22<01:00,  2.90s/it]"
     ]
    },
    {
     "name": "stdout",
     "output_type": "stream",
     "text": [
      "torch.Size([2, 513, 1001])\n",
      "tensor([1.0000e-10, 1.0000e-10, 1.0000e-10,  ..., 1.0000e-10, 1.0000e-10,\n",
      "        1.0000e-10], grad_fn=<AsStridedBackward0>)\n"
     ]
    },
    {
     "name": "stderr",
     "output_type": "stream",
     "text": [
      " 80%|████████  | 80/100 [04:32<01:42,  5.14s/it]"
     ]
    },
    {
     "name": "stdout",
     "output_type": "stream",
     "text": [
      "torch.Size([2, 513, 98])\n",
      "tensor([1.0000e-10, 1.0000e-10, 1.0000e-10,  ..., 1.0000e-10, 1.0000e-10,\n",
      "        1.0000e-10], grad_fn=<AsStridedBackward0>)\n"
     ]
    },
    {
     "name": "stderr",
     "output_type": "stream",
     "text": [
      " 81%|████████  | 81/100 [04:33<01:14,  3.92s/it]"
     ]
    },
    {
     "name": "stdout",
     "output_type": "stream",
     "text": [
      "torch.Size([2, 513, 799])\n",
      "tensor([1.0000e-10, 1.0000e-10, 1.0000e-10,  ..., 1.0000e-10, 1.0000e-10,\n",
      "        1.0000e-10], grad_fn=<AsStridedBackward0>)\n"
     ]
    },
    {
     "name": "stderr",
     "output_type": "stream",
     "text": [
      " 82%|████████▏ | 82/100 [04:39<01:23,  4.63s/it]"
     ]
    },
    {
     "name": "stdout",
     "output_type": "stream",
     "text": [
      "torch.Size([2, 513, 790])\n",
      "tensor([1.0000e-10, 1.0000e-10, 1.0000e-10,  ..., 1.0000e-10, 1.0000e-10,\n",
      "        1.0000e-10], grad_fn=<AsStridedBackward0>)\n"
     ]
    },
    {
     "name": "stderr",
     "output_type": "stream",
     "text": [
      " 83%|████████▎ | 83/100 [04:45<01:24,  4.97s/it]"
     ]
    },
    {
     "name": "stdout",
     "output_type": "stream",
     "text": [
      "torch.Size([2, 513, 49])\n",
      "tensor([1.0000e-10, 1.0000e-10, 1.0000e-10,  ..., 1.0000e-10, 1.0000e-10,\n",
      "        1.0000e-10], grad_fn=<AsStridedBackward0>)\n"
     ]
    },
    {
     "name": "stderr",
     "output_type": "stream",
     "text": [
      " 84%|████████▍ | 84/100 [04:46<00:59,  3.70s/it]"
     ]
    },
    {
     "name": "stdout",
     "output_type": "stream",
     "text": [
      "torch.Size([2, 513, 667])\n",
      "tensor([1.0000e-10, 1.0000e-10, 1.0000e-10,  ..., 1.0000e-10, 1.0000e-10,\n",
      "        1.0000e-10], grad_fn=<AsStridedBackward0>)\n"
     ]
    },
    {
     "name": "stderr",
     "output_type": "stream",
     "text": [
      " 85%|████████▌ | 85/100 [04:51<01:01,  4.11s/it]"
     ]
    },
    {
     "name": "stdout",
     "output_type": "stream",
     "text": [
      "torch.Size([2, 513, 291])\n",
      "tensor([1.0000e-10, 1.0000e-10, 1.0000e-10,  ..., 1.0000e-10, 1.0000e-10,\n",
      "        1.0000e-10], grad_fn=<AsStridedBackward0>)\n"
     ]
    },
    {
     "name": "stderr",
     "output_type": "stream",
     "text": [
      " 86%|████████▌ | 86/100 [04:54<00:52,  3.75s/it]"
     ]
    },
    {
     "name": "stdout",
     "output_type": "stream",
     "text": [
      "torch.Size([2, 513, 1164])\n",
      "tensor([1.0000e-10, 1.0000e-10, 1.0000e-10,  ..., 1.0000e-10, 1.0000e-10,\n",
      "        1.0000e-10], grad_fn=<AsStridedBackward0>)\n"
     ]
    },
    {
     "name": "stderr",
     "output_type": "stream",
     "text": [
      " 87%|████████▋ | 87/100 [05:04<01:12,  5.59s/it]"
     ]
    },
    {
     "name": "stdout",
     "output_type": "stream",
     "text": [
      "torch.Size([2, 513, 747])\n",
      "tensor([1.0000e-10, 1.0000e-10, 1.0000e-10,  ..., 1.0000e-10, 1.0000e-10,\n",
      "        1.0000e-10], grad_fn=<AsStridedBackward0>)\n"
     ]
    },
    {
     "name": "stderr",
     "output_type": "stream",
     "text": [
      " 88%|████████▊ | 88/100 [05:09<01:06,  5.58s/it]"
     ]
    },
    {
     "name": "stdout",
     "output_type": "stream",
     "text": [
      "torch.Size([2, 513, 239])\n",
      "tensor([1.0000e-10, 1.0000e-10, 1.0000e-10,  ..., 1.0000e-10, 1.0000e-10,\n",
      "        1.0000e-10], grad_fn=<AsStridedBackward0>)\n"
     ]
    },
    {
     "name": "stderr",
     "output_type": "stream",
     "text": [
      " 89%|████████▉ | 89/100 [05:11<00:49,  4.46s/it]"
     ]
    },
    {
     "name": "stdout",
     "output_type": "stream",
     "text": [
      "torch.Size([2, 513, 176])\n",
      "tensor([1.0000e-10, 1.0000e-10, 1.0000e-10,  ..., 1.0000e-10, 1.0000e-10,\n",
      "        1.0000e-10], grad_fn=<AsStridedBackward0>)\n"
     ]
    },
    {
     "name": "stderr",
     "output_type": "stream",
     "text": [
      " 90%|█████████ | 90/100 [05:13<00:35,  3.53s/it]"
     ]
    },
    {
     "name": "stdout",
     "output_type": "stream",
     "text": [
      "torch.Size([2, 513, 780])\n",
      "tensor([1.0000e-10, 1.0000e-10, 1.0000e-10,  ..., 1.0000e-10, 1.0000e-10,\n",
      "        1.0000e-10], grad_fn=<AsStridedBackward0>)\n"
     ]
    },
    {
     "name": "stderr",
     "output_type": "stream",
     "text": [
      " 91%|█████████ | 91/100 [05:18<00:38,  4.24s/it]"
     ]
    },
    {
     "name": "stdout",
     "output_type": "stream",
     "text": [
      "torch.Size([2, 513, 62])\n",
      "tensor([1.0000e-10, 1.0000e-10, 1.0000e-10,  ..., 1.0000e-10, 1.0000e-10,\n",
      "        1.0000e-10], grad_fn=<AsStridedBackward0>)\n"
     ]
    },
    {
     "name": "stderr",
     "output_type": "stream",
     "text": [
      " 92%|█████████▏| 92/100 [05:19<00:25,  3.21s/it]"
     ]
    },
    {
     "name": "stdout",
     "output_type": "stream",
     "text": [
      "torch.Size([2, 513, 486])\n",
      "tensor([1.0000e-10, 1.0000e-10, 1.0000e-10,  ..., 1.0000e-10, 1.0000e-10,\n",
      "        1.0000e-10], grad_fn=<AsStridedBackward0>)\n"
     ]
    },
    {
     "name": "stderr",
     "output_type": "stream",
     "text": [
      " 93%|█████████▎| 93/100 [05:24<00:25,  3.60s/it]"
     ]
    },
    {
     "name": "stdout",
     "output_type": "stream",
     "text": [
      "torch.Size([2, 513, 752])\n",
      "tensor([1.0000e-10, 1.0000e-10, 1.0000e-10,  ..., 1.0000e-10, 1.0000e-10,\n",
      "        1.0000e-10], grad_fn=<AsStridedBackward0>)\n"
     ]
    },
    {
     "name": "stderr",
     "output_type": "stream",
     "text": [
      " 94%|█████████▍| 94/100 [05:32<00:29,  4.86s/it]"
     ]
    },
    {
     "name": "stdout",
     "output_type": "stream",
     "text": [
      "torch.Size([2, 513, 948])\n",
      "tensor([1.0000e-10, 1.0000e-10, 1.0000e-10,  ..., 1.0000e-10, 1.0000e-10,\n",
      "        1.0000e-10], grad_fn=<AsStridedBackward0>)\n"
     ]
    },
    {
     "name": "stderr",
     "output_type": "stream",
     "text": [
      " 95%|█████████▌| 95/100 [05:40<00:29,  5.87s/it]"
     ]
    },
    {
     "name": "stdout",
     "output_type": "stream",
     "text": [
      "torch.Size([2, 513, 121])\n",
      "tensor([1.0000e-10, 1.0000e-10, 1.0000e-10,  ..., 1.0000e-10, 1.0000e-10,\n",
      "        1.0000e-10], grad_fn=<AsStridedBackward0>)\n"
     ]
    },
    {
     "name": "stderr",
     "output_type": "stream",
     "text": [
      " 96%|█████████▌| 96/100 [05:41<00:18,  4.52s/it]"
     ]
    },
    {
     "name": "stdout",
     "output_type": "stream",
     "text": [
      "torch.Size([2, 513, 839])\n",
      "tensor([1.0000e-10, 1.0000e-10, 1.0000e-10,  ..., 1.0000e-10, 1.0000e-10,\n",
      "        1.0000e-10], grad_fn=<AsStridedBackward0>)\n"
     ]
    },
    {
     "name": "stderr",
     "output_type": "stream",
     "text": [
      " 97%|█████████▋| 97/100 [05:48<00:15,  5.19s/it]"
     ]
    },
    {
     "name": "stdout",
     "output_type": "stream",
     "text": [
      "torch.Size([2, 513, 185])\n",
      "tensor([1.0000e-10, 1.0000e-10, 1.0000e-10,  ..., 1.0000e-10, 1.0000e-10,\n",
      "        1.0000e-10], grad_fn=<AsStridedBackward0>)\n"
     ]
    },
    {
     "name": "stderr",
     "output_type": "stream",
     "text": [
      " 98%|█████████▊| 98/100 [05:50<00:08,  4.19s/it]"
     ]
    },
    {
     "name": "stdout",
     "output_type": "stream",
     "text": [
      "torch.Size([2, 513, 83])\n",
      "tensor([1.0000e-10, 1.0000e-10, 1.0000e-10,  ..., 1.0000e-10, 1.0000e-10,\n",
      "        1.0000e-10], grad_fn=<AsStridedBackward0>)\n"
     ]
    },
    {
     "name": "stderr",
     "output_type": "stream",
     "text": [
      " 99%|█████████▉| 99/100 [05:51<00:03,  3.30s/it]"
     ]
    },
    {
     "name": "stdout",
     "output_type": "stream",
     "text": [
      "torch.Size([2, 513, 839])\n",
      "tensor([1.0000e-10, 1.0000e-10, 1.0000e-10,  ..., 1.0000e-10, 1.0000e-10,\n",
      "        1.0000e-10], grad_fn=<AsStridedBackward0>)\n"
     ]
    },
    {
     "name": "stderr",
     "output_type": "stream",
     "text": [
      "100%|██████████| 100/100 [05:59<00:00,  3.59s/it]\n"
     ]
    }
   ],
   "source": [
    "\n",
    "#device =  torch.device('cuda') if torch.cuda.is_available() else torch.device('cpu')\n",
    "\n",
    "model = MaskNet()#.to(device)\n",
    "model.type(torch.complex64)\n",
    "\n",
    "opt = Adam(model.parameters(), lr=INIT_LR)\n",
    "\n",
    "lossMSE = MSELoss()\n",
    "\n",
    "H = {\n",
    "    \"train_loss\":[],\n",
    "    \"train_acc\":[],\n",
    "    \"val_loss\":[],\n",
    "    \"val_acc\":[]\n",
    "}\n",
    "\n",
    "print(\"[INFO] training the network...\")\n",
    "#startTime = time.time()\n",
    "\n",
    "for epoch in range(0, EPOCHS):\n",
    "    print(\"Epoch:\",epoch,\"/1\")\n",
    "    # Train Mode\n",
    "    model.train()\n",
    "    \n",
    "    # Initialize\n",
    "    totalTrainLoss = 0\n",
    "    totalValLoss = 0\n",
    "    trainCorrect = 0\n",
    "    valCorrect = 0\n",
    "\n",
    "    trainX = X\n",
    "    trainY = Y\n",
    "\n",
    "    global i\n",
    "    for i in tqdm(range(0,100)):#len(trainX))):\n",
    "        (x, y) = (stft((torch.cat((trainX[i][0].unsqueeze(1),trainX[i][1].unsqueeze(1)),1)).reshape(2,-1)),trainY[i])#(trainX[i],trainY[i])\n",
    "        #(x, y) = (x.to(device), y.to(device))\n",
    "        # perform a forward pass and calculate the training loss\n",
    "        #print(next(model.parameters()).is_cuda)\n",
    "        print(x.shape)\n",
    "        pred = model(x)\n",
    "        loss = lossMSE(pred, y)\n",
    "\n",
    "        #print(\"Loss:\",loss)\n",
    "        # zero out the gradients, perform the backpropagation step,\n",
    "        # and update the weights\n",
    "        opt.zero_grad()\n",
    "        loss.backward()\n",
    "        opt.step()\n",
    "        # add the loss to the total training loss so far and\n",
    "        # calculate the number of correct predictions\n",
    "        totalTrainLoss += loss\n",
    "        # trainCorrect += (pred.argmax(1) == y).type(\n",
    "        #     torch.float).sum().item()"
   ]
  },
  {
   "cell_type": "code",
   "execution_count": 33,
   "metadata": {},
   "outputs": [],
   "source": [
    "PATH = \"./modelsave.pt\"\n",
    "torch.save(model.state_dict(), \"./modelsave.pt\")"
   ]
  },
  {
   "cell_type": "markdown",
   "metadata": {},
   "source": [
    "## Test model"
   ]
  },
  {
   "cell_type": "code",
   "execution_count": 34,
   "metadata": {},
   "outputs": [
    {
     "data": {
      "text/plain": [
       "MaskNet(\n",
       "  (lstm): LSTM(2, 8, num_layers=2, bidirectional=True)\n",
       "  (fc): Linear(in_features=16, out_features=1, bias=True)\n",
       "  (sigmoid): Sigmoid()\n",
       "  (lstm2): LSTM(2, 8, num_layers=2, bidirectional=True)\n",
       "  (fc2): Linear(in_features=16, out_features=1, bias=True)\n",
       "  (sigmoid2): Sigmoid()\n",
       ")"
      ]
     },
     "execution_count": 34,
     "metadata": {},
     "output_type": "execute_result"
    }
   ],
   "source": [
    "PATH = \"./modelsave.pt\"\n",
    "model = MaskNet()\n",
    "model.load_state_dict(torch.load(PATH))\n",
    "model.eval()"
   ]
  },
  {
   "cell_type": "code",
   "execution_count": 36,
   "metadata": {},
   "outputs": [],
   "source": [
    "j = 120\n",
    "#pred_null = model(stft((torch.cat((trainX[j][0].unsqueeze(1),trainX[j][1].unsqueeze(1)),1)).reshape(2,-1)).type(torch.complex64))"
   ]
  },
  {
   "cell_type": "code",
   "execution_count": 39,
   "metadata": {},
   "outputs": [],
   "source": [
    "def save_sample(i):\n",
    "    pred_null = model(stft((torch.cat((trainX[i][0].unsqueeze(1),trainX[i][1].unsqueeze(1)),1)).reshape(2,-1)).type(torch.float))\n",
    "    torchaudio.save(\"sample_model_output.wav\",pred_null.reshape(1,-1),sample_rate)\n",
    "    torchaudio.save(\"sample_reference.wav\", trainY[i].unsqueeze(1).reshape(1,-1),sample_rate)\n",
    "    torchaudio.save(\"sample_input.wav\", trainX[i][0].unsqueeze(1).reshape(1,-1),sample_rate)"
   ]
  },
  {
   "cell_type": "code",
   "execution_count": 40,
   "metadata": {},
   "outputs": [
    {
     "name": "stdout",
     "output_type": "stream",
     "text": [
      "tensor([1.0000e-10, 1.0000e-10, 1.0000e-10,  ..., 0.0000e+00, 0.0000e+00,\n",
      "        0.0000e+00], grad_fn=<AsStridedBackward0>)\n"
     ]
    }
   ],
   "source": [
    "save_sample(50)"
   ]
  },
  {
   "cell_type": "markdown",
   "metadata": {},
   "source": [
    "## Librispeech Dataset + Noise"
   ]
  },
  {
   "cell_type": "code",
   "execution_count": null,
   "metadata": {},
   "outputs": [],
   "source": []
  }
 ],
 "metadata": {
  "kernelspec": {
   "display_name": "Python 3.9.12 ('pytorch')",
   "language": "python",
   "name": "python3"
  },
  "language_info": {
   "codemirror_mode": {
    "name": "ipython",
    "version": 3
   },
   "file_extension": ".py",
   "mimetype": "text/x-python",
   "name": "python",
   "nbconvert_exporter": "python",
   "pygments_lexer": "ipython3",
   "version": "3.9.12"
  },
  "orig_nbformat": 4,
  "vscode": {
   "interpreter": {
    "hash": "04f0c822f1f3471cfda557225f32a3325398c976884d8d093b8fd824f1bbe21a"
   }
  }
 },
 "nbformat": 4,
 "nbformat_minor": 2
}
