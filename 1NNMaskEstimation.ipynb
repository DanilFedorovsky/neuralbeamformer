{
 "cells": [
  {
   "cell_type": "markdown",
   "metadata": {},
   "source": [
    "## Prepare Training Data"
   ]
  },
  {
   "cell_type": "code",
   "execution_count": 1,
   "metadata": {},
   "outputs": [
    {
     "name": "stderr",
     "output_type": "stream",
     "text": [
      "/Users/danilfedorovsky/miniforge3/envs/pytorch/lib/python3.9/site-packages/torchaudio/_internal/module_utils.py:99: UserWarning: Failed to import soundfile. 'soundfile' backend is not available.\n",
      "  warnings.warn(\"Failed to import soundfile. 'soundfile' backend is not available.\")\n"
     ]
    }
   ],
   "source": [
    "import json\n",
    "import torchaudio\n",
    "import matplotlib.pyplot as plt\n",
    "import torch\n",
    "from datetime import time\n",
    "import numpy as np"
   ]
  },
  {
   "cell_type": "code",
   "execution_count": 2,
   "metadata": {},
   "outputs": [],
   "source": [
    "## decide what to load\n",
    "SESSION = \"S02\"\n",
    "transcript_path = \"/Users/danilfedorovsky/Documents/10 Collection/00 Studium/00 Letztes Semester/Masterarbeit/Data/CHiME5/transcriptions/dev/\" + SESSION + \".json\"\n",
    "#'/project/data_asr/CHiME5/data/CHiME5/transcriptions/dev/' + SESSION\n",
    "data_path = \"/Users/danilfedorovsky/Documents/10 Collection/00 Studium/00 Letztes Semester/Masterarbeit/Data/CHiME5/audio/dev/\""
   ]
  },
  {
   "cell_type": "code",
   "execution_count": 3,
   "metadata": {},
   "outputs": [],
   "source": [
    "with open(transcript_path, 'r') as f:\n",
    "    transcript = json.load(f)"
   ]
  },
  {
   "cell_type": "code",
   "execution_count": 4,
   "metadata": {},
   "outputs": [
    {
     "name": "stdout",
     "output_type": "stream",
     "text": [
      "['P05', datetime.time(0, 0, 40, 630000), datetime.time(0, 0, 43, 850000)]\n",
      "[datetime.time(0, 0, 40, 630000), datetime.time(0, 0, 43, 850000)]\n",
      "True\n"
     ]
    }
   ],
   "source": [
    "u1_times = []\n",
    "speaker_times = []\n",
    "for entry in transcript:\n",
    "    #print(entry[\"start_time\"][\"U01\"])\n",
    "    #print(entry[\"end_time\"][\"U01\"])\n",
    "    try:\n",
    "        speaker_times.append([entry[\"speaker\"],time.fromisoformat(\"0\"+str(entry[\"start_time\"][\"U01\"])+\"0\"),time.fromisoformat(\"0\"+str(entry[\"end_time\"][\"U01\"])+\"0\")])\n",
    "        u1_times.append([time.fromisoformat(\"0\"+str(entry[\"start_time\"][\"U01\"])+\"0\"),time.fromisoformat(\"0\"+str(entry[\"end_time\"][\"U01\"])+\"0\")])\n",
    "    except:\n",
    "        # if redacted\n",
    "        pass\n",
    "\n",
    "print(speaker_times[0])\n",
    "print(u1_times[0])\n",
    "print(len(speaker_times)==len(u1_times))"
   ]
  },
  {
   "cell_type": "code",
   "execution_count": 5,
   "metadata": {},
   "outputs": [
    {
     "name": "stdout",
     "output_type": "stream",
     "text": [
      "8904.04 seconds\n"
     ]
    }
   ],
   "source": [
    "# 2h 28 min 24 s = 8904s\n",
    "P05, sample_rate = torchaudio.load(data_path+\"S02_P05.wav\")\n",
    "P06, _ = torchaudio.load(data_path+\"S02_P06.wav\")\n",
    "P07, _ = torchaudio.load(data_path+\"S02_P07.wav\")\n",
    "P08, _ = torchaudio.load(data_path+\"S02_P08.wav\")\n",
    "U01, _ = torchaudio.load(data_path+\"S02_U01.CH1.wav\")\n",
    "U012, _ = torchaudio.load(data_path+\"S02_U01.CH2.wav\")\n",
    "#P05 = P05[0].reshape(1,-1)\n",
    "#P06 = P06[0].reshape(1,-1)\n",
    "#P07 = P07[0].reshape(1,-1)\n",
    "#P08 = P08[0].reshape(1,-1)\n",
    "print(U01.size(dim=1)/sample_rate, \"seconds\")"
   ]
  },
  {
   "cell_type": "code",
   "execution_count": 6,
   "metadata": {},
   "outputs": [
    {
     "name": "stdout",
     "output_type": "stream",
     "text": [
      "Input ready\n",
      "Label ready\n",
      "True\n"
     ]
    }
   ],
   "source": [
    "# Cut the relevant segments\n",
    "X = []#np.array([])#[]#torch.Tensor()\n",
    "Y = []#np.array([])#[]#torch.Tensor()\n",
    "\n",
    "def time_to_sample(time:time):\n",
    "    return int(sample_rate*(time.hour*3600+time.minute*60+time.second+time.microsecond/1000000))\n",
    "\n",
    "# Input\n",
    "for start, end in u1_times:\n",
    "    start = time_to_sample(start)\n",
    "    end = time_to_sample(end)\n",
    "    #X = torch.cat((X, U01[0][start:end]), 0)\n",
    "    X.append([U01[0][start:end],U012[0][start:end]])\n",
    "print(\"Input ready\")\n",
    "\n",
    "# Label\n",
    "for speaker,start,end in speaker_times:\n",
    "    #print(speaker,start,end)\n",
    "    start = time_to_sample(start)\n",
    "    end = time_to_sample(end)\n",
    "    if speaker == \"P05\":\n",
    "        #Y = torch.cat((Y, P05[0][start:end]), 0)\n",
    "        #Y.append([P05[0][start:end],P05[1][start:end]])\n",
    "        Y.append(P05[0][start:end])\n",
    "    if speaker == \"P06\":\n",
    "        #Y = torch.cat((Y, P06[0][start:end]), 0)\n",
    "        Y.append(P06[0][start:end])\n",
    "    if speaker == \"P07\":\n",
    "        #Y = torch.cat((Y, P07[0][start:end]), 0)\n",
    "        Y.append(P07[0][start:end])\n",
    "    if speaker == \"P08\":\n",
    "        #Y = torch.cat((Y, P08[0][start:end]), 0)\n",
    "        Y.append(P08[0][start:end])\n",
    "\n",
    "print(\"Label ready\")\n",
    "#print(X.size(0)==Y.size(0))\n",
    "print(len(X)==len(Y))"
   ]
  },
  {
   "cell_type": "markdown",
   "metadata": {},
   "source": [
    "## Training on CHIME"
   ]
  },
  {
   "cell_type": "code",
   "execution_count": 29,
   "metadata": {},
   "outputs": [],
   "source": [
    "from torch.nn import Module, LeakyReLU, MaxPool1d, Conv2d, Linear, Softmax, BatchNorm1d, CrossEntropyLoss, BCELoss, Sigmoid, Tanh, LSTM, MSELoss\n",
    "from torch import flatten\n",
    "from torch.optim import Adam\n",
    "import time\n",
    "import torch\n",
    "from pytorch_model_summary import summary\n",
    "from tqdm import tqdm\n",
    "import torchaudio"
   ]
  },
  {
   "cell_type": "code",
   "execution_count": 30,
   "metadata": {},
   "outputs": [],
   "source": [
    "HIDDEN_SIZE=8\n",
    "INIT_LR = 0.01\n",
    "BATCH_SIZE = 1#64\n",
    "SAMPLE_RATE = 16000\n",
    "EPOCHS = 1\n",
    "INPUT_CHANNEL = 2\n",
    "REFERENCE_CHANNEL = 0\n",
    "\n",
    "N_FFT = 1024\n",
    "N_HOP = 256\n",
    "stft = torchaudio.transforms.Spectrogram(\n",
    "    n_fft=N_FFT,\n",
    "    hop_length=N_HOP,\n",
    "    power=None,\n",
    ")\n",
    "istft = torchaudio.transforms.InverseSpectrogram(n_fft=N_FFT, hop_length=N_HOP)\n",
    "global i\n",
    "i = 0\n",
    "\n",
    "def prep_x(trainX,i):\n",
    "        return stft((torch.cat((trainX[i][0].unsqueeze(1),trainX[i][1].unsqueeze(1)),1)).reshape(2,-1)).type(torch.complex64)"
   ]
  },
  {
   "cell_type": "code",
   "execution_count": 31,
   "metadata": {},
   "outputs": [
    {
     "name": "stdout",
     "output_type": "stream",
     "text": [
      "tensor([0., 0., 0.,  ..., 0., 0., 0.], grad_fn=<AsStridedBackward0>)\n",
      "------------------------------------------------------------------------------------------------\n",
      "      Layer (type)                                 Output Shape         Param #     Tr. Param #\n",
      "================================================================================================\n",
      "            LSTM-1     [513, 251, 16], [4, 251, 8], [4, 251, 8]           2,432           2,432\n",
      "          Linear-2                                [513, 251, 1]              17              17\n",
      "         Sigmoid-3                                [513, 251, 1]               0               0\n",
      "            LSTM-4     [513, 251, 16], [4, 251, 8], [4, 251, 8]           2,432           2,432\n",
      "          Linear-5                                [513, 251, 1]              17              17\n",
      "         Sigmoid-6                                [513, 251, 1]               0               0\n",
      "================================================================================================\n",
      "Total params: 4,898\n",
      "Trainable params: 4,898\n",
      "Non-trainable params: 0\n",
      "------------------------------------------------------------------------------------------------\n"
     ]
    }
   ],
   "source": [
    "# # MASK NET\n",
    "\n",
    "class MaskNet(Module):\n",
    "    def __init__(self,noise=False):\n",
    "        super(MaskNet, self).__init__()\n",
    "        # First subnet for speech prediction\n",
    "        self.type(torch.cfloat)\n",
    "        self.noise = noise\n",
    "        self.lstm = LSTM(input_size=INPUT_CHANNEL, hidden_size=HIDDEN_SIZE, num_layers=2, bidirectional=True)\n",
    "        self.fc = Linear(in_features=HIDDEN_SIZE*2 ,out_features=1)\n",
    "        self.sigmoid = Sigmoid()\n",
    "        # Second subnet for noise prediction\n",
    "        self.noise2 = noise\n",
    "        self.lstm2 = LSTM(input_size=INPUT_CHANNEL, hidden_size=HIDDEN_SIZE, num_layers=2, bidirectional=True)\n",
    "        self.fc2 = Linear(in_features=HIDDEN_SIZE*2 ,out_features=1)\n",
    "        self.sigmoid2 = Sigmoid()\n",
    "\n",
    "    def forward(self,x):\n",
    "        # Speech prediction\n",
    "        y = x.reshape(513,-1,INPUT_CHANNEL)#(513,251,INPUT_CHANNEL)\n",
    "        y, (h_n, c_n) = self.lstm(y)\n",
    "        y = self.fc(y).type(torch.double)\n",
    "        speech_pred = self.sigmoid(y)\n",
    "        speech_pred = speech_pred.reshape(513,-1).type(torch.cfloat)\n",
    "        #print(\"speech_pred.shape\",speech_pred.shape)\n",
    "\n",
    "        # Noise prediction\n",
    "        z = x.reshape(513,-1,INPUT_CHANNEL)\n",
    "        z, (h_n, c_n) = self.lstm2(z)\n",
    "        z = self.fc2(z).type(torch.double)\n",
    "        noise_pred = self.sigmoid2(z)\n",
    "        noise_pred = noise_pred.reshape(513,-1).type(torch.cfloat)\n",
    "\n",
    "        psd_transform = torchaudio.transforms.PSD()\n",
    "        psd_speech = psd_transform(x, speech_pred)\n",
    "        psd_noise = psd_transform(x, noise_pred)\n",
    "        mvdr_transform = torchaudio.transforms.SoudenMVDR()\n",
    "        x = x.type(torch.cfloat)\n",
    "        stft_souden = mvdr_transform(x, psd_speech, psd_noise, reference_channel=REFERENCE_CHANNEL)\n",
    "        #print(\"stft_souden\",stft_souden.shape)\n",
    "        waveform_souden = istft(stft_souden, length=len(X[i][0]))#X[i].shape[-1])\n",
    "        waveform_souden[waveform_souden != waveform_souden] = 1.0000e-10 \n",
    "        print(waveform_souden)\n",
    "        return waveform_souden.reshape(-1)\n",
    "\n",
    "print(summary(MaskNet(),torch.zeros((INPUT_CHANNEL, 513, 251))))\n"
   ]
  },
  {
   "cell_type": "code",
   "execution_count": 32,
   "metadata": {},
   "outputs": [
    {
     "name": "stdout",
     "output_type": "stream",
     "text": [
      "[INFO] training the network...\n",
      "Epoch: 0 /1\n"
     ]
    },
    {
     "name": "stderr",
     "output_type": "stream",
     "text": [
      "  0%|          | 0/100 [00:00<?, ?it/s]"
     ]
    },
    {
     "name": "stdout",
     "output_type": "stream",
     "text": [
      "torch.Size([2, 513, 202])\n",
      "tensor([ 0.0005,  0.0031,  0.0023,  ..., -0.0079, -0.0086, -0.0067],\n",
      "       grad_fn=<AsStridedBackward0>)\n"
     ]
    },
    {
     "name": "stderr",
     "output_type": "stream",
     "text": [
      "  1%|          | 1/100 [00:02<04:11,  2.54s/it]"
     ]
    },
    {
     "name": "stdout",
     "output_type": "stream",
     "text": [
      "torch.Size([2, 513, 179])\n",
      "tensor([ 0.0077,  0.0080,  0.0104,  ..., -0.0022, -0.0011,  0.0081],\n",
      "       grad_fn=<AsStridedBackward0>)\n"
     ]
    },
    {
     "name": "stderr",
     "output_type": "stream",
     "text": [
      "  2%|▏         | 2/100 [00:04<03:08,  1.92s/it]"
     ]
    },
    {
     "name": "stdout",
     "output_type": "stream",
     "text": [
      "torch.Size([2, 513, 178])\n",
      "tensor([-0.0002, -0.0041,  0.0015,  ...,  0.0246,  0.0301,  0.0425],\n",
      "       grad_fn=<AsStridedBackward0>)\n"
     ]
    },
    {
     "name": "stderr",
     "output_type": "stream",
     "text": [
      "  3%|▎         | 3/100 [00:05<03:01,  1.87s/it]"
     ]
    },
    {
     "name": "stdout",
     "output_type": "stream",
     "text": [
      "torch.Size([2, 513, 118])\n",
      "tensor([ 0.0152,  0.0047,  0.0156,  ..., -0.0150,  0.0050, -0.0195],\n",
      "       grad_fn=<AsStridedBackward0>)\n"
     ]
    },
    {
     "name": "stderr",
     "output_type": "stream",
     "text": [
      "  4%|▍         | 4/100 [00:07<02:33,  1.60s/it]"
     ]
    },
    {
     "name": "stdout",
     "output_type": "stream",
     "text": [
      "torch.Size([2, 513, 295])\n",
      "tensor([-0.0028, -0.0122, -0.0114,  ..., -0.0127, -0.0026, -0.0047],\n",
      "       grad_fn=<AsStridedBackward0>)\n"
     ]
    },
    {
     "name": "stderr",
     "output_type": "stream",
     "text": [
      "  5%|▌         | 5/100 [00:10<03:26,  2.17s/it]"
     ]
    },
    {
     "name": "stdout",
     "output_type": "stream",
     "text": [
      "torch.Size([2, 513, 242])\n",
      "tensor([1.7834e-03, 5.6711e-05, 4.6569e-03,  ..., 4.7405e-03, 1.0182e-02,\n",
      "        1.1812e-02], grad_fn=<AsStridedBackward0>)\n"
     ]
    },
    {
     "name": "stderr",
     "output_type": "stream",
     "text": [
      "  6%|▌         | 6/100 [00:12<03:15,  2.08s/it]"
     ]
    },
    {
     "name": "stdout",
     "output_type": "stream",
     "text": [
      "torch.Size([2, 513, 127])\n",
      "tensor([-0.0139, -0.0128,  0.0010,  ...,  0.0026, -0.0015, -0.0005],\n",
      "       grad_fn=<AsStridedBackward0>)\n"
     ]
    },
    {
     "name": "stderr",
     "output_type": "stream",
     "text": [
      "  7%|▋         | 7/100 [00:13<02:47,  1.80s/it]"
     ]
    },
    {
     "name": "stdout",
     "output_type": "stream",
     "text": [
      "torch.Size([2, 513, 36])\n",
      "tensor([ 0.0043,  0.0038, -0.0037,  ..., -0.0007,  0.0082,  0.0058],\n",
      "       grad_fn=<AsStridedBackward0>)\n"
     ]
    },
    {
     "name": "stderr",
     "output_type": "stream",
     "text": [
      "  8%|▊         | 8/100 [00:14<02:12,  1.44s/it]"
     ]
    },
    {
     "name": "stdout",
     "output_type": "stream",
     "text": [
      "torch.Size([2, 513, 658])\n",
      "tensor([ 0.0016,  0.0002,  0.0029,  ..., -0.1107, -0.0894, -0.0633],\n",
      "       grad_fn=<AsStridedBackward0>)\n"
     ]
    },
    {
     "name": "stderr",
     "output_type": "stream",
     "text": [
      "  9%|▉         | 9/100 [00:21<04:51,  3.20s/it]"
     ]
    },
    {
     "name": "stdout",
     "output_type": "stream",
     "text": [
      "torch.Size([2, 513, 395])\n",
      "tensor([-0.0302, -0.0271, -0.0459,  ..., -0.0437, -0.0223, -0.0267],\n",
      "       grad_fn=<AsStridedBackward0>)\n"
     ]
    },
    {
     "name": "stderr",
     "output_type": "stream",
     "text": [
      " 10%|█         | 10/100 [00:24<05:03,  3.37s/it]"
     ]
    },
    {
     "name": "stdout",
     "output_type": "stream",
     "text": [
      "torch.Size([2, 513, 61])\n",
      "tensor([0.0096, 0.0122, 0.0059,  ..., 0.0282, 0.0374, 0.0409],\n",
      "       grad_fn=<AsStridedBackward0>)\n"
     ]
    },
    {
     "name": "stderr",
     "output_type": "stream",
     "text": [
      " 11%|█         | 11/100 [00:25<03:49,  2.58s/it]"
     ]
    },
    {
     "name": "stdout",
     "output_type": "stream",
     "text": [
      "torch.Size([2, 513, 477])\n",
      "tensor([1.0000e-10, 1.0000e-10, 1.0000e-10,  ..., 1.0000e-10, 1.0000e-10,\n",
      "        1.0000e-10], grad_fn=<AsStridedBackward0>)\n"
     ]
    },
    {
     "name": "stderr",
     "output_type": "stream",
     "text": [
      " 12%|█▏        | 12/100 [00:29<04:33,  3.10s/it]"
     ]
    },
    {
     "name": "stdout",
     "output_type": "stream",
     "text": [
      "torch.Size([2, 513, 991])\n",
      "tensor([1.0000e-10, 1.0000e-10, 1.0000e-10,  ..., 1.0000e-10, 1.0000e-10,\n",
      "        1.0000e-10], grad_fn=<AsStridedBackward0>)\n"
     ]
    },
    {
     "name": "stderr",
     "output_type": "stream",
     "text": [
      " 13%|█▎        | 13/100 [00:37<06:20,  4.37s/it]"
     ]
    },
    {
     "name": "stdout",
     "output_type": "stream",
     "text": [
      "torch.Size([2, 513, 221])\n",
      "tensor([1.0000e-10, 1.0000e-10, 1.0000e-10,  ..., 1.0000e-10, 1.0000e-10,\n",
      "        1.0000e-10], grad_fn=<AsStridedBackward0>)\n"
     ]
    },
    {
     "name": "stderr",
     "output_type": "stream",
     "text": [
      " 14%|█▍        | 14/100 [00:38<05:05,  3.56s/it]"
     ]
    },
    {
     "name": "stdout",
     "output_type": "stream",
     "text": [
      "torch.Size([2, 513, 86])\n",
      "tensor([1.0000e-10, 1.0000e-10, 1.0000e-10,  ..., 1.0000e-10, 1.0000e-10,\n",
      "        1.0000e-10], grad_fn=<AsStridedBackward0>)\n"
     ]
    },
    {
     "name": "stderr",
     "output_type": "stream",
     "text": [
      " 15%|█▌        | 15/100 [00:39<03:52,  2.73s/it]"
     ]
    },
    {
     "name": "stdout",
     "output_type": "stream",
     "text": [
      "torch.Size([2, 513, 124])\n",
      "tensor([1.0000e-10, 1.0000e-10, 1.0000e-10,  ..., 1.0000e-10, 1.0000e-10,\n",
      "        1.0000e-10], grad_fn=<AsStridedBackward0>)\n"
     ]
    },
    {
     "name": "stderr",
     "output_type": "stream",
     "text": [
      " 16%|█▌        | 16/100 [00:40<03:05,  2.21s/it]"
     ]
    },
    {
     "name": "stdout",
     "output_type": "stream",
     "text": [
      "torch.Size([2, 513, 240])\n",
      "tensor([1.0000e-10, 1.0000e-10, 1.0000e-10,  ..., 1.0000e-10, 1.0000e-10,\n",
      "        1.0000e-10], grad_fn=<AsStridedBackward0>)\n"
     ]
    },
    {
     "name": "stderr",
     "output_type": "stream",
     "text": [
      " 17%|█▋        | 17/100 [00:42<02:50,  2.05s/it]"
     ]
    },
    {
     "name": "stdout",
     "output_type": "stream",
     "text": [
      "torch.Size([2, 513, 199])\n",
      "tensor([1.0000e-10, 1.0000e-10, 1.0000e-10,  ..., 1.0000e-10, 1.0000e-10,\n",
      "        1.0000e-10], grad_fn=<AsStridedBackward0>)\n"
     ]
    },
    {
     "name": "stderr",
     "output_type": "stream",
     "text": [
      " 18%|█▊        | 18/100 [00:43<02:33,  1.87s/it]"
     ]
    },
    {
     "name": "stdout",
     "output_type": "stream",
     "text": [
      "torch.Size([2, 513, 446])\n",
      "tensor([1.0000e-10, 1.0000e-10, 1.0000e-10,  ..., 1.0000e-10, 1.0000e-10,\n",
      "        1.0000e-10], grad_fn=<AsStridedBackward0>)\n"
     ]
    },
    {
     "name": "stderr",
     "output_type": "stream",
     "text": [
      " 19%|█▉        | 19/100 [00:47<03:14,  2.40s/it]"
     ]
    },
    {
     "name": "stdout",
     "output_type": "stream",
     "text": [
      "torch.Size([2, 513, 330])\n",
      "tensor([1.0000e-10, 1.0000e-10, 1.0000e-10,  ..., 1.0000e-10, 1.0000e-10,\n",
      "        1.0000e-10], grad_fn=<AsStridedBackward0>)\n"
     ]
    },
    {
     "name": "stderr",
     "output_type": "stream",
     "text": [
      " 20%|██        | 20/100 [00:50<03:27,  2.59s/it]"
     ]
    },
    {
     "name": "stdout",
     "output_type": "stream",
     "text": [
      "torch.Size([2, 513, 415])\n",
      "tensor([1.0000e-10, 1.0000e-10, 1.0000e-10,  ..., 1.0000e-10, 1.0000e-10,\n",
      "        1.0000e-10], grad_fn=<AsStridedBackward0>)\n"
     ]
    },
    {
     "name": "stderr",
     "output_type": "stream",
     "text": [
      " 21%|██        | 21/100 [00:54<03:49,  2.91s/it]"
     ]
    },
    {
     "name": "stdout",
     "output_type": "stream",
     "text": [
      "torch.Size([2, 513, 541])\n",
      "tensor([1.0000e-10, 1.0000e-10, 1.0000e-10,  ..., 1.0000e-10, 1.0000e-10,\n",
      "        1.0000e-10], grad_fn=<AsStridedBackward0>)\n"
     ]
    },
    {
     "name": "stderr",
     "output_type": "stream",
     "text": [
      " 22%|██▏       | 22/100 [00:58<04:26,  3.42s/it]"
     ]
    },
    {
     "name": "stdout",
     "output_type": "stream",
     "text": [
      "torch.Size([2, 513, 407])\n",
      "tensor([1.0000e-10, 1.0000e-10, 1.0000e-10,  ..., 1.0000e-10, 1.0000e-10,\n",
      "        1.0000e-10], grad_fn=<AsStridedBackward0>)\n"
     ]
    },
    {
     "name": "stderr",
     "output_type": "stream",
     "text": [
      " 23%|██▎       | 23/100 [01:02<04:24,  3.43s/it]"
     ]
    },
    {
     "name": "stdout",
     "output_type": "stream",
     "text": [
      "torch.Size([2, 513, 24])\n",
      "tensor([1.0000e-10, 1.0000e-10, 1.0000e-10,  ..., 1.0000e-10, 1.0000e-10,\n",
      "        1.0000e-10], grad_fn=<AsStridedBackward0>)\n"
     ]
    },
    {
     "name": "stderr",
     "output_type": "stream",
     "text": [
      " 24%|██▍       | 24/100 [01:02<03:17,  2.60s/it]"
     ]
    },
    {
     "name": "stdout",
     "output_type": "stream",
     "text": [
      "torch.Size([2, 513, 27])\n",
      "tensor([1.0000e-10, 1.0000e-10, 1.0000e-10,  ..., 1.0000e-10, 1.0000e-10,\n",
      "        1.0000e-10], grad_fn=<AsStridedBackward0>)\n"
     ]
    },
    {
     "name": "stderr",
     "output_type": "stream",
     "text": [
      " 25%|██▌       | 25/100 [01:03<02:30,  2.00s/it]"
     ]
    },
    {
     "name": "stdout",
     "output_type": "stream",
     "text": [
      "torch.Size([2, 513, 111])\n",
      "tensor([1.0000e-10, 1.0000e-10, 1.0000e-10,  ..., 1.0000e-10, 1.0000e-10,\n",
      "        1.0000e-10], grad_fn=<AsStridedBackward0>)\n"
     ]
    },
    {
     "name": "stderr",
     "output_type": "stream",
     "text": [
      " 26%|██▌       | 26/100 [01:04<02:10,  1.76s/it]"
     ]
    },
    {
     "name": "stdout",
     "output_type": "stream",
     "text": [
      "torch.Size([2, 513, 653])\n",
      "tensor([1.0000e-10, 1.0000e-10, 1.0000e-10,  ..., 1.0000e-10, 1.0000e-10,\n",
      "        1.0000e-10], grad_fn=<AsStridedBackward0>)\n"
     ]
    },
    {
     "name": "stderr",
     "output_type": "stream",
     "text": [
      " 27%|██▋       | 27/100 [01:09<03:24,  2.80s/it]"
     ]
    },
    {
     "name": "stdout",
     "output_type": "stream",
     "text": [
      "torch.Size([2, 513, 461])\n",
      "tensor([1.0000e-10, 1.0000e-10, 1.0000e-10,  ..., 1.0000e-10, 1.0000e-10,\n",
      "        1.0000e-10], grad_fn=<AsStridedBackward0>)\n"
     ]
    },
    {
     "name": "stderr",
     "output_type": "stream",
     "text": [
      " 28%|██▊       | 28/100 [01:13<03:42,  3.09s/it]"
     ]
    },
    {
     "name": "stdout",
     "output_type": "stream",
     "text": [
      "torch.Size([2, 513, 864])\n",
      "tensor([1.0000e-10, 1.0000e-10, 1.0000e-10,  ..., 1.0000e-10, 1.0000e-10,\n",
      "        1.0000e-10], grad_fn=<AsStridedBackward0>)\n"
     ]
    },
    {
     "name": "stderr",
     "output_type": "stream",
     "text": [
      " 29%|██▉       | 29/100 [01:20<04:50,  4.10s/it]"
     ]
    },
    {
     "name": "stdout",
     "output_type": "stream",
     "text": [
      "torch.Size([2, 513, 471])\n",
      "tensor([1.0000e-10, 1.0000e-10, 1.0000e-10,  ..., 1.0000e-10, 1.0000e-10,\n",
      "        1.0000e-10], grad_fn=<AsStridedBackward0>)\n"
     ]
    },
    {
     "name": "stderr",
     "output_type": "stream",
     "text": [
      " 30%|███       | 30/100 [01:23<04:39,  3.99s/it]"
     ]
    },
    {
     "name": "stdout",
     "output_type": "stream",
     "text": [
      "torch.Size([2, 513, 416])\n",
      "tensor([1.0000e-10, 1.0000e-10, 1.0000e-10,  ..., 1.0000e-10, 1.0000e-10,\n",
      "        1.0000e-10], grad_fn=<AsStridedBackward0>)\n"
     ]
    },
    {
     "name": "stderr",
     "output_type": "stream",
     "text": [
      " 31%|███       | 31/100 [01:27<04:22,  3.81s/it]"
     ]
    },
    {
     "name": "stdout",
     "output_type": "stream",
     "text": [
      "torch.Size([2, 513, 59])\n",
      "tensor([1.0000e-10, 1.0000e-10, 1.0000e-10,  ..., 1.0000e-10, 1.0000e-10,\n",
      "        1.0000e-10], grad_fn=<AsStridedBackward0>)\n"
     ]
    },
    {
     "name": "stderr",
     "output_type": "stream",
     "text": [
      " 32%|███▏      | 32/100 [01:28<03:17,  2.90s/it]"
     ]
    },
    {
     "name": "stdout",
     "output_type": "stream",
     "text": [
      "torch.Size([2, 513, 482])\n",
      "tensor([1.0000e-10, 1.0000e-10, 1.0000e-10,  ..., 1.0000e-10, 1.0000e-10,\n",
      "        1.0000e-10], grad_fn=<AsStridedBackward0>)\n"
     ]
    },
    {
     "name": "stderr",
     "output_type": "stream",
     "text": [
      " 33%|███▎      | 33/100 [01:31<03:32,  3.17s/it]"
     ]
    },
    {
     "name": "stdout",
     "output_type": "stream",
     "text": [
      "torch.Size([2, 513, 1029])\n",
      "tensor([1.0000e-10, 1.0000e-10, 1.0000e-10,  ..., 1.0000e-10, 1.0000e-10,\n",
      "        1.0000e-10], grad_fn=<AsStridedBackward0>)\n"
     ]
    },
    {
     "name": "stderr",
     "output_type": "stream",
     "text": [
      " 34%|███▍      | 34/100 [01:39<05:07,  4.65s/it]"
     ]
    },
    {
     "name": "stdout",
     "output_type": "stream",
     "text": [
      "torch.Size([2, 513, 764])\n",
      "tensor([1.0000e-10, 1.0000e-10, 1.0000e-10,  ..., 1.0000e-10, 1.0000e-10,\n",
      "        1.0000e-10], grad_fn=<AsStridedBackward0>)\n"
     ]
    },
    {
     "name": "stderr",
     "output_type": "stream",
     "text": [
      " 35%|███▌      | 35/100 [01:45<05:17,  4.89s/it]"
     ]
    },
    {
     "name": "stdout",
     "output_type": "stream",
     "text": [
      "torch.Size([2, 513, 302])\n",
      "tensor([1.0000e-10, 1.0000e-10, 1.0000e-10,  ..., 1.0000e-10, 1.0000e-10,\n",
      "        1.0000e-10], grad_fn=<AsStridedBackward0>)\n"
     ]
    },
    {
     "name": "stderr",
     "output_type": "stream",
     "text": [
      " 36%|███▌      | 36/100 [01:47<04:25,  4.15s/it]"
     ]
    },
    {
     "name": "stdout",
     "output_type": "stream",
     "text": [
      "torch.Size([2, 513, 553])\n",
      "tensor([1.0000e-10, 1.0000e-10, 1.0000e-10,  ..., 1.0000e-10, 1.0000e-10,\n",
      "        1.0000e-10], grad_fn=<AsStridedBackward0>)\n"
     ]
    },
    {
     "name": "stderr",
     "output_type": "stream",
     "text": [
      " 37%|███▋      | 37/100 [01:52<04:25,  4.21s/it]"
     ]
    },
    {
     "name": "stdout",
     "output_type": "stream",
     "text": [
      "torch.Size([2, 513, 76])\n",
      "tensor([1.0000e-10, 1.0000e-10, 1.0000e-10,  ..., 1.0000e-10, 1.0000e-10,\n",
      "        1.0000e-10], grad_fn=<AsStridedBackward0>)\n"
     ]
    },
    {
     "name": "stderr",
     "output_type": "stream",
     "text": [
      " 38%|███▊      | 38/100 [01:53<03:19,  3.22s/it]"
     ]
    },
    {
     "name": "stdout",
     "output_type": "stream",
     "text": [
      "torch.Size([2, 513, 595])\n",
      "tensor([1.0000e-10, 1.0000e-10, 1.0000e-10,  ..., 1.0000e-10, 1.0000e-10,\n",
      "        1.0000e-10], grad_fn=<AsStridedBackward0>)\n"
     ]
    },
    {
     "name": "stderr",
     "output_type": "stream",
     "text": [
      " 39%|███▉      | 39/100 [01:57<03:40,  3.62s/it]"
     ]
    },
    {
     "name": "stdout",
     "output_type": "stream",
     "text": [
      "torch.Size([2, 513, 64])\n",
      "tensor([1.0000e-10, 1.0000e-10, 1.0000e-10,  ..., 1.0000e-10, 1.0000e-10,\n",
      "        1.0000e-10], grad_fn=<AsStridedBackward0>)\n"
     ]
    },
    {
     "name": "stderr",
     "output_type": "stream",
     "text": [
      " 40%|████      | 40/100 [01:58<02:46,  2.77s/it]"
     ]
    },
    {
     "name": "stdout",
     "output_type": "stream",
     "text": [
      "torch.Size([2, 513, 384])\n",
      "tensor([1.0000e-10, 1.0000e-10, 1.0000e-10,  ..., 1.0000e-10, 1.0000e-10,\n",
      "        1.0000e-10], grad_fn=<AsStridedBackward0>)\n"
     ]
    },
    {
     "name": "stderr",
     "output_type": "stream",
     "text": [
      " 41%|████      | 41/100 [02:01<02:47,  2.83s/it]"
     ]
    },
    {
     "name": "stdout",
     "output_type": "stream",
     "text": [
      "torch.Size([2, 513, 818])\n",
      "tensor([1.0000e-10, 1.0000e-10, 1.0000e-10,  ..., 1.0000e-10, 1.0000e-10,\n",
      "        1.0000e-10], grad_fn=<AsStridedBackward0>)\n"
     ]
    },
    {
     "name": "stderr",
     "output_type": "stream",
     "text": [
      " 42%|████▏     | 42/100 [02:07<03:38,  3.76s/it]"
     ]
    },
    {
     "name": "stdout",
     "output_type": "stream",
     "text": [
      "torch.Size([2, 513, 1062])\n",
      "tensor([1.0000e-10, 1.0000e-10, 1.0000e-10,  ..., 1.0000e-10, 1.0000e-10,\n",
      "        1.0000e-10], grad_fn=<AsStridedBackward0>)\n"
     ]
    },
    {
     "name": "stderr",
     "output_type": "stream",
     "text": [
      " 43%|████▎     | 43/100 [02:15<04:44,  4.99s/it]"
     ]
    },
    {
     "name": "stdout",
     "output_type": "stream",
     "text": [
      "torch.Size([2, 513, 203])\n",
      "tensor([1.0000e-10, 1.0000e-10, 1.0000e-10,  ..., 1.0000e-10, 1.0000e-10,\n",
      "        1.0000e-10], grad_fn=<AsStridedBackward0>)\n"
     ]
    },
    {
     "name": "stderr",
     "output_type": "stream",
     "text": [
      " 44%|████▍     | 44/100 [02:16<03:43,  3.98s/it]"
     ]
    },
    {
     "name": "stdout",
     "output_type": "stream",
     "text": [
      "torch.Size([2, 513, 61])\n",
      "tensor([1.0000e-10, 1.0000e-10, 1.0000e-10,  ..., 1.0000e-10, 1.0000e-10,\n",
      "        1.0000e-10], grad_fn=<AsStridedBackward0>)\n"
     ]
    },
    {
     "name": "stderr",
     "output_type": "stream",
     "text": [
      " 45%|████▌     | 45/100 [02:17<02:44,  2.99s/it]"
     ]
    },
    {
     "name": "stdout",
     "output_type": "stream",
     "text": [
      "torch.Size([2, 513, 90])\n",
      "tensor([1.0000e-10, 1.0000e-10, 1.0000e-10,  ..., 1.0000e-10, 1.0000e-10,\n",
      "        1.0000e-10], grad_fn=<AsStridedBackward0>)\n"
     ]
    },
    {
     "name": "stderr",
     "output_type": "stream",
     "text": [
      " 46%|████▌     | 46/100 [02:18<02:07,  2.37s/it]"
     ]
    },
    {
     "name": "stdout",
     "output_type": "stream",
     "text": [
      "torch.Size([2, 513, 129])\n",
      "tensor([1.0000e-10, 1.0000e-10, 1.0000e-10,  ..., 1.0000e-10, 1.0000e-10,\n",
      "        1.0000e-10], grad_fn=<AsStridedBackward0>)\n"
     ]
    },
    {
     "name": "stderr",
     "output_type": "stream",
     "text": [
      " 47%|████▋     | 47/100 [02:19<01:46,  2.02s/it]"
     ]
    },
    {
     "name": "stdout",
     "output_type": "stream",
     "text": [
      "torch.Size([2, 513, 474])\n",
      "tensor([1.0000e-10, 1.0000e-10, 1.0000e-10,  ..., 1.0000e-10, 1.0000e-10,\n",
      "        1.0000e-10], grad_fn=<AsStridedBackward0>)\n"
     ]
    },
    {
     "name": "stderr",
     "output_type": "stream",
     "text": [
      " 48%|████▊     | 48/100 [02:23<02:12,  2.55s/it]"
     ]
    },
    {
     "name": "stdout",
     "output_type": "stream",
     "text": [
      "torch.Size([2, 513, 457])\n",
      "tensor([1.0000e-10, 1.0000e-10, 1.0000e-10,  ..., 1.0000e-10, 1.0000e-10,\n",
      "        1.0000e-10], grad_fn=<AsStridedBackward0>)\n"
     ]
    },
    {
     "name": "stderr",
     "output_type": "stream",
     "text": [
      " 49%|████▉     | 49/100 [02:27<02:29,  2.92s/it]"
     ]
    },
    {
     "name": "stdout",
     "output_type": "stream",
     "text": [
      "torch.Size([2, 513, 1124])\n",
      "tensor([1.0000e-10, 1.0000e-10, 1.0000e-10,  ..., 1.0000e-10, 1.0000e-10,\n",
      "        1.0000e-10], grad_fn=<AsStridedBackward0>)\n"
     ]
    },
    {
     "name": "stderr",
     "output_type": "stream",
     "text": [
      " 50%|█████     | 50/100 [02:35<03:50,  4.61s/it]"
     ]
    },
    {
     "name": "stdout",
     "output_type": "stream",
     "text": [
      "torch.Size([2, 513, 754])\n",
      "tensor([1.0000e-10, 1.0000e-10, 1.0000e-10,  ..., 1.0000e-10, 1.0000e-10,\n",
      "        1.0000e-10], grad_fn=<AsStridedBackward0>)\n"
     ]
    },
    {
     "name": "stderr",
     "output_type": "stream",
     "text": [
      " 51%|█████     | 51/100 [02:41<04:01,  4.94s/it]"
     ]
    },
    {
     "name": "stdout",
     "output_type": "stream",
     "text": [
      "torch.Size([2, 513, 786])\n",
      "tensor([1.0000e-10, 1.0000e-10, 1.0000e-10,  ..., 1.0000e-10, 1.0000e-10,\n",
      "        1.0000e-10], grad_fn=<AsStridedBackward0>)\n"
     ]
    },
    {
     "name": "stderr",
     "output_type": "stream",
     "text": [
      " 52%|█████▏    | 52/100 [02:47<04:10,  5.22s/it]"
     ]
    },
    {
     "name": "stdout",
     "output_type": "stream",
     "text": [
      "torch.Size([2, 513, 984])\n",
      "tensor([1.0000e-10, 1.0000e-10, 1.0000e-10,  ..., 1.0000e-10, 1.0000e-10,\n",
      "        1.0000e-10], grad_fn=<AsStridedBackward0>)\n"
     ]
    },
    {
     "name": "stderr",
     "output_type": "stream",
     "text": [
      " 53%|█████▎    | 53/100 [02:54<04:31,  5.77s/it]"
     ]
    },
    {
     "name": "stdout",
     "output_type": "stream",
     "text": [
      "torch.Size([2, 513, 76])\n",
      "tensor([1.0000e-10, 1.0000e-10, 1.0000e-10,  ..., 1.0000e-10, 1.0000e-10,\n",
      "        1.0000e-10], grad_fn=<AsStridedBackward0>)\n"
     ]
    },
    {
     "name": "stderr",
     "output_type": "stream",
     "text": [
      " 54%|█████▍    | 54/100 [02:55<03:19,  4.34s/it]"
     ]
    },
    {
     "name": "stdout",
     "output_type": "stream",
     "text": [
      "torch.Size([2, 513, 833])\n",
      "tensor([1.0000e-10, 1.0000e-10, 1.0000e-10,  ..., 1.0000e-10, 1.0000e-10,\n",
      "        1.0000e-10], grad_fn=<AsStridedBackward0>)\n"
     ]
    },
    {
     "name": "stderr",
     "output_type": "stream",
     "text": [
      " 55%|█████▌    | 55/100 [03:01<03:42,  4.94s/it]"
     ]
    },
    {
     "name": "stdout",
     "output_type": "stream",
     "text": [
      "torch.Size([2, 513, 47])\n",
      "tensor([1.0000e-10, 1.0000e-10, 1.0000e-10,  ..., 1.0000e-10, 1.0000e-10,\n",
      "        1.0000e-10], grad_fn=<AsStridedBackward0>)\n"
     ]
    },
    {
     "name": "stderr",
     "output_type": "stream",
     "text": [
      " 56%|█████▌    | 56/100 [03:02<02:42,  3.69s/it]"
     ]
    },
    {
     "name": "stdout",
     "output_type": "stream",
     "text": [
      "torch.Size([2, 513, 539])\n",
      "tensor([1.0000e-10, 1.0000e-10, 1.0000e-10,  ..., 1.0000e-10, 1.0000e-10,\n",
      "        1.0000e-10], grad_fn=<AsStridedBackward0>)\n"
     ]
    },
    {
     "name": "stderr",
     "output_type": "stream",
     "text": [
      " 57%|█████▋    | 57/100 [03:06<02:47,  3.90s/it]"
     ]
    },
    {
     "name": "stdout",
     "output_type": "stream",
     "text": [
      "torch.Size([2, 513, 62])\n",
      "tensor([1.0000e-10, 1.0000e-10, 1.0000e-10,  ..., 1.0000e-10, 1.0000e-10,\n",
      "        1.0000e-10], grad_fn=<AsStridedBackward0>)\n"
     ]
    },
    {
     "name": "stderr",
     "output_type": "stream",
     "text": [
      " 58%|█████▊    | 58/100 [03:07<02:04,  2.96s/it]"
     ]
    },
    {
     "name": "stdout",
     "output_type": "stream",
     "text": [
      "torch.Size([2, 513, 496])\n",
      "tensor([1.0000e-10, 1.0000e-10, 1.0000e-10,  ..., 1.0000e-10, 1.0000e-10,\n",
      "        1.0000e-10], grad_fn=<AsStridedBackward0>)\n"
     ]
    },
    {
     "name": "stderr",
     "output_type": "stream",
     "text": [
      " 59%|█████▉    | 59/100 [03:11<02:13,  3.26s/it]"
     ]
    },
    {
     "name": "stdout",
     "output_type": "stream",
     "text": [
      "torch.Size([2, 513, 346])\n",
      "tensor([1.0000e-10, 1.0000e-10, 1.0000e-10,  ..., 1.0000e-10, 1.0000e-10,\n",
      "        1.0000e-10], grad_fn=<AsStridedBackward0>)\n"
     ]
    },
    {
     "name": "stderr",
     "output_type": "stream",
     "text": [
      " 60%|██████    | 60/100 [03:14<02:04,  3.12s/it]"
     ]
    },
    {
     "name": "stdout",
     "output_type": "stream",
     "text": [
      "torch.Size([2, 513, 521])\n",
      "tensor([1.0000e-10, 1.0000e-10, 1.0000e-10,  ..., 1.0000e-10, 1.0000e-10,\n",
      "        1.0000e-10], grad_fn=<AsStridedBackward0>)\n"
     ]
    },
    {
     "name": "stderr",
     "output_type": "stream",
     "text": [
      " 61%|██████    | 61/100 [03:18<02:16,  3.49s/it]"
     ]
    },
    {
     "name": "stdout",
     "output_type": "stream",
     "text": [
      "torch.Size([2, 513, 196])\n",
      "tensor([1.0000e-10, 1.0000e-10, 1.0000e-10,  ..., 1.0000e-10, 1.0000e-10,\n",
      "        1.0000e-10], grad_fn=<AsStridedBackward0>)\n"
     ]
    },
    {
     "name": "stderr",
     "output_type": "stream",
     "text": [
      " 62%|██████▏   | 62/100 [03:20<01:52,  2.97s/it]"
     ]
    },
    {
     "name": "stdout",
     "output_type": "stream",
     "text": [
      "torch.Size([2, 513, 646])\n",
      "tensor([1.0000e-10, 1.0000e-10, 1.0000e-10,  ..., 1.0000e-10, 1.0000e-10,\n",
      "        1.0000e-10], grad_fn=<AsStridedBackward0>)\n"
     ]
    },
    {
     "name": "stderr",
     "output_type": "stream",
     "text": [
      " 63%|██████▎   | 63/100 [03:25<02:13,  3.59s/it]"
     ]
    },
    {
     "name": "stdout",
     "output_type": "stream",
     "text": [
      "torch.Size([2, 513, 88])\n",
      "tensor([1.0000e-10, 1.0000e-10, 1.0000e-10,  ..., 1.0000e-10, 1.0000e-10,\n",
      "        1.0000e-10], grad_fn=<AsStridedBackward0>)\n"
     ]
    },
    {
     "name": "stderr",
     "output_type": "stream",
     "text": [
      " 64%|██████▍   | 64/100 [03:26<01:40,  2.79s/it]"
     ]
    },
    {
     "name": "stdout",
     "output_type": "stream",
     "text": [
      "torch.Size([2, 513, 124])\n",
      "tensor([1.0000e-10, 1.0000e-10, 1.0000e-10,  ..., 1.0000e-10, 1.0000e-10,\n",
      "        1.0000e-10], grad_fn=<AsStridedBackward0>)\n"
     ]
    },
    {
     "name": "stderr",
     "output_type": "stream",
     "text": [
      " 65%|██████▌   | 65/100 [03:27<01:21,  2.32s/it]"
     ]
    },
    {
     "name": "stdout",
     "output_type": "stream",
     "text": [
      "torch.Size([2, 513, 287])\n",
      "tensor([1.0000e-10, 1.0000e-10, 1.0000e-10,  ..., 1.0000e-10, 1.0000e-10,\n",
      "        1.0000e-10], grad_fn=<AsStridedBackward0>)\n"
     ]
    },
    {
     "name": "stderr",
     "output_type": "stream",
     "text": [
      " 66%|██████▌   | 66/100 [03:30<01:21,  2.39s/it]"
     ]
    },
    {
     "name": "stdout",
     "output_type": "stream",
     "text": [
      "torch.Size([2, 513, 678])\n",
      "tensor([1.0000e-10, 1.0000e-10, 1.0000e-10,  ..., 1.0000e-10, 1.0000e-10,\n",
      "        1.0000e-10], grad_fn=<AsStridedBackward0>)\n"
     ]
    },
    {
     "name": "stderr",
     "output_type": "stream",
     "text": [
      " 67%|██████▋   | 67/100 [03:35<01:49,  3.32s/it]"
     ]
    },
    {
     "name": "stdout",
     "output_type": "stream",
     "text": [
      "torch.Size([2, 513, 1041])\n",
      "tensor([1.0000e-10, 1.0000e-10, 1.0000e-10,  ..., 1.0000e-10, 1.0000e-10,\n",
      "        1.0000e-10], grad_fn=<AsStridedBackward0>)\n"
     ]
    },
    {
     "name": "stderr",
     "output_type": "stream",
     "text": [
      " 68%|██████▊   | 68/100 [03:43<02:30,  4.69s/it]"
     ]
    },
    {
     "name": "stdout",
     "output_type": "stream",
     "text": [
      "torch.Size([2, 513, 428])\n",
      "tensor([1.0000e-10, 1.0000e-10, 1.0000e-10,  ..., 1.0000e-10, 1.0000e-10,\n",
      "        1.0000e-10], grad_fn=<AsStridedBackward0>)\n"
     ]
    },
    {
     "name": "stderr",
     "output_type": "stream",
     "text": [
      " 69%|██████▉   | 69/100 [03:46<02:12,  4.29s/it]"
     ]
    },
    {
     "name": "stdout",
     "output_type": "stream",
     "text": [
      "torch.Size([2, 513, 936])\n",
      "tensor([1.0000e-10, 1.0000e-10, 1.0000e-10,  ..., 1.0000e-10, 1.0000e-10,\n",
      "        1.0000e-10], grad_fn=<AsStridedBackward0>)\n"
     ]
    },
    {
     "name": "stderr",
     "output_type": "stream",
     "text": [
      " 70%|███████   | 70/100 [03:53<02:31,  5.07s/it]"
     ]
    },
    {
     "name": "stdout",
     "output_type": "stream",
     "text": [
      "torch.Size([2, 513, 582])\n",
      "tensor([1.0000e-10, 1.0000e-10, 1.0000e-10,  ..., 1.0000e-10, 1.0000e-10,\n",
      "        1.0000e-10], grad_fn=<AsStridedBackward0>)\n"
     ]
    },
    {
     "name": "stderr",
     "output_type": "stream",
     "text": [
      " 71%|███████   | 71/100 [03:58<02:22,  4.92s/it]"
     ]
    },
    {
     "name": "stdout",
     "output_type": "stream",
     "text": [
      "torch.Size([2, 513, 76])\n",
      "tensor([1.0000e-10, 1.0000e-10, 1.0000e-10,  ..., 1.0000e-10, 1.0000e-10,\n",
      "        1.0000e-10], grad_fn=<AsStridedBackward0>)\n"
     ]
    },
    {
     "name": "stderr",
     "output_type": "stream",
     "text": [
      " 72%|███████▏  | 72/100 [03:59<01:43,  3.70s/it]"
     ]
    },
    {
     "name": "stdout",
     "output_type": "stream",
     "text": [
      "torch.Size([2, 513, 161])\n",
      "tensor([1.0000e-10, 1.0000e-10, 1.0000e-10,  ..., 1.0000e-10, 1.0000e-10,\n",
      "        1.0000e-10], grad_fn=<AsStridedBackward0>)\n"
     ]
    },
    {
     "name": "stderr",
     "output_type": "stream",
     "text": [
      " 73%|███████▎  | 73/100 [04:00<01:20,  2.98s/it]"
     ]
    },
    {
     "name": "stdout",
     "output_type": "stream",
     "text": [
      "torch.Size([2, 513, 49])\n",
      "tensor([1.0000e-10, 1.0000e-10, 1.0000e-10,  ..., 1.0000e-10, 1.0000e-10,\n",
      "        1.0000e-10], grad_fn=<AsStridedBackward0>)\n"
     ]
    },
    {
     "name": "stderr",
     "output_type": "stream",
     "text": [
      " 74%|███████▍  | 74/100 [04:01<00:59,  2.29s/it]"
     ]
    },
    {
     "name": "stdout",
     "output_type": "stream",
     "text": [
      "torch.Size([2, 513, 1127])\n",
      "tensor([1.0000e-10, 1.0000e-10, 1.0000e-10,  ..., 1.0000e-10, 1.0000e-10,\n",
      "        1.0000e-10], grad_fn=<AsStridedBackward0>)\n"
     ]
    },
    {
     "name": "stderr",
     "output_type": "stream",
     "text": [
      " 75%|███████▌  | 75/100 [04:10<01:49,  4.37s/it]"
     ]
    },
    {
     "name": "stdout",
     "output_type": "stream",
     "text": [
      "torch.Size([2, 513, 452])\n",
      "tensor([1.0000e-10, 1.0000e-10, 1.0000e-10,  ..., 1.0000e-10, 1.0000e-10,\n",
      "        1.0000e-10], grad_fn=<AsStridedBackward0>)\n"
     ]
    },
    {
     "name": "stderr",
     "output_type": "stream",
     "text": [
      " 76%|███████▌  | 76/100 [04:17<02:00,  5.00s/it]"
     ]
    },
    {
     "name": "stdout",
     "output_type": "stream",
     "text": [
      "torch.Size([2, 513, 80])\n",
      "tensor([1.0000e-10, 1.0000e-10, 1.0000e-10,  ..., 1.0000e-10, 1.0000e-10,\n",
      "        1.0000e-10], grad_fn=<AsStridedBackward0>)\n"
     ]
    },
    {
     "name": "stderr",
     "output_type": "stream",
     "text": [
      " 77%|███████▋  | 77/100 [04:18<01:33,  4.05s/it]"
     ]
    },
    {
     "name": "stdout",
     "output_type": "stream",
     "text": [
      "torch.Size([2, 513, 47])\n",
      "tensor([1.0000e-10, 1.0000e-10, 1.0000e-10,  ..., 1.0000e-10, 1.0000e-10,\n",
      "        1.0000e-10], grad_fn=<AsStridedBackward0>)\n"
     ]
    },
    {
     "name": "stderr",
     "output_type": "stream",
     "text": [
      " 78%|███████▊  | 78/100 [04:19<01:08,  3.12s/it]"
     ]
    },
    {
     "name": "stdout",
     "output_type": "stream",
     "text": [
      "torch.Size([2, 513, 109])\n",
      "tensor([1.0000e-10, 1.0000e-10, 1.0000e-10,  ..., 1.0000e-10, 1.0000e-10,\n",
      "        1.0000e-10], grad_fn=<AsStridedBackward0>)\n"
     ]
    },
    {
     "name": "stderr",
     "output_type": "stream",
     "text": [
      " 79%|███████▉  | 79/100 [04:22<01:00,  2.90s/it]"
     ]
    },
    {
     "name": "stdout",
     "output_type": "stream",
     "text": [
      "torch.Size([2, 513, 1001])\n",
      "tensor([1.0000e-10, 1.0000e-10, 1.0000e-10,  ..., 1.0000e-10, 1.0000e-10,\n",
      "        1.0000e-10], grad_fn=<AsStridedBackward0>)\n"
     ]
    },
    {
     "name": "stderr",
     "output_type": "stream",
     "text": [
      " 80%|████████  | 80/100 [04:32<01:42,  5.14s/it]"
     ]
    },
    {
     "name": "stdout",
     "output_type": "stream",
     "text": [
      "torch.Size([2, 513, 98])\n",
      "tensor([1.0000e-10, 1.0000e-10, 1.0000e-10,  ..., 1.0000e-10, 1.0000e-10,\n",
      "        1.0000e-10], grad_fn=<AsStridedBackward0>)\n"
     ]
    },
    {
     "name": "stderr",
     "output_type": "stream",
     "text": [
      " 81%|████████  | 81/100 [04:33<01:14,  3.92s/it]"
     ]
    },
    {
     "name": "stdout",
     "output_type": "stream",
     "text": [
      "torch.Size([2, 513, 799])\n",
      "tensor([1.0000e-10, 1.0000e-10, 1.0000e-10,  ..., 1.0000e-10, 1.0000e-10,\n",
      "        1.0000e-10], grad_fn=<AsStridedBackward0>)\n"
     ]
    },
    {
     "name": "stderr",
     "output_type": "stream",
     "text": [
      " 82%|████████▏ | 82/100 [04:39<01:23,  4.63s/it]"
     ]
    },
    {
     "name": "stdout",
     "output_type": "stream",
     "text": [
      "torch.Size([2, 513, 790])\n",
      "tensor([1.0000e-10, 1.0000e-10, 1.0000e-10,  ..., 1.0000e-10, 1.0000e-10,\n",
      "        1.0000e-10], grad_fn=<AsStridedBackward0>)\n"
     ]
    },
    {
     "name": "stderr",
     "output_type": "stream",
     "text": [
      " 83%|████████▎ | 83/100 [04:45<01:24,  4.97s/it]"
     ]
    },
    {
     "name": "stdout",
     "output_type": "stream",
     "text": [
      "torch.Size([2, 513, 49])\n",
      "tensor([1.0000e-10, 1.0000e-10, 1.0000e-10,  ..., 1.0000e-10, 1.0000e-10,\n",
      "        1.0000e-10], grad_fn=<AsStridedBackward0>)\n"
     ]
    },
    {
     "name": "stderr",
     "output_type": "stream",
     "text": [
      " 84%|████████▍ | 84/100 [04:46<00:59,  3.70s/it]"
     ]
    },
    {
     "name": "stdout",
     "output_type": "stream",
     "text": [
      "torch.Size([2, 513, 667])\n",
      "tensor([1.0000e-10, 1.0000e-10, 1.0000e-10,  ..., 1.0000e-10, 1.0000e-10,\n",
      "        1.0000e-10], grad_fn=<AsStridedBackward0>)\n"
     ]
    },
    {
     "name": "stderr",
     "output_type": "stream",
     "text": [
      " 85%|████████▌ | 85/100 [04:51<01:01,  4.11s/it]"
     ]
    },
    {
     "name": "stdout",
     "output_type": "stream",
     "text": [
      "torch.Size([2, 513, 291])\n",
      "tensor([1.0000e-10, 1.0000e-10, 1.0000e-10,  ..., 1.0000e-10, 1.0000e-10,\n",
      "        1.0000e-10], grad_fn=<AsStridedBackward0>)\n"
     ]
    },
    {
     "name": "stderr",
     "output_type": "stream",
     "text": [
      " 86%|████████▌ | 86/100 [04:54<00:52,  3.75s/it]"
     ]
    },
    {
     "name": "stdout",
     "output_type": "stream",
     "text": [
      "torch.Size([2, 513, 1164])\n",
      "tensor([1.0000e-10, 1.0000e-10, 1.0000e-10,  ..., 1.0000e-10, 1.0000e-10,\n",
      "        1.0000e-10], grad_fn=<AsStridedBackward0>)\n"
     ]
    },
    {
     "name": "stderr",
     "output_type": "stream",
     "text": [
      " 87%|████████▋ | 87/100 [05:04<01:12,  5.59s/it]"
     ]
    },
    {
     "name": "stdout",
     "output_type": "stream",
     "text": [
      "torch.Size([2, 513, 747])\n",
      "tensor([1.0000e-10, 1.0000e-10, 1.0000e-10,  ..., 1.0000e-10, 1.0000e-10,\n",
      "        1.0000e-10], grad_fn=<AsStridedBackward0>)\n"
     ]
    },
    {
     "name": "stderr",
     "output_type": "stream",
     "text": [
      " 88%|████████▊ | 88/100 [05:09<01:06,  5.58s/it]"
     ]
    },
    {
     "name": "stdout",
     "output_type": "stream",
     "text": [
      "torch.Size([2, 513, 239])\n",
      "tensor([1.0000e-10, 1.0000e-10, 1.0000e-10,  ..., 1.0000e-10, 1.0000e-10,\n",
      "        1.0000e-10], grad_fn=<AsStridedBackward0>)\n"
     ]
    },
    {
     "name": "stderr",
     "output_type": "stream",
     "text": [
      " 89%|████████▉ | 89/100 [05:11<00:49,  4.46s/it]"
     ]
    },
    {
     "name": "stdout",
     "output_type": "stream",
     "text": [
      "torch.Size([2, 513, 176])\n",
      "tensor([1.0000e-10, 1.0000e-10, 1.0000e-10,  ..., 1.0000e-10, 1.0000e-10,\n",
      "        1.0000e-10], grad_fn=<AsStridedBackward0>)\n"
     ]
    },
    {
     "name": "stderr",
     "output_type": "stream",
     "text": [
      " 90%|█████████ | 90/100 [05:13<00:35,  3.53s/it]"
     ]
    },
    {
     "name": "stdout",
     "output_type": "stream",
     "text": [
      "torch.Size([2, 513, 780])\n",
      "tensor([1.0000e-10, 1.0000e-10, 1.0000e-10,  ..., 1.0000e-10, 1.0000e-10,\n",
      "        1.0000e-10], grad_fn=<AsStridedBackward0>)\n"
     ]
    },
    {
     "name": "stderr",
     "output_type": "stream",
     "text": [
      " 91%|█████████ | 91/100 [05:18<00:38,  4.24s/it]"
     ]
    },
    {
     "name": "stdout",
     "output_type": "stream",
     "text": [
      "torch.Size([2, 513, 62])\n",
      "tensor([1.0000e-10, 1.0000e-10, 1.0000e-10,  ..., 1.0000e-10, 1.0000e-10,\n",
      "        1.0000e-10], grad_fn=<AsStridedBackward0>)\n"
     ]
    },
    {
     "name": "stderr",
     "output_type": "stream",
     "text": [
      " 92%|█████████▏| 92/100 [05:19<00:25,  3.21s/it]"
     ]
    },
    {
     "name": "stdout",
     "output_type": "stream",
     "text": [
      "torch.Size([2, 513, 486])\n",
      "tensor([1.0000e-10, 1.0000e-10, 1.0000e-10,  ..., 1.0000e-10, 1.0000e-10,\n",
      "        1.0000e-10], grad_fn=<AsStridedBackward0>)\n"
     ]
    },
    {
     "name": "stderr",
     "output_type": "stream",
     "text": [
      " 93%|█████████▎| 93/100 [05:24<00:25,  3.60s/it]"
     ]
    },
    {
     "name": "stdout",
     "output_type": "stream",
     "text": [
      "torch.Size([2, 513, 752])\n",
      "tensor([1.0000e-10, 1.0000e-10, 1.0000e-10,  ..., 1.0000e-10, 1.0000e-10,\n",
      "        1.0000e-10], grad_fn=<AsStridedBackward0>)\n"
     ]
    },
    {
     "name": "stderr",
     "output_type": "stream",
     "text": [
      " 94%|█████████▍| 94/100 [05:32<00:29,  4.86s/it]"
     ]
    },
    {
     "name": "stdout",
     "output_type": "stream",
     "text": [
      "torch.Size([2, 513, 948])\n",
      "tensor([1.0000e-10, 1.0000e-10, 1.0000e-10,  ..., 1.0000e-10, 1.0000e-10,\n",
      "        1.0000e-10], grad_fn=<AsStridedBackward0>)\n"
     ]
    },
    {
     "name": "stderr",
     "output_type": "stream",
     "text": [
      " 95%|█████████▌| 95/100 [05:40<00:29,  5.87s/it]"
     ]
    },
    {
     "name": "stdout",
     "output_type": "stream",
     "text": [
      "torch.Size([2, 513, 121])\n",
      "tensor([1.0000e-10, 1.0000e-10, 1.0000e-10,  ..., 1.0000e-10, 1.0000e-10,\n",
      "        1.0000e-10], grad_fn=<AsStridedBackward0>)\n"
     ]
    },
    {
     "name": "stderr",
     "output_type": "stream",
     "text": [
      " 96%|█████████▌| 96/100 [05:41<00:18,  4.52s/it]"
     ]
    },
    {
     "name": "stdout",
     "output_type": "stream",
     "text": [
      "torch.Size([2, 513, 839])\n",
      "tensor([1.0000e-10, 1.0000e-10, 1.0000e-10,  ..., 1.0000e-10, 1.0000e-10,\n",
      "        1.0000e-10], grad_fn=<AsStridedBackward0>)\n"
     ]
    },
    {
     "name": "stderr",
     "output_type": "stream",
     "text": [
      " 97%|█████████▋| 97/100 [05:48<00:15,  5.19s/it]"
     ]
    },
    {
     "name": "stdout",
     "output_type": "stream",
     "text": [
      "torch.Size([2, 513, 185])\n",
      "tensor([1.0000e-10, 1.0000e-10, 1.0000e-10,  ..., 1.0000e-10, 1.0000e-10,\n",
      "        1.0000e-10], grad_fn=<AsStridedBackward0>)\n"
     ]
    },
    {
     "name": "stderr",
     "output_type": "stream",
     "text": [
      " 98%|█████████▊| 98/100 [05:50<00:08,  4.19s/it]"
     ]
    },
    {
     "name": "stdout",
     "output_type": "stream",
     "text": [
      "torch.Size([2, 513, 83])\n",
      "tensor([1.0000e-10, 1.0000e-10, 1.0000e-10,  ..., 1.0000e-10, 1.0000e-10,\n",
      "        1.0000e-10], grad_fn=<AsStridedBackward0>)\n"
     ]
    },
    {
     "name": "stderr",
     "output_type": "stream",
     "text": [
      " 99%|█████████▉| 99/100 [05:51<00:03,  3.30s/it]"
     ]
    },
    {
     "name": "stdout",
     "output_type": "stream",
     "text": [
      "torch.Size([2, 513, 839])\n",
      "tensor([1.0000e-10, 1.0000e-10, 1.0000e-10,  ..., 1.0000e-10, 1.0000e-10,\n",
      "        1.0000e-10], grad_fn=<AsStridedBackward0>)\n"
     ]
    },
    {
     "name": "stderr",
     "output_type": "stream",
     "text": [
      "100%|██████████| 100/100 [05:59<00:00,  3.59s/it]\n"
     ]
    }
   ],
   "source": [
    "\n",
    "#device =  torch.device('cuda') if torch.cuda.is_available() else torch.device('cpu')\n",
    "\n",
    "model = MaskNet()#.to(device)\n",
    "model.type(torch.complex64)\n",
    "\n",
    "opt = Adam(model.parameters(), lr=INIT_LR)\n",
    "\n",
    "lossMSE = MSELoss()\n",
    "\n",
    "H = {\n",
    "    \"train_loss\":[],\n",
    "    \"train_acc\":[],\n",
    "    \"val_loss\":[],\n",
    "    \"val_acc\":[]\n",
    "}\n",
    "\n",
    "print(\"[INFO] training the network...\")\n",
    "#startTime = time.time()\n",
    "\n",
    "for epoch in range(0, EPOCHS):\n",
    "    print(\"Epoch:\",epoch,\"/1\")\n",
    "    # Train Mode\n",
    "    model.train()\n",
    "    \n",
    "    # Initialize\n",
    "    totalTrainLoss = 0\n",
    "    totalValLoss = 0\n",
    "    trainCorrect = 0\n",
    "    valCorrect = 0\n",
    "\n",
    "    trainX = X\n",
    "    trainY = Y\n",
    "\n",
    "    global i\n",
    "    for i in tqdm(range(0,100)):#len(trainX))):\n",
    "        (x, y) = (stft((torch.cat((trainX[i][0].unsqueeze(1),trainX[i][1].unsqueeze(1)),1)).reshape(2,-1)),trainY[i])#(trainX[i],trainY[i])\n",
    "        #(x, y) = (x.to(device), y.to(device))\n",
    "        # perform a forward pass and calculate the training loss\n",
    "        #print(next(model.parameters()).is_cuda)\n",
    "        print(x.shape)\n",
    "        pred = model(x)\n",
    "        loss = lossMSE(pred, y)\n",
    "\n",
    "        #print(\"Loss:\",loss)\n",
    "        # zero out the gradients, perform the backpropagation step,\n",
    "        # and update the weights\n",
    "        opt.zero_grad()\n",
    "        loss.backward()\n",
    "        opt.step()\n",
    "        # add the loss to the total training loss so far and\n",
    "        # calculate the number of correct predictions\n",
    "        totalTrainLoss += loss\n",
    "        # trainCorrect += (pred.argmax(1) == y).type(\n",
    "        #     torch.float).sum().item()"
   ]
  },
  {
   "cell_type": "code",
   "execution_count": 33,
   "metadata": {},
   "outputs": [],
   "source": [
    "PATH = \"./modelsave.pt\"\n",
    "torch.save(model.state_dict(), \"./modelsave.pt\")"
   ]
  },
  {
   "cell_type": "markdown",
   "metadata": {},
   "source": [
    "## Test model"
   ]
  },
  {
   "cell_type": "code",
   "execution_count": 34,
   "metadata": {},
   "outputs": [
    {
     "data": {
      "text/plain": [
       "MaskNet(\n",
       "  (lstm): LSTM(2, 8, num_layers=2, bidirectional=True)\n",
       "  (fc): Linear(in_features=16, out_features=1, bias=True)\n",
       "  (sigmoid): Sigmoid()\n",
       "  (lstm2): LSTM(2, 8, num_layers=2, bidirectional=True)\n",
       "  (fc2): Linear(in_features=16, out_features=1, bias=True)\n",
       "  (sigmoid2): Sigmoid()\n",
       ")"
      ]
     },
     "execution_count": 34,
     "metadata": {},
     "output_type": "execute_result"
    }
   ],
   "source": [
    "PATH = \"./modelsave.pt\"\n",
    "model = MaskNet()\n",
    "model.load_state_dict(torch.load(PATH))\n",
    "model.eval()"
   ]
  },
  {
   "cell_type": "code",
   "execution_count": 36,
   "metadata": {},
   "outputs": [],
   "source": [
    "j = 120\n",
    "#pred_null = model(stft((torch.cat((trainX[j][0].unsqueeze(1),trainX[j][1].unsqueeze(1)),1)).reshape(2,-1)).type(torch.complex64))"
   ]
  },
  {
   "cell_type": "code",
   "execution_count": 39,
   "metadata": {},
   "outputs": [],
   "source": [
    "def save_sample(i):\n",
    "    pred_null = model(stft((torch.cat((trainX[i][0].unsqueeze(1),trainX[i][1].unsqueeze(1)),1)).reshape(2,-1)).type(torch.float))\n",
    "    torchaudio.save(\"sample_model_output.wav\",pred_null.reshape(1,-1),sample_rate)\n",
    "    torchaudio.save(\"sample_reference.wav\", trainY[i].unsqueeze(1).reshape(1,-1),sample_rate)\n",
    "    torchaudio.save(\"sample_input.wav\", trainX[i][0].unsqueeze(1).reshape(1,-1),sample_rate)"
   ]
  },
  {
   "cell_type": "code",
   "execution_count": 40,
   "metadata": {},
   "outputs": [
    {
     "name": "stdout",
     "output_type": "stream",
     "text": [
      "tensor([1.0000e-10, 1.0000e-10, 1.0000e-10,  ..., 0.0000e+00, 0.0000e+00,\n",
      "        0.0000e+00], grad_fn=<AsStridedBackward0>)\n"
     ]
    }
   ],
   "source": [
    "save_sample(50)"
   ]
  },
  {
   "cell_type": "markdown",
   "metadata": {},
   "source": [
    "## Librispeech Dataset + Noise"
   ]
  },
  {
   "cell_type": "code",
   "execution_count": 2,
   "metadata": {},
   "outputs": [
    {
     "name": "stderr",
     "output_type": "stream",
     "text": [
      "/Users/danilfedorovsky/miniforge3/envs/pytorch/lib/python3.9/site-packages/torchaudio/_internal/module_utils.py:99: UserWarning: Failed to import soundfile. 'soundfile' backend is not available.\n",
      "  warnings.warn(\"Failed to import soundfile. 'soundfile' backend is not available.\")\n"
     ]
    }
   ],
   "source": [
    "import os\n",
    "import torchaudio\n",
    "import random\n",
    "import torch\n",
    "\n",
    "N_PATH = \"/Users/danilfedorovsky/Documents/10 Collection/00 Studium/00 Letztes Semester/Masterarbeit/Data/noise/free-sound/\"\n",
    "S_PATH = \"/Users/danilfedorovsky/Documents/10 Collection/00 Studium/00 Letztes Semester/Masterarbeit/Data/LibriSpeech/dev-clean/\"\n",
    "def load_noise(N_PATH=N_PATH):\n",
    "    noise = []\n",
    "    for file in  os.listdir(N_PATH):\n",
    "        if file[-4:] == \".wav\":\n",
    "            sound, _ = torchaudio.load(N_PATH+file)\n",
    "            noise.append(sound)\n",
    "    return noise\n",
    "\n",
    "\n",
    "def load_speech(S_PATH=S_PATH):\n",
    "    speech = []\n",
    "    for folder in  os.listdir(S_PATH):\n",
    "        if os.path.isdir(S_PATH+folder):\n",
    "            for subfolder in os.listdir(S_PATH+folder):\n",
    "                if os.path.isdir(S_PATH+folder+\"/\"+subfolder):\n",
    "                    for file in os.listdir(S_PATH+folder+\"/\"+subfolder):\n",
    "                        if file[-5:] == \".flac\":\n",
    "                            sound, _ = torchaudio.load(S_PATH+folder+\"/\"+subfolder+\"/\"+file)\n",
    "                            speech.append(sound)\n",
    "    return speech"
   ]
  },
  {
   "cell_type": "code",
   "execution_count": 3,
   "metadata": {},
   "outputs": [
    {
     "name": "stdout",
     "output_type": "stream",
     "text": [
      "2703\n",
      "843\n"
     ]
    }
   ],
   "source": [
    "speech = load_speech()\n",
    "noise = load_noise()\n",
    "print(len(speech))\n",
    "print(len(noise))"
   ]
  },
  {
   "cell_type": "code",
   "execution_count": 4,
   "metadata": {},
   "outputs": [],
   "source": [
    "def add_noise_to_speech(speech, noise):\n",
    "    X = []\n",
    "    for sample in speech:\n",
    "        len_noise = 0\n",
    "        len_speech = 1\n",
    "        sample_noise = torch.Tensor([])\n",
    "        while len_noise<len_speech:\n",
    "            sample_noise = random.choice(noise)\n",
    "            len_speech = sample.shape[1]\n",
    "            len_noise = sample_noise.shape[1]\n",
    "        sample_noise = torch.narrow(sample_noise,1,0,len_speech)\n",
    "        x = torch.add(sample,sample_noise*0.2)\n",
    "        X.append(x)\n",
    "    return X"
   ]
  },
  {
   "cell_type": "code",
   "execution_count": 5,
   "metadata": {},
   "outputs": [],
   "source": [
    "X = add_noise_to_speech(speech,noise)\n",
    "Y = speech"
   ]
  },
  {
   "cell_type": "markdown",
   "metadata": {},
   "source": [
    "## Training on LibreSpeech"
   ]
  },
  {
   "cell_type": "code",
   "execution_count": 6,
   "metadata": {},
   "outputs": [],
   "source": [
    "from torch.nn import Module, LeakyReLU, MaxPool1d, Conv2d, Linear, Softmax, BatchNorm1d, CrossEntropyLoss, BCELoss, Sigmoid, Tanh, LSTM, MSELoss\n",
    "from torch import flatten\n",
    "from torch.optim import Adam, RMSprop, SGD\n",
    "import time\n",
    "import torch\n",
    "from pytorch_model_summary import summary\n",
    "from tqdm import tqdm\n",
    "import torchaudio"
   ]
  },
  {
   "cell_type": "code",
   "execution_count": 7,
   "metadata": {},
   "outputs": [],
   "source": [
    "HIDDEN_SIZE=64\n",
    "INIT_LR = 0.01\n",
    "BATCH_SIZE = 1#64\n",
    "SAMPLE_RATE = 16000\n",
    "EPOCHS = 1\n",
    "INPUT_CHANNEL = 1\n",
    "REFERENCE_CHANNEL = 0\n",
    "\n",
    "N_FFT = 1024\n",
    "N_HOP = 256\n",
    "stft = torchaudio.transforms.Spectrogram(\n",
    "    n_fft=N_FFT,\n",
    "    hop_length=N_HOP,\n",
    "    power=None,\n",
    ")\n",
    "istft = torchaudio.transforms.InverseSpectrogram(n_fft=N_FFT, hop_length=N_HOP)\n",
    "global i\n",
    "i = 0\n",
    "\n",
    "def prep_x(trainX,i):\n",
    "        return stft((torch.cat((trainX[i][0].unsqueeze(1),trainX[i][1].unsqueeze(1)),1)).reshape(2,-1)).type(torch.complex64)"
   ]
  },
  {
   "cell_type": "code",
   "execution_count": 8,
   "metadata": {},
   "outputs": [
    {
     "name": "stderr",
     "output_type": "stream",
     "text": [
      "/Users/danilfedorovsky/miniforge3/envs/pytorch/lib/python3.9/site-packages/torchaudio/functional/functional.py:190: UserWarning: The length of signal is shorter than the length parameter. Result is being padded with zeros in the tail. Please check your center and hop_length settings. (Triggered internally at  /Users/runner/work/pytorch/pytorch/pytorch/aten/src/ATen/native/SpectralOps.cpp:1111.)\n",
      "  waveform = torch.istft(\n"
     ]
    },
    {
     "name": "stdout",
     "output_type": "stream",
     "text": [
      "---------------------------------------------------------------------------------------------------\n",
      "      Layer (type)                                    Output Shape         Param #     Tr. Param #\n",
      "===================================================================================================\n",
      "            LSTM-1     [513, 251, 128], [4, 251, 64], [4, 251, 64]         133,632         133,632\n",
      "          Linear-2                                   [513, 251, 1]             129             129\n",
      "         Sigmoid-3                                   [513, 251, 1]               0               0\n",
      "            LSTM-4     [513, 251, 128], [4, 251, 64], [4, 251, 64]         133,632         133,632\n",
      "          Linear-5                                   [513, 251, 1]             129             129\n",
      "         Sigmoid-6                                   [513, 251, 1]               0               0\n",
      "===================================================================================================\n",
      "Total params: 267,522\n",
      "Trainable params: 267,522\n",
      "Non-trainable params: 0\n",
      "---------------------------------------------------------------------------------------------------\n"
     ]
    }
   ],
   "source": [
    "# # MASK NET\n",
    "\n",
    "class MaskNet(Module):\n",
    "    def __init__(self,noise=False):\n",
    "        super(MaskNet, self).__init__()\n",
    "        # First subnet for speech prediction\n",
    "        self.type(torch.cfloat)\n",
    "        self.noise = noise\n",
    "        self.lstm = LSTM(input_size=INPUT_CHANNEL, hidden_size=HIDDEN_SIZE, num_layers=2, bidirectional=True)\n",
    "        self.fc = Linear(in_features=HIDDEN_SIZE*2 ,out_features=1)\n",
    "        self.sigmoid = Sigmoid()\n",
    "        # Second subnet for noise prediction\n",
    "        self.noise2 = noise\n",
    "        self.lstm2 = LSTM(input_size=INPUT_CHANNEL, hidden_size=HIDDEN_SIZE, num_layers=2, bidirectional=True)\n",
    "        self.fc2 = Linear(in_features=HIDDEN_SIZE*2 ,out_features=1)\n",
    "        self.sigmoid2 = Sigmoid()\n",
    "\n",
    "    def forward(self,x):\n",
    "        # Speech prediction\n",
    "        y = x.reshape(513,-1,INPUT_CHANNEL)#(513,251,INPUT_CHANNEL)\n",
    "        y, (h_n, c_n) = self.lstm(y)\n",
    "        y = self.fc(y).type(torch.double)\n",
    "        speech_pred = self.sigmoid(y)\n",
    "        speech_pred = speech_pred.reshape(513,-1).type(torch.cfloat)\n",
    "        #print(\"speech_pred.shape\",speech_pred.shape)\n",
    "\n",
    "        # Noise prediction\n",
    "        z = x.reshape(513,-1,INPUT_CHANNEL)\n",
    "        z, (h_n, c_n) = self.lstm2(z)\n",
    "        z = self.fc2(z).type(torch.double)\n",
    "        noise_pred = self.sigmoid2(z)\n",
    "        noise_pred = noise_pred.reshape(513,-1).type(torch.cfloat)\n",
    "\n",
    "        psd_transform = torchaudio.transforms.PSD()\n",
    "        psd_speech = psd_transform(x, speech_pred)\n",
    "        psd_noise = psd_transform(x, noise_pred)\n",
    "        mvdr_transform = torchaudio.transforms.SoudenMVDR()\n",
    "        x = x.type(torch.cfloat)\n",
    "        stft_souden = mvdr_transform(x, psd_speech, psd_noise, reference_channel=REFERENCE_CHANNEL)\n",
    "        #print(\"stft_souden\",stft_souden.shape)\n",
    "        waveform_souden = istft(stft_souden, length=len(X[i][0]))#X[i].shape[-1])\n",
    "        waveform_souden[waveform_souden != waveform_souden] = 1.0000e-10 \n",
    "        return waveform_souden.reshape(-1)\n",
    "\n",
    "print(summary(MaskNet(),torch.zeros((INPUT_CHANNEL, 513, 251))))\n"
   ]
  },
  {
   "cell_type": "code",
   "execution_count": 9,
   "metadata": {},
   "outputs": [
    {
     "name": "stdout",
     "output_type": "stream",
     "text": [
      "[INFO] training the network...\n",
      "Epoch: 0 /1\n"
     ]
    },
    {
     "name": "stderr",
     "output_type": "stream",
     "text": [
      "  0%|          | 0/50 [00:00<?, ?it/s]/var/folders/wr/spkz8f691xl_gwp76c19_yv40000gn/T/ipykernel_75399/418719489.py:22: UserWarning: Casting complex values to real discards the imaginary part (Triggered internally at  /Users/runner/work/pytorch/pytorch/pytorch/aten/src/ATen/native/Copy.cpp:250.)\n",
      "  y = self.fc(y).type(torch.double)\n"
     ]
    },
    {
     "name": "stdout",
     "output_type": "stream",
     "text": [
      "tensor([ 3.4561e-12, -9.0862e-13, -5.5049e-13,  ..., -5.5481e-03,\n",
      "        -4.7363e-03, -4.1809e-03], grad_fn=<ReshapeAliasBackward0>)\n"
     ]
    },
    {
     "name": "stderr",
     "output_type": "stream",
     "text": [
      "  2%|▏         | 1/50 [00:42<34:54, 42.75s/it]"
     ]
    },
    {
     "name": "stdout",
     "output_type": "stream",
     "text": [
      "tensor([-0.0074, -0.0123, -0.0107,  ...,  0.0252,  0.0083, -0.0196],\n",
      "       grad_fn=<ReshapeAliasBackward0>)\n"
     ]
    },
    {
     "name": "stderr",
     "output_type": "stream",
     "text": [
      "  4%|▍         | 2/50 [00:52<18:48, 23.50s/it]"
     ]
    },
    {
     "name": "stdout",
     "output_type": "stream",
     "text": [
      "tensor([ 3.6621e-05,  3.6621e-05,  6.1035e-06,  ..., -5.0964e-03,\n",
      "        -5.6458e-03, -6.2012e-03], grad_fn=<ReshapeAliasBackward0>)\n"
     ]
    },
    {
     "name": "stderr",
     "output_type": "stream",
     "text": [
      "  6%|▌         | 3/50 [04:30<1:27:54, 112.23s/it]"
     ]
    },
    {
     "name": "stdout",
     "output_type": "stream",
     "text": [
      "tensor([-3.0518e-05,  2.5403e-12,  3.0518e-05,  ...,  1.8127e-03,\n",
      "        -2.3743e-03,  7.7637e-03], grad_fn=<ReshapeAliasBackward0>)\n"
     ]
    },
    {
     "name": "stderr",
     "output_type": "stream",
     "text": [
      "  8%|▊         | 4/50 [05:27<1:09:12, 90.28s/it] "
     ]
    },
    {
     "name": "stdout",
     "output_type": "stream",
     "text": [
      "tensor([-0.0002, -0.0002, -0.0002,  ..., -0.0020, -0.0222, -0.0263],\n",
      "       grad_fn=<ReshapeAliasBackward0>)\n"
     ]
    },
    {
     "name": "stderr",
     "output_type": "stream",
     "text": [
      " 10%|█         | 5/50 [05:44<48:00, 64.01s/it]  "
     ]
    },
    {
     "name": "stdout",
     "output_type": "stream",
     "text": [
      "tensor([-6.1035e-05, -5.4932e-05,  6.1035e-06,  ...,  3.0518e-05,\n",
      "         3.0518e-05,  3.0518e-05], grad_fn=<ReshapeAliasBackward0>)\n"
     ]
    },
    {
     "name": "stderr",
     "output_type": "stream",
     "text": [
      " 12%|█▏        | 6/50 [17:51<3:32:14, 289.41s/it]"
     ]
    },
    {
     "name": "stdout",
     "output_type": "stream",
     "text": [
      "tensor([ 3.7253e-10, -7.4551e-10,  2.4415e-05,  ..., -1.0187e-02,\n",
      "        -1.1957e-02, -1.1957e-02], grad_fn=<ReshapeAliasBackward0>)\n"
     ]
    },
    {
     "name": "stderr",
     "output_type": "stream",
     "text": [
      " 14%|█▍        | 7/50 [18:09<2:23:53, 200.77s/it]"
     ]
    },
    {
     "name": "stdout",
     "output_type": "stream",
     "text": [
      "tensor([ 0.0003,  0.0002,  0.0002,  ..., -0.0248, -0.0152, -0.0006],\n",
      "       grad_fn=<ReshapeAliasBackward0>)\n"
     ]
    },
    {
     "name": "stderr",
     "output_type": "stream",
     "text": [
      " 16%|█▌        | 8/50 [21:22<2:18:40, 198.12s/it]"
     ]
    },
    {
     "name": "stdout",
     "output_type": "stream",
     "text": [
      "tensor([-0.0124, -0.0321, -0.0391,  ..., -0.0375, -0.0361, -0.0366],\n",
      "       grad_fn=<ReshapeAliasBackward0>)\n"
     ]
    },
    {
     "name": "stderr",
     "output_type": "stream",
     "text": [
      " 18%|█▊        | 9/50 [21:40<1:36:57, 141.89s/it]"
     ]
    },
    {
     "name": "stdout",
     "output_type": "stream",
     "text": [
      "tensor([ 3.6621e-05, -1.1597e-04, -1.7090e-04,  ..., -8.6304e-03,\n",
      "        -1.0510e-02,  3.2593e-03], grad_fn=<ReshapeAliasBackward0>)\n"
     ]
    },
    {
     "name": "stderr",
     "output_type": "stream",
     "text": [
      " 20%|██        | 10/50 [22:49<1:19:31, 119.29s/it]"
     ]
    },
    {
     "name": "stdout",
     "output_type": "stream",
     "text": [
      "tensor([-0.0101, -0.0015,  0.0194,  ...,  0.0024,  0.0009,  0.0034],\n",
      "       grad_fn=<ReshapeAliasBackward0>)\n"
     ]
    },
    {
     "name": "stderr",
     "output_type": "stream",
     "text": [
      " 22%|██▏       | 11/50 [24:29<1:13:39, 113.33s/it]"
     ]
    },
    {
     "name": "stdout",
     "output_type": "stream",
     "text": [
      "tensor([ 6.1035e-05, -6.2047e-12,  3.0518e-05,  ..., -2.8076e-04,\n",
      "        -2.8687e-04, -2.5024e-04], grad_fn=<ReshapeAliasBackward0>)\n"
     ]
    },
    {
     "name": "stderr",
     "output_type": "stream",
     "text": [
      " 24%|██▍       | 12/50 [24:51<54:17, 85.73s/it]   "
     ]
    },
    {
     "name": "stdout",
     "output_type": "stream",
     "text": [
      "tensor([ 1.6711e-02,  2.6715e-02,  2.1716e-02,  ...,  2.4419e-05,\n",
      "        -8.4595e-03, -1.1261e-02], grad_fn=<ReshapeAliasBackward0>)\n"
     ]
    },
    {
     "name": "stderr",
     "output_type": "stream",
     "text": [
      " 26%|██▌       | 13/50 [25:04<39:13, 63.62s/it]"
     ]
    },
    {
     "name": "stdout",
     "output_type": "stream",
     "text": [
      "tensor([-0.0014, -0.0029, -0.0026,  ...,  0.0011,  0.0008,  0.0008],\n",
      "       grad_fn=<ReshapeAliasBackward0>)\n"
     ]
    },
    {
     "name": "stderr",
     "output_type": "stream",
     "text": [
      " 28%|██▊       | 14/50 [26:35<43:08, 71.91s/it]"
     ]
    },
    {
     "name": "stdout",
     "output_type": "stream",
     "text": [
      "tensor([ 6.1035e-06,  6.1035e-06,  6.1035e-06,  ..., -2.9663e-03,\n",
      "        -4.8584e-03, -6.2683e-03], grad_fn=<ReshapeAliasBackward0>)\n"
     ]
    },
    {
     "name": "stderr",
     "output_type": "stream",
     "text": [
      " 30%|███       | 15/50 [31:39<1:22:43, 141.81s/it]"
     ]
    },
    {
     "name": "stdout",
     "output_type": "stream",
     "text": [
      "tensor([ 4.2725e-05,  4.8828e-05,  6.7139e-05,  ..., -2.1362e-04,\n",
      "        -8.4228e-04, -6.8359e-04], grad_fn=<ReshapeAliasBackward0>)\n"
     ]
    },
    {
     "name": "stderr",
     "output_type": "stream",
     "text": [
      " 32%|███▏      | 16/50 [32:35<1:05:44, 116.01s/it]"
     ]
    },
    {
     "name": "stdout",
     "output_type": "stream",
     "text": [
      "tensor([-3.4790e-04, -8.0566e-04,  3.6621e-05,  ..., -1.1353e-03,\n",
      "        -3.0701e-03, -2.4292e-03], grad_fn=<ReshapeAliasBackward0>)\n"
     ]
    },
    {
     "name": "stderr",
     "output_type": "stream",
     "text": [
      " 34%|███▍      | 17/50 [33:14<51:04, 92.85s/it]   "
     ]
    },
    {
     "name": "stdout",
     "output_type": "stream",
     "text": [
      "tensor([-0.0011, -0.0011, -0.0011,  ..., -0.0017, -0.0017,  0.0006],\n",
      "       grad_fn=<ReshapeAliasBackward0>)\n"
     ]
    },
    {
     "name": "stderr",
     "output_type": "stream",
     "text": [
      " 36%|███▌      | 18/50 [34:12<43:54, 82.31s/it]"
     ]
    },
    {
     "name": "stdout",
     "output_type": "stream",
     "text": [
      "tensor([-2.8076e-04, -2.8687e-04, -2.7466e-04,  ..., -7.9346e-05,\n",
      "        -6.1035e-05,  4.8828e-05], grad_fn=<ReshapeAliasBackward0>)\n"
     ]
    },
    {
     "name": "stderr",
     "output_type": "stream",
     "text": [
      " 38%|███▊      | 19/50 [35:31<42:00, 81.31s/it]"
     ]
    },
    {
     "name": "stdout",
     "output_type": "stream",
     "text": [
      "tensor([-0.0021, -0.0035, -0.0024,  ...,  0.0614,  0.0608,  0.0584],\n",
      "       grad_fn=<ReshapeAliasBackward0>)\n"
     ]
    },
    {
     "name": "stderr",
     "output_type": "stream",
     "text": [
      " 40%|████      | 20/50 [36:01<33:03, 66.12s/it]"
     ]
    },
    {
     "name": "stdout",
     "output_type": "stream",
     "text": [
      "tensor([ 4.1837e-12,  3.6621e-05, -3.0518e-05,  ..., -7.3242e-05,\n",
      "        -2.4414e-05,  4.2725e-05], grad_fn=<ReshapeAliasBackward0>)\n"
     ]
    },
    {
     "name": "stderr",
     "output_type": "stream",
     "text": [
      " 42%|████▏     | 21/50 [37:12<32:34, 67.38s/it]"
     ]
    },
    {
     "name": "stdout",
     "output_type": "stream",
     "text": [
      "tensor([6.1035e-05, 5.4932e-05, 3.0518e-05,  ..., 2.9907e-03, 2.9602e-03,\n",
      "        3.0457e-03], grad_fn=<ReshapeAliasBackward0>)\n"
     ]
    },
    {
     "name": "stderr",
     "output_type": "stream",
     "text": [
      " 44%|████▍     | 22/50 [38:23<32:01, 68.64s/it]"
     ]
    },
    {
     "name": "stdout",
     "output_type": "stream",
     "text": [
      "tensor([-1.7700e-04, -9.1553e-05, -3.0518e-05,  ...,  9.6436e-03,\n",
      "        -7.0190e-04,  1.6968e-03], grad_fn=<ReshapeAliasBackward0>)\n"
     ]
    },
    {
     "name": "stderr",
     "output_type": "stream",
     "text": [
      " 46%|████▌     | 23/50 [39:49<33:14, 73.87s/it]"
     ]
    },
    {
     "name": "stdout",
     "output_type": "stream",
     "text": [
      "tensor([-3.0518e-05,  6.1035e-06,  3.0518e-05,  ...,  2.0471e-02,\n",
      "         1.7725e-02,  1.6638e-02], grad_fn=<ReshapeAliasBackward0>)\n"
     ]
    },
    {
     "name": "stderr",
     "output_type": "stream",
     "text": [
      " 48%|████▊     | 24/50 [41:04<32:06, 74.09s/it]"
     ]
    },
    {
     "name": "stdout",
     "output_type": "stream",
     "text": [
      "tensor([0.0014, 0.0014, 0.0012,  ..., 0.0040, 0.0218, 0.0198],\n",
      "       grad_fn=<ReshapeAliasBackward0>)\n"
     ]
    },
    {
     "name": "stderr",
     "output_type": "stream",
     "text": [
      " 50%|█████     | 25/50 [41:53<27:47, 66.71s/it]"
     ]
    },
    {
     "name": "stdout",
     "output_type": "stream",
     "text": [
      "tensor([0.0030, 0.0020, 0.0022,  ..., 0.0694, 0.0674, 0.0652],\n",
      "       grad_fn=<ReshapeAliasBackward0>)\n"
     ]
    },
    {
     "name": "stderr",
     "output_type": "stream",
     "text": [
      " 52%|█████▏    | 26/50 [43:22<29:20, 73.34s/it]"
     ]
    },
    {
     "name": "stdout",
     "output_type": "stream",
     "text": [
      "tensor([0.0033, 0.0031, 0.0027,  ..., 0.0124, 0.0208, 0.0293],\n",
      "       grad_fn=<ReshapeAliasBackward0>)\n"
     ]
    },
    {
     "name": "stderr",
     "output_type": "stream",
     "text": [
      " 54%|█████▍    | 27/50 [44:41<28:41, 74.84s/it]"
     ]
    },
    {
     "name": "stdout",
     "output_type": "stream",
     "text": [
      "tensor([ 0.0043, -0.0041, -0.0089,  ..., -0.0305, -0.0293, -0.0008],\n",
      "       grad_fn=<ReshapeAliasBackward0>)\n"
     ]
    },
    {
     "name": "stderr",
     "output_type": "stream",
     "text": [
      " 56%|█████▌    | 28/50 [44:48<20:03, 54.70s/it]"
     ]
    },
    {
     "name": "stdout",
     "output_type": "stream",
     "text": [
      "tensor([-0.0253, -0.0634, -0.0421,  ...,  0.0544,  0.0731,  0.0214],\n",
      "       grad_fn=<ReshapeAliasBackward0>)\n"
     ]
    },
    {
     "name": "stderr",
     "output_type": "stream",
     "text": [
      " 58%|█████▊    | 29/50 [45:43<19:08, 54.69s/it]"
     ]
    },
    {
     "name": "stdout",
     "output_type": "stream",
     "text": [
      "tensor([ 5.0659e-04, -3.0518e-05, -7.9346e-05,  ...,  2.1320e-02,\n",
      "         2.0715e-02,  2.7118e-02], grad_fn=<ReshapeAliasBackward0>)\n"
     ]
    },
    {
     "name": "stderr",
     "output_type": "stream",
     "text": [
      " 60%|██████    | 30/50 [48:05<26:59, 80.96s/it]"
     ]
    },
    {
     "name": "stdout",
     "output_type": "stream",
     "text": [
      "tensor([-0.0014, -0.0032, -0.0015,  ..., -0.0040, -0.0044, -0.0065],\n",
      "       grad_fn=<ReshapeAliasBackward0>)\n"
     ]
    },
    {
     "name": "stderr",
     "output_type": "stream",
     "text": [
      " 62%|██████▏   | 31/50 [49:06<23:43, 74.93s/it]"
     ]
    },
    {
     "name": "stdout",
     "output_type": "stream",
     "text": [
      "tensor([-0.0020, -0.0019, -0.0014,  ..., -0.0054,  0.0143,  0.0127],\n",
      "       grad_fn=<ReshapeAliasBackward0>)\n"
     ]
    },
    {
     "name": "stderr",
     "output_type": "stream",
     "text": [
      " 64%|██████▍   | 32/50 [49:38<18:34, 61.90s/it]"
     ]
    },
    {
     "name": "stdout",
     "output_type": "stream",
     "text": [
      "tensor([-0.0009, -0.0029, -0.0028,  ..., -0.0250,  0.0076, -0.0087],\n",
      "       grad_fn=<ReshapeAliasBackward0>)\n"
     ]
    },
    {
     "name": "stderr",
     "output_type": "stream",
     "text": [
      " 66%|██████▌   | 33/50 [51:13<20:23, 71.96s/it]"
     ]
    },
    {
     "name": "stdout",
     "output_type": "stream",
     "text": [
      "tensor([-0.0007, -0.0008, -0.0016,  ..., -0.0130, -0.0134, -0.0133],\n",
      "       grad_fn=<ReshapeAliasBackward0>)\n"
     ]
    },
    {
     "name": "stderr",
     "output_type": "stream",
     "text": [
      " 68%|██████▊   | 34/50 [52:38<20:16, 76.01s/it]"
     ]
    },
    {
     "name": "stdout",
     "output_type": "stream",
     "text": [
      "tensor([0.0037, 0.0038, 0.0039,  ..., 0.0021, 0.0024, 0.0029],\n",
      "       grad_fn=<ReshapeAliasBackward0>)\n"
     ]
    },
    {
     "name": "stderr",
     "output_type": "stream",
     "text": [
      " 70%|███████   | 35/50 [53:38<17:48, 71.21s/it]"
     ]
    },
    {
     "name": "stdout",
     "output_type": "stream",
     "text": [
      "tensor([-0.0039, -0.0042, -0.0039,  ..., -0.0038, -0.0039, -0.0039],\n",
      "       grad_fn=<ReshapeAliasBackward0>)\n"
     ]
    },
    {
     "name": "stderr",
     "output_type": "stream",
     "text": [
      " 72%|███████▏  | 36/50 [54:02<13:16, 56.89s/it]"
     ]
    },
    {
     "name": "stdout",
     "output_type": "stream",
     "text": [
      "tensor([-0.0019, -0.0020, -0.0023,  ..., -0.0002, -0.0003, -0.0004],\n",
      "       grad_fn=<ReshapeAliasBackward0>)\n"
     ]
    },
    {
     "name": "stderr",
     "output_type": "stream",
     "text": [
      " 74%|███████▍  | 37/50 [54:12<09:15, 42.72s/it]"
     ]
    },
    {
     "name": "stdout",
     "output_type": "stream",
     "text": [
      "tensor([ 0.0017,  0.0014,  0.0014,  ..., -0.0019, -0.0019, -0.0020],\n",
      "       grad_fn=<ReshapeAliasBackward0>)\n"
     ]
    },
    {
     "name": "stderr",
     "output_type": "stream",
     "text": [
      " 76%|███████▌  | 38/50 [54:25<06:45, 33.78s/it]"
     ]
    },
    {
     "name": "stdout",
     "output_type": "stream",
     "text": [
      "tensor([ 0.0099,  0.0065,  0.0066,  ..., -0.0026, -0.0106, -0.0018],\n",
      "       grad_fn=<ReshapeAliasBackward0>)\n"
     ]
    },
    {
     "name": "stderr",
     "output_type": "stream",
     "text": [
      " 78%|███████▊  | 39/50 [57:56<15:59, 87.20s/it]"
     ]
    },
    {
     "name": "stdout",
     "output_type": "stream",
     "text": [
      "tensor([-0.0007, -0.0039, -0.0040,  ..., -0.0016, -0.0036, -0.0036],\n",
      "       grad_fn=<ReshapeAliasBackward0>)\n"
     ]
    },
    {
     "name": "stderr",
     "output_type": "stream",
     "text": [
      " 80%|████████  | 40/50 [59:36<15:08, 90.86s/it]"
     ]
    },
    {
     "name": "stdout",
     "output_type": "stream",
     "text": [
      "tensor([-0.0002, -0.0009, -0.0003,  ...,  0.0288,  0.0322,  0.0342],\n",
      "       grad_fn=<ReshapeAliasBackward0>)\n"
     ]
    },
    {
     "name": "stderr",
     "output_type": "stream",
     "text": [
      " 82%|████████▏ | 41/50 [1:00:31<12:01, 80.14s/it]"
     ]
    },
    {
     "name": "stdout",
     "output_type": "stream",
     "text": [
      "tensor([ 0.0058,  0.0072,  0.0060,  ..., -0.0212, -0.0222, -0.0191],\n",
      "       grad_fn=<ReshapeAliasBackward0>)\n"
     ]
    },
    {
     "name": "stderr",
     "output_type": "stream",
     "text": [
      " 84%|████████▍ | 42/50 [1:01:39<10:12, 76.56s/it]"
     ]
    },
    {
     "name": "stdout",
     "output_type": "stream",
     "text": [
      "tensor([ 0.0081,  0.0174,  0.0173,  ..., -0.0109, -0.0119, -0.0127],\n",
      "       grad_fn=<ReshapeAliasBackward0>)\n"
     ]
    },
    {
     "name": "stderr",
     "output_type": "stream",
     "text": [
      " 86%|████████▌ | 43/50 [1:03:05<09:14, 79.22s/it]"
     ]
    },
    {
     "name": "stdout",
     "output_type": "stream",
     "text": [
      "tensor([ 0.0062,  0.0063,  0.0039,  ..., -0.0005,  0.0072,  0.0136],\n",
      "       grad_fn=<ReshapeAliasBackward0>)\n"
     ]
    },
    {
     "name": "stderr",
     "output_type": "stream",
     "text": [
      " 88%|████████▊ | 44/50 [1:04:03<07:18, 73.12s/it]"
     ]
    },
    {
     "name": "stdout",
     "output_type": "stream",
     "text": [
      "tensor([-0.0024, -0.0021, -0.0018,  ..., -0.0031, -0.0029, -0.0026],\n",
      "       grad_fn=<ReshapeAliasBackward0>)\n"
     ]
    },
    {
     "name": "stderr",
     "output_type": "stream",
     "text": [
      " 90%|█████████ | 45/50 [1:04:15<04:33, 54.63s/it]"
     ]
    },
    {
     "name": "stdout",
     "output_type": "stream",
     "text": [
      "tensor([-0.0021, -0.0020, -0.0018,  ...,  0.0024,  0.0019,  0.0026],\n",
      "       grad_fn=<ReshapeAliasBackward0>)\n"
     ]
    },
    {
     "name": "stderr",
     "output_type": "stream",
     "text": [
      " 92%|█████████▏| 46/50 [1:06:59<05:49, 87.38s/it]"
     ]
    },
    {
     "name": "stdout",
     "output_type": "stream",
     "text": [
      "tensor([0.0025, 0.0016, 0.0019,  ..., 0.0139, 0.0134, 0.0201],\n",
      "       grad_fn=<ReshapeAliasBackward0>)\n"
     ]
    },
    {
     "name": "stderr",
     "output_type": "stream",
     "text": [
      " 94%|█████████▍| 47/50 [1:08:02<04:00, 80.00s/it]"
     ]
    },
    {
     "name": "stdout",
     "output_type": "stream",
     "text": [
      "tensor([ 0.0001,  0.0006,  0.0002,  ..., -0.0471,  0.0032,  0.0282],\n",
      "       grad_fn=<ReshapeAliasBackward0>)\n"
     ]
    },
    {
     "name": "stderr",
     "output_type": "stream",
     "text": [
      " 96%|█████████▌| 48/50 [1:09:02<02:28, 74.26s/it]"
     ]
    },
    {
     "name": "stdout",
     "output_type": "stream",
     "text": [
      "tensor([-0.0005, -0.0003, -0.0003,  ..., -0.0006, -0.0008, -0.0007],\n",
      "       grad_fn=<ReshapeAliasBackward0>)\n"
     ]
    },
    {
     "name": "stderr",
     "output_type": "stream",
     "text": [
      " 98%|█████████▊| 49/50 [1:14:22<02:28, 148.02s/it]"
     ]
    },
    {
     "name": "stdout",
     "output_type": "stream",
     "text": [
      "tensor([-0.0015, -0.0016, -0.0017,  ..., -0.0002, -0.0005, -0.0009],\n",
      "       grad_fn=<ReshapeAliasBackward0>)\n"
     ]
    },
    {
     "name": "stderr",
     "output_type": "stream",
     "text": [
      "100%|██████████| 50/50 [1:14:58<00:00, 89.96s/it] \n"
     ]
    }
   ],
   "source": [
    "\n",
    "#device =  torch.device('cuda') if torch.cuda.is_available() else torch.device('cpu')\n",
    "\n",
    "model = MaskNet()#.to(device)\n",
    "model.type(torch.complex64)\n",
    "\n",
    "opt = SGD(model.parameters(),lr=INIT_LR)#RMSprop(model.parameters(), lr=INIT_LR)#Adam(model.parameters(), lr=INIT_LR)\n",
    "\n",
    "lossMSE = MSELoss()\n",
    "\n",
    "H = {\n",
    "    \"train_loss\":[],\n",
    "    \"train_acc\":[],\n",
    "    \"val_loss\":[],\n",
    "    \"val_acc\":[]\n",
    "}\n",
    "\n",
    "print(\"[INFO] training the network...\")\n",
    "#startTime = time.time()\n",
    "\n",
    "for epoch in range(0, EPOCHS):\n",
    "    print(\"Epoch:\",epoch,\"/1\")\n",
    "    # Train Mode\n",
    "    model.train()\n",
    "    \n",
    "    # Initialize\n",
    "    totalTrainLoss = 0\n",
    "    totalValLoss = 0\n",
    "    trainCorrect = 0\n",
    "    valCorrect = 0\n",
    "\n",
    "    trainX = X\n",
    "    trainY = Y\n",
    "\n",
    "    global i\n",
    "    for i in tqdm(range(0,50)):#len(trainX))):\n",
    "        (x, y) = (stft(trainX[i]),trainY[i].reshape(-1))#(trainX[i],trainY[i])\n",
    "        #(x, y) = (x.to(device), y.to(device))\n",
    "        # perform a forward pass and calculate the training loss\n",
    "        #print(next(model.parameters()).is_cuda)\n",
    "        pred = model(x)\n",
    "        print(pred)\n",
    "        loss = lossMSE(pred, y)\n",
    "\n",
    "        #print(\"Loss:\",loss)\n",
    "        # zero out the gradients, perform the backpropagation step,\n",
    "        # and update the weights\n",
    "        opt.zero_grad()\n",
    "        loss.backward()\n",
    "        opt.step()\n",
    "        # add the loss to the total training loss so far and\n",
    "        # calculate the number of correct predictions\n",
    "        totalTrainLoss += loss\n",
    "        # trainCorrect += (pred.argmax(1) == y).type(\n",
    "        #     torch.float).sum().item()"
   ]
  },
  {
   "cell_type": "code",
   "execution_count": null,
   "metadata": {},
   "outputs": [],
   "source": []
  },
  {
   "cell_type": "code",
   "execution_count": 10,
   "metadata": {},
   "outputs": [],
   "source": [
    "PATH = \"./modelsaveLib.pt\"\n",
    "torch.save(model.state_dict(), PATH)"
   ]
  },
  {
   "cell_type": "code",
   "execution_count": 38,
   "metadata": {},
   "outputs": [],
   "source": [
    "def save_sample(i,sample_rate=16000):\n",
    "    pred_null = model(stft(trainX[i]))\n",
    "    torchaudio.save(\"sample_model_output.wav\",pred_null.reshape(1,-1),sample_rate)\n",
    "    torchaudio.save(\"sample_reference.wav\", trainY[i].reshape(1,-1),sample_rate)\n",
    "    torchaudio.save(\"sample_input.wav\", trainX[i].reshape(1,-1),sample_rate)"
   ]
  },
  {
   "cell_type": "code",
   "execution_count": 39,
   "metadata": {},
   "outputs": [],
   "source": [
    "save_sample(10)"
   ]
  }
 ],
 "metadata": {
  "kernelspec": {
   "display_name": "Python 3.9.12 ('pytorch')",
   "language": "python",
   "name": "python3"
  },
  "language_info": {
   "codemirror_mode": {
    "name": "ipython",
    "version": 3
   },
   "file_extension": ".py",
   "mimetype": "text/x-python",
   "name": "python",
   "nbconvert_exporter": "python",
   "pygments_lexer": "ipython3",
   "version": "3.9.12"
  },
  "orig_nbformat": 4,
  "vscode": {
   "interpreter": {
    "hash": "04f0c822f1f3471cfda557225f32a3325398c976884d8d093b8fd824f1bbe21a"
   }
  }
 },
 "nbformat": 4,
 "nbformat_minor": 2
}
