{
 "cells": [
  {
   "cell_type": "code",
   "execution_count": 2,
   "metadata": {},
   "outputs": [
    {
     "name": "stderr",
     "output_type": "stream",
     "text": [
      "/Users/danilfedorovsky/miniforge3/envs/ML/lib/python3.10/site-packages/tqdm/auto.py:22: TqdmWarning: IProgress not found. Please update jupyter and ipywidgets. See https://ipywidgets.readthedocs.io/en/stable/user_install.html\n",
      "  from .autonotebook import tqdm as notebook_tqdm\n",
      "/Users/danilfedorovsky/miniforge3/envs/ML/lib/python3.10/site-packages/torchaudio/_internal/module_utils.py:99: UserWarning: Failed to import soundfile. 'soundfile' backend is not available.\n",
      "  warnings.warn(\"Failed to import soundfile. 'soundfile' backend is not available.\")\n"
     ]
    }
   ],
   "source": [
    "from gss.distribution import CACGMMTrainer\n",
    "import numpy as np\n",
    "from gss.utils import stack_parameters\n",
    "import torchaudio"
   ]
  },
  {
   "cell_type": "code",
   "execution_count": 3,
   "metadata": {},
   "outputs": [],
   "source": [
    "class GSS:\n",
    "    iterations: int\n",
    "    iterations_post: int\n",
    "\n",
    "    verbose: bool = True\n",
    "\n",
    "    # use_pinv: bool = False\n",
    "    # stable: bool = True\n",
    "\n",
    "    def __call__(self, Obs, acitivity_freq, debug=False):\n",
    "\n",
    "        initialization = np.asarray(acitivity_freq, dtype=np.float64)\n",
    "        initialization = np.where(initialization == 0, 1e-10, initialization)\n",
    "        initialization = initialization / np.sum(initialization, keepdims=True,\n",
    "                                                axis=0)\n",
    "        initialization = np.repeat(initialization[None, ...], 513, axis=0)\n",
    "\n",
    "        source_active_mask = np.asarray(acitivity_freq, dtype=np.bool)\n",
    "        source_active_mask = np.repeat(source_active_mask[None, ...], 513, axis=0)\n",
    "\n",
    "        cacGMM = CACGMMTrainer()\n",
    "\n",
    "        if debug:\n",
    "            learned = []\n",
    "        all_affiliations = []\n",
    "        F = Obs.shape[-1]\n",
    "        T = Obs.T.shape[-2]\n",
    "        for f in range(F):\n",
    "            if self.verbose:\n",
    "                if f % 50 == 0:\n",
    "                    print(f'{f}/{F}')\n",
    "\n",
    "            # T: Consider end of signal.\n",
    "            # This should not be nessesary, but activity is for inear and not for\n",
    "            # array.\n",
    "            cur = cacGMM.fit(\n",
    "                y=Obs.T[f, ...],\n",
    "                initialization=initialization[f, ..., :T],\n",
    "                iterations=self.iterations,\n",
    "                source_activity_mask=source_active_mask[f, ..., :T],\n",
    "                # return_affiliation=True,\n",
    "            )\n",
    "\n",
    "            if self.iterations_post != 0:\n",
    "                if self.iterations_post != 1:\n",
    "                    cur = cacGMM.fit(\n",
    "                        y=Obs.T[f, ...],\n",
    "                        initialization=cur,\n",
    "                        iterations=self.iterations_post - 1,\n",
    "                    )\n",
    "                affiliation = cur.predict(\n",
    "                    Obs.T[f, ...],\n",
    "                )\n",
    "            else:\n",
    "               affiliation = cur.predict(\n",
    "                   Obs.T[f, ...],\n",
    "                   source_activity_mask=source_active_mask[f, ..., :T]\n",
    "               )\n",
    "\n",
    "            if debug:\n",
    "                learned.append(cur)\n",
    "            all_affiliations.append(affiliation)\n",
    "\n",
    "        posterior = np.array(all_affiliations).transpose(1, 2, 0)\n",
    "\n",
    "        if debug:\n",
    "            learned = stack_parameters(learned)\n",
    "            self.locals = locals()\n",
    "\n",
    "        return posterior"
   ]
  },
  {
   "cell_type": "code",
   "execution_count": 4,
   "metadata": {},
   "outputs": [],
   "source": [
    "datapath = \"/Users/danilfedorovsky/Documents/10 Collection/00 Studium/00 Letztes Semester/Masterarbeit/Code/Git Repo/data/1WPE/\"\n",
    "\n",
    "data, sample_rate = torchaudio.load(datapath+\"WPE_S02_P05.wav\")\n",
    "data = data.detach().numpy()"
   ]
  },
  {
   "cell_type": "code",
   "execution_count": 5,
   "metadata": {},
   "outputs": [
    {
     "name": "stderr",
     "output_type": "stream",
     "text": [
      "/var/folders/wr/spkz8f691xl_gwp76c19_yv40000gn/T/ipykernel_38135/4256658286.py:14: RuntimeWarning: divide by zero encountered in true_divide\n",
      "  initialization = initialization / np.sum(initialization, keepdims=True,\n",
      "/var/folders/wr/spkz8f691xl_gwp76c19_yv40000gn/T/ipykernel_38135/4256658286.py:18: DeprecationWarning: `np.bool` is a deprecated alias for the builtin `bool`. To silence this warning, use `bool` by itself. Doing this will not modify any behavior and is safe. If you specifically wanted the numpy scalar type, use `np.bool_` here.\n",
      "Deprecated in NumPy 1.20; for more details and guidance: https://numpy.org/devdocs/release/1.20.0-notes.html#deprecations\n",
      "  source_active_mask = np.asarray(acitivity_freq, dtype=np.bool)\n"
     ]
    },
    {
     "ename": "IndexError",
     "evalue": "tuple index out of range",
     "output_type": "error",
     "traceback": [
      "\u001b[0;31m---------------------------------------------------------------------------\u001b[0m",
      "\u001b[0;31mIndexError\u001b[0m                                Traceback (most recent call last)",
      "\u001b[1;32m/Users/danilfedorovsky/Documents/10 Collection/00 Studium/00 Letztes Semester/Masterarbeit/Code/Git Repo/Beamformer/1GSS.ipynb Cell 4'\u001b[0m in \u001b[0;36m<cell line: 2>\u001b[0;34m()\u001b[0m\n\u001b[1;32m      <a href='vscode-notebook-cell:/Users/danilfedorovsky/Documents/10%20Collection/00%20Studium/00%20Letztes%20Semester/Masterarbeit/Code/Git%20Repo/Beamformer/1GSS.ipynb#ch0000006?line=0'>1</a>\u001b[0m obs \u001b[39m=\u001b[39m np\u001b[39m.\u001b[39marray(\u001b[39m10\u001b[39m)\n\u001b[0;32m----> <a href='vscode-notebook-cell:/Users/danilfedorovsky/Documents/10%20Collection/00%20Studium/00%20Letztes%20Semester/Masterarbeit/Code/Git%20Repo/Beamformer/1GSS.ipynb#ch0000006?line=1'>2</a>\u001b[0m gss \u001b[39m=\u001b[39m GSS()\u001b[39m.\u001b[39;49m\u001b[39m__call__\u001b[39;49m(obs,data)\n",
      "\u001b[1;32m/Users/danilfedorovsky/Documents/10 Collection/00 Studium/00 Letztes Semester/Masterarbeit/Code/Git Repo/Beamformer/1GSS.ipynb Cell 2'\u001b[0m in \u001b[0;36mGSS.__call__\u001b[0;34m(self, Obs, acitivity_freq, debug)\u001b[0m\n\u001b[1;32m     <a href='vscode-notebook-cell:/Users/danilfedorovsky/Documents/10%20Collection/00%20Studium/00%20Letztes%20Semester/Masterarbeit/Code/Git%20Repo/Beamformer/1GSS.ipynb#ch0000002?line=23'>24</a>\u001b[0m     learned \u001b[39m=\u001b[39m []\n\u001b[1;32m     <a href='vscode-notebook-cell:/Users/danilfedorovsky/Documents/10%20Collection/00%20Studium/00%20Letztes%20Semester/Masterarbeit/Code/Git%20Repo/Beamformer/1GSS.ipynb#ch0000002?line=24'>25</a>\u001b[0m all_affiliations \u001b[39m=\u001b[39m []\n\u001b[0;32m---> <a href='vscode-notebook-cell:/Users/danilfedorovsky/Documents/10%20Collection/00%20Studium/00%20Letztes%20Semester/Masterarbeit/Code/Git%20Repo/Beamformer/1GSS.ipynb#ch0000002?line=25'>26</a>\u001b[0m F \u001b[39m=\u001b[39m Obs\u001b[39m.\u001b[39;49mshape[\u001b[39m-\u001b[39;49m\u001b[39m1\u001b[39;49m]\n\u001b[1;32m     <a href='vscode-notebook-cell:/Users/danilfedorovsky/Documents/10%20Collection/00%20Studium/00%20Letztes%20Semester/Masterarbeit/Code/Git%20Repo/Beamformer/1GSS.ipynb#ch0000002?line=26'>27</a>\u001b[0m T \u001b[39m=\u001b[39m Obs\u001b[39m.\u001b[39mT\u001b[39m.\u001b[39mshape[\u001b[39m-\u001b[39m\u001b[39m2\u001b[39m]\n\u001b[1;32m     <a href='vscode-notebook-cell:/Users/danilfedorovsky/Documents/10%20Collection/00%20Studium/00%20Letztes%20Semester/Masterarbeit/Code/Git%20Repo/Beamformer/1GSS.ipynb#ch0000002?line=27'>28</a>\u001b[0m \u001b[39mfor\u001b[39;00m f \u001b[39min\u001b[39;00m \u001b[39mrange\u001b[39m(F):\n",
      "\u001b[0;31mIndexError\u001b[0m: tuple index out of range"
     ]
    }
   ],
   "source": [
    "obs = np.array(10)\n",
    "gss = GSS().__call__(obs,data)"
   ]
  }
 ],
 "metadata": {
  "kernelspec": {
   "display_name": "Python 3.10.4 ('ML')",
   "language": "python",
   "name": "python3"
  },
  "language_info": {
   "codemirror_mode": {
    "name": "ipython",
    "version": 3
   },
   "file_extension": ".py",
   "mimetype": "text/x-python",
   "name": "python",
   "nbconvert_exporter": "python",
   "pygments_lexer": "ipython3",
   "version": "3.10.4"
  },
  "orig_nbformat": 4,
  "vscode": {
   "interpreter": {
    "hash": "caf2a9e95593815b1c4fd751cbe8e043c8cd27c99f153ce7ffef75e7bc953c48"
   }
  }
 },
 "nbformat": 4,
 "nbformat_minor": 2
}
